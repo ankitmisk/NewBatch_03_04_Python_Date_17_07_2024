{
 "cells": [
  {
   "cell_type": "code",
   "execution_count": 1,
   "id": "8eb02a21",
   "metadata": {},
   "outputs": [],
   "source": [
    "# Examples\n",
    "# one liner for loop\n",
    "# list comphrension"
   ]
  },
  {
   "cell_type": "code",
   "execution_count": 2,
   "id": "b086e61f",
   "metadata": {},
   "outputs": [],
   "source": [
    "# even odd\n",
    "# vowels & consonants\n",
    "# for loop else\n",
    "# for loop find nested element"
   ]
  },
  {
   "cell_type": "code",
   "execution_count": 3,
   "id": "c697a26a",
   "metadata": {},
   "outputs": [],
   "source": [
    "# even odd"
   ]
  },
  {
   "cell_type": "code",
   "execution_count": 7,
   "id": "3e96ab55",
   "metadata": {},
   "outputs": [
    {
     "name": "stdout",
     "output_type": "stream",
     "text": [
      "Even list [234, 4, 214, 3456]\n",
      "Odd list [1, 31, 2345, 7435]\n"
     ]
    }
   ],
   "source": [
    "data = [1,234,31,2345,4,214,3456,7435]\n",
    "\n",
    "even = []\n",
    "odd = []\n",
    "\n",
    "for i in data:\n",
    "    if i % 2 == 0:\n",
    "        even.append(i)\n",
    "    else:\n",
    "        odd.append(i) \n",
    "        \n",
    "print('Even list',even)\n",
    "print('Odd list',odd)"
   ]
  },
  {
   "cell_type": "code",
   "execution_count": null,
   "id": "8adb1529",
   "metadata": {},
   "outputs": [],
   "source": []
  },
  {
   "cell_type": "code",
   "execution_count": 8,
   "id": "fec5d16f",
   "metadata": {},
   "outputs": [],
   "source": [
    "# vowels & consonants"
   ]
  },
  {
   "cell_type": "code",
   "execution_count": 11,
   "id": "1fb31154",
   "metadata": {},
   "outputs": [
    {
     "name": "stdout",
     "output_type": "stream",
     "text": [
      "['ola', 'Uber', 'adani']\n"
     ]
    }
   ],
   "source": [
    "data = ['ola','Uber','kia','maruti','hindalco','tata','adani']\n",
    "\n",
    "v = []\n",
    "c = []\n",
    "\n",
    "for i in data:\n",
    "    if i[0].lower() in 'aeiou':\n",
    "        v.append(i)\n",
    "    else:\n",
    "        c.append(i)\n",
    "        \n",
    "print(v)"
   ]
  },
  {
   "cell_type": "code",
   "execution_count": 12,
   "id": "3715b2ad",
   "metadata": {},
   "outputs": [
    {
     "name": "stdout",
     "output_type": "stream",
     "text": [
      "['kia', 'maruti', 'hindalco', 'tata']\n"
     ]
    }
   ],
   "source": [
    "print(c)"
   ]
  },
  {
   "cell_type": "code",
   "execution_count": 13,
   "id": "72ef0f72",
   "metadata": {},
   "outputs": [],
   "source": [
    "data = ['ola','Uber','kia','maruti','hindalco','tata','adani']"
   ]
  },
  {
   "cell_type": "code",
   "execution_count": 14,
   "id": "fc566314",
   "metadata": {},
   "outputs": [],
   "source": [
    "# ['@ola','@Uber','@kia']"
   ]
  },
  {
   "cell_type": "code",
   "execution_count": 17,
   "id": "1b655d72",
   "metadata": {},
   "outputs": [
    {
     "name": "stdout",
     "output_type": "stream",
     "text": [
      "['@ola', '@Uber', '@kia', '@maruti', '@hindalco', '@tata', '@adani']\n"
     ]
    }
   ],
   "source": [
    "new_data = []\n",
    "\n",
    "for i in data:\n",
    "    new_data.append('@'+i)\n",
    "    \n",
    "    \n",
    "print(new_data)"
   ]
  },
  {
   "cell_type": "code",
   "execution_count": null,
   "id": "faf73873",
   "metadata": {},
   "outputs": [],
   "source": []
  },
  {
   "cell_type": "code",
   "execution_count": 23,
   "id": "e7820fd8",
   "metadata": {},
   "outputs": [
    {
     "data": {
      "text/plain": [
       "45"
      ]
     },
     "execution_count": 23,
     "metadata": {},
     "output_type": "execute_result"
    }
   ],
   "source": [
    "data = [[[45]]]\n",
    "\n",
    "data[0][0][0]"
   ]
  },
  {
   "cell_type": "code",
   "execution_count": 29,
   "id": "33c83c91",
   "metadata": {},
   "outputs": [
    {
     "data": {
      "text/plain": [
       "23"
      ]
     },
     "execution_count": 29,
     "metadata": {},
     "output_type": "execute_result"
    }
   ],
   "source": [
    "data = [[[[[[[[23]]]]]]]]\n",
    "\n",
    "data[0][0][0][0][0][0][0][0]"
   ]
  },
  {
   "cell_type": "code",
   "execution_count": 30,
   "id": "a3a6119e",
   "metadata": {},
   "outputs": [
    {
     "data": {
      "text/plain": [
       "list"
      ]
     },
     "execution_count": 30,
     "metadata": {},
     "output_type": "execute_result"
    }
   ],
   "source": [
    "type(data)"
   ]
  },
  {
   "cell_type": "code",
   "execution_count": 38,
   "id": "bcfc2df4",
   "metadata": {},
   "outputs": [
    {
     "data": {
      "text/plain": [
       "23"
      ]
     },
     "execution_count": 38,
     "metadata": {},
     "output_type": "execute_result"
    }
   ],
   "source": [
    "data = [[[[[[[[23]]]]]]]]\n",
    "\n",
    "data = data[0]\n",
    "data = data[0]\n",
    "data = data[0]\n",
    "data = data[0]\n",
    "data = data[0]\n",
    "data = data[0]\n",
    "data = data[0]\n",
    "data = data[0]\n",
    "data"
   ]
  },
  {
   "cell_type": "code",
   "execution_count": 43,
   "id": "ef9d7866",
   "metadata": {},
   "outputs": [
    {
     "name": "stdout",
     "output_type": "stream",
     "text": [
      "4\n"
     ]
    }
   ],
   "source": [
    "data = [[[[[[[[[[[[[[[[[[[[[[[[[[[[[[[[[[[4]]]]]]]]]]]]]]]]]]]]]]]]]]]]]]]]]]]\n",
    "\n",
    "for i in range(50):\n",
    "    if type(data) == list:\n",
    "        data = data[0]\n",
    "        \n",
    "    else:\n",
    "        print(data)\n",
    "        break "
   ]
  },
  {
   "cell_type": "code",
   "execution_count": 44,
   "id": "eba04aba",
   "metadata": {},
   "outputs": [],
   "source": [
    "# # for loop else\n",
    "\n",
    "\n",
    "# for loop:\n",
    "#     code block\n",
    "#     conditions\n",
    "\n",
    "# else:\n",
    "#     print('chalega')"
   ]
  },
  {
   "cell_type": "code",
   "execution_count": null,
   "id": "e255e245",
   "metadata": {},
   "outputs": [],
   "source": []
  },
  {
   "cell_type": "code",
   "execution_count": 46,
   "id": "f88b3dcf",
   "metadata": {},
   "outputs": [
    {
     "name": "stdout",
     "output_type": "stream",
     "text": [
      "aap ja sakte ho kyuki aap bomb nahi ho!! 12\n",
      "aap ja sakte ho kyuki aap bomb nahi ho!! 4\n",
      "aap ja sakte ho kyuki aap bomb nahi ho!! 4542\n",
      "Bomb mil gaya\n"
     ]
    }
   ],
   "source": [
    "data = [12,4,4542,'bomb',354,6]\n",
    "\n",
    "for i in data:\n",
    "    if i == 'bomb':\n",
    "        print('Bomb mil gaya')\n",
    "        break\n",
    "    else:\n",
    "        print('aap ja sakte ho kyuki aap bomb nahi ho!!',i)\n",
    "        \n",
    "else:\n",
    "    print('Bomb nahi mila!!')"
   ]
  },
  {
   "cell_type": "code",
   "execution_count": null,
   "id": "8da1f402",
   "metadata": {},
   "outputs": [],
   "source": []
  },
  {
   "cell_type": "code",
   "execution_count": null,
   "id": "77cca215",
   "metadata": {},
   "outputs": [],
   "source": []
  },
  {
   "cell_type": "code",
   "execution_count": 47,
   "id": "2664e074",
   "metadata": {},
   "outputs": [
    {
     "name": "stdout",
     "output_type": "stream",
     "text": [
      "aap ja sakte ho kyuki aap bomb nahi ho!! 12\n",
      "aap ja sakte ho kyuki aap bomb nahi ho!! 4\n",
      "aap ja sakte ho kyuki aap bomb nahi ho!! 4542\n",
      "aap ja sakte ho kyuki aap bomb nahi ho!! 354\n",
      "aap ja sakte ho kyuki aap bomb nahi ho!! 6\n",
      "Bomb nahi mila!!\n"
     ]
    }
   ],
   "source": [
    "data = [12,4,4542,354,6]\n",
    "\n",
    "for i in data:\n",
    "    if i == 'bomb':\n",
    "        print('Bomb mil gaya')\n",
    "        break\n",
    "    else:\n",
    "        print('aap ja sakte ho kyuki aap bomb nahi ho!!',i)\n",
    "        \n",
    "else:\n",
    "    print('Bomb nahi mila!!')"
   ]
  },
  {
   "cell_type": "code",
   "execution_count": null,
   "id": "c3a1dd84",
   "metadata": {},
   "outputs": [],
   "source": []
  },
  {
   "cell_type": "code",
   "execution_count": 48,
   "id": "573a8023",
   "metadata": {},
   "outputs": [],
   "source": [
    "# one liner for loop\n",
    "# list comphrension"
   ]
  },
  {
   "cell_type": "code",
   "execution_count": 49,
   "id": "531f113c",
   "metadata": {},
   "outputs": [],
   "source": [
    "# one liner for loop, list comphrension"
   ]
  },
  {
   "cell_type": "code",
   "execution_count": 53,
   "id": "4d6f0413",
   "metadata": {},
   "outputs": [
    {
     "name": "stdout",
     "output_type": "stream",
     "text": [
      "[46]\n"
     ]
    }
   ],
   "source": [
    "data = [1,23,46,7]\n",
    "even = []\n",
    "\n",
    "for i in data:\n",
    "    if i % 2==0:\n",
    "        even.append(i)\n",
    "        \n",
    "print(even)"
   ]
  },
  {
   "cell_type": "code",
   "execution_count": 57,
   "id": "d0684584",
   "metadata": {},
   "outputs": [],
   "source": [
    "e = []\n",
    "for i in data: e.append(i) if i % 2==0 else None"
   ]
  },
  {
   "cell_type": "code",
   "execution_count": 58,
   "id": "7d23f642",
   "metadata": {},
   "outputs": [
    {
     "data": {
      "text/plain": [
       "[46]"
      ]
     },
     "execution_count": 58,
     "metadata": {},
     "output_type": "execute_result"
    }
   ],
   "source": [
    "e"
   ]
  },
  {
   "cell_type": "code",
   "execution_count": 59,
   "id": "293fe0ca",
   "metadata": {},
   "outputs": [],
   "source": [
    "# list comphrension"
   ]
  },
  {
   "cell_type": "code",
   "execution_count": 60,
   "id": "403d4012",
   "metadata": {},
   "outputs": [],
   "source": [
    "# for loop inside list"
   ]
  },
  {
   "cell_type": "code",
   "execution_count": 61,
   "id": "774c4add",
   "metadata": {},
   "outputs": [
    {
     "name": "stdout",
     "output_type": "stream",
     "text": [
      "[14, 245, 42]\n"
     ]
    }
   ],
   "source": [
    "data = [1,23,14,13,245,42,3546]\n",
    "div_by_7 = []\n",
    "for i in data:\n",
    "    if i % 7 == 0:\n",
    "        div_by_7.append(i)\n",
    "print(div_by_7)"
   ]
  },
  {
   "cell_type": "code",
   "execution_count": 63,
   "id": "184c7895",
   "metadata": {},
   "outputs": [
    {
     "data": {
      "text/plain": [
       "[2, 46, 28, 26, 490, 84, 7092]"
      ]
     },
     "execution_count": 63,
     "metadata": {},
     "output_type": "execute_result"
    }
   ],
   "source": [
    "# list comphrension\n",
    "\n",
    "[i*2 for i in data]"
   ]
  },
  {
   "cell_type": "code",
   "execution_count": 64,
   "id": "0c4ac9cf",
   "metadata": {},
   "outputs": [
    {
     "data": {
      "text/plain": [
       "[(1, 2), (23, 46), (14, 28), (13, 26), (245, 490), (42, 84), (3546, 7092)]"
      ]
     },
     "execution_count": 64,
     "metadata": {},
     "output_type": "execute_result"
    }
   ],
   "source": [
    "[(i,i*2) for i in data]"
   ]
  },
  {
   "cell_type": "code",
   "execution_count": 67,
   "id": "9d53a6d9",
   "metadata": {},
   "outputs": [
    {
     "data": {
      "text/plain": [
       "[14, 245, 42]"
      ]
     },
     "execution_count": 67,
     "metadata": {},
     "output_type": "execute_result"
    }
   ],
   "source": [
    "[i for i in data if i % 7 == 0]"
   ]
  },
  {
   "cell_type": "code",
   "execution_count": 68,
   "id": "49fb5000",
   "metadata": {},
   "outputs": [],
   "source": [
    "# [(1,1),(2,2),(3,3),...]"
   ]
  },
  {
   "cell_type": "code",
   "execution_count": 71,
   "id": "d020864e",
   "metadata": {},
   "outputs": [
    {
     "data": {
      "text/plain": [
       "[(1, 1),\n",
       " (2, 2),\n",
       " (3, 3),\n",
       " (4, 4),\n",
       " (5, 5),\n",
       " (6, 6),\n",
       " (7, 7),\n",
       " (8, 8),\n",
       " (9, 9),\n",
       " (10, 10)]"
      ]
     },
     "execution_count": 71,
     "metadata": {},
     "output_type": "execute_result"
    }
   ],
   "source": [
    "num = 10\n",
    "[(i,i) for i in range(1,num+1)]"
   ]
  },
  {
   "cell_type": "code",
   "execution_count": null,
   "id": "1e316d00",
   "metadata": {},
   "outputs": [],
   "source": []
  },
  {
   "cell_type": "code",
   "execution_count": 72,
   "id": "3e16d882",
   "metadata": {},
   "outputs": [],
   "source": [
    "# nested loop list comphrension"
   ]
  },
  {
   "cell_type": "code",
   "execution_count": 77,
   "id": "759fde8b",
   "metadata": {},
   "outputs": [
    {
     "data": {
      "text/plain": [
       "[('a', 1),\n",
       " ('a', 2),\n",
       " ('a', 3),\n",
       " ('a', 4),\n",
       " ('a', 5),\n",
       " ('a', 6),\n",
       " ('b', 1),\n",
       " ('b', 2),\n",
       " ('b', 3),\n",
       " ('b', 4),\n",
       " ('b', 5),\n",
       " ('b', 6)]"
      ]
     },
     "execution_count": 77,
     "metadata": {},
     "output_type": "execute_result"
    }
   ],
   "source": [
    "[(i,j) for i in 'ab' for j in range(1,7)]"
   ]
  },
  {
   "cell_type": "code",
   "execution_count": 78,
   "id": "8b9b406e",
   "metadata": {},
   "outputs": [],
   "source": [
    "# [(a,1),(b,2),(c,3)...]"
   ]
  },
  {
   "cell_type": "code",
   "execution_count": 79,
   "id": "0de147a8",
   "metadata": {},
   "outputs": [],
   "source": [
    "# data = 'abcdefghijklmnopqrstuvwxyz'"
   ]
  },
  {
   "cell_type": "code",
   "execution_count": 81,
   "id": "c0f62b60",
   "metadata": {},
   "outputs": [],
   "source": [
    "import string"
   ]
  },
  {
   "cell_type": "code",
   "execution_count": 84,
   "id": "4773322c",
   "metadata": {},
   "outputs": [
    {
     "data": {
      "text/plain": [
       "'abcdefghijklmnopqrstuvwxyz'"
      ]
     },
     "execution_count": 84,
     "metadata": {},
     "output_type": "execute_result"
    }
   ],
   "source": [
    "data = string.ascii_lowercase\n",
    "data"
   ]
  },
  {
   "cell_type": "code",
   "execution_count": 86,
   "id": "1777d28a",
   "metadata": {},
   "outputs": [
    {
     "data": {
      "text/plain": [
       "'b'"
      ]
     },
     "execution_count": 86,
     "metadata": {},
     "output_type": "execute_result"
    }
   ],
   "source": [
    "data[1]"
   ]
  },
  {
   "cell_type": "code",
   "execution_count": 87,
   "id": "d9e9f069",
   "metadata": {},
   "outputs": [
    {
     "data": {
      "text/plain": [
       "26"
      ]
     },
     "execution_count": 87,
     "metadata": {},
     "output_type": "execute_result"
    }
   ],
   "source": [
    "len(data)"
   ]
  },
  {
   "cell_type": "code",
   "execution_count": 90,
   "id": "fe6ace14",
   "metadata": {},
   "outputs": [
    {
     "ename": "IndexError",
     "evalue": "string index out of range",
     "output_type": "error",
     "traceback": [
      "\u001b[1;31m---------------------------------------------------------------------------\u001b[0m",
      "\u001b[1;31mIndexError\u001b[0m                                Traceback (most recent call last)",
      "Cell \u001b[1;32mIn[90], line 1\u001b[0m\n\u001b[1;32m----> 1\u001b[0m data[\u001b[38;5;241m26\u001b[39m]\n",
      "\u001b[1;31mIndexError\u001b[0m: string index out of range"
     ]
    }
   ],
   "source": [
    "data[26]"
   ]
  },
  {
   "cell_type": "code",
   "execution_count": 93,
   "id": "c194c0ae",
   "metadata": {},
   "outputs": [
    {
     "data": {
      "text/plain": [
       "'c'"
      ]
     },
     "execution_count": 93,
     "metadata": {},
     "output_type": "execute_result"
    }
   ],
   "source": [
    "data[2]"
   ]
  },
  {
   "cell_type": "code",
   "execution_count": 104,
   "id": "bd2487d0",
   "metadata": {},
   "outputs": [
    {
     "name": "stdout",
     "output_type": "stream",
     "text": [
      "[('a', 1), ('b', 2), ('c', 3), ('d', 4), ('e', 5), ('f', 6), ('g', 7), ('h', 8), ('i', 9), ('j', 10), ('k', 11), ('l', 12), ('m', 13), ('n', 14), ('o', 15), ('p', 16), ('q', 17), ('r', 18), ('s', 19), ('t', 20), ('u', 21), ('v', 22), ('w', 23), ('x', 24), ('y', 25), ('z', 26)]\n"
     ]
    }
   ],
   "source": [
    "ans = [(data[i],i+1) for i in range(len(data))]\n",
    "\n",
    "print(ans)"
   ]
  },
  {
   "cell_type": "code",
   "execution_count": 106,
   "id": "259045c4",
   "metadata": {},
   "outputs": [],
   "source": [
    "import pandas as pd"
   ]
  },
  {
   "cell_type": "code",
   "execution_count": 108,
   "id": "7387b82d",
   "metadata": {},
   "outputs": [
    {
     "data": {
      "text/html": [
       "<div>\n",
       "<style scoped>\n",
       "    .dataframe tbody tr th:only-of-type {\n",
       "        vertical-align: middle;\n",
       "    }\n",
       "\n",
       "    .dataframe tbody tr th {\n",
       "        vertical-align: top;\n",
       "    }\n",
       "\n",
       "    .dataframe thead th {\n",
       "        text-align: right;\n",
       "    }\n",
       "</style>\n",
       "<table border=\"1\" class=\"dataframe\">\n",
       "  <thead>\n",
       "    <tr style=\"text-align: right;\">\n",
       "      <th></th>\n",
       "      <th>Char</th>\n",
       "      <th>Position</th>\n",
       "    </tr>\n",
       "  </thead>\n",
       "  <tbody>\n",
       "    <tr>\n",
       "      <th>0</th>\n",
       "      <td>a</td>\n",
       "      <td>1</td>\n",
       "    </tr>\n",
       "    <tr>\n",
       "      <th>1</th>\n",
       "      <td>b</td>\n",
       "      <td>2</td>\n",
       "    </tr>\n",
       "    <tr>\n",
       "      <th>2</th>\n",
       "      <td>c</td>\n",
       "      <td>3</td>\n",
       "    </tr>\n",
       "    <tr>\n",
       "      <th>3</th>\n",
       "      <td>d</td>\n",
       "      <td>4</td>\n",
       "    </tr>\n",
       "    <tr>\n",
       "      <th>4</th>\n",
       "      <td>e</td>\n",
       "      <td>5</td>\n",
       "    </tr>\n",
       "    <tr>\n",
       "      <th>5</th>\n",
       "      <td>f</td>\n",
       "      <td>6</td>\n",
       "    </tr>\n",
       "    <tr>\n",
       "      <th>6</th>\n",
       "      <td>g</td>\n",
       "      <td>7</td>\n",
       "    </tr>\n",
       "    <tr>\n",
       "      <th>7</th>\n",
       "      <td>h</td>\n",
       "      <td>8</td>\n",
       "    </tr>\n",
       "    <tr>\n",
       "      <th>8</th>\n",
       "      <td>i</td>\n",
       "      <td>9</td>\n",
       "    </tr>\n",
       "    <tr>\n",
       "      <th>9</th>\n",
       "      <td>j</td>\n",
       "      <td>10</td>\n",
       "    </tr>\n",
       "    <tr>\n",
       "      <th>10</th>\n",
       "      <td>k</td>\n",
       "      <td>11</td>\n",
       "    </tr>\n",
       "    <tr>\n",
       "      <th>11</th>\n",
       "      <td>l</td>\n",
       "      <td>12</td>\n",
       "    </tr>\n",
       "    <tr>\n",
       "      <th>12</th>\n",
       "      <td>m</td>\n",
       "      <td>13</td>\n",
       "    </tr>\n",
       "    <tr>\n",
       "      <th>13</th>\n",
       "      <td>n</td>\n",
       "      <td>14</td>\n",
       "    </tr>\n",
       "    <tr>\n",
       "      <th>14</th>\n",
       "      <td>o</td>\n",
       "      <td>15</td>\n",
       "    </tr>\n",
       "    <tr>\n",
       "      <th>15</th>\n",
       "      <td>p</td>\n",
       "      <td>16</td>\n",
       "    </tr>\n",
       "    <tr>\n",
       "      <th>16</th>\n",
       "      <td>q</td>\n",
       "      <td>17</td>\n",
       "    </tr>\n",
       "    <tr>\n",
       "      <th>17</th>\n",
       "      <td>r</td>\n",
       "      <td>18</td>\n",
       "    </tr>\n",
       "    <tr>\n",
       "      <th>18</th>\n",
       "      <td>s</td>\n",
       "      <td>19</td>\n",
       "    </tr>\n",
       "    <tr>\n",
       "      <th>19</th>\n",
       "      <td>t</td>\n",
       "      <td>20</td>\n",
       "    </tr>\n",
       "    <tr>\n",
       "      <th>20</th>\n",
       "      <td>u</td>\n",
       "      <td>21</td>\n",
       "    </tr>\n",
       "    <tr>\n",
       "      <th>21</th>\n",
       "      <td>v</td>\n",
       "      <td>22</td>\n",
       "    </tr>\n",
       "    <tr>\n",
       "      <th>22</th>\n",
       "      <td>w</td>\n",
       "      <td>23</td>\n",
       "    </tr>\n",
       "    <tr>\n",
       "      <th>23</th>\n",
       "      <td>x</td>\n",
       "      <td>24</td>\n",
       "    </tr>\n",
       "    <tr>\n",
       "      <th>24</th>\n",
       "      <td>y</td>\n",
       "      <td>25</td>\n",
       "    </tr>\n",
       "    <tr>\n",
       "      <th>25</th>\n",
       "      <td>z</td>\n",
       "      <td>26</td>\n",
       "    </tr>\n",
       "  </tbody>\n",
       "</table>\n",
       "</div>"
      ],
      "text/plain": [
       "   Char  Position\n",
       "0     a         1\n",
       "1     b         2\n",
       "2     c         3\n",
       "3     d         4\n",
       "4     e         5\n",
       "5     f         6\n",
       "6     g         7\n",
       "7     h         8\n",
       "8     i         9\n",
       "9     j        10\n",
       "10    k        11\n",
       "11    l        12\n",
       "12    m        13\n",
       "13    n        14\n",
       "14    o        15\n",
       "15    p        16\n",
       "16    q        17\n",
       "17    r        18\n",
       "18    s        19\n",
       "19    t        20\n",
       "20    u        21\n",
       "21    v        22\n",
       "22    w        23\n",
       "23    x        24\n",
       "24    y        25\n",
       "25    z        26"
      ]
     },
     "execution_count": 108,
     "metadata": {},
     "output_type": "execute_result"
    }
   ],
   "source": [
    "pd.DataFrame(ans,columns=['Char','Position'])"
   ]
  },
  {
   "cell_type": "code",
   "execution_count": 109,
   "id": "6107e538",
   "metadata": {},
   "outputs": [
    {
     "data": {
      "text/plain": [
       "2500000000"
      ]
     },
     "execution_count": 109,
     "metadata": {},
     "output_type": "execute_result"
    }
   ],
   "source": [
    "# Monday:- ?\n",
    "# sunday:- \n",
    "\n",
    "500*5000000"
   ]
  },
  {
   "cell_type": "code",
   "execution_count": null,
   "id": "e25107d9",
   "metadata": {},
   "outputs": [],
   "source": [
    "60000"
   ]
  },
  {
   "cell_type": "code",
   "execution_count": 111,
   "id": "a2160de7",
   "metadata": {},
   "outputs": [],
   "source": [
    "# 35000*60000"
   ]
  },
  {
   "cell_type": "code",
   "execution_count": null,
   "id": "562240ee",
   "metadata": {},
   "outputs": [],
   "source": []
  }
 ],
 "metadata": {
  "kernelspec": {
   "display_name": "Python 3 (ipykernel)",
   "language": "python",
   "name": "python3"
  },
  "language_info": {
   "codemirror_mode": {
    "name": "ipython",
    "version": 3
   },
   "file_extension": ".py",
   "mimetype": "text/x-python",
   "name": "python",
   "nbconvert_exporter": "python",
   "pygments_lexer": "ipython3",
   "version": "3.11.3"
  }
 },
 "nbformat": 4,
 "nbformat_minor": 5
}
