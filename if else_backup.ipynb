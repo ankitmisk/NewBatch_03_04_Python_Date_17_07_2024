{
 "cells": [
  {
   "cell_type": "code",
   "execution_count": 2,
   "id": "0fe49133",
   "metadata": {},
   "outputs": [
    {
     "name": "stdout",
     "output_type": "stream",
     "text": [
      "Odd number\n"
     ]
    }
   ],
   "source": [
    "# flow control:- if else, for loop, while\n",
    "\n",
    "a = 23\n",
    "\n",
    "print('Odd number')"
   ]
  },
  {
   "cell_type": "code",
   "execution_count": 3,
   "id": "cc97254c",
   "metadata": {},
   "outputs": [],
   "source": [
    "# if condition/s:\n",
    "#     code block\n",
    "# else:\n",
    "#    code block "
   ]
  },
  {
   "cell_type": "code",
   "execution_count": 4,
   "id": "69f1fc9d",
   "metadata": {},
   "outputs": [],
   "source": [
    "# num = 2345\n",
    "\n",
    "# if True:\n",
    "#     code \n",
    "    \n",
    "# if False:\n",
    "#     rgrjgr\n",
    "#     rthrtgr\n",
    "#     th\n",
    "#     rth\n",
    "#     ty"
   ]
  },
  {
   "cell_type": "code",
   "execution_count": null,
   "id": "aac9f361",
   "metadata": {},
   "outputs": [],
   "source": []
  },
  {
   "cell_type": "code",
   "execution_count": 5,
   "id": "5a4ebc2d",
   "metadata": {},
   "outputs": [
    {
     "name": "stdout",
     "output_type": "stream",
     "text": [
      "odd\n"
     ]
    }
   ],
   "source": [
    "num = 34567\n",
    "\n",
    "if (num % 2) == 0:\n",
    "    print('Even')\n",
    "else:\n",
    "    print('odd')"
   ]
  },
  {
   "cell_type": "code",
   "execution_count": 6,
   "id": "d5e69ec5",
   "metadata": {},
   "outputs": [],
   "source": [
    "students = ['naveen','mohan','karan','ravi','shayam']"
   ]
  },
  {
   "cell_type": "code",
   "execution_count": 17,
   "id": "34ac5237",
   "metadata": {},
   "outputs": [
    {
     "name": "stdout",
     "output_type": "stream",
     "text": [
      "Enter your name: rahul\n",
      "You are allowed!!\n"
     ]
    }
   ],
   "source": [
    "new_student = input('Enter your name: ')\n",
    "\n",
    "if new_student in students:\n",
    "    print('Your name already exists!!')\n",
    "else:\n",
    "    print('You are allowed!!')\n",
    "    students.append(new_student)"
   ]
  },
  {
   "cell_type": "code",
   "execution_count": 18,
   "id": "80507c82",
   "metadata": {},
   "outputs": [
    {
     "name": "stdout",
     "output_type": "stream",
     "text": [
      "['naveen', 'mohan', 'karan', 'ravi', 'shayam', 'lucky', 'jay', 'sjhdefbj', 'modi', 'rahul']\n"
     ]
    }
   ],
   "source": [
    "print(students)"
   ]
  },
  {
   "cell_type": "code",
   "execution_count": null,
   "id": "99c4b45d",
   "metadata": {},
   "outputs": [],
   "source": []
  },
  {
   "cell_type": "code",
   "execution_count": 26,
   "id": "e91e69fe",
   "metadata": {},
   "outputs": [
    {
     "name": "stdout",
     "output_type": "stream",
     "text": [
      "Enter your age: 45\n",
      "45\n",
      "<class 'int'>\n"
     ]
    }
   ],
   "source": [
    "age = int(input('Enter your age: '))\n",
    "\n",
    "print(age)\n",
    "print(type(age))"
   ]
  },
  {
   "cell_type": "code",
   "execution_count": 21,
   "id": "d28daf81",
   "metadata": {},
   "outputs": [
    {
     "name": "stdout",
     "output_type": "stream",
     "text": [
      "done\n"
     ]
    }
   ],
   "source": [
    "import random\n",
    "print('done')"
   ]
  },
  {
   "cell_type": "code",
   "execution_count": 35,
   "id": "06c4bcc5",
   "metadata": {},
   "outputs": [
    {
     "name": "stdout",
     "output_type": "stream",
     "text": [
      "Enter your choice: (1-5)----->>3\n",
      "comp choice---->>> 4\n",
      "You Lose!!\n"
     ]
    }
   ],
   "source": [
    "comp = random.randint(1,5)\n",
    "user = int(input('Enter your choice: (1-5)----->>'))\n",
    "\n",
    "print('comp choice---->>>',comp)\n",
    "\n",
    "\n",
    "if user == comp:\n",
    "    print('You Won!!')\n",
    "\n",
    "else:\n",
    "    print('You Lose!!')\n"
   ]
  },
  {
   "cell_type": "code",
   "execution_count": null,
   "id": "0ff95205",
   "metadata": {},
   "outputs": [],
   "source": []
  },
  {
   "cell_type": "code",
   "execution_count": null,
   "id": "11d36f22",
   "metadata": {},
   "outputs": [],
   "source": []
  },
  {
   "cell_type": "code",
   "execution_count": 41,
   "id": "8e39bec4",
   "metadata": {},
   "outputs": [
    {
     "name": "stdout",
     "output_type": "stream",
     "text": [
      "Can vote!!\n"
     ]
    }
   ],
   "source": [
    "age = 19\n",
    "\n",
    "if age>18:\n",
    "    print('Can vote!!')\n",
    "    \n",
    "elif age == 18:\n",
    "    print('Won!!')\n",
    "    \n",
    "else:\n",
    "    print('no')"
   ]
  },
  {
   "cell_type": "code",
   "execution_count": 46,
   "id": "be2e0b35",
   "metadata": {},
   "outputs": [
    {
     "name": "stdout",
     "output_type": "stream",
     "text": [
      "Some mixed numbers!!\n"
     ]
    }
   ],
   "source": [
    "a = 45\n",
    "b = 45\n",
    "c = 45\n",
    "d = 45\n",
    "e = 49\n",
    "\n",
    "\n",
    "if (a<b) and (a<c) and (a<d) and (a<e):\n",
    "    print('a is smallest')\n",
    "    \n",
    "\n",
    "elif (b<c) and (b<d) and (b<a) and (b<e):\n",
    "    print('b is smallest')\n",
    "    \n",
    "elif (c<b) and (c<d) and (c<a) and (c<e):\n",
    "    print('c is smallest')\n",
    "    \n",
    "elif (d<c) and (d<b) and (d<a) and (d<e):\n",
    "    print('d is smallest')\n",
    "    \n",
    "elif (e<c) and (e<d) and (e<a) and (e<b):\n",
    "    print('e is smallest')\n",
    "    \n",
    "else:\n",
    "    print('Some mixed numbers!!')"
   ]
  },
  {
   "cell_type": "code",
   "execution_count": null,
   "id": "26bbaadf",
   "metadata": {},
   "outputs": [],
   "source": []
  },
  {
   "cell_type": "code",
   "execution_count": null,
   "id": "13af51a7",
   "metadata": {},
   "outputs": [],
   "source": []
  },
  {
   "cell_type": "code",
   "execution_count": 47,
   "id": "5259c008",
   "metadata": {},
   "outputs": [
    {
     "name": "stdout",
     "output_type": "stream",
     "text": [
      "Enter number a: 23\n",
      "Enter number b: 45\n",
      "Enter number c: 33\n",
      "Enter number d: 21\n",
      "Enter number e: 89\n",
      "d is smallest\n"
     ]
    }
   ],
   "source": [
    "a = int(input('Enter number a: '))\n",
    "b = int(input('Enter number b: '))\n",
    "c = int(input('Enter number c: '))\n",
    "d = int(input('Enter number d: '))\n",
    "e = int(input('Enter number e: '))\n",
    "\n",
    "\n",
    "if (a<b) and (a<c) and (a<d) and (a<e):\n",
    "    print('a is smallest')\n",
    "    \n",
    "\n",
    "elif (b<c) and (b<d) and (b<a) and (b<e):\n",
    "    print('b is smallest')\n",
    "    \n",
    "elif (c<b) and (c<d) and (c<a) and (c<e):\n",
    "    print('c is smallest')\n",
    "    \n",
    "elif (d<c) and (d<b) and (d<a) and (d<e):\n",
    "    print('d is smallest')\n",
    "    \n",
    "elif (e<c) and (e<d) and (e<a) and (e<b):\n",
    "    print('e is smallest')\n",
    "    \n",
    "else:\n",
    "    print('Some mixed numbers!!')"
   ]
  },
  {
   "cell_type": "code",
   "execution_count": null,
   "id": "2d6980ec",
   "metadata": {},
   "outputs": [],
   "source": []
  },
  {
   "cell_type": "code",
   "execution_count": null,
   "id": "3299ed2d",
   "metadata": {},
   "outputs": [],
   "source": []
  },
  {
   "cell_type": "code",
   "execution_count": null,
   "id": "ad6017e5",
   "metadata": {},
   "outputs": [],
   "source": []
  },
  {
   "cell_type": "code",
   "execution_count": 48,
   "id": "c1448b4d",
   "metadata": {},
   "outputs": [],
   "source": [
    "import random"
   ]
  },
  {
   "cell_type": "code",
   "execution_count": 63,
   "id": "323b711e",
   "metadata": {},
   "outputs": [
    {
     "name": "stdout",
     "output_type": "stream",
     "text": [
      "Enter your choice: PAPER\n",
      "comp choice:  scissors\n",
      "comp win, user lose!!\n"
     ]
    }
   ],
   "source": [
    "all_choices = ['rock','paper','scissors']\n",
    "\n",
    "comp_choice = random.choice(all_choices)\n",
    "\n",
    "user_choice = input('Enter your choice: ').lower()\n",
    "\n",
    "if user_choice in all_choices:\n",
    "    print('comp choice: ',comp_choice)\n",
    "    \n",
    "    if comp_choice == user_choice:\n",
    "        print(\"It's a tie!!\")\n",
    "        \n",
    "    elif user_choice == 'rock':\n",
    "        if comp_choice == 'paper':\n",
    "            print('comp win, user lose!!')\n",
    "        else:\n",
    "            print('User win, Comp lose!!')\n",
    "\n",
    "            \n",
    "    elif user_choice == 'paper':\n",
    "        if comp_choice == 'rock':\n",
    "            print('User win, Comp lose!!')\n",
    "        else:\n",
    "            print('comp win, user lose!!')\n",
    "            \n",
    "            \n",
    "    elif user_choice == 'scissors':\n",
    "        if comp_choice == 'rock':\n",
    "            print('comp win, user lose!!')\n",
    "        else:\n",
    "            print('User win, Comp lose!!')\n",
    "    \n",
    "else:\n",
    "    print('Bhai galat choice kiya hai\\ninme se choice karo (rock,paper,scissors)')"
   ]
  },
  {
   "cell_type": "code",
   "execution_count": null,
   "id": "decd897e",
   "metadata": {},
   "outputs": [],
   "source": []
  }
 ],
 "metadata": {
  "kernelspec": {
   "display_name": "Python 3 (ipykernel)",
   "language": "python",
   "name": "python3"
  },
  "language_info": {
   "codemirror_mode": {
    "name": "ipython",
    "version": 3
   },
   "file_extension": ".py",
   "mimetype": "text/x-python",
   "name": "python",
   "nbconvert_exporter": "python",
   "pygments_lexer": "ipython3",
   "version": "3.11.3"
  }
 },
 "nbformat": 4,
 "nbformat_minor": 5
}
