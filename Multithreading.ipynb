{
 "cells": [
  {
   "cell_type": "code",
   "execution_count": 3,
   "id": "e86db36b",
   "metadata": {},
   "outputs": [
    {
     "name": "stdout",
     "output_type": "stream",
     "text": [
      "hello\n",
      "hello\n",
      "hello\n",
      "hello\n",
      "hello\n",
      "hello\n",
      "hello\n",
      "hello\n",
      "hello\n",
      "hello\n"
     ]
    },
    {
     "ename": "KeyboardInterrupt",
     "evalue": "",
     "output_type": "error",
     "traceback": [
      "\u001b[1;31m---------------------------------------------------------------------------\u001b[0m",
      "\u001b[1;31mKeyboardInterrupt\u001b[0m                         Traceback (most recent call last)",
      "Cell \u001b[1;32mIn[3], line 5\u001b[0m\n\u001b[0;32m      3\u001b[0m \u001b[38;5;28;01mwhile\u001b[39;00m \u001b[38;5;28;01mTrue\u001b[39;00m:\n\u001b[0;32m      4\u001b[0m     \u001b[38;5;28mprint\u001b[39m(\u001b[38;5;124m'\u001b[39m\u001b[38;5;124mhello\u001b[39m\u001b[38;5;124m'\u001b[39m)\n\u001b[1;32m----> 5\u001b[0m     time\u001b[38;5;241m.\u001b[39msleep(\u001b[38;5;241m5\u001b[39m)\n",
      "\u001b[1;31mKeyboardInterrupt\u001b[0m: "
     ]
    }
   ],
   "source": [
    "import time\n",
    "\n",
    "while True:\n",
    "    print('hello')\n",
    "    time.sleep(5)"
   ]
  },
  {
   "cell_type": "code",
   "execution_count": 4,
   "id": "29be52ca",
   "metadata": {},
   "outputs": [
    {
     "name": "stdout",
     "output_type": "stream",
     "text": [
      "This is python class\n"
     ]
    }
   ],
   "source": [
    "print('This is python class')"
   ]
  },
  {
   "cell_type": "code",
   "execution_count": 4,
   "id": "7512c985",
   "metadata": {},
   "outputs": [],
   "source": [
    "import threading as th\n",
    "import requests as r"
   ]
  },
  {
   "cell_type": "code",
   "execution_count": 5,
   "id": "3e76cae6",
   "metadata": {},
   "outputs": [],
   "source": [
    "def download_image(url,file_name):\n",
    "    bytes_data = r.get(url).content\n",
    "    \n",
    "    with open(f\"C:\\\\Users\\\\Lenovo\\\\Desktop\\\\Random_images\\\\{file_name}.jpg\",'wb') as f:\n",
    "        f.write(bytes_data)\n",
    "    "
   ]
  },
  {
   "cell_type": "code",
   "execution_count": 9,
   "id": "ce639389",
   "metadata": {},
   "outputs": [
    {
     "name": "stdout",
     "output_type": "stream",
     "text": [
      "Time taken:  22.329266786575317\n"
     ]
    }
   ],
   "source": [
    "start = time.time()\n",
    "\n",
    "image_address = '''https://picsum.photos/2000/1200'''\n",
    "\n",
    "for i in range(1,11):\n",
    "    download_image(image_address,i)\n",
    "    \n",
    "end = time.time()\n",
    "\n",
    "print('Time taken: ',end-start)"
   ]
  },
  {
   "cell_type": "code",
   "execution_count": 10,
   "id": "38e86931",
   "metadata": {},
   "outputs": [],
   "source": [
    "# # 10 images = 20 sec\n",
    "# 100 images = 200 sec\n",
    "# 500 images = 1000 sec"
   ]
  },
  {
   "cell_type": "code",
   "execution_count": 11,
   "id": "9143abb6",
   "metadata": {},
   "outputs": [
    {
     "data": {
      "text/plain": [
       "16.666666666666668"
      ]
     },
     "execution_count": 11,
     "metadata": {},
     "output_type": "execute_result"
    }
   ],
   "source": [
    "1000/60"
   ]
  },
  {
   "cell_type": "code",
   "execution_count": 12,
   "id": "b50d5aa9",
   "metadata": {},
   "outputs": [],
   "source": [
    "# 15 min"
   ]
  },
  {
   "cell_type": "code",
   "execution_count": 13,
   "id": "b4dcbda0",
   "metadata": {},
   "outputs": [],
   "source": [
    "# 1hr = 2000 images"
   ]
  },
  {
   "cell_type": "code",
   "execution_count": 14,
   "id": "2e7d9621",
   "metadata": {},
   "outputs": [],
   "source": [
    "# 24 hr = \n",
    "# 48K images"
   ]
  },
  {
   "cell_type": "code",
   "execution_count": 15,
   "id": "0f3a0d9d",
   "metadata": {},
   "outputs": [],
   "source": [
    "# 500 img:- 15 min"
   ]
  },
  {
   "cell_type": "code",
   "execution_count": 16,
   "id": "5e95404a",
   "metadata": {},
   "outputs": [],
   "source": [
    "import threading as th"
   ]
  },
  {
   "cell_type": "code",
   "execution_count": 17,
   "id": "74ed38de",
   "metadata": {},
   "outputs": [],
   "source": [
    "def play_cricket(samay):\n",
    "    print(f'I am playing for {samay} sec!!')\n",
    "    time.sleep(samay)"
   ]
  },
  {
   "cell_type": "code",
   "execution_count": 18,
   "id": "0a11e317",
   "metadata": {},
   "outputs": [
    {
     "name": "stdout",
     "output_type": "stream",
     "text": [
      "I am playing for 10 sec!!\n",
      "I am playing for 12 sec!!\n",
      "I am playing for 13 sec!!\n",
      "I am playing for 15 sec!!\n"
     ]
    }
   ],
   "source": [
    "p1 = play_cricket(10)\n",
    "p2 = play_cricket(12)\n",
    "p3 = play_cricket(13)\n",
    "p4 = play_cricket(15)"
   ]
  },
  {
   "cell_type": "code",
   "execution_count": 20,
   "id": "aa0dd7b4",
   "metadata": {},
   "outputs": [
    {
     "name": "stdout",
     "output_type": "stream",
     "text": [
      "I am playing for 10 sec!!\n",
      "I am playing for 12 sec!!\n",
      "I am playing for 13 sec!!\n",
      "I am playing for 15 sec!!\n",
      "Hello Python\n"
     ]
    }
   ],
   "source": [
    "task1 = th.Thread(target=play_cricket,args=[10])\n",
    "task2 = th.Thread(target=play_cricket,args=[12])\n",
    "task3 = th.Thread(target=play_cricket,args=[13])\n",
    "task4 = th.Thread(target=play_cricket,args=[15])\n",
    "\n",
    "\n",
    "\n",
    "\n",
    "task1.start()\n",
    "task2.start()\n",
    "task3.start()\n",
    "task4.start()\n",
    "\n",
    "\n",
    "print('Hello Python')"
   ]
  },
  {
   "cell_type": "code",
   "execution_count": null,
   "id": "7b269665",
   "metadata": {},
   "outputs": [],
   "source": [
    "al_t = [task1,task2,tk3]\n",
    "\n",
    "task1.start()\n",
    "tk.start()\n"
   ]
  },
  {
   "cell_type": "code",
   "execution_count": null,
   "id": "ab08cae9",
   "metadata": {},
   "outputs": [],
   "source": []
  },
  {
   "cell_type": "code",
   "execution_count": 21,
   "id": "128bb598",
   "metadata": {},
   "outputs": [
    {
     "data": {
      "text/plain": [
       "'https://picsum.photos/2000/1200'"
      ]
     },
     "execution_count": 21,
     "metadata": {},
     "output_type": "execute_result"
    }
   ],
   "source": [
    "image_address"
   ]
  },
  {
   "cell_type": "code",
   "execution_count": 6,
   "id": "b29ed571",
   "metadata": {},
   "outputs": [
    {
     "name": "stdout",
     "output_type": "stream",
     "text": [
      "TT:  13.126112461090088\n"
     ]
    }
   ],
   "source": [
    "import time\n",
    "image_address = '''https://picsum.photos/2000/1200'''\n",
    "\n",
    "\n",
    "start = time.time()\n",
    "\n",
    "\n",
    "all_task = []\n",
    "\n",
    "for i in range(1,501):\n",
    "    task = th.Thread(target=download_image,args = [image_address,i])\n",
    "    \n",
    "    all_task.append(task)\n",
    "    \n",
    "    \n",
    "for j in all_task:\n",
    "    j.start()\n",
    "    \n",
    "for k in all_task:\n",
    "    k.join()\n",
    "\n",
    "end = time.time()\n",
    "\n",
    "print('TT: ',end-start)"
   ]
  },
  {
   "cell_type": "code",
   "execution_count": 26,
   "id": "9bc5bc40",
   "metadata": {},
   "outputs": [],
   "source": [
    "# 22/2.5"
   ]
  },
  {
   "cell_type": "code",
   "execution_count": 7,
   "id": "1700241b",
   "metadata": {},
   "outputs": [
    {
     "data": {
      "text/plain": [
       "16.666666666666668"
      ]
     },
     "execution_count": 7,
     "metadata": {},
     "output_type": "execute_result"
    }
   ],
   "source": [
    "1000/60"
   ]
  },
  {
   "cell_type": "code",
   "execution_count": 8,
   "id": "bdce3e59",
   "metadata": {},
   "outputs": [
    {
     "data": {
      "text/plain": [
       "76.92307692307692"
      ]
     },
     "execution_count": 8,
     "metadata": {},
     "output_type": "execute_result"
    }
   ],
   "source": [
    "1000/13"
   ]
  },
  {
   "cell_type": "code",
   "execution_count": 12,
   "id": "f6fdfd93",
   "metadata": {},
   "outputs": [],
   "source": [
    "def download_image(url,file_name):\n",
    "    bytes_data = r.get(url).content\n",
    "    \n",
    "    with open(f\"C:\\\\Users\\\\Lenovo\\\\Desktop\\\\Random_images\\\\{file_name}.mp3\",'wb') as f:\n",
    "        f.write(bytes_data)\n",
    "    "
   ]
  },
  {
   "cell_type": "code",
   "execution_count": 13,
   "id": "ab82e515",
   "metadata": {},
   "outputs": [
    {
     "name": "stdout",
     "output_type": "stream",
     "text": [
      "success\n"
     ]
    }
   ],
   "source": [
    "add = '''https://dl.prokerala.com/downloads/ringtones/files/mp3/kbc-awesome-5410.mp3'''\n",
    "download_image(add,'rashi')\n",
    "\n",
    "print('success')"
   ]
  },
  {
   "cell_type": "code",
   "execution_count": null,
   "id": "ddfe6257",
   "metadata": {},
   "outputs": [],
   "source": []
  }
 ],
 "metadata": {
  "kernelspec": {
   "display_name": "Python 3 (ipykernel)",
   "language": "python",
   "name": "python3"
  },
  "language_info": {
   "codemirror_mode": {
    "name": "ipython",
    "version": 3
   },
   "file_extension": ".py",
   "mimetype": "text/x-python",
   "name": "python",
   "nbconvert_exporter": "python",
   "pygments_lexer": "ipython3",
   "version": "3.11.3"
  }
 },
 "nbformat": 4,
 "nbformat_minor": 5
}
