{
 "cells": [
  {
   "cell_type": "code",
   "execution_count": 1,
   "id": "e24c943b",
   "metadata": {},
   "outputs": [
    {
     "name": "stdout",
     "output_type": "stream",
     "text": [
      "{'Name': 'Mohan'}\n"
     ]
    }
   ],
   "source": [
    "data = {'Name':'Mohan'}\n",
    "print(data)"
   ]
  },
  {
   "cell_type": "code",
   "execution_count": 2,
   "id": "1c7e51f4",
   "metadata": {},
   "outputs": [
    {
     "name": "stdout",
     "output_type": "stream",
     "text": [
      "<class 'dict'>\n"
     ]
    }
   ],
   "source": [
    "print(type(data))"
   ]
  },
  {
   "cell_type": "code",
   "execution_count": 4,
   "id": "d2626ef3",
   "metadata": {},
   "outputs": [],
   "source": [
    "a = {'Name':'Mohan'}\n",
    "#  key :  value "
   ]
  },
  {
   "cell_type": "code",
   "execution_count": 6,
   "id": "a930c79a",
   "metadata": {},
   "outputs": [],
   "source": [
    "# keys\n",
    "# allowed:- int,complex,float,tuple,None,bool,str,frozenset\n",
    "# not allowed:- list,set,dict:- that can be changed\n",
    "\n",
    "\n",
    "# value:-\n",
    "# all data type allowed"
   ]
  },
  {
   "cell_type": "code",
   "execution_count": 9,
   "id": "ea44e70a",
   "metadata": {},
   "outputs": [
    {
     "name": "stdout",
     "output_type": "stream",
     "text": [
      "{1: None, 23.7: 'value', (67-9j): 'complex', None: 'Mohan', (1, 2, 3): 'Good morning', 'name': 345}\n"
     ]
    }
   ],
   "source": [
    "# allowed:\n",
    "\n",
    "var = {1:'one',23.7:'value',67-9j:'complex',None:'Mohan',\n",
    "      (1,2,3):'Good morning','name':345,True:None}\n",
    "\n",
    "\n",
    "print(var)"
   ]
  },
  {
   "cell_type": "code",
   "execution_count": 10,
   "id": "8975bdd3",
   "metadata": {},
   "outputs": [
    {
     "ename": "TypeError",
     "evalue": "unhashable type: 'list'",
     "output_type": "error",
     "traceback": [
      "\u001b[1;31m---------------------------------------------------------------------------\u001b[0m",
      "\u001b[1;31mTypeError\u001b[0m                                 Traceback (most recent call last)",
      "Cell \u001b[1;32mIn[10], line 5\u001b[0m\n\u001b[0;32m      1\u001b[0m \u001b[38;5;66;03m# not allowed\u001b[39;00m\n\u001b[0;32m      2\u001b[0m \n\u001b[0;32m      3\u001b[0m \u001b[38;5;66;03m# list\u001b[39;00m\n\u001b[1;32m----> 5\u001b[0m a \u001b[38;5;241m=\u001b[39m {[\u001b[38;5;241m12\u001b[39m,\u001b[38;5;241m31\u001b[39m,\u001b[38;5;241m3446\u001b[39m]:\u001b[38;5;28;01mNone\u001b[39;00m}\n\u001b[0;32m      6\u001b[0m \u001b[38;5;28mprint\u001b[39m(a)\n",
      "\u001b[1;31mTypeError\u001b[0m: unhashable type: 'list'"
     ]
    }
   ],
   "source": [
    "# not allowed\n",
    "\n",
    "# list\n",
    "\n",
    "a = {[12,31,3446]:None}\n",
    "print(a)"
   ]
  },
  {
   "cell_type": "code",
   "execution_count": 11,
   "id": "965fa195",
   "metadata": {},
   "outputs": [
    {
     "ename": "TypeError",
     "evalue": "unhashable type: 'set'",
     "output_type": "error",
     "traceback": [
      "\u001b[1;31m---------------------------------------------------------------------------\u001b[0m",
      "\u001b[1;31mTypeError\u001b[0m                                 Traceback (most recent call last)",
      "Cell \u001b[1;32mIn[11], line 5\u001b[0m\n\u001b[0;32m      1\u001b[0m \u001b[38;5;66;03m# not allowed\u001b[39;00m\n\u001b[0;32m      2\u001b[0m \n\u001b[0;32m      3\u001b[0m \u001b[38;5;66;03m# list\u001b[39;00m\n\u001b[1;32m----> 5\u001b[0m a \u001b[38;5;241m=\u001b[39m {{\u001b[38;5;241m12\u001b[39m,\u001b[38;5;241m31\u001b[39m,\u001b[38;5;241m3446\u001b[39m}:\u001b[38;5;28;01mNone\u001b[39;00m}\n\u001b[0;32m      6\u001b[0m \u001b[38;5;28mprint\u001b[39m(a)\n",
      "\u001b[1;31mTypeError\u001b[0m: unhashable type: 'set'"
     ]
    }
   ],
   "source": [
    "# not allowed\n",
    "\n",
    "# list\n",
    "\n",
    "a = {{12,31,3446}:None}\n",
    "print(a)"
   ]
  },
  {
   "cell_type": "code",
   "execution_count": 12,
   "id": "bb964aeb",
   "metadata": {},
   "outputs": [
    {
     "ename": "TypeError",
     "evalue": "unhashable type: 'dict'",
     "output_type": "error",
     "traceback": [
      "\u001b[1;31m---------------------------------------------------------------------------\u001b[0m",
      "\u001b[1;31mTypeError\u001b[0m                                 Traceback (most recent call last)",
      "Cell \u001b[1;32mIn[12], line 5\u001b[0m\n\u001b[0;32m      1\u001b[0m \u001b[38;5;66;03m# not allowed\u001b[39;00m\n\u001b[0;32m      2\u001b[0m \n\u001b[0;32m      3\u001b[0m \u001b[38;5;66;03m# list\u001b[39;00m\n\u001b[1;32m----> 5\u001b[0m a \u001b[38;5;241m=\u001b[39m {{\u001b[38;5;124m'\u001b[39m\u001b[38;5;124mname\u001b[39m\u001b[38;5;124m'\u001b[39m:\u001b[38;5;124m'\u001b[39m\u001b[38;5;124majay\u001b[39m\u001b[38;5;124m'\u001b[39m}:\u001b[38;5;28;01mNone\u001b[39;00m}\n\u001b[0;32m      6\u001b[0m \u001b[38;5;28mprint\u001b[39m(a)\n",
      "\u001b[1;31mTypeError\u001b[0m: unhashable type: 'dict'"
     ]
    }
   ],
   "source": [
    "# not allowed\n",
    "\n",
    "# list\n",
    "\n",
    "a = {{'name':'ajay'}:None}\n",
    "print(a)"
   ]
  },
  {
   "cell_type": "code",
   "execution_count": 13,
   "id": "25981058",
   "metadata": {},
   "outputs": [
    {
     "name": "stdout",
     "output_type": "stream",
     "text": [
      "{1: 1, 2: 2.2, 3: (89-9j), 4: 'Komal', 5: True, 6: None, 7: (1, 2, 3, 5), 8: [1, 243, 56, 7], 9: {1, 45, 2343}, 10: {'name': 'Mohan'}, 11: frozenset({24, 1, 356})}\n"
     ]
    }
   ],
   "source": [
    "# all data type allopwed at value position\n",
    "\n",
    "\n",
    "data = {1:1,\n",
    "        2:2.2,\n",
    "       3:89-9j,\n",
    "       4:'Komal',\n",
    "       5:True,\n",
    "       6:None,\n",
    "       7:(1,2,3,5),\n",
    "       8:[1,243,56,7],\n",
    "       9:{1,2343,45},\n",
    "       10:{'name':'Mohan'},\n",
    "       11:frozenset((1,24,356))}\n",
    "\n",
    "print(data)"
   ]
  },
  {
   "cell_type": "code",
   "execution_count": 14,
   "id": "d4229e9b",
   "metadata": {},
   "outputs": [
    {
     "name": "stdout",
     "output_type": "stream",
     "text": [
      "{frozenset({24, 1, 35}): None}\n"
     ]
    }
   ],
   "source": [
    "d = {frozenset((1,24,35)):None}\n",
    "print(d)"
   ]
  },
  {
   "cell_type": "code",
   "execution_count": 15,
   "id": "c82b037b",
   "metadata": {},
   "outputs": [
    {
     "name": "stdout",
     "output_type": "stream",
     "text": [
      "{'Delhi': {'Pnb': 123008, 'Hdfc': 87654}}\n"
     ]
    }
   ],
   "source": [
    "# nested dict:- dict inside dict\n",
    "\n",
    "data = {'Delhi':{'Pnb':123008,'Hdfc':87654}}\n",
    "\n",
    "print(data)"
   ]
  },
  {
   "cell_type": "code",
   "execution_count": 16,
   "id": "2549fd50",
   "metadata": {},
   "outputs": [
    {
     "name": "stdout",
     "output_type": "stream",
     "text": [
      "{'Delhi': {'Pnb': 123008, 'Hdfc': {'L1': 23, 'L2': {'ML': 2, 'ML2': 34}}}}\n"
     ]
    }
   ],
   "source": [
    "data = {'Delhi':{'Pnb':123008,'Hdfc':{'L1':23,'L2':{\"ML\":2,'ML2':34}}}}\n",
    "\n",
    "print(data)"
   ]
  },
  {
   "cell_type": "code",
   "execution_count": null,
   "id": "112814e5",
   "metadata": {},
   "outputs": [],
   "source": []
  },
  {
   "cell_type": "code",
   "execution_count": 17,
   "id": "353104c1",
   "metadata": {},
   "outputs": [],
   "source": [
    "# dict does not support indexing or slicing"
   ]
  },
  {
   "cell_type": "code",
   "execution_count": 20,
   "id": "b6f610f7",
   "metadata": {},
   "outputs": [
    {
     "name": "stdout",
     "output_type": "stream",
     "text": [
      "{'Name': 'Komal', 'Age': 34, 'Salary': 876543, 'Akela': None}\n"
     ]
    }
   ],
   "source": [
    "a = {'Name':'Komal','Age':34,'Salary':876543,'Akela':None}\n",
    "\n",
    "print(a)"
   ]
  },
  {
   "cell_type": "code",
   "execution_count": 21,
   "id": "45a58323",
   "metadata": {},
   "outputs": [],
   "source": [
    "# 1 key value pair = 1 item"
   ]
  },
  {
   "cell_type": "code",
   "execution_count": 22,
   "id": "8f3b1098",
   "metadata": {},
   "outputs": [
    {
     "data": {
      "text/plain": [
       "4"
      ]
     },
     "execution_count": 22,
     "metadata": {},
     "output_type": "execute_result"
    }
   ],
   "source": [
    "len(a)"
   ]
  },
  {
   "cell_type": "code",
   "execution_count": 23,
   "id": "441da6b8",
   "metadata": {},
   "outputs": [
    {
     "ename": "KeyError",
     "evalue": "2",
     "output_type": "error",
     "traceback": [
      "\u001b[1;31m---------------------------------------------------------------------------\u001b[0m",
      "\u001b[1;31mKeyError\u001b[0m                                  Traceback (most recent call last)",
      "Cell \u001b[1;32mIn[23], line 1\u001b[0m\n\u001b[1;32m----> 1\u001b[0m a[\u001b[38;5;241m2\u001b[39m]\n",
      "\u001b[1;31mKeyError\u001b[0m: 2"
     ]
    }
   ],
   "source": [
    "a[2]"
   ]
  },
  {
   "cell_type": "code",
   "execution_count": 26,
   "id": "798c8df5",
   "metadata": {},
   "outputs": [
    {
     "data": {
      "text/plain": [
       "34"
      ]
     },
     "execution_count": 26,
     "metadata": {},
     "output_type": "execute_result"
    }
   ],
   "source": [
    "a = {'Name':'Komal','Age':34,'Salary':876543,'Akela':None}\n",
    "\n",
    "\n",
    "a['Age']"
   ]
  },
  {
   "cell_type": "code",
   "execution_count": 28,
   "id": "18eddac8",
   "metadata": {},
   "outputs": [],
   "source": [
    "# a[key] = Value"
   ]
  },
  {
   "cell_type": "code",
   "execution_count": 30,
   "id": "0c5c438e",
   "metadata": {},
   "outputs": [
    {
     "name": "stdout",
     "output_type": "stream",
     "text": [
      "None\n"
     ]
    }
   ],
   "source": [
    "print(a['Akela'])"
   ]
  },
  {
   "cell_type": "code",
   "execution_count": 31,
   "id": "3d3381ea",
   "metadata": {},
   "outputs": [],
   "source": [
    "# dict support item assignment with help of key"
   ]
  },
  {
   "cell_type": "code",
   "execution_count": 33,
   "id": "4c14949c",
   "metadata": {},
   "outputs": [],
   "source": [
    "a['Akela'] = 2345678"
   ]
  },
  {
   "cell_type": "code",
   "execution_count": 34,
   "id": "32af6cc6",
   "metadata": {},
   "outputs": [
    {
     "name": "stdout",
     "output_type": "stream",
     "text": [
      "{'Name': 'Komal', 'Age': 34, 'Salary': 876543, 'Akela': 2345678}\n"
     ]
    }
   ],
   "source": [
    "print(a)"
   ]
  },
  {
   "cell_type": "code",
   "execution_count": 36,
   "id": "4593e34b",
   "metadata": {},
   "outputs": [],
   "source": [
    "a['Age'] = 44"
   ]
  },
  {
   "cell_type": "code",
   "execution_count": 37,
   "id": "171a00bd",
   "metadata": {},
   "outputs": [
    {
     "name": "stdout",
     "output_type": "stream",
     "text": [
      "{'Name': 'Komal', 'Age': 44, 'Salary': 876543, 'Akela': 2345678}\n"
     ]
    }
   ],
   "source": [
    "print(a)"
   ]
  },
  {
   "cell_type": "code",
   "execution_count": 38,
   "id": "2204bf50",
   "metadata": {},
   "outputs": [],
   "source": [
    "a['age'] = 87"
   ]
  },
  {
   "cell_type": "code",
   "execution_count": 39,
   "id": "f359f9e0",
   "metadata": {},
   "outputs": [
    {
     "name": "stdout",
     "output_type": "stream",
     "text": [
      "{'Name': 'Komal', 'Age': 44, 'Salary': 876543, 'Akela': 2345678, 'age': 87}\n"
     ]
    }
   ],
   "source": [
    "print(a)"
   ]
  },
  {
   "cell_type": "code",
   "execution_count": 40,
   "id": "9539081d",
   "metadata": {},
   "outputs": [
    {
     "data": {
      "text/plain": [
       "44"
      ]
     },
     "execution_count": 40,
     "metadata": {},
     "output_type": "execute_result"
    }
   ],
   "source": [
    "a['Age']"
   ]
  },
  {
   "cell_type": "code",
   "execution_count": 41,
   "id": "79432f9e",
   "metadata": {},
   "outputs": [
    {
     "ename": "KeyError",
     "evalue": "'salary'",
     "output_type": "error",
     "traceback": [
      "\u001b[1;31m---------------------------------------------------------------------------\u001b[0m",
      "\u001b[1;31mKeyError\u001b[0m                                  Traceback (most recent call last)",
      "Cell \u001b[1;32mIn[41], line 1\u001b[0m\n\u001b[1;32m----> 1\u001b[0m a[\u001b[38;5;124m'\u001b[39m\u001b[38;5;124msalary\u001b[39m\u001b[38;5;124m'\u001b[39m]\n",
      "\u001b[1;31mKeyError\u001b[0m: 'salary'"
     ]
    }
   ],
   "source": [
    "a['salary']"
   ]
  },
  {
   "cell_type": "code",
   "execution_count": 42,
   "id": "9c2eff4c",
   "metadata": {},
   "outputs": [
    {
     "data": {
      "text/plain": [
       "{'Name': 'Komal', 'Age': 44, 'Salary': 876543, 'Akela': 2345678, 'age': 87}"
      ]
     },
     "execution_count": 42,
     "metadata": {},
     "output_type": "execute_result"
    }
   ],
   "source": [
    "a"
   ]
  },
  {
   "cell_type": "code",
   "execution_count": 44,
   "id": "893e43e5",
   "metadata": {},
   "outputs": [],
   "source": [
    "a['Name']+= ' Verma'"
   ]
  },
  {
   "cell_type": "code",
   "execution_count": 46,
   "id": "9baa54cf",
   "metadata": {},
   "outputs": [
    {
     "name": "stdout",
     "output_type": "stream",
     "text": [
      "{'Name': 'Komal Verma', 'Age': 44, 'Salary': 876543, 'Akela': 2345678, 'age': 87}\n"
     ]
    }
   ],
   "source": [
    "print(a)"
   ]
  },
  {
   "cell_type": "code",
   "execution_count": 47,
   "id": "79b7d4c2",
   "metadata": {},
   "outputs": [
    {
     "data": {
      "text/plain": [
       "{'Delhi': {'Pnb': 123008, 'Hdfc': {'L1': 23, 'L2': {'ML': 2, 'ML2': 34}}}}"
      ]
     },
     "execution_count": 47,
     "metadata": {},
     "output_type": "execute_result"
    }
   ],
   "source": [
    "data = {'Delhi':{'Pnb':123008,'Hdfc':{'L1':23,'L2':{\"ML\":2,'ML2':34}}}}\n",
    "\n",
    "data"
   ]
  },
  {
   "cell_type": "code",
   "execution_count": 51,
   "id": "21d91464",
   "metadata": {},
   "outputs": [],
   "source": [
    "data['Delhi']['Hdfc']['L1'] = 200"
   ]
  },
  {
   "cell_type": "code",
   "execution_count": 53,
   "id": "d761cd19",
   "metadata": {},
   "outputs": [
    {
     "name": "stdout",
     "output_type": "stream",
     "text": [
      "{'Delhi': {'Pnb': 123008, 'Hdfc': {'L1': 200, 'L2': {'ML': 2, 'ML2': 34}}}}\n"
     ]
    }
   ],
   "source": [
    "print(data)"
   ]
  },
  {
   "cell_type": "code",
   "execution_count": 59,
   "id": "25421a66",
   "metadata": {},
   "outputs": [],
   "source": [
    "data['Delhi']['Hdfc']['L2']['ML2'] = 4000"
   ]
  },
  {
   "cell_type": "code",
   "execution_count": 60,
   "id": "52bd1a32",
   "metadata": {},
   "outputs": [
    {
     "name": "stdout",
     "output_type": "stream",
     "text": [
      "{'Delhi': {'Pnb': 123008, 'Hdfc': {'L1': 200, 'L2': {'ML': 2, 'ML2': 4000}}}}\n"
     ]
    }
   ],
   "source": [
    "print(data)"
   ]
  },
  {
   "cell_type": "code",
   "execution_count": 61,
   "id": "fedd61de",
   "metadata": {},
   "outputs": [],
   "source": [
    "data['Bombay'] = 'Bombay'"
   ]
  },
  {
   "cell_type": "code",
   "execution_count": 62,
   "id": "053c1377",
   "metadata": {},
   "outputs": [
    {
     "name": "stdout",
     "output_type": "stream",
     "text": [
      "{'Delhi': {'Pnb': 123008, 'Hdfc': {'L1': 200, 'L2': {'ML': 2, 'ML2': 4000}}}, 'Bombay': 'Bombay'}\n"
     ]
    }
   ],
   "source": [
    "print(data)"
   ]
  },
  {
   "cell_type": "code",
   "execution_count": 65,
   "id": "4ae98a75",
   "metadata": {},
   "outputs": [
    {
     "name": "stdout",
     "output_type": "stream",
     "text": [
      "{'Age': 23, 'Name': 'Mohan'}\n"
     ]
    }
   ],
   "source": [
    "# dict:- can not contain more than one simmilar key\n",
    "\n",
    "data = {'Age':28,'Name':'Komal','Age':23,'Name':'Mohan'}\n",
    "\n",
    "\n",
    "print(data)"
   ]
  },
  {
   "cell_type": "code",
   "execution_count": 66,
   "id": "2c194d1c",
   "metadata": {},
   "outputs": [],
   "source": [
    "# some basic op"
   ]
  },
  {
   "cell_type": "code",
   "execution_count": 67,
   "id": "e63c0fc5",
   "metadata": {},
   "outputs": [
    {
     "ename": "TypeError",
     "evalue": "unsupported operand type(s) for +: 'dict' and 'dict'",
     "output_type": "error",
     "traceback": [
      "\u001b[1;31m---------------------------------------------------------------------------\u001b[0m",
      "\u001b[1;31mTypeError\u001b[0m                                 Traceback (most recent call last)",
      "Cell \u001b[1;32mIn[67], line 5\u001b[0m\n\u001b[0;32m      2\u001b[0m b \u001b[38;5;241m=\u001b[39m {\u001b[38;5;124m'\u001b[39m\u001b[38;5;124mAge\u001b[39m\u001b[38;5;124m'\u001b[39m:\u001b[38;5;241m34\u001b[39m}\n\u001b[0;32m      3\u001b[0m c \u001b[38;5;241m=\u001b[39m {\u001b[38;5;124m'\u001b[39m\u001b[38;5;124mSalary\u001b[39m\u001b[38;5;124m'\u001b[39m:\u001b[38;5;241m4567\u001b[39m}\n\u001b[1;32m----> 5\u001b[0m \u001b[38;5;28mprint\u001b[39m(a \u001b[38;5;241m+\u001b[39m b \u001b[38;5;241m+\u001b[39m c)\n",
      "\u001b[1;31mTypeError\u001b[0m: unsupported operand type(s) for +: 'dict' and 'dict'"
     ]
    }
   ],
   "source": [
    "a = {'name':'Komal'}\n",
    "b = {'Age':34}\n",
    "c = {'Salary':4567}\n",
    "\n",
    "print(a + b + c)"
   ]
  },
  {
   "cell_type": "code",
   "execution_count": 68,
   "id": "8af04c10",
   "metadata": {},
   "outputs": [
    {
     "ename": "TypeError",
     "evalue": "unsupported operand type(s) for *: 'dict' and 'int'",
     "output_type": "error",
     "traceback": [
      "\u001b[1;31m---------------------------------------------------------------------------\u001b[0m",
      "\u001b[1;31mTypeError\u001b[0m                                 Traceback (most recent call last)",
      "Cell \u001b[1;32mIn[68], line 3\u001b[0m\n\u001b[0;32m      1\u001b[0m a \u001b[38;5;241m=\u001b[39m {\u001b[38;5;124m'\u001b[39m\u001b[38;5;124mname\u001b[39m\u001b[38;5;124m'\u001b[39m:\u001b[38;5;124m'\u001b[39m\u001b[38;5;124mKomal\u001b[39m\u001b[38;5;124m'\u001b[39m}\n\u001b[1;32m----> 3\u001b[0m a \u001b[38;5;241m*\u001b[39m \u001b[38;5;241m2\u001b[39m\n",
      "\u001b[1;31mTypeError\u001b[0m: unsupported operand type(s) for *: 'dict' and 'int'"
     ]
    }
   ],
   "source": [
    "a = {'name':'Komal'}\n",
    "\n",
    "a * 2"
   ]
  },
  {
   "cell_type": "code",
   "execution_count": 69,
   "id": "7927d336",
   "metadata": {},
   "outputs": [
    {
     "name": "stdout",
     "output_type": "stream",
     "text": [
      "{'Name': ['Mohan', 'Sohan', 'Rohan', 'Ajay', 'Vijay'], 'Age': [24, 28, 32, 12, 39], 'Salary': [3456, 3456, 7656, 56456, 45674], 'Address': ['Noida', 'Delhi', 'Delhi', 'Gurgaon', 'Greater Noida']}\n"
     ]
    }
   ],
   "source": [
    "# dict can be convert into excel-table\n",
    "\n",
    "data = {'Name':['Mohan','Sohan','Rohan','Ajay','Vijay'],\n",
    "       'Age':[24,28,32,12,39],\n",
    "       'Salary':[3456,3456,7656,56456,45674],\n",
    "       'Address':['Noida','Delhi','Delhi','Gurgaon','Greater Noida']}\n",
    "\n",
    "\n",
    "\n",
    "print(data)"
   ]
  },
  {
   "cell_type": "code",
   "execution_count": 71,
   "id": "923fad28",
   "metadata": {},
   "outputs": [],
   "source": [
    "import pandas as pd"
   ]
  },
  {
   "cell_type": "code",
   "execution_count": 73,
   "id": "4524cbf2",
   "metadata": {},
   "outputs": [],
   "source": [
    "table = pd.DataFrame(data)"
   ]
  },
  {
   "cell_type": "code",
   "execution_count": 75,
   "id": "79848d4f",
   "metadata": {},
   "outputs": [
    {
     "name": "stdout",
     "output_type": "stream",
     "text": [
      "done\n"
     ]
    }
   ],
   "source": [
    "table.to_excel('students.xlsx')\n",
    "print('done')"
   ]
  },
  {
   "cell_type": "code",
   "execution_count": 76,
   "id": "70b27b92",
   "metadata": {},
   "outputs": [
    {
     "data": {
      "text/html": [
       "<div>\n",
       "<style scoped>\n",
       "    .dataframe tbody tr th:only-of-type {\n",
       "        vertical-align: middle;\n",
       "    }\n",
       "\n",
       "    .dataframe tbody tr th {\n",
       "        vertical-align: top;\n",
       "    }\n",
       "\n",
       "    .dataframe thead th {\n",
       "        text-align: right;\n",
       "    }\n",
       "</style>\n",
       "<table border=\"1\" class=\"dataframe\">\n",
       "  <thead>\n",
       "    <tr style=\"text-align: right;\">\n",
       "      <th></th>\n",
       "      <th>Name</th>\n",
       "      <th>Age</th>\n",
       "      <th>Salary</th>\n",
       "      <th>Address</th>\n",
       "    </tr>\n",
       "  </thead>\n",
       "  <tbody>\n",
       "    <tr>\n",
       "      <th>0</th>\n",
       "      <td>Mohan</td>\n",
       "      <td>24</td>\n",
       "      <td>3456</td>\n",
       "      <td>Noida</td>\n",
       "    </tr>\n",
       "    <tr>\n",
       "      <th>1</th>\n",
       "      <td>Sohan</td>\n",
       "      <td>28</td>\n",
       "      <td>3456</td>\n",
       "      <td>Delhi</td>\n",
       "    </tr>\n",
       "    <tr>\n",
       "      <th>2</th>\n",
       "      <td>Rohan</td>\n",
       "      <td>32</td>\n",
       "      <td>7656</td>\n",
       "      <td>Delhi</td>\n",
       "    </tr>\n",
       "    <tr>\n",
       "      <th>3</th>\n",
       "      <td>Ajay</td>\n",
       "      <td>12</td>\n",
       "      <td>56456</td>\n",
       "      <td>Gurgaon</td>\n",
       "    </tr>\n",
       "    <tr>\n",
       "      <th>4</th>\n",
       "      <td>Vijay</td>\n",
       "      <td>39</td>\n",
       "      <td>45674</td>\n",
       "      <td>Greater Noida</td>\n",
       "    </tr>\n",
       "  </tbody>\n",
       "</table>\n",
       "</div>"
      ],
      "text/plain": [
       "    Name  Age  Salary        Address\n",
       "0  Mohan   24    3456          Noida\n",
       "1  Sohan   28    3456          Delhi\n",
       "2  Rohan   32    7656          Delhi\n",
       "3   Ajay   12   56456        Gurgaon\n",
       "4  Vijay   39   45674  Greater Noida"
      ]
     },
     "execution_count": 76,
     "metadata": {},
     "output_type": "execute_result"
    }
   ],
   "source": [
    "table"
   ]
  },
  {
   "cell_type": "code",
   "execution_count": 84,
   "id": "128b866f",
   "metadata": {},
   "outputs": [
    {
     "name": "stdout",
     "output_type": "stream",
     "text": [
      "Enter Name: Jatin\n",
      "Enter Name: Mohan\n",
      "Enter Age: 23\n",
      "Enter Age: 22\n",
      "Enter Salary: 87876\n",
      "Enter Salary: 89876\n",
      "Enter Address: Greater Noida\n",
      "Enter Address: Delhi\n"
     ]
    },
    {
     "data": {
      "text/html": [
       "<div>\n",
       "<style scoped>\n",
       "    .dataframe tbody tr th:only-of-type {\n",
       "        vertical-align: middle;\n",
       "    }\n",
       "\n",
       "    .dataframe tbody tr th {\n",
       "        vertical-align: top;\n",
       "    }\n",
       "\n",
       "    .dataframe thead th {\n",
       "        text-align: right;\n",
       "    }\n",
       "</style>\n",
       "<table border=\"1\" class=\"dataframe\">\n",
       "  <thead>\n",
       "    <tr style=\"text-align: right;\">\n",
       "      <th></th>\n",
       "      <th>Name</th>\n",
       "      <th>Age</th>\n",
       "      <th>Salary</th>\n",
       "      <th>Address</th>\n",
       "    </tr>\n",
       "  </thead>\n",
       "  <tbody>\n",
       "    <tr>\n",
       "      <th>0</th>\n",
       "      <td>Jatin</td>\n",
       "      <td>23</td>\n",
       "      <td>87876</td>\n",
       "      <td>Greater Noida</td>\n",
       "    </tr>\n",
       "    <tr>\n",
       "      <th>1</th>\n",
       "      <td>Mohan</td>\n",
       "      <td>22</td>\n",
       "      <td>89876</td>\n",
       "      <td>Delhi</td>\n",
       "    </tr>\n",
       "  </tbody>\n",
       "</table>\n",
       "</div>"
      ],
      "text/plain": [
       "    Name Age Salary        Address\n",
       "0  Jatin  23  87876  Greater Noida\n",
       "1  Mohan  22  89876          Delhi"
      ]
     },
     "execution_count": 84,
     "metadata": {},
     "output_type": "execute_result"
    }
   ],
   "source": [
    "data = {'Name':[input('Enter Name: '),input('Enter Name: ')],\n",
    "        \n",
    "       'Age':[input('Enter Age: '),input('Enter Age: ')],\n",
    "        \n",
    "       'Salary':[input('Enter Salary: '),input('Enter Salary: ')],\n",
    "        \n",
    "       'Address':[input('Enter Address: '),input('Enter Address: ')]}\n",
    "\n",
    "\n",
    "\n",
    "table = pd.DataFrame(data)\n",
    "table"
   ]
  },
  {
   "cell_type": "code",
   "execution_count": null,
   "id": "c7b4d880",
   "metadata": {},
   "outputs": [],
   "source": []
  },
  {
   "cell_type": "code",
   "execution_count": null,
   "id": "92f46608",
   "metadata": {},
   "outputs": [],
   "source": []
  },
  {
   "cell_type": "code",
   "execution_count": null,
   "id": "60baf86f",
   "metadata": {},
   "outputs": [],
   "source": []
  }
 ],
 "metadata": {
  "kernelspec": {
   "display_name": "Python 3 (ipykernel)",
   "language": "python",
   "name": "python3"
  },
  "language_info": {
   "codemirror_mode": {
    "name": "ipython",
    "version": 3
   },
   "file_extension": ".py",
   "mimetype": "text/x-python",
   "name": "python",
   "nbconvert_exporter": "python",
   "pygments_lexer": "ipython3",
   "version": "3.11.3"
  }
 },
 "nbformat": 4,
 "nbformat_minor": 5
}
