{
 "cells": [
  {
   "cell_type": "code",
   "execution_count": 1,
   "id": "0c763d54",
   "metadata": {},
   "outputs": [
    {
     "name": "stdout",
     "output_type": "stream",
     "text": [
      "[1, 24, 356, 213, 456]\n"
     ]
    }
   ],
   "source": [
    "a = [1,24,356,213,456]\n",
    "\n",
    "print(a)"
   ]
  },
  {
   "cell_type": "code",
   "execution_count": 2,
   "id": "77e0db50",
   "metadata": {},
   "outputs": [
    {
     "name": "stdout",
     "output_type": "stream",
     "text": [
      "['__add__', '__class__', '__class_getitem__', '__contains__', '__delattr__', '__delitem__', '__dir__', '__doc__', '__eq__', '__format__', '__ge__', '__getattribute__', '__getitem__', '__getstate__', '__gt__', '__hash__', '__iadd__', '__imul__', '__init__', '__init_subclass__', '__iter__', '__le__', '__len__', '__lt__', '__mul__', '__ne__', '__new__', '__reduce__', '__reduce_ex__', '__repr__', '__reversed__', '__rmul__', '__setattr__', '__setitem__', '__sizeof__', '__str__', '__subclasshook__', 'append', 'clear', 'copy', 'count', 'extend', 'index', 'insert', 'pop', 'remove', 'reverse', 'sort']\n"
     ]
    }
   ],
   "source": [
    "print(dir(list))"
   ]
  },
  {
   "cell_type": "code",
   "execution_count": 3,
   "id": "35c67758",
   "metadata": {},
   "outputs": [],
   "source": [
    "methods = ['append', 'clear', 'copy', 'count', 'extend', 'index', 'insert', 'pop', 'remove', 'reverse', 'sort']"
   ]
  },
  {
   "cell_type": "code",
   "execution_count": 4,
   "id": "d59df517",
   "metadata": {},
   "outputs": [
    {
     "name": "stdout",
     "output_type": "stream",
     "text": [
      "['append', 'clear', 'copy', 'count', 'extend', 'index', 'insert', 'pop', 'remove', 'reverse', 'sort']\n"
     ]
    }
   ],
   "source": [
    "print(methods)"
   ]
  },
  {
   "cell_type": "code",
   "execution_count": 5,
   "id": "26557fe3",
   "metadata": {},
   "outputs": [
    {
     "name": "stdout",
     "output_type": "stream",
     "text": [
      "11\n"
     ]
    }
   ],
   "source": [
    "print(len(methods))"
   ]
  },
  {
   "cell_type": "code",
   "execution_count": 6,
   "id": "bd84c35e",
   "metadata": {},
   "outputs": [],
   "source": [
    "sheikh_sahab = ['bmw','audi','rolls royce','gold','oil wells']"
   ]
  },
  {
   "cell_type": "code",
   "execution_count": 7,
   "id": "f0d4ce8a",
   "metadata": {},
   "outputs": [
    {
     "name": "stdout",
     "output_type": "stream",
     "text": [
      "['bmw', 'audi', 'rolls royce', 'gold', 'oil wells']\n"
     ]
    }
   ],
   "source": [
    "print(sheikh_sahab)"
   ]
  },
  {
   "cell_type": "code",
   "execution_count": 8,
   "id": "65811a54",
   "metadata": {},
   "outputs": [],
   "source": [
    "sheikh_sahab.append('Sheik_Bank')"
   ]
  },
  {
   "cell_type": "code",
   "execution_count": 9,
   "id": "7c8e57e1",
   "metadata": {},
   "outputs": [
    {
     "name": "stdout",
     "output_type": "stream",
     "text": [
      "['bmw', 'audi', 'rolls royce', 'gold', 'oil wells', 'Sheik_Bank']\n"
     ]
    }
   ],
   "source": [
    "print(sheikh_sahab)"
   ]
  },
  {
   "cell_type": "code",
   "execution_count": 10,
   "id": "371b372c",
   "metadata": {},
   "outputs": [],
   "source": [
    "sheikh_sahab.append(23456543456)"
   ]
  },
  {
   "cell_type": "code",
   "execution_count": 11,
   "id": "c86897f5",
   "metadata": {},
   "outputs": [
    {
     "name": "stdout",
     "output_type": "stream",
     "text": [
      "['bmw', 'audi', 'rolls royce', 'gold', 'oil wells', 'Sheik_Bank', 23456543456]\n"
     ]
    }
   ],
   "source": [
    "print(sheikh_sahab)"
   ]
  },
  {
   "cell_type": "code",
   "execution_count": 12,
   "id": "af1faed9",
   "metadata": {},
   "outputs": [
    {
     "ename": "TypeError",
     "evalue": "list.append() takes exactly one argument (2 given)",
     "output_type": "error",
     "traceback": [
      "\u001b[1;31m---------------------------------------------------------------------------\u001b[0m",
      "\u001b[1;31mTypeError\u001b[0m                                 Traceback (most recent call last)",
      "Cell \u001b[1;32mIn[12], line 1\u001b[0m\n\u001b[1;32m----> 1\u001b[0m sheikh_sahab\u001b[38;5;241m.\u001b[39mappend(\u001b[38;5;124m'\u001b[39m\u001b[38;5;124mnano\u001b[39m\u001b[38;5;124m'\u001b[39m,\u001b[38;5;124m'\u001b[39m\u001b[38;5;124mmaruti\u001b[39m\u001b[38;5;124m'\u001b[39m)\n",
      "\u001b[1;31mTypeError\u001b[0m: list.append() takes exactly one argument (2 given)"
     ]
    }
   ],
   "source": [
    "sheikh_sahab.append('nano','maruti')"
   ]
  },
  {
   "cell_type": "code",
   "execution_count": 13,
   "id": "9edbac3e",
   "metadata": {},
   "outputs": [],
   "source": [
    "sheikh_sahab.append(['nano','maruti'])"
   ]
  },
  {
   "cell_type": "code",
   "execution_count": 14,
   "id": "324b3f0c",
   "metadata": {},
   "outputs": [
    {
     "name": "stdout",
     "output_type": "stream",
     "text": [
      "['bmw', 'audi', 'rolls royce', 'gold', 'oil wells', 'Sheik_Bank', 23456543456, ['nano', 'maruti']]\n"
     ]
    }
   ],
   "source": [
    "print(sheikh_sahab)"
   ]
  },
  {
   "cell_type": "code",
   "execution_count": null,
   "id": "48e9c474",
   "metadata": {},
   "outputs": [],
   "source": []
  },
  {
   "cell_type": "code",
   "execution_count": 15,
   "id": "d869e816",
   "metadata": {},
   "outputs": [],
   "source": [
    "sheikh_sahab.clear()"
   ]
  },
  {
   "cell_type": "code",
   "execution_count": 16,
   "id": "b6aa5354",
   "metadata": {},
   "outputs": [
    {
     "name": "stdout",
     "output_type": "stream",
     "text": [
      "[]\n"
     ]
    }
   ],
   "source": [
    "print(sheikh_sahab)"
   ]
  },
  {
   "cell_type": "code",
   "execution_count": 17,
   "id": "8e4afb7c",
   "metadata": {},
   "outputs": [
    {
     "name": "stdout",
     "output_type": "stream",
     "text": [
      "['append', 'clear', 'copy', 'count', 'extend', 'index', 'insert', 'pop', 'remove', 'reverse', 'sort']\n"
     ]
    }
   ],
   "source": [
    "print(methods)"
   ]
  },
  {
   "cell_type": "code",
   "execution_count": 21,
   "id": "f43e92da",
   "metadata": {},
   "outputs": [],
   "source": [
    "# deep copy\n",
    "arun = ['kia','maruti','alto']\n",
    "\n",
    "varun = arun"
   ]
  },
  {
   "cell_type": "code",
   "execution_count": 19,
   "id": "b9f341c8",
   "metadata": {},
   "outputs": [
    {
     "name": "stdout",
     "output_type": "stream",
     "text": [
      "['kia', 'maruti', 'alto']\n"
     ]
    }
   ],
   "source": [
    "print(varun)"
   ]
  },
  {
   "cell_type": "code",
   "execution_count": 20,
   "id": "504e3a4f",
   "metadata": {},
   "outputs": [
    {
     "name": "stdout",
     "output_type": "stream",
     "text": [
      "['kia', 'maruti', 'alto']\n"
     ]
    }
   ],
   "source": [
    "print(arun)"
   ]
  },
  {
   "cell_type": "code",
   "execution_count": 22,
   "id": "3246a722",
   "metadata": {},
   "outputs": [
    {
     "data": {
      "text/plain": [
       "2757747194176"
      ]
     },
     "execution_count": 22,
     "metadata": {},
     "output_type": "execute_result"
    }
   ],
   "source": [
    "id(varun)"
   ]
  },
  {
   "cell_type": "code",
   "execution_count": 23,
   "id": "a562c266",
   "metadata": {},
   "outputs": [
    {
     "data": {
      "text/plain": [
       "2757747194176"
      ]
     },
     "execution_count": 23,
     "metadata": {},
     "output_type": "execute_result"
    }
   ],
   "source": [
    "id(arun)"
   ]
  },
  {
   "cell_type": "code",
   "execution_count": 24,
   "id": "1d0c145b",
   "metadata": {},
   "outputs": [],
   "source": [
    "varun.append('BWM')"
   ]
  },
  {
   "cell_type": "code",
   "execution_count": 25,
   "id": "31ddec8e",
   "metadata": {},
   "outputs": [
    {
     "name": "stdout",
     "output_type": "stream",
     "text": [
      "['kia', 'maruti', 'alto', 'BWM']\n"
     ]
    }
   ],
   "source": [
    "print(varun)"
   ]
  },
  {
   "cell_type": "code",
   "execution_count": 26,
   "id": "8dc3d38b",
   "metadata": {},
   "outputs": [
    {
     "name": "stdout",
     "output_type": "stream",
     "text": [
      "['kia', 'maruti', 'alto', 'BWM']\n"
     ]
    }
   ],
   "source": [
    "print(arun)"
   ]
  },
  {
   "cell_type": "code",
   "execution_count": 27,
   "id": "ee4cd4ce",
   "metadata": {},
   "outputs": [],
   "source": [
    "# copy:- shallow copy"
   ]
  },
  {
   "cell_type": "code",
   "execution_count": 28,
   "id": "f80f700a",
   "metadata": {},
   "outputs": [],
   "source": [
    "madan = ['kia','audi','honda']\n",
    "\n",
    "karan = madan.copy()"
   ]
  },
  {
   "cell_type": "code",
   "execution_count": 29,
   "id": "ea91dfea",
   "metadata": {},
   "outputs": [
    {
     "name": "stdout",
     "output_type": "stream",
     "text": [
      "['kia', 'audi', 'honda']\n"
     ]
    }
   ],
   "source": [
    "print(karan)"
   ]
  },
  {
   "cell_type": "code",
   "execution_count": 30,
   "id": "f18eea56",
   "metadata": {},
   "outputs": [
    {
     "name": "stdout",
     "output_type": "stream",
     "text": [
      "['kia', 'audi', 'honda']\n"
     ]
    }
   ],
   "source": [
    "print(madan)"
   ]
  },
  {
   "cell_type": "code",
   "execution_count": 31,
   "id": "ef69c970",
   "metadata": {},
   "outputs": [],
   "source": [
    "karan.append('Jaguar')"
   ]
  },
  {
   "cell_type": "code",
   "execution_count": 32,
   "id": "91d76de1",
   "metadata": {},
   "outputs": [
    {
     "name": "stdout",
     "output_type": "stream",
     "text": [
      "['kia', 'audi', 'honda', 'Jaguar']\n"
     ]
    }
   ],
   "source": [
    "print(karan)"
   ]
  },
  {
   "cell_type": "code",
   "execution_count": 33,
   "id": "f0b0e3a8",
   "metadata": {},
   "outputs": [
    {
     "name": "stdout",
     "output_type": "stream",
     "text": [
      "['kia', 'audi', 'honda']\n"
     ]
    }
   ],
   "source": [
    "print(madan)"
   ]
  },
  {
   "cell_type": "code",
   "execution_count": 34,
   "id": "d52c8dcc",
   "metadata": {},
   "outputs": [
    {
     "data": {
      "text/plain": [
       "4"
      ]
     },
     "execution_count": 34,
     "metadata": {},
     "output_type": "execute_result"
    }
   ],
   "source": [
    "data = [1,1,1,2,2,2,2,22,2,3,3,3,3,3,3,3,4,4,4,4,4,5,5,55,5,5,56,6,6,6,67,7]\n",
    "\n",
    "\n",
    "data.count(5)"
   ]
  },
  {
   "cell_type": "code",
   "execution_count": 36,
   "id": "0525fd49",
   "metadata": {},
   "outputs": [],
   "source": [
    "# madan.append(['nano','maruti'])"
   ]
  },
  {
   "cell_type": "code",
   "execution_count": 37,
   "id": "c76ef8a8",
   "metadata": {},
   "outputs": [],
   "source": [
    "madan.extend(['nano','maruti'])"
   ]
  },
  {
   "cell_type": "code",
   "execution_count": 38,
   "id": "4c79e86b",
   "metadata": {},
   "outputs": [
    {
     "name": "stdout",
     "output_type": "stream",
     "text": [
      "['kia', 'audi', 'honda', 'nano', 'maruti']\n"
     ]
    }
   ],
   "source": [
    "print(madan)"
   ]
  },
  {
   "cell_type": "code",
   "execution_count": 39,
   "id": "d95e46a1",
   "metadata": {},
   "outputs": [
    {
     "name": "stdout",
     "output_type": "stream",
     "text": [
      "['append', 'clear', 'copy', 'count', 'extend', 'index', 'insert', 'pop', 'remove', 'reverse', 'sort']\n"
     ]
    }
   ],
   "source": [
    "print(methods)"
   ]
  },
  {
   "cell_type": "code",
   "execution_count": 43,
   "id": "c5c53e26",
   "metadata": {},
   "outputs": [
    {
     "name": "stdout",
     "output_type": "stream",
     "text": [
      "[12, 4, 342, 343, 54, 5434, 23, 54, 6, 56, 35, 47, 68]\n"
     ]
    }
   ],
   "source": [
    "data = [12,4,342,343,54,5434,23,54,6,56,35,47,68]\n",
    "\n",
    "print(data)"
   ]
  },
  {
   "cell_type": "code",
   "execution_count": 44,
   "id": "78489bc0",
   "metadata": {},
   "outputs": [
    {
     "data": {
      "text/plain": [
       "5434"
      ]
     },
     "execution_count": 44,
     "metadata": {},
     "output_type": "execute_result"
    }
   ],
   "source": [
    "data[5]"
   ]
  },
  {
   "cell_type": "code",
   "execution_count": 45,
   "id": "6c421343",
   "metadata": {},
   "outputs": [
    {
     "data": {
      "text/plain": [
       "4"
      ]
     },
     "execution_count": 45,
     "metadata": {},
     "output_type": "execute_result"
    }
   ],
   "source": [
    "data.index(54)"
   ]
  },
  {
   "cell_type": "code",
   "execution_count": 46,
   "id": "fbdd2d77",
   "metadata": {},
   "outputs": [
    {
     "data": {
      "text/plain": [
       "7"
      ]
     },
     "execution_count": 46,
     "metadata": {},
     "output_type": "execute_result"
    }
   ],
   "source": [
    "data.index(54,5)"
   ]
  },
  {
   "cell_type": "code",
   "execution_count": 47,
   "id": "6ab285f3",
   "metadata": {},
   "outputs": [
    {
     "data": {
      "text/plain": [
       "['kia', 'audi', 'honda', 'nano', 'maruti']"
      ]
     },
     "execution_count": 47,
     "metadata": {},
     "output_type": "execute_result"
    }
   ],
   "source": [
    "madan"
   ]
  },
  {
   "cell_type": "code",
   "execution_count": 48,
   "id": "4671a489",
   "metadata": {},
   "outputs": [],
   "source": [
    "# insert\n",
    "\n",
    "madan.insert(2,'R15')"
   ]
  },
  {
   "cell_type": "code",
   "execution_count": 49,
   "id": "c7836c10",
   "metadata": {},
   "outputs": [
    {
     "name": "stdout",
     "output_type": "stream",
     "text": [
      "['kia', 'audi', 'R15', 'honda', 'nano', 'maruti']\n"
     ]
    }
   ],
   "source": [
    "print(madan)"
   ]
  },
  {
   "cell_type": "code",
   "execution_count": 50,
   "id": "a2244e82",
   "metadata": {},
   "outputs": [],
   "source": [
    "madan.insert(-1,'Ninja')"
   ]
  },
  {
   "cell_type": "code",
   "execution_count": 51,
   "id": "92c3b5ee",
   "metadata": {},
   "outputs": [
    {
     "name": "stdout",
     "output_type": "stream",
     "text": [
      "['kia', 'audi', 'R15', 'honda', 'nano', 'Ninja', 'maruti']\n"
     ]
    }
   ],
   "source": [
    "print(madan)"
   ]
  },
  {
   "cell_type": "code",
   "execution_count": 52,
   "id": "22524ebb",
   "metadata": {},
   "outputs": [
    {
     "name": "stdout",
     "output_type": "stream",
     "text": [
      "['kia', 'audi', 'R15', 'honda', 'nano', 'Ninja', 'maruti']\n"
     ]
    }
   ],
   "source": [
    "print(madan)"
   ]
  },
  {
   "cell_type": "code",
   "execution_count": 53,
   "id": "fb8a189a",
   "metadata": {},
   "outputs": [
    {
     "name": "stdout",
     "output_type": "stream",
     "text": [
      "['append', 'clear', 'copy', 'count', 'extend', 'index', 'insert', 'pop', 'remove', 'reverse', 'sort']\n"
     ]
    }
   ],
   "source": [
    "print(methods)"
   ]
  },
  {
   "cell_type": "code",
   "execution_count": 54,
   "id": "91d01351",
   "metadata": {},
   "outputs": [
    {
     "data": {
      "text/plain": [
       "['kia', 'audi', 'R15', 'honda', 'nano', 'Ninja', 'maruti']"
      ]
     },
     "execution_count": 54,
     "metadata": {},
     "output_type": "execute_result"
    }
   ],
   "source": [
    "madan"
   ]
  },
  {
   "cell_type": "code",
   "execution_count": 55,
   "id": "2552100e",
   "metadata": {},
   "outputs": [
    {
     "data": {
      "text/plain": [
       "'maruti'"
      ]
     },
     "execution_count": 55,
     "metadata": {},
     "output_type": "execute_result"
    }
   ],
   "source": [
    "madan.pop()"
   ]
  },
  {
   "cell_type": "code",
   "execution_count": 56,
   "id": "3e8d5b42",
   "metadata": {},
   "outputs": [
    {
     "name": "stdout",
     "output_type": "stream",
     "text": [
      "['kia', 'audi', 'R15', 'honda', 'nano', 'Ninja']\n"
     ]
    }
   ],
   "source": [
    "print(madan)"
   ]
  },
  {
   "cell_type": "code",
   "execution_count": 59,
   "id": "2b61269e",
   "metadata": {},
   "outputs": [
    {
     "data": {
      "text/plain": [
       "'honda'"
      ]
     },
     "execution_count": 59,
     "metadata": {},
     "output_type": "execute_result"
    }
   ],
   "source": [
    "madan.pop()"
   ]
  },
  {
   "cell_type": "code",
   "execution_count": 60,
   "id": "c1c26e92",
   "metadata": {},
   "outputs": [
    {
     "name": "stdout",
     "output_type": "stream",
     "text": [
      "['kia', 'audi', 'R15']\n"
     ]
    }
   ],
   "source": [
    "print(madan)"
   ]
  },
  {
   "cell_type": "code",
   "execution_count": 61,
   "id": "e0f7b6d4",
   "metadata": {},
   "outputs": [
    {
     "data": {
      "text/plain": [
       "'audi'"
      ]
     },
     "execution_count": 61,
     "metadata": {},
     "output_type": "execute_result"
    }
   ],
   "source": [
    "madan.pop(1)"
   ]
  },
  {
   "cell_type": "code",
   "execution_count": 62,
   "id": "d4d3db19",
   "metadata": {},
   "outputs": [
    {
     "name": "stdout",
     "output_type": "stream",
     "text": [
      "['kia', 'R15']\n"
     ]
    }
   ],
   "source": [
    "print(madan)"
   ]
  },
  {
   "cell_type": "code",
   "execution_count": 63,
   "id": "9108c786",
   "metadata": {},
   "outputs": [],
   "source": [
    "# 'remove', 'reverse', 'sort'"
   ]
  },
  {
   "cell_type": "code",
   "execution_count": 64,
   "id": "ed594ef6",
   "metadata": {},
   "outputs": [
    {
     "data": {
      "text/plain": [
       "['kia', 'maruti', 'alto', 'BWM']"
      ]
     },
     "execution_count": 64,
     "metadata": {},
     "output_type": "execute_result"
    }
   ],
   "source": [
    "varun"
   ]
  },
  {
   "cell_type": "code",
   "execution_count": 65,
   "id": "91e0bdb6",
   "metadata": {},
   "outputs": [],
   "source": [
    "varun.remove('alto')"
   ]
  },
  {
   "cell_type": "code",
   "execution_count": 66,
   "id": "e43c3caa",
   "metadata": {},
   "outputs": [
    {
     "name": "stdout",
     "output_type": "stream",
     "text": [
      "['kia', 'maruti', 'BWM']\n"
     ]
    }
   ],
   "source": [
    "print(varun)"
   ]
  },
  {
   "cell_type": "code",
   "execution_count": 67,
   "id": "d69dee3d",
   "metadata": {},
   "outputs": [],
   "source": [
    "varun.remove('maruti')"
   ]
  },
  {
   "cell_type": "code",
   "execution_count": 68,
   "id": "da65b869",
   "metadata": {},
   "outputs": [
    {
     "name": "stdout",
     "output_type": "stream",
     "text": [
      "['kia', 'BWM']\n"
     ]
    }
   ],
   "source": [
    "print(varun)"
   ]
  },
  {
   "cell_type": "code",
   "execution_count": 69,
   "id": "fa3319dd",
   "metadata": {},
   "outputs": [
    {
     "name": "stdout",
     "output_type": "stream",
     "text": [
      "[23, 43, 542, 34, 453, 34, 243, 54, 45, 4, 34]\n"
     ]
    }
   ],
   "source": [
    "data = [23,43,542,34,453,34,243,54,45,4,34]\n",
    "print(data)"
   ]
  },
  {
   "cell_type": "code",
   "execution_count": 70,
   "id": "31124835",
   "metadata": {},
   "outputs": [
    {
     "data": {
      "text/plain": [
       "3"
      ]
     },
     "execution_count": 70,
     "metadata": {},
     "output_type": "execute_result"
    }
   ],
   "source": [
    "data.count(34)"
   ]
  },
  {
   "cell_type": "code",
   "execution_count": 75,
   "id": "19dbcf28",
   "metadata": {},
   "outputs": [],
   "source": [
    "data.remove(34)"
   ]
  },
  {
   "cell_type": "code",
   "execution_count": 76,
   "id": "c659b465",
   "metadata": {},
   "outputs": [
    {
     "name": "stdout",
     "output_type": "stream",
     "text": [
      "[23, 43, 542, 453, 243, 54, 45, 4]\n"
     ]
    }
   ],
   "source": [
    "print(data)"
   ]
  },
  {
   "cell_type": "code",
   "execution_count": 77,
   "id": "55d41e5b",
   "metadata": {},
   "outputs": [
    {
     "ename": "ValueError",
     "evalue": "list.remove(x): x not in list",
     "output_type": "error",
     "traceback": [
      "\u001b[1;31m---------------------------------------------------------------------------\u001b[0m",
      "\u001b[1;31mValueError\u001b[0m                                Traceback (most recent call last)",
      "Cell \u001b[1;32mIn[77], line 1\u001b[0m\n\u001b[1;32m----> 1\u001b[0m data\u001b[38;5;241m.\u001b[39mremove(\u001b[38;5;241m34\u001b[39m)\n",
      "\u001b[1;31mValueError\u001b[0m: list.remove(x): x not in list"
     ]
    }
   ],
   "source": [
    "data.remove(34)"
   ]
  },
  {
   "cell_type": "code",
   "execution_count": 78,
   "id": "d8f04771",
   "metadata": {},
   "outputs": [],
   "source": [
    "# 'reverse', 'sort'"
   ]
  },
  {
   "cell_type": "code",
   "execution_count": 79,
   "id": "a5bc9a17",
   "metadata": {},
   "outputs": [
    {
     "name": "stdout",
     "output_type": "stream",
     "text": [
      "['karan', 'madan', 'ravi', 'akshay', 'jatin', 'komal']\n"
     ]
    }
   ],
   "source": [
    "students = ['karan','madan','ravi','akshay','jatin','komal']\n",
    "\n",
    "print(students)"
   ]
  },
  {
   "cell_type": "code",
   "execution_count": 80,
   "id": "40c9452f",
   "metadata": {},
   "outputs": [],
   "source": [
    "students.reverse()"
   ]
  },
  {
   "cell_type": "code",
   "execution_count": 81,
   "id": "612513e2",
   "metadata": {},
   "outputs": [
    {
     "name": "stdout",
     "output_type": "stream",
     "text": [
      "['komal', 'jatin', 'akshay', 'ravi', 'madan', 'karan']\n"
     ]
    }
   ],
   "source": [
    "print(students)"
   ]
  },
  {
   "cell_type": "code",
   "execution_count": 83,
   "id": "b9175522",
   "metadata": {},
   "outputs": [
    {
     "name": "stdout",
     "output_type": "stream",
     "text": [
      "[21, 34, 21, 343, 543, 24, 4, 32, 34, 23, 434, 543, 5, 456, 56, 543, 545, 76]\n"
     ]
    }
   ],
   "source": [
    "sales = [21,34,21,343,543,24,4,32,34,23,434,543,5,456,56,543,545,76]\n",
    "\n",
    "\n",
    "print(sales)"
   ]
  },
  {
   "cell_type": "code",
   "execution_count": 84,
   "id": "102a8a78",
   "metadata": {},
   "outputs": [],
   "source": [
    "sales.sort()"
   ]
  },
  {
   "cell_type": "code",
   "execution_count": 85,
   "id": "dc7c1308",
   "metadata": {},
   "outputs": [
    {
     "name": "stdout",
     "output_type": "stream",
     "text": [
      "[4, 5, 21, 21, 23, 24, 32, 34, 34, 56, 76, 343, 434, 456, 543, 543, 543, 545]\n"
     ]
    }
   ],
   "source": [
    "print(sales)"
   ]
  },
  {
   "cell_type": "code",
   "execution_count": null,
   "id": "14151561",
   "metadata": {},
   "outputs": [],
   "source": []
  },
  {
   "cell_type": "code",
   "execution_count": null,
   "id": "d790f295",
   "metadata": {},
   "outputs": [],
   "source": []
  },
  {
   "cell_type": "code",
   "execution_count": 86,
   "id": "b50a63f9",
   "metadata": {},
   "outputs": [
    {
     "name": "stdout",
     "output_type": "stream",
     "text": [
      "[21, 34, 21, 343, 543, 24, 4, 32, 34, 23, 434, 543, 5, 456, 56, 543, 545, 76]\n"
     ]
    }
   ],
   "source": [
    "sales = [21,34,21,343,543,24,4,32,34,23,434,543,5,456,56,543,545,76]\n",
    "\n",
    "\n",
    "print(sales)"
   ]
  },
  {
   "cell_type": "code",
   "execution_count": 87,
   "id": "d0d0d622",
   "metadata": {},
   "outputs": [],
   "source": [
    "sales.sort(reverse=True)"
   ]
  },
  {
   "cell_type": "code",
   "execution_count": 88,
   "id": "2f52900f",
   "metadata": {},
   "outputs": [
    {
     "name": "stdout",
     "output_type": "stream",
     "text": [
      "[545, 543, 543, 543, 456, 434, 343, 76, 56, 34, 34, 32, 24, 23, 21, 21, 5, 4]\n"
     ]
    }
   ],
   "source": [
    "print(sales)"
   ]
  },
  {
   "cell_type": "code",
   "execution_count": null,
   "id": "2fd13377",
   "metadata": {},
   "outputs": [],
   "source": []
  },
  {
   "cell_type": "code",
   "execution_count": null,
   "id": "2427f5da",
   "metadata": {},
   "outputs": [],
   "source": []
  },
  {
   "cell_type": "code",
   "execution_count": 89,
   "id": "05e3d071",
   "metadata": {},
   "outputs": [
    {
     "data": {
      "text/plain": [
       "['komal', 'jatin', 'akshay', 'ravi', 'madan', 'karan']"
      ]
     },
     "execution_count": 89,
     "metadata": {},
     "output_type": "execute_result"
    }
   ],
   "source": [
    "students"
   ]
  },
  {
   "cell_type": "code",
   "execution_count": 90,
   "id": "3d2ad595",
   "metadata": {},
   "outputs": [],
   "source": [
    "students.sort()"
   ]
  },
  {
   "cell_type": "code",
   "execution_count": 91,
   "id": "23a4350d",
   "metadata": {},
   "outputs": [
    {
     "name": "stdout",
     "output_type": "stream",
     "text": [
      "['akshay', 'jatin', 'karan', 'komal', 'madan', 'ravi']\n"
     ]
    }
   ],
   "source": [
    "print(students)"
   ]
  },
  {
   "cell_type": "code",
   "execution_count": null,
   "id": "7ee492b1",
   "metadata": {},
   "outputs": [],
   "source": []
  },
  {
   "cell_type": "code",
   "execution_count": null,
   "id": "d747d12f",
   "metadata": {},
   "outputs": [],
   "source": []
  },
  {
   "cell_type": "code",
   "execution_count": null,
   "id": "e65077d4",
   "metadata": {},
   "outputs": [],
   "source": []
  },
  {
   "cell_type": "markdown",
   "id": "6af0ad39",
   "metadata": {},
   "source": [
    "# Tuple Data Type"
   ]
  },
  {
   "cell_type": "code",
   "execution_count": 92,
   "id": "f720f676",
   "metadata": {},
   "outputs": [
    {
     "name": "stdout",
     "output_type": "stream",
     "text": [
      "(1, 234, 44, 213, 456, 7)\n"
     ]
    }
   ],
   "source": [
    "s = (1,234,44,213,456,7)\n",
    "\n",
    "print(s)"
   ]
  },
  {
   "cell_type": "code",
   "execution_count": 93,
   "id": "3007634e",
   "metadata": {},
   "outputs": [
    {
     "name": "stdout",
     "output_type": "stream",
     "text": [
      "<class 'tuple'>\n"
     ]
    }
   ],
   "source": [
    "print(type(s))"
   ]
  },
  {
   "cell_type": "code",
   "execution_count": 94,
   "id": "b47f3875",
   "metadata": {},
   "outputs": [],
   "source": [
    "# 1>> tuple can contain any data types"
   ]
  },
  {
   "cell_type": "code",
   "execution_count": 95,
   "id": "99ecf91e",
   "metadata": {},
   "outputs": [
    {
     "name": "stdout",
     "output_type": "stream",
     "text": [
      "(12, 34.3, 5, (98-9j), 'Komal', [1, 234, 56])\n"
     ]
    }
   ],
   "source": [
    "data = (12,34.3,5,98-9j,'Komal',[1,234,56])\n",
    "\n",
    "print(data)"
   ]
  },
  {
   "cell_type": "code",
   "execution_count": 96,
   "id": "ba8fcf68",
   "metadata": {},
   "outputs": [
    {
     "name": "stdout",
     "output_type": "stream",
     "text": [
      "<class 'tuple'>\n"
     ]
    }
   ],
   "source": [
    "print(type(data))"
   ]
  },
  {
   "cell_type": "code",
   "execution_count": 97,
   "id": "1d00f15a",
   "metadata": {},
   "outputs": [],
   "source": [
    "# nested tuple"
   ]
  },
  {
   "cell_type": "code",
   "execution_count": 98,
   "id": "477947b0",
   "metadata": {},
   "outputs": [
    {
     "name": "stdout",
     "output_type": "stream",
     "text": [
      "(12, 43, 456, (1, 243, 46, (12, 132, 446, 7)))\n"
     ]
    }
   ],
   "source": [
    "a  = (12,43,456,(1,243,46,(12,132,446,7)))\n",
    "\n",
    "print(a)"
   ]
  },
  {
   "cell_type": "code",
   "execution_count": 106,
   "id": "c5d149de",
   "metadata": {},
   "outputs": [],
   "source": [
    "# indexing or slicing, +ve, -ve"
   ]
  },
  {
   "cell_type": "code",
   "execution_count": 100,
   "id": "c684bc11",
   "metadata": {},
   "outputs": [
    {
     "name": "stdout",
     "output_type": "stream",
     "text": [
      "(33, 1234, 5, 3234, 56, 78, 543, 42, 445, 6789)\n"
     ]
    }
   ],
   "source": [
    "data = (33,1234,5,3234,56,78,543,42,445,6789)\n",
    "\n",
    "print(data)"
   ]
  },
  {
   "cell_type": "code",
   "execution_count": 101,
   "id": "e6c58b1b",
   "metadata": {},
   "outputs": [
    {
     "data": {
      "text/plain": [
       "56"
      ]
     },
     "execution_count": 101,
     "metadata": {},
     "output_type": "execute_result"
    }
   ],
   "source": [
    "data[4]"
   ]
  },
  {
   "cell_type": "code",
   "execution_count": 102,
   "id": "26f0596e",
   "metadata": {},
   "outputs": [
    {
     "data": {
      "text/plain": [
       "(3234, 56, 78, 543, 42)"
      ]
     },
     "execution_count": 102,
     "metadata": {},
     "output_type": "execute_result"
    }
   ],
   "source": [
    "data[3:8]"
   ]
  },
  {
   "cell_type": "code",
   "execution_count": 103,
   "id": "0d797254",
   "metadata": {},
   "outputs": [],
   "source": [
    "# tuple imutable\n",
    "# does not support item assignment, value change nahi kar sakte"
   ]
  },
  {
   "cell_type": "code",
   "execution_count": 105,
   "id": "c2649c80",
   "metadata": {},
   "outputs": [
    {
     "ename": "TypeError",
     "evalue": "'tuple' object does not support item assignment",
     "output_type": "error",
     "traceback": [
      "\u001b[1;31m---------------------------------------------------------------------------\u001b[0m",
      "\u001b[1;31mTypeError\u001b[0m                                 Traceback (most recent call last)",
      "Cell \u001b[1;32mIn[105], line 4\u001b[0m\n\u001b[0;32m      1\u001b[0m a \u001b[38;5;241m=\u001b[39m (\u001b[38;5;241m23\u001b[39m,\u001b[38;5;241m1243\u001b[39m,\u001b[38;5;241m56\u001b[39m,\u001b[38;5;241m5432\u001b[39m,\u001b[38;5;241m34\u001b[39m,\u001b[38;5;241m5467\u001b[39m)\n\u001b[1;32m----> 4\u001b[0m a[\u001b[38;5;241m3\u001b[39m] \u001b[38;5;241m=\u001b[39m \u001b[38;5;241m900\u001b[39m\n",
      "\u001b[1;31mTypeError\u001b[0m: 'tuple' object does not support item assignment"
     ]
    }
   ],
   "source": [
    "a = (23,1243,56,5432,34,5467)\n",
    "\n",
    "\n",
    "a[3] = 900"
   ]
  },
  {
   "cell_type": "code",
   "execution_count": 107,
   "id": "dd272377",
   "metadata": {},
   "outputs": [],
   "source": [
    "# some basic op"
   ]
  },
  {
   "cell_type": "code",
   "execution_count": 108,
   "id": "06cc80c6",
   "metadata": {},
   "outputs": [
    {
     "name": "stdout",
     "output_type": "stream",
     "text": [
      "(1, 234, 5, 241, 5, 12, 43, 465, 7)\n"
     ]
    }
   ],
   "source": [
    "a = (1,234,5,241,5)\n",
    "\n",
    "b = (12,43,465,7)\n",
    "\n",
    "\n",
    "print(a + b)"
   ]
  },
  {
   "cell_type": "code",
   "execution_count": 111,
   "id": "28219864",
   "metadata": {},
   "outputs": [
    {
     "name": "stdout",
     "output_type": "stream",
     "text": [
      "(12, 43, 7, 12, 43, 7, 12, 43, 7, 12, 43, 7, 12, 43, 7)\n"
     ]
    }
   ],
   "source": [
    "b = (12,43,7)\n",
    "\n",
    "\n",
    "print(b * 5)"
   ]
  },
  {
   "cell_type": "code",
   "execution_count": 112,
   "id": "35feebe8",
   "metadata": {},
   "outputs": [],
   "source": [
    "# empty tuple"
   ]
  },
  {
   "cell_type": "code",
   "execution_count": 113,
   "id": "aacc5c69",
   "metadata": {},
   "outputs": [
    {
     "name": "stdout",
     "output_type": "stream",
     "text": [
      "()\n",
      "<class 'tuple'>\n"
     ]
    }
   ],
   "source": [
    "a = ()\n",
    "\n",
    "print(a)\n",
    "print(type(a))"
   ]
  },
  {
   "cell_type": "code",
   "execution_count": 114,
   "id": "3ce20975",
   "metadata": {},
   "outputs": [
    {
     "name": "stdout",
     "output_type": "stream",
     "text": [
      "karan\n",
      "<class 'str'>\n"
     ]
    }
   ],
   "source": [
    "# single element tuple\n",
    "\n",
    "a = ('karan')\n",
    "\n",
    "print(a)\n",
    "print(type(a))"
   ]
  },
  {
   "cell_type": "code",
   "execution_count": 115,
   "id": "a73a872d",
   "metadata": {},
   "outputs": [
    {
     "name": "stdout",
     "output_type": "stream",
     "text": [
      "('karan',)\n",
      "<class 'tuple'>\n"
     ]
    }
   ],
   "source": [
    "# single element tuple\n",
    "\n",
    "a = ('karan',)\n",
    "\n",
    "print(a)\n",
    "print(type(a))"
   ]
  },
  {
   "cell_type": "code",
   "execution_count": 116,
   "id": "912f57a0",
   "metadata": {},
   "outputs": [
    {
     "name": "stdout",
     "output_type": "stream",
     "text": [
      "(3456,)\n",
      "<class 'tuple'>\n"
     ]
    }
   ],
   "source": [
    "# single element tuple\n",
    "\n",
    "a = (3456,)\n",
    "\n",
    "print(a)\n",
    "print(type(a))"
   ]
  },
  {
   "cell_type": "code",
   "execution_count": null,
   "id": "cd143323",
   "metadata": {},
   "outputs": [],
   "source": []
  },
  {
   "cell_type": "code",
   "execution_count": 117,
   "id": "e0586834",
   "metadata": {},
   "outputs": [
    {
     "data": {
      "text/plain": [
       "1"
      ]
     },
     "execution_count": 117,
     "metadata": {},
     "output_type": "execute_result"
    }
   ],
   "source": [
    "# min, max, sum\n",
    "\n",
    "a = (1,243,56,321,3,56)\n",
    "\n",
    "min(a)"
   ]
  },
  {
   "cell_type": "code",
   "execution_count": 118,
   "id": "2d478aa9",
   "metadata": {},
   "outputs": [
    {
     "data": {
      "text/plain": [
       "321"
      ]
     },
     "execution_count": 118,
     "metadata": {},
     "output_type": "execute_result"
    }
   ],
   "source": [
    "max(a)"
   ]
  },
  {
   "cell_type": "code",
   "execution_count": 119,
   "id": "dd62c216",
   "metadata": {},
   "outputs": [
    {
     "data": {
      "text/plain": [
       "680"
      ]
     },
     "execution_count": 119,
     "metadata": {},
     "output_type": "execute_result"
    }
   ],
   "source": [
    "sum(a)"
   ]
  },
  {
   "cell_type": "code",
   "execution_count": 120,
   "id": "fdeda4a3",
   "metadata": {},
   "outputs": [
    {
     "data": {
      "text/plain": [
       "6"
      ]
     },
     "execution_count": 120,
     "metadata": {},
     "output_type": "execute_result"
    }
   ],
   "source": [
    "len(a)"
   ]
  },
  {
   "cell_type": "code",
   "execution_count": 121,
   "id": "977da149",
   "metadata": {},
   "outputs": [],
   "source": [
    "# delete a tuple"
   ]
  },
  {
   "cell_type": "code",
   "execution_count": 122,
   "id": "4a3136f6",
   "metadata": {},
   "outputs": [
    {
     "name": "stdout",
     "output_type": "stream",
     "text": [
      "(3, 234, 5, 621, 343, 45, 67)\n"
     ]
    }
   ],
   "source": [
    "harsh = (3,234,5,621,343,45,67)\n",
    "\n",
    "print(harsh)"
   ]
  },
  {
   "cell_type": "code",
   "execution_count": 123,
   "id": "4b6e8949",
   "metadata": {},
   "outputs": [],
   "source": [
    "del harsh"
   ]
  },
  {
   "cell_type": "code",
   "execution_count": 124,
   "id": "bcff98a3",
   "metadata": {},
   "outputs": [
    {
     "ename": "NameError",
     "evalue": "name 'harsh' is not defined",
     "output_type": "error",
     "traceback": [
      "\u001b[1;31m---------------------------------------------------------------------------\u001b[0m",
      "\u001b[1;31mNameError\u001b[0m                                 Traceback (most recent call last)",
      "Cell \u001b[1;32mIn[124], line 1\u001b[0m\n\u001b[1;32m----> 1\u001b[0m \u001b[38;5;28mprint\u001b[39m(harsh)\n",
      "\u001b[1;31mNameError\u001b[0m: name 'harsh' is not defined"
     ]
    }
   ],
   "source": [
    "print(harsh)"
   ]
  },
  {
   "cell_type": "code",
   "execution_count": 125,
   "id": "0011cea0",
   "metadata": {},
   "outputs": [],
   "source": [
    "# tuple without brackets"
   ]
  },
  {
   "cell_type": "code",
   "execution_count": 126,
   "id": "11d7e534",
   "metadata": {},
   "outputs": [
    {
     "name": "stdout",
     "output_type": "stream",
     "text": [
      "(23, 45, 54, 2134, 3456, 565, 'Mohan', [23, 4, 456])\n"
     ]
    }
   ],
   "source": [
    "data = 23,45,54,2134,3456,565,'Mohan',[23,4,456]\n",
    "\n",
    "\n",
    "print(data)"
   ]
  },
  {
   "cell_type": "code",
   "execution_count": 127,
   "id": "76c3d8a2",
   "metadata": {},
   "outputs": [
    {
     "name": "stdout",
     "output_type": "stream",
     "text": [
      "<class 'tuple'>\n"
     ]
    }
   ],
   "source": [
    "print(type(data))"
   ]
  },
  {
   "cell_type": "code",
   "execution_count": null,
   "id": "2c0c4a99",
   "metadata": {},
   "outputs": [],
   "source": []
  },
  {
   "cell_type": "code",
   "execution_count": 128,
   "id": "f1e25c20",
   "metadata": {},
   "outputs": [],
   "source": [
    "# methods"
   ]
  },
  {
   "cell_type": "code",
   "execution_count": 130,
   "id": "341e7ec3",
   "metadata": {},
   "outputs": [
    {
     "name": "stdout",
     "output_type": "stream",
     "text": [
      "['__add__', '__class__', '__class_getitem__', '__contains__', '__delattr__', '__dir__', '__doc__', '__eq__', '__format__', '__ge__', '__getattribute__', '__getitem__', '__getnewargs__', '__getstate__', '__gt__', '__hash__', '__init__', '__init_subclass__', '__iter__', '__le__', '__len__', '__lt__', '__mul__', '__ne__', '__new__', '__reduce__', '__reduce_ex__', '__repr__', '__rmul__', '__setattr__', '__sizeof__', '__str__', '__subclasshook__', 'count', 'index']\n"
     ]
    }
   ],
   "source": [
    "print(dir(tuple))"
   ]
  },
  {
   "cell_type": "code",
   "execution_count": 131,
   "id": "298f9253",
   "metadata": {},
   "outputs": [],
   "source": [
    "# 'count', 'index'"
   ]
  },
  {
   "cell_type": "code",
   "execution_count": 132,
   "id": "333089fe",
   "metadata": {},
   "outputs": [
    {
     "data": {
      "text/plain": [
       "(1, 243, 56, 321, 3, 56)"
      ]
     },
     "execution_count": 132,
     "metadata": {},
     "output_type": "execute_result"
    }
   ],
   "source": [
    "a"
   ]
  },
  {
   "cell_type": "code",
   "execution_count": 133,
   "id": "9b1780d9",
   "metadata": {},
   "outputs": [
    {
     "data": {
      "text/plain": [
       "7"
      ]
     },
     "execution_count": 133,
     "metadata": {},
     "output_type": "execute_result"
    }
   ],
   "source": [
    "a = [2,2,32,3,3,33,3,3,3,33,3,3,4,44,4,4,5,5,5,5,5,56,6,66,6,6,6,7,7]\n",
    "\n",
    "\n",
    "a.count(3)"
   ]
  },
  {
   "cell_type": "code",
   "execution_count": 135,
   "id": "5ebdfb01",
   "metadata": {},
   "outputs": [
    {
     "data": {
      "text/plain": [
       "13"
      ]
     },
     "execution_count": 135,
     "metadata": {},
     "output_type": "execute_result"
    }
   ],
   "source": [
    "a = [2,2,32,3,3,33,3,3,3,33,3,3,4,44,4,4,5,5,5,5,44,5,56,6,66,6,6,6,7,7]\n",
    "\n",
    "\n",
    "a.index(44)"
   ]
  },
  {
   "cell_type": "code",
   "execution_count": 136,
   "id": "877499e3",
   "metadata": {},
   "outputs": [
    {
     "data": {
      "text/plain": [
       "20"
      ]
     },
     "execution_count": 136,
     "metadata": {},
     "output_type": "execute_result"
    }
   ],
   "source": [
    "a = [2,2,32,3,3,33,3,3,3,33,3,3,4,44,4,4,5,5,5,5,44,5,56,6,66,6,6,6,7,7]\n",
    "\n",
    "\n",
    "a.index(44,14)"
   ]
  },
  {
   "cell_type": "code",
   "execution_count": 137,
   "id": "aafa840d",
   "metadata": {},
   "outputs": [
    {
     "data": {
      "text/plain": [
       "44"
      ]
     },
     "execution_count": 137,
     "metadata": {},
     "output_type": "execute_result"
    }
   ],
   "source": [
    "a[20]"
   ]
  },
  {
   "cell_type": "code",
   "execution_count": null,
   "id": "641d8b27",
   "metadata": {},
   "outputs": [],
   "source": []
  },
  {
   "cell_type": "code",
   "execution_count": null,
   "id": "8e54b4fd",
   "metadata": {},
   "outputs": [],
   "source": []
  },
  {
   "cell_type": "code",
   "execution_count": 138,
   "id": "fcad385c",
   "metadata": {},
   "outputs": [],
   "source": [
    "# type casting"
   ]
  },
  {
   "cell_type": "code",
   "execution_count": 140,
   "id": "4ace4df1",
   "metadata": {},
   "outputs": [
    {
     "ename": "TypeError",
     "evalue": "'tuple' object does not support item assignment",
     "output_type": "error",
     "traceback": [
      "\u001b[1;31m---------------------------------------------------------------------------\u001b[0m",
      "\u001b[1;31mTypeError\u001b[0m                                 Traceback (most recent call last)",
      "Cell \u001b[1;32mIn[140], line 3\u001b[0m\n\u001b[0;32m      1\u001b[0m a \u001b[38;5;241m=\u001b[39m (\u001b[38;5;241m12\u001b[39m,\u001b[38;5;241m4345\u001b[39m,\u001b[38;5;241m32\u001b[39m,\u001b[38;5;241m134\u001b[39m,\u001b[38;5;241m5\u001b[39m)\n\u001b[1;32m----> 3\u001b[0m a[\u001b[38;5;241m2\u001b[39m] \u001b[38;5;241m=\u001b[39m \u001b[38;5;241m420\u001b[39m\n",
      "\u001b[1;31mTypeError\u001b[0m: 'tuple' object does not support item assignment"
     ]
    }
   ],
   "source": [
    "a = (12,4345,32,134,5)\n",
    "\n",
    "a[2] = 420"
   ]
  },
  {
   "cell_type": "code",
   "execution_count": 143,
   "id": "3214ba72",
   "metadata": {},
   "outputs": [
    {
     "name": "stdout",
     "output_type": "stream",
     "text": [
      "[12, 4345, 32, 134, 5]\n"
     ]
    }
   ],
   "source": [
    "a = (12,4345,32,134,5)\n",
    "\n",
    "a = list(a) # type casting\n",
    "\n",
    "print(a)"
   ]
  },
  {
   "cell_type": "code",
   "execution_count": 146,
   "id": "61c8bd19",
   "metadata": {},
   "outputs": [],
   "source": [
    "a = (12,4345,32,134,5)\n",
    "\n",
    "a = list(a) # type casting\n",
    "\n",
    "a[2] = 420"
   ]
  },
  {
   "cell_type": "code",
   "execution_count": 148,
   "id": "c6ee39e2",
   "metadata": {},
   "outputs": [],
   "source": [
    "a = tuple(a)  # type casting"
   ]
  },
  {
   "cell_type": "code",
   "execution_count": 149,
   "id": "e9b2f8be",
   "metadata": {},
   "outputs": [
    {
     "name": "stdout",
     "output_type": "stream",
     "text": [
      "(12, 4345, 420, 134, 5)\n"
     ]
    }
   ],
   "source": [
    "print(a)"
   ]
  },
  {
   "cell_type": "code",
   "execution_count": null,
   "id": "90f6227d",
   "metadata": {},
   "outputs": [],
   "source": []
  },
  {
   "cell_type": "code",
   "execution_count": null,
   "id": "dc9793c1",
   "metadata": {},
   "outputs": [],
   "source": []
  },
  {
   "cell_type": "code",
   "execution_count": 150,
   "id": "ed98dd83",
   "metadata": {},
   "outputs": [
    {
     "name": "stdout",
     "output_type": "stream",
     "text": [
      "['karan', 'ravi', 'akshay', 'mohan']\n"
     ]
    }
   ],
   "source": [
    "_annual_students = ['karan','ravi','akshay','mohan']\n",
    "\n",
    "print(_annual_students)"
   ]
  },
  {
   "cell_type": "code",
   "execution_count": 157,
   "id": "31315f0d",
   "metadata": {},
   "outputs": [
    {
     "name": "stdout",
     "output_type": "stream",
     "text": [
      "Enter your name: bhoomika\n",
      "You name has been added successfully!!\n"
     ]
    }
   ],
   "source": [
    "students_name = input('Enter your name: ').lower()\n",
    "\n",
    "if students_name in _annual_students:\n",
    "    print('You are already in!!')\n",
    "    \n",
    "else:\n",
    "    _annual_students.append(students_name)\n",
    "    print('You name has been added successfully!!')"
   ]
  },
  {
   "cell_type": "code",
   "execution_count": 158,
   "id": "3edea4a8",
   "metadata": {},
   "outputs": [
    {
     "name": "stdout",
     "output_type": "stream",
     "text": [
      "['karan', 'ravi', 'akshay', 'mohan', 'shanu', 'harsh', 'jatin', 'bhoomika']\n"
     ]
    }
   ],
   "source": [
    "print(_annual_students)"
   ]
  },
  {
   "cell_type": "code",
   "execution_count": null,
   "id": "fd1fa5ad",
   "metadata": {},
   "outputs": [],
   "source": []
  }
 ],
 "metadata": {
  "kernelspec": {
   "display_name": "Python 3 (ipykernel)",
   "language": "python",
   "name": "python3"
  },
  "language_info": {
   "codemirror_mode": {
    "name": "ipython",
    "version": 3
   },
   "file_extension": ".py",
   "mimetype": "text/x-python",
   "name": "python",
   "nbconvert_exporter": "python",
   "pygments_lexer": "ipython3",
   "version": "3.11.3"
  }
 },
 "nbformat": 4,
 "nbformat_minor": 5
}
