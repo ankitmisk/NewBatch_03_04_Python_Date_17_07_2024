{
 "cells": [
  {
   "cell_type": "code",
   "execution_count": 1,
   "id": "5da527e3",
   "metadata": {},
   "outputs": [],
   "source": [
    "# one liner if else, elif"
   ]
  },
  {
   "cell_type": "code",
   "execution_count": 2,
   "id": "3a8fe7a2",
   "metadata": {},
   "outputs": [
    {
     "name": "stdout",
     "output_type": "stream",
     "text": [
      "Odd Number\n"
     ]
    }
   ],
   "source": [
    "number = 345\n",
    "if number % 2 == 0:\n",
    "    print('Even Number')\n",
    "else:\n",
    "    print('Odd Number')"
   ]
  },
  {
   "cell_type": "code",
   "execution_count": 3,
   "id": "38f4e791",
   "metadata": {},
   "outputs": [
    {
     "name": "stdout",
     "output_type": "stream",
     "text": [
      "Odd Number\n"
     ]
    }
   ],
   "source": [
    "print('Even Number') if number %2 == 0 else print('Odd Number')"
   ]
  },
  {
   "cell_type": "code",
   "execution_count": 7,
   "id": "6e11b280",
   "metadata": {},
   "outputs": [
    {
     "name": "stdout",
     "output_type": "stream",
     "text": [
      "Vowel\n"
     ]
    }
   ],
   "source": [
    "word = 'audi car'\n",
    "\n",
    "# vowels = a,e,i,o,u\n",
    "\n",
    "print('Vowel') if word[0].lower() in 'aeiou' else print('Consonants')"
   ]
  },
  {
   "cell_type": "code",
   "execution_count": null,
   "id": "0e0c9e89",
   "metadata": {},
   "outputs": [],
   "source": []
  },
  {
   "cell_type": "code",
   "execution_count": 8,
   "id": "ef2d2d5c",
   "metadata": {},
   "outputs": [
    {
     "name": "stdout",
     "output_type": "stream",
     "text": [
      "c is greatest\n"
     ]
    }
   ],
   "source": [
    "a = 34\n",
    "b = 45\n",
    "c = 67\n",
    "\n",
    "if (a>b) and (a>c):\n",
    "    print('a is greatest')\n",
    "    \n",
    "elif (b>a) and (b>c):\n",
    "    print('b is greatest')\n",
    "    \n",
    "elif (c>a) and (c>b):\n",
    "    print('c is greatest')\n",
    "    \n",
    "else:\n",
    "    print('all are equals')"
   ]
  },
  {
   "cell_type": "code",
   "execution_count": 10,
   "id": "1ab5f11d",
   "metadata": {},
   "outputs": [
    {
     "name": "stdout",
     "output_type": "stream",
     "text": [
      "c is greatest\n"
     ]
    }
   ],
   "source": [
    "print('a is greatest') if (a>b) and (a>c) else print('b is greatest') if (b>a) and (b>c) else print('c is greatest') if (c>a) and (c>b) else print('all are equals')"
   ]
  },
  {
   "cell_type": "code",
   "execution_count": null,
   "id": "037ce931",
   "metadata": {},
   "outputs": [],
   "source": []
  },
  {
   "cell_type": "code",
   "execution_count": null,
   "id": "8a54487d",
   "metadata": {},
   "outputs": [],
   "source": []
  },
  {
   "cell_type": "code",
   "execution_count": 11,
   "id": "7e49ca16",
   "metadata": {},
   "outputs": [
    {
     "ename": "SyntaxError",
     "evalue": "invalid syntax (1612812415.py, line 2)",
     "output_type": "error",
     "traceback": [
      "\u001b[1;36m  Cell \u001b[1;32mIn[11], line 2\u001b[1;36m\u001b[0m\n\u001b[1;33m    if (c>a) and (c>b) else print('all are equals')\u001b[0m\n\u001b[1;37m                       ^\u001b[0m\n\u001b[1;31mSyntaxError\u001b[0m\u001b[1;31m:\u001b[0m invalid syntax\n"
     ]
    }
   ],
   "source": [
    "print('a is greatest') if (a>b) and (a>c) else print('b is greatest') if (b>a) and (b>c) else print('c is greatest') \n",
    "if (c>a) and (c>b) else print('all are equals')"
   ]
  },
  {
   "cell_type": "code",
   "execution_count": 16,
   "id": "a975586a",
   "metadata": {},
   "outputs": [
    {
     "data": {
      "text/plain": [
       "'Hello world'"
      ]
     },
     "execution_count": 16,
     "metadata": {},
     "output_type": "execute_result"
    }
   ],
   "source": [
    "'Hello \\\n",
    "world'"
   ]
  },
  {
   "cell_type": "code",
   "execution_count": 18,
   "id": "7ee94224",
   "metadata": {},
   "outputs": [
    {
     "name": "stdout",
     "output_type": "stream",
     "text": [
      "c is greatest\n"
     ]
    }
   ],
   "source": [
    "print('a is greatest') if (a>b) and (a>c) else print('b is greatest') if (b>a) and (b>c) else print('c is greatest')\\\n",
    "if (c>a) and (c>b) else print('all are equals')"
   ]
  },
  {
   "cell_type": "code",
   "execution_count": null,
   "id": "d60c225c",
   "metadata": {},
   "outputs": [],
   "source": []
  },
  {
   "cell_type": "code",
   "execution_count": null,
   "id": "5482139e",
   "metadata": {},
   "outputs": [],
   "source": []
  },
  {
   "cell_type": "code",
   "execution_count": 19,
   "id": "30ff68f9",
   "metadata": {},
   "outputs": [],
   "source": [
    "# pass"
   ]
  },
  {
   "cell_type": "code",
   "execution_count": 23,
   "id": "be025158",
   "metadata": {},
   "outputs": [],
   "source": [
    "if 2==2:\n",
    "    pass\n",
    "else:\n",
    "    ..."
   ]
  },
  {
   "cell_type": "code",
   "execution_count": 24,
   "id": "612998b3",
   "metadata": {},
   "outputs": [],
   "source": [
    "# h/w task"
   ]
  },
  {
   "cell_type": "code",
   "execution_count": 25,
   "id": "df2f9e30",
   "metadata": {},
   "outputs": [],
   "source": [
    "import calendar"
   ]
  },
  {
   "cell_type": "code",
   "execution_count": 27,
   "id": "f412afe7",
   "metadata": {},
   "outputs": [
    {
     "data": {
      "text/plain": [
       "False"
      ]
     },
     "execution_count": 27,
     "metadata": {},
     "output_type": "execute_result"
    }
   ],
   "source": [
    "calendar.isleap(2023)"
   ]
  },
  {
   "cell_type": "code",
   "execution_count": 28,
   "id": "e08071d1",
   "metadata": {},
   "outputs": [],
   "source": [
    "year = 2025\n",
    "\n",
    "# 100, 4, 400"
   ]
  },
  {
   "cell_type": "code",
   "execution_count": null,
   "id": "2c7d9dfc",
   "metadata": {},
   "outputs": [],
   "source": []
  },
  {
   "cell_type": "markdown",
   "id": "00ca7a0a",
   "metadata": {},
   "source": [
    "# Loop Concept"
   ]
  },
  {
   "cell_type": "code",
   "execution_count": 29,
   "id": "7cb420a7",
   "metadata": {},
   "outputs": [],
   "source": [
    "# flow control"
   ]
  },
  {
   "cell_type": "code",
   "execution_count": 30,
   "id": "1aee8bf7",
   "metadata": {},
   "outputs": [],
   "source": [
    "# while\n",
    "# for\n",
    "\n",
    "# # While\n",
    "# # For\n",
    "\n",
    "# do while\n",
    "# for each"
   ]
  },
  {
   "cell_type": "code",
   "execution_count": null,
   "id": "4dafde65",
   "metadata": {},
   "outputs": [],
   "source": []
  },
  {
   "cell_type": "code",
   "execution_count": null,
   "id": "0e7af7fb",
   "metadata": {},
   "outputs": [],
   "source": []
  },
  {
   "cell_type": "code",
   "execution_count": 34,
   "id": "e3a58207",
   "metadata": {},
   "outputs": [
    {
     "name": "stdout",
     "output_type": "stream",
     "text": [
      "Hello rashi, how are you?\n",
      "Hello komal, how are you?\n",
      "Hello ajay, how are you?\n",
      "Hello nitin, how are you?\n",
      "Hello arun, how are you?\n"
     ]
    }
   ],
   "source": [
    "students = ['rashi','komal','ajay','nitin','arun']\n",
    "\n",
    "\n",
    "for i in students:\n",
    "    print(f\"Hello {i}, how are you?\")"
   ]
  },
  {
   "cell_type": "code",
   "execution_count": 35,
   "id": "02fe974d",
   "metadata": {},
   "outputs": [
    {
     "name": "stdout",
     "output_type": "stream",
     "text": [
      "hello World\n",
      "hello World\n",
      "hello World\n",
      "hello World\n",
      "hello World\n",
      "hello World\n",
      "hello World\n",
      "hello World\n",
      "hello World\n",
      "hello World\n"
     ]
    }
   ],
   "source": [
    "print('hello World')\n",
    "print('hello World')\n",
    "print('hello World')\n",
    "print('hello World')\n",
    "print('hello World')\n",
    "print('hello World')\n",
    "print('hello World')\n",
    "print('hello World')\n",
    "print('hello World')\n",
    "print('hello World')"
   ]
  },
  {
   "cell_type": "code",
   "execution_count": 36,
   "id": "aa0541c7",
   "metadata": {},
   "outputs": [
    {
     "name": "stdout",
     "output_type": "stream",
     "text": [
      "Hello World\n",
      "Hello World\n",
      "Hello World\n",
      "Hello World\n",
      "Hello World\n",
      "Hello World\n",
      "Hello World\n",
      "Hello World\n",
      "Hello World\n",
      "Hello World\n",
      "\n"
     ]
    }
   ],
   "source": [
    "data = 'Hello World\\n'*10\n",
    "\n",
    "print(data)"
   ]
  },
  {
   "cell_type": "code",
   "execution_count": 39,
   "id": "a6bfb826",
   "metadata": {},
   "outputs": [
    {
     "name": "stdout",
     "output_type": "stream",
     "text": [
      "[1, 23, 467]\n",
      "[1, 23, 467]\n",
      "[1, 23, 467]\n",
      "[1, 23, 467]\n"
     ]
    }
   ],
   "source": [
    "data = [1,23,467]\n",
    "\n",
    "print(data)\n",
    "print(data)\n",
    "print(data)\n",
    "print(data)"
   ]
  },
  {
   "cell_type": "code",
   "execution_count": 40,
   "id": "f9ced39f",
   "metadata": {},
   "outputs": [],
   "source": [
    "# any task :- need to execute again and again"
   ]
  },
  {
   "cell_type": "code",
   "execution_count": 41,
   "id": "9ca40e65",
   "metadata": {},
   "outputs": [],
   "source": [
    "# for \n",
    "# while"
   ]
  },
  {
   "cell_type": "code",
   "execution_count": 43,
   "id": "1a4b31d6",
   "metadata": {},
   "outputs": [],
   "source": [
    "# for:- when we know the number of iterations, inshort kitni baar chalna hai"
   ]
  },
  {
   "cell_type": "code",
   "execution_count": 44,
   "id": "e0517318",
   "metadata": {},
   "outputs": [],
   "source": [
    "# while loop:- when we don't know when to stop, and stop only when condition satisfied\n",
    "\n",
    "\n"
   ]
  },
  {
   "cell_type": "code",
   "execution_count": 49,
   "id": "5f8bdb9c",
   "metadata": {},
   "outputs": [],
   "source": [
    "data = [1,243,5,324,567,23,4543,44,54,346]\n",
    "# iterator"
   ]
  },
  {
   "cell_type": "code",
   "execution_count": 51,
   "id": "56798a48",
   "metadata": {},
   "outputs": [
    {
     "name": "stdout",
     "output_type": "stream",
     "text": [
      "101\n",
      "343\n",
      "105\n",
      "424\n",
      "667\n",
      "123\n",
      "4643\n",
      "144\n",
      "154\n",
      "446\n"
     ]
    }
   ],
   "source": [
    "import time\n",
    "for i in data:\n",
    "    print(i+100)\n",
    "    time.sleep(1)"
   ]
  },
  {
   "cell_type": "code",
   "execution_count": 52,
   "id": "1e16a50a",
   "metadata": {},
   "outputs": [],
   "source": [
    "# temporary iterator"
   ]
  },
  {
   "cell_type": "code",
   "execution_count": 55,
   "id": "7491cc2d",
   "metadata": {},
   "outputs": [
    {
     "name": "stdout",
     "output_type": "stream",
     "text": [
      "h\n",
      "e\n",
      "l\n",
      "l\n",
      "o\n",
      " \n",
      "w\n",
      "o\n",
      "r\n",
      "l\n",
      "d\n"
     ]
    }
   ],
   "source": [
    "data = 'hello world'\n",
    "\n",
    "for kuchbhi in data:\n",
    "    print(kuchbhi)"
   ]
  },
  {
   "cell_type": "code",
   "execution_count": 56,
   "id": "0a705877",
   "metadata": {},
   "outputs": [
    {
     "name": "stdout",
     "output_type": "stream",
     "text": [
      "1\n",
      "235\n",
      "12\n",
      "3456\n"
     ]
    }
   ],
   "source": [
    "modiji = [1,235,12,3456]\n",
    "\n",
    "for modi in modiji:\n",
    "    print(modi)"
   ]
  },
  {
   "cell_type": "code",
   "execution_count": 57,
   "id": "06273acb",
   "metadata": {},
   "outputs": [],
   "source": [
    "# for temp_naam in collection_data:\n",
    "#     code block\n",
    "#     code block\n",
    "#     code block"
   ]
  },
  {
   "cell_type": "code",
   "execution_count": 58,
   "id": "7986e23e",
   "metadata": {},
   "outputs": [],
   "source": [
    "# data_types = list, tuple,dict,str,set,frozenset,range(),iterables\n",
    "# not allowed:- int,float,complex,None,bool"
   ]
  },
  {
   "cell_type": "code",
   "execution_count": 63,
   "id": "3b3decc0",
   "metadata": {},
   "outputs": [
    {
     "name": "stdout",
     "output_type": "stream",
     "text": [
      "12 x 1 = 12\n",
      "12 x 2 = 24\n",
      "12 x 3 = 36\n",
      "12 x 4 = 48\n",
      "12 x 5 = 60\n",
      "12 x 6 = 72\n",
      "12 x 7 = 84\n",
      "12 x 8 = 96\n",
      "12 x 9 = 108\n",
      "12 x 10 = 120\n"
     ]
    }
   ],
   "source": [
    "# table print\n",
    "\n",
    "table = 12\n",
    "data = [1,2,3,4,5,6,7,8,9,10]\n",
    "\n",
    "for i in data:\n",
    "    print(f\"{table} x {i} = {table*i}\")"
   ]
  },
  {
   "cell_type": "code",
   "execution_count": null,
   "id": "ff409222",
   "metadata": {},
   "outputs": [],
   "source": []
  },
  {
   "cell_type": "code",
   "execution_count": 66,
   "id": "0ac0a713",
   "metadata": {},
   "outputs": [
    {
     "data": {
      "text/plain": [
       "[1, 2, 3, 4, 5, 6, 7, 8, 9, 10]"
      ]
     },
     "execution_count": 66,
     "metadata": {},
     "output_type": "execute_result"
    }
   ],
   "source": [
    "list(range(1,11))"
   ]
  },
  {
   "cell_type": "code",
   "execution_count": 67,
   "id": "dde928f4",
   "metadata": {},
   "outputs": [
    {
     "name": "stdout",
     "output_type": "stream",
     "text": [
      "12 x 1 = 12\n",
      "12 x 2 = 24\n",
      "12 x 3 = 36\n",
      "12 x 4 = 48\n",
      "12 x 5 = 60\n",
      "12 x 6 = 72\n",
      "12 x 7 = 84\n",
      "12 x 8 = 96\n",
      "12 x 9 = 108\n",
      "12 x 10 = 120\n"
     ]
    }
   ],
   "source": [
    "# table print\n",
    "\n",
    "table = 12\n",
    "data = list(range(1,11))\n",
    "\n",
    "for i in data:\n",
    "    print(f\"{table} x {i} = {table*i}\")"
   ]
  },
  {
   "cell_type": "code",
   "execution_count": null,
   "id": "838dc9b0",
   "metadata": {},
   "outputs": [],
   "source": []
  },
  {
   "cell_type": "code",
   "execution_count": 68,
   "id": "7b60f200",
   "metadata": {},
   "outputs": [
    {
     "name": "stdout",
     "output_type": "stream",
     "text": [
      "12 x 1 = 12\n",
      "12 x 2 = 24\n",
      "12 x 3 = 36\n",
      "12 x 4 = 48\n",
      "12 x 5 = 60\n",
      "12 x 6 = 72\n",
      "12 x 7 = 84\n",
      "12 x 8 = 96\n",
      "12 x 9 = 108\n",
      "12 x 10 = 120\n"
     ]
    }
   ],
   "source": [
    "# table print\n",
    "\n",
    "table = 12\n",
    "\n",
    "for i in list(range(1,11)):\n",
    "    print(f\"{table} x {i} = {table*i}\")"
   ]
  },
  {
   "cell_type": "code",
   "execution_count": 71,
   "id": "3f19efa6",
   "metadata": {},
   "outputs": [
    {
     "name": "stdout",
     "output_type": "stream",
     "text": [
      "13 x 1 = 13\n",
      "13 x 2 = 26\n",
      "13 x 3 = 39\n",
      "13 x 4 = 52\n",
      "13 x 5 = 65\n",
      "13 x 6 = 78\n",
      "13 x 7 = 91\n",
      "13 x 8 = 104\n",
      "13 x 9 = 117\n",
      "13 x 10 = 130\n"
     ]
    }
   ],
   "source": [
    "# table print\n",
    "\n",
    "table = 13\n",
    "for i in range(1,11):\n",
    "    print(f\"{table} x {i} = {table*i}\")"
   ]
  },
  {
   "cell_type": "code",
   "execution_count": null,
   "id": "8ded4b03",
   "metadata": {},
   "outputs": [],
   "source": []
  },
  {
   "cell_type": "code",
   "execution_count": 74,
   "id": "9584eb5c",
   "metadata": {},
   "outputs": [
    {
     "name": "stdout",
     "output_type": "stream",
     "text": [
      "14 x 1 = 14\n",
      "14 x 2 = 28\n",
      "14 x 3 = 42\n",
      "14 x 4 = 56\n",
      "14 x 5 = 70\n",
      "14 x 6 = 84\n",
      "14 x 7 = 98\n",
      "14 x 8 = 112\n",
      "14 x 9 = 126\n",
      "14 x 10 = 140\n"
     ]
    }
   ],
   "source": [
    "table = 14\n",
    "i = 1\n",
    "while i<11:\n",
    "    print(f\"{table} x {i} = {table*i}\")\n",
    "    i+=1"
   ]
  },
  {
   "cell_type": "code",
   "execution_count": null,
   "id": "a0708c62",
   "metadata": {},
   "outputs": [],
   "source": []
  },
  {
   "cell_type": "code",
   "execution_count": 75,
   "id": "8726f7ec",
   "metadata": {},
   "outputs": [
    {
     "name": "stdout",
     "output_type": "stream",
     "text": [
      "1\n",
      "243\n",
      "45\n",
      "542\n",
      "15\n"
     ]
    }
   ],
   "source": [
    "# \n",
    "\n",
    "data = [1,243,45,542,15]\n",
    "\n",
    "for i in data:\n",
    "    print(i)"
   ]
  },
  {
   "cell_type": "code",
   "execution_count": null,
   "id": "71cf7143",
   "metadata": {},
   "outputs": [],
   "source": []
  },
  {
   "cell_type": "code",
   "execution_count": null,
   "id": "17d40d11",
   "metadata": {},
   "outputs": [],
   "source": []
  },
  {
   "cell_type": "code",
   "execution_count": 79,
   "id": "08511770",
   "metadata": {},
   "outputs": [
    {
     "name": "stdout",
     "output_type": "stream",
     "text": [
      "1\n",
      "243\n",
      "234\n",
      "45\n",
      "542\n",
      "15\n"
     ]
    }
   ],
   "source": [
    "# \n",
    "\n",
    "data = {1,243,45,234,542,15}\n",
    "\n",
    "for i in data:\n",
    "    print(i)"
   ]
  },
  {
   "cell_type": "code",
   "execution_count": null,
   "id": "0ba4475e",
   "metadata": {},
   "outputs": [],
   "source": []
  },
  {
   "cell_type": "code",
   "execution_count": 80,
   "id": "6f8012d9",
   "metadata": {},
   "outputs": [
    {
     "name": "stdout",
     "output_type": "stream",
     "text": [
      "1\n",
      "243\n",
      "45\n",
      "234\n",
      "542\n",
      "15\n"
     ]
    }
   ],
   "source": [
    "# \n",
    "\n",
    "data = (1,243,45,234,542,15)\n",
    "\n",
    "for i in data:\n",
    "    print(i)"
   ]
  },
  {
   "cell_type": "code",
   "execution_count": 81,
   "id": "5ac80299",
   "metadata": {},
   "outputs": [
    {
     "name": "stdout",
     "output_type": "stream",
     "text": [
      "{'Name': 'Mohan', 'age': 34, 'salary': 87648, 'Address': 'Noida'}\n"
     ]
    }
   ],
   "source": [
    "# dict\n",
    "\n",
    "data = {'Name':'Mohan','age':34,'salary':87648,'Address':'Noida'}\n",
    "\n",
    "print(data)"
   ]
  },
  {
   "cell_type": "code",
   "execution_count": 83,
   "id": "d4985894",
   "metadata": {},
   "outputs": [
    {
     "name": "stdout",
     "output_type": "stream",
     "text": [
      "Name\n",
      "age\n",
      "salary\n",
      "Address\n"
     ]
    }
   ],
   "source": [
    "for i in data:\n",
    "    print(i)"
   ]
  },
  {
   "cell_type": "code",
   "execution_count": 85,
   "id": "18011cb1",
   "metadata": {},
   "outputs": [
    {
     "data": {
      "text/plain": [
       "'Mohan'"
      ]
     },
     "execution_count": 85,
     "metadata": {},
     "output_type": "execute_result"
    }
   ],
   "source": [
    "data['Name']"
   ]
  },
  {
   "cell_type": "code",
   "execution_count": 87,
   "id": "7a59c61f",
   "metadata": {},
   "outputs": [
    {
     "name": "stdout",
     "output_type": "stream",
     "text": [
      "Mohan\n",
      "34\n",
      "87648\n",
      "Noida\n"
     ]
    }
   ],
   "source": [
    "for i in data:\n",
    "    print(data[i])"
   ]
  },
  {
   "cell_type": "code",
   "execution_count": null,
   "id": "077f2592",
   "metadata": {},
   "outputs": [],
   "source": []
  },
  {
   "cell_type": "code",
   "execution_count": 89,
   "id": "82183816",
   "metadata": {},
   "outputs": [
    {
     "name": "stdout",
     "output_type": "stream",
     "text": [
      "Name Mohan\n",
      "age 34\n",
      "salary 87648\n",
      "Address Noida\n"
     ]
    }
   ],
   "source": [
    "for i in data:\n",
    "    print(i,data[i])"
   ]
  },
  {
   "cell_type": "code",
   "execution_count": 90,
   "id": "6b5cb558",
   "metadata": {},
   "outputs": [
    {
     "data": {
      "text/plain": [
       "{'Name': 'Mohan', 'age': 34, 'salary': 87648, 'Address': 'Noida'}"
      ]
     },
     "execution_count": 90,
     "metadata": {},
     "output_type": "execute_result"
    }
   ],
   "source": [
    "data"
   ]
  },
  {
   "cell_type": "code",
   "execution_count": 91,
   "id": "63edf8a6",
   "metadata": {},
   "outputs": [
    {
     "data": {
      "text/plain": [
       "dict_items([('Name', 'Mohan'), ('age', 34), ('salary', 87648), ('Address', 'Noida')])"
      ]
     },
     "execution_count": 91,
     "metadata": {},
     "output_type": "execute_result"
    }
   ],
   "source": [
    "data.items()"
   ]
  },
  {
   "cell_type": "code",
   "execution_count": 92,
   "id": "4d18c2ae",
   "metadata": {},
   "outputs": [
    {
     "name": "stdout",
     "output_type": "stream",
     "text": [
      "('Name', 'Mohan')\n",
      "('age', 34)\n",
      "('salary', 87648)\n",
      "('Address', 'Noida')\n"
     ]
    }
   ],
   "source": [
    "for i in data.items():\n",
    "    print(i)"
   ]
  },
  {
   "cell_type": "code",
   "execution_count": null,
   "id": "ba0504b4",
   "metadata": {},
   "outputs": [],
   "source": []
  },
  {
   "cell_type": "code",
   "execution_count": 93,
   "id": "84d15e9e",
   "metadata": {},
   "outputs": [],
   "source": [
    "# n = 4\n",
    "\n",
    "# * * * *\n",
    "# * * * *\n",
    "# * * * *\n",
    "# * * * *"
   ]
  },
  {
   "cell_type": "code",
   "execution_count": 104,
   "id": "5d7b5021",
   "metadata": {},
   "outputs": [
    {
     "name": "stdout",
     "output_type": "stream",
     "text": [
      "* * * * * * * * * * * * * * \n",
      "* * * * * * * * * * * * * * \n",
      "* * * * * * * * * * * * * * \n",
      "* * * * * * * * * * * * * * \n",
      "* * * * * * * * * * * * * * \n",
      "* * * * * * * * * * * * * * \n",
      "* * * * * * * * * * * * * * \n",
      "* * * * * * * * * * * * * * \n",
      "* * * * * * * * * * * * * * \n",
      "* * * * * * * * * * * * * * \n",
      "* * * * * * * * * * * * * * \n",
      "* * * * * * * * * * * * * * \n",
      "* * * * * * * * * * * * * * \n",
      "* * * * * * * * * * * * * * \n"
     ]
    }
   ],
   "source": [
    "n = 14\n",
    "for i in range(n):\n",
    "    print('* ' * n)"
   ]
  },
  {
   "cell_type": "markdown",
   "id": "b14998b4",
   "metadata": {},
   "source": [
    "# Day 2"
   ]
  },
  {
   "cell_type": "code",
   "execution_count": 1,
   "id": "fafd0c92",
   "metadata": {},
   "outputs": [],
   "source": [
    "# For loop"
   ]
  },
  {
   "cell_type": "code",
   "execution_count": 2,
   "id": "0999736b",
   "metadata": {},
   "outputs": [],
   "source": [
    "# for with pass, continue, break\n",
    "# for with else\n",
    "# nested for loop\n",
    "# examples:- common element find\n",
    "# one liner for loop\n",
    "# list comphrension"
   ]
  },
  {
   "cell_type": "code",
   "execution_count": 3,
   "id": "589c4065",
   "metadata": {},
   "outputs": [],
   "source": [
    "# for with pass, continue, break"
   ]
  },
  {
   "cell_type": "code",
   "execution_count": 5,
   "id": "676239c9",
   "metadata": {},
   "outputs": [],
   "source": [
    "# pass, break, continue"
   ]
  },
  {
   "cell_type": "code",
   "execution_count": 8,
   "id": "5c0a0cc8",
   "metadata": {},
   "outputs": [
    {
     "name": "stdout",
     "output_type": "stream",
     "text": [
      "Square of 12 is 144\n",
      "Square of 34 is 1156\n",
      "Square of 12 is 144\n",
      "Square of 34 is 1156\n",
      "Square of 5 is 25\n",
      "Square of 36 is 1296\n"
     ]
    }
   ],
   "source": [
    "data = [12,34,12,34,5,36]\n",
    "\n",
    "for i in data:\n",
    "    print(f'Square of {i} is',i*i)"
   ]
  },
  {
   "cell_type": "code",
   "execution_count": 13,
   "id": "04acb310",
   "metadata": {},
   "outputs": [
    {
     "name": "stdout",
     "output_type": "stream",
     "text": [
      "Square of 12 is 144\n",
      "Square of 34 is 1156\n",
      "Square of 12 is 144\n",
      "Square of 5 is 25\n",
      "Square of 36 is 1296\n"
     ]
    }
   ],
   "source": [
    "# continue:- to skip that iteration\n",
    "\n",
    "data = [12,34,12,'Techvidya',5,36]\n",
    "\n",
    "for i in data:\n",
    "    if type(i) == int:\n",
    "        print(f'Square of {i} is',i*i)\n",
    "    else:\n",
    "        continue    #:- Skip "
   ]
  },
  {
   "cell_type": "code",
   "execution_count": 16,
   "id": "09cd8649",
   "metadata": {},
   "outputs": [],
   "source": [
    "fees_data = {'karan':False,'Mohan':True,'Ajay':False,'Deepak':True}\n",
    "\n",
    "study_data = {'Shivam':0,'Shanu':3, 'Khushbu':0, 'Rashi':1}"
   ]
  },
  {
   "cell_type": "code",
   "execution_count": 15,
   "id": "b511c669",
   "metadata": {},
   "outputs": [
    {
     "name": "stdout",
     "output_type": "stream",
     "text": [
      "1\n",
      "23\n",
      "56\n",
      "[12, 43, 5]\n"
     ]
    }
   ],
   "source": [
    "data = [1,23,56,[12,43,5]]\n",
    "\n",
    "for i in data:\n",
    "    print(i)"
   ]
  },
  {
   "cell_type": "code",
   "execution_count": null,
   "id": "0a26b256",
   "metadata": {},
   "outputs": [],
   "source": []
  },
  {
   "cell_type": "code",
   "execution_count": 19,
   "id": "20faf65b",
   "metadata": {},
   "outputs": [
    {
     "name": "stdout",
     "output_type": "stream",
     "text": [
      "Welcome Shanu\n",
      "Welcome Rashi\n"
     ]
    }
   ],
   "source": [
    "study_data = {'Shivam':0,'Shanu':3, 'Khushbu':0, 'Rashi':1}\n",
    "\n",
    "for i in study_data:\n",
    "    if study_data[i]<1:\n",
    "        continue\n",
    "    else:\n",
    "        print(f'Welcome {i}')"
   ]
  },
  {
   "cell_type": "code",
   "execution_count": null,
   "id": "a80498f9",
   "metadata": {},
   "outputs": [],
   "source": []
  },
  {
   "cell_type": "code",
   "execution_count": 21,
   "id": "c6e3555d",
   "metadata": {},
   "outputs": [
    {
     "name": "stdout",
     "output_type": "stream",
     "text": [
      "Passed\n",
      "Welcome Shanu\n",
      "Passed\n",
      "Welcome Rashi\n"
     ]
    }
   ],
   "source": [
    "study_data = {'Shivam':0,'Shanu':3, 'Khushbu':0, 'Rashi':1}\n",
    "\n",
    "for i in study_data:\n",
    "    if study_data[i]<1:\n",
    "        pass  #to pass that iteration\n",
    "        print('Passed')\n",
    "    else:\n",
    "        print(f'Welcome {i}')"
   ]
  },
  {
   "cell_type": "code",
   "execution_count": null,
   "id": "51439b3f",
   "metadata": {},
   "outputs": [],
   "source": []
  },
  {
   "cell_type": "code",
   "execution_count": 26,
   "id": "6dc6f395",
   "metadata": {},
   "outputs": [
    {
     "name": "stdout",
     "output_type": "stream",
     "text": [
      "Welcome Shanu\n",
      "Welcome Rashi\n"
     ]
    }
   ],
   "source": [
    "study_data = {'Shivam':0,'Shanu':3, 'Khushbu':0, 'Rashi':1}\n",
    "\n",
    "for i in study_data:\n",
    "    if study_data[i]<1:\n",
    "        continue\n",
    "        print('Done')\n",
    "        jhdhrfjvwberwfbvwhernijqe4ithjh\n",
    "        \n",
    "    else:\n",
    "        print(f'Welcome {i}')"
   ]
  },
  {
   "cell_type": "code",
   "execution_count": null,
   "id": "8f051e0c",
   "metadata": {},
   "outputs": [],
   "source": []
  },
  {
   "cell_type": "code",
   "execution_count": 28,
   "id": "c4fbd96a",
   "metadata": {},
   "outputs": [
    {
     "name": "stdout",
     "output_type": "stream",
     "text": [
      "Passed\n",
      "Welcome Shanu\n",
      "Passed\n",
      "Welcome Rashi\n"
     ]
    }
   ],
   "source": [
    "study_data = {'Shivam':0,'Shanu':3, 'Khushbu':0, 'Rashi':1}\n",
    "\n",
    "for i in study_data:\n",
    "    if study_data[i]<1:\n",
    "        pass  #to pass that iteration\n",
    "        print('Passed')\n",
    "        \n",
    "    else:\n",
    "        print(f'Welcome {i}')"
   ]
  },
  {
   "cell_type": "code",
   "execution_count": 30,
   "id": "84af9136",
   "metadata": {},
   "outputs": [],
   "source": [
    "# break :- break and exit the loop"
   ]
  },
  {
   "cell_type": "code",
   "execution_count": 35,
   "id": "c6d1a75d",
   "metadata": {},
   "outputs": [
    {
     "name": "stdout",
     "output_type": "stream",
     "text": [
      "Welcome buddy!! 12\n",
      "Welcome buddy!! 3\n",
      "Welcome buddy!! 42\n",
      "Welcome buddy!! 45\n",
      "Welcome buddy!! 5656\n"
     ]
    }
   ],
   "source": [
    "data = [12,3,42,45,5656,'bomb',2,35,4,4]\n",
    "\n",
    "for i in  data:\n",
    "    if i == 'bomb':\n",
    "        break\n",
    "        print('kjjcxgfguvg')\n",
    "    else:\n",
    "        print(f'Welcome buddy!! {i}')"
   ]
  },
  {
   "cell_type": "code",
   "execution_count": null,
   "id": "bbd1962f",
   "metadata": {},
   "outputs": [],
   "source": []
  },
  {
   "cell_type": "code",
   "execution_count": 36,
   "id": "eec0ff9d",
   "metadata": {},
   "outputs": [
    {
     "name": "stdout",
     "output_type": "stream",
     "text": [
      "Welcome buddy!! 12\n",
      "Welcome buddy!! 3\n",
      "Welcome buddy!! 42\n",
      "Welcome buddy!! 45\n",
      "Welcome buddy!! 5656\n",
      "Bomb❌💥Bomb!!\n"
     ]
    }
   ],
   "source": [
    "data = [12,3,42,45,5656,'bomb',2,35,4,4]\n",
    "\n",
    "for i in  data:\n",
    "    if i == 'bomb':\n",
    "        print('Bomb❌💥Bomb!!')\n",
    "        break\n",
    "    else:\n",
    "        print(f'Welcome buddy!! {i}')"
   ]
  },
  {
   "cell_type": "code",
   "execution_count": 37,
   "id": "ad4fbd06",
   "metadata": {},
   "outputs": [],
   "source": [
    "# continue, pass, break"
   ]
  },
  {
   "cell_type": "code",
   "execution_count": 39,
   "id": "003b4ad9",
   "metadata": {},
   "outputs": [
    {
     "name": "stdout",
     "output_type": "stream",
     "text": [
      "Welcome Shanu\n",
      "Welcome Rashi\n"
     ]
    }
   ],
   "source": [
    "study_data = {'Shivam':0,'Shanu':3, 'Khushbu':0, 'Rashi':1}\n",
    "\n",
    "for i in study_data:\n",
    "    if study_data[i]<1:\n",
    "        ...\n",
    "    else:\n",
    "        print(f'Welcome {i}')"
   ]
  },
  {
   "cell_type": "code",
   "execution_count": null,
   "id": "0bdf1eb1",
   "metadata": {},
   "outputs": [],
   "source": []
  },
  {
   "cell_type": "code",
   "execution_count": 40,
   "id": "25cce1fe",
   "metadata": {},
   "outputs": [],
   "source": [
    "# for with else"
   ]
  },
  {
   "cell_type": "code",
   "execution_count": 41,
   "id": "b3fecb06",
   "metadata": {},
   "outputs": [],
   "source": [
    "# if:\n",
    "#     kbjhb\n",
    "# else:\n",
    "#     jvjhb"
   ]
  },
  {
   "cell_type": "code",
   "execution_count": 42,
   "id": "f124352e",
   "metadata": {},
   "outputs": [],
   "source": [
    "# for:\n",
    "#     kbjk\n",
    "# else:\n",
    "#     jvhb"
   ]
  },
  {
   "cell_type": "code",
   "execution_count": 44,
   "id": "b1897aa8",
   "metadata": {},
   "outputs": [
    {
     "name": "stdout",
     "output_type": "stream",
     "text": [
      "1\n",
      "3\n",
      "5\n",
      "7\n",
      "9\n"
     ]
    }
   ],
   "source": [
    "for i in range(1,11,2):\n",
    "    print(i)"
   ]
  },
  {
   "cell_type": "code",
   "execution_count": 46,
   "id": "a4cfba9f",
   "metadata": {},
   "outputs": [
    {
     "name": "stdout",
     "output_type": "stream",
     "text": [
      "Else block will run only when for loop run completely\n"
     ]
    }
   ],
   "source": [
    "for i in range(1,11,2):\n",
    "    if i == 6:\n",
    "        print('Hey!! 6')\n",
    "        \n",
    "else:\n",
    "    print('Else block will run only when for loop run completely')"
   ]
  },
  {
   "cell_type": "code",
   "execution_count": null,
   "id": "1dac00d3",
   "metadata": {},
   "outputs": [],
   "source": []
  },
  {
   "cell_type": "code",
   "execution_count": 47,
   "id": "3997f16b",
   "metadata": {},
   "outputs": [
    {
     "name": "stdout",
     "output_type": "stream",
     "text": [
      "Hey!! 5\n",
      "Else block will run only when for loop run completely\n"
     ]
    }
   ],
   "source": [
    "for i in range(1,11,2):\n",
    "    if i == 5:\n",
    "        print('Hey!! 5')\n",
    "        \n",
    "else:\n",
    "    print('Else block will run only when for loop run completely')"
   ]
  },
  {
   "cell_type": "code",
   "execution_count": null,
   "id": "0fc5dfc7",
   "metadata": {},
   "outputs": [],
   "source": []
  },
  {
   "cell_type": "code",
   "execution_count": null,
   "id": "a610e04e",
   "metadata": {},
   "outputs": [],
   "source": []
  },
  {
   "cell_type": "code",
   "execution_count": 48,
   "id": "d01c9496",
   "metadata": {},
   "outputs": [
    {
     "name": "stdout",
     "output_type": "stream",
     "text": [
      "Hey!! 5\n"
     ]
    }
   ],
   "source": [
    "for i in range(1,11,2):\n",
    "    if i == 5:\n",
    "        print('Hey!! 5')\n",
    "        break\n",
    "        \n",
    "else:\n",
    "    print('Else block will run only when for loop run completely')"
   ]
  },
  {
   "cell_type": "code",
   "execution_count": null,
   "id": "18471dc2",
   "metadata": {},
   "outputs": [],
   "source": []
  },
  {
   "cell_type": "code",
   "execution_count": null,
   "id": "97ed091b",
   "metadata": {},
   "outputs": [],
   "source": []
  },
  {
   "cell_type": "code",
   "execution_count": 49,
   "id": "f534c2de",
   "metadata": {},
   "outputs": [
    {
     "name": "stdout",
     "output_type": "stream",
     "text": [
      "Else block will run only when for loop run completely\n"
     ]
    }
   ],
   "source": [
    "for i in range(1,11,2):\n",
    "    if i == 6:\n",
    "        print('Hey!! 6')\n",
    "        break\n",
    "        \n",
    "else:\n",
    "    print('Else block will run only when for loop run completely')"
   ]
  },
  {
   "cell_type": "code",
   "execution_count": null,
   "id": "f38f72b1",
   "metadata": {},
   "outputs": [],
   "source": []
  },
  {
   "cell_type": "code",
   "execution_count": 50,
   "id": "a9d871b6",
   "metadata": {},
   "outputs": [
    {
     "name": "stdout",
     "output_type": "stream",
     "text": [
      "Else block will run only when for loop run completely\n"
     ]
    }
   ],
   "source": [
    "for i in range(1,11,2):\n",
    "    if i == 6:\n",
    "        print('Hey!! 6')\n",
    "        pass\n",
    "        \n",
    "else:\n",
    "    print('Else block will run only when for loop run completely')"
   ]
  },
  {
   "cell_type": "code",
   "execution_count": 51,
   "id": "3bc29b94",
   "metadata": {},
   "outputs": [
    {
     "name": "stdout",
     "output_type": "stream",
     "text": [
      "Else block will run only when for loop run completely\n"
     ]
    }
   ],
   "source": [
    "for i in range(1,11,2):\n",
    "    if i == 6:\n",
    "        print('Hey!! 6')\n",
    "        continue\n",
    "        \n",
    "else:\n",
    "    print('Else block will run only when for loop run completely')"
   ]
  },
  {
   "cell_type": "code",
   "execution_count": null,
   "id": "70083951",
   "metadata": {},
   "outputs": [],
   "source": []
  },
  {
   "cell_type": "code",
   "execution_count": 53,
   "id": "828ab5c2",
   "metadata": {},
   "outputs": [],
   "source": [
    "# prime number:- divisible by number itself, and 1, atleast 2 divisible factor"
   ]
  },
  {
   "cell_type": "code",
   "execution_count": 54,
   "id": "8e25134a",
   "metadata": {},
   "outputs": [],
   "source": [
    "# 1:- prime number:- NO\n",
    "\n",
    "# prime number:- 2,3,5,7,11"
   ]
  },
  {
   "cell_type": "code",
   "execution_count": 65,
   "id": "f067b750",
   "metadata": {},
   "outputs": [
    {
     "name": "stdout",
     "output_type": "stream",
     "text": [
      "Not a Prime Number!!!\n"
     ]
    }
   ],
   "source": [
    "number = 876437\n",
    "\n",
    "\n",
    "for i in range(2,number):\n",
    "    if number % i == 0:\n",
    "        print('Not a Prime Number!!!')\n",
    "        break\n",
    "        \n",
    "else:\n",
    "    print('Prime number!!')"
   ]
  },
  {
   "cell_type": "code",
   "execution_count": 57,
   "id": "f755713a",
   "metadata": {},
   "outputs": [],
   "source": [
    "# 45 % 5 "
   ]
  },
  {
   "cell_type": "code",
   "execution_count": 63,
   "id": "96160bb1",
   "metadata": {},
   "outputs": [
    {
     "data": {
      "text/plain": [
       "8191.0"
      ]
     },
     "execution_count": 63,
     "metadata": {},
     "output_type": "execute_result"
    }
   ],
   "source": [
    "number / 107"
   ]
  },
  {
   "cell_type": "code",
   "execution_count": 64,
   "id": "c75a9bdb",
   "metadata": {},
   "outputs": [
    {
     "data": {
      "text/plain": [
       "876437"
      ]
     },
     "execution_count": 64,
     "metadata": {},
     "output_type": "execute_result"
    }
   ],
   "source": [
    "8191*107"
   ]
  },
  {
   "cell_type": "code",
   "execution_count": null,
   "id": "3cbada3d",
   "metadata": {},
   "outputs": [],
   "source": []
  },
  {
   "cell_type": "code",
   "execution_count": 66,
   "id": "7fb70028",
   "metadata": {},
   "outputs": [],
   "source": [
    "# nested for loop"
   ]
  },
  {
   "cell_type": "code",
   "execution_count": 72,
   "id": "324fd390",
   "metadata": {},
   "outputs": [],
   "source": [
    "# nested:- list, dict, tuple"
   ]
  },
  {
   "cell_type": "code",
   "execution_count": 73,
   "id": "d557c050",
   "metadata": {},
   "outputs": [],
   "source": [
    "# {1,243,6,[12,43,46]}"
   ]
  },
  {
   "cell_type": "code",
   "execution_count": 78,
   "id": "b840a7c3",
   "metadata": {},
   "outputs": [
    {
     "name": "stdout",
     "output_type": "stream",
     "text": [
      "Apple *\n",
      "Apple @\n",
      "Apple %\n",
      "Banana *\n",
      "Banana @\n",
      "Banana %\n",
      "Orange *\n",
      "Orange @\n",
      "Orange %\n",
      "papaya *\n",
      "papaya @\n",
      "papaya %\n"
     ]
    }
   ],
   "source": [
    "bag1 = ['Apple','Banana','Orange','papaya']\n",
    "\n",
    "bag2 = ['*','@','%']\n",
    "\n",
    "\n",
    "\n",
    "for i in bag1:  # outer loop\n",
    "    \n",
    "    for j in bag2:  # inner loop\n",
    "        print(i,j)"
   ]
  },
  {
   "cell_type": "code",
   "execution_count": 84,
   "id": "59035ce7",
   "metadata": {},
   "outputs": [
    {
     "data": {
      "text/plain": [
       "{12, 345}"
      ]
     },
     "execution_count": 84,
     "metadata": {},
     "output_type": "execute_result"
    }
   ],
   "source": [
    "comp_1 = [12,34,421,345,23,4567]\n",
    "comp_2 = [12,345,6,213,3467,234,5]\n",
    "\n",
    "\n",
    "set(comp_1).intersection(set(comp_2))"
   ]
  },
  {
   "cell_type": "code",
   "execution_count": 83,
   "id": "6e1356b7",
   "metadata": {},
   "outputs": [
    {
     "name": "stdout",
     "output_type": "stream",
     "text": [
      "[12, 345]\n"
     ]
    }
   ],
   "source": [
    "comp_1 = [12,34,421,345,23,4567]\n",
    "comp_2 = [12,345,6,213,3467,234,5]\n",
    "\n",
    "\n",
    "common_roll = []\n",
    "\n",
    "for i in comp_1:\n",
    "    for j in comp_2:\n",
    "        if i == j:\n",
    "            common_roll.append(i)\n",
    "            \n",
    "print(common_roll)"
   ]
  },
  {
   "cell_type": "code",
   "execution_count": 85,
   "id": "c991c15f",
   "metadata": {},
   "outputs": [],
   "source": [
    "# 3 list common find"
   ]
  },
  {
   "cell_type": "code",
   "execution_count": null,
   "id": "a3379c06",
   "metadata": {},
   "outputs": [],
   "source": []
  }
 ],
 "metadata": {
  "kernelspec": {
   "display_name": "Python 3 (ipykernel)",
   "language": "python",
   "name": "python3"
  },
  "language_info": {
   "codemirror_mode": {
    "name": "ipython",
    "version": 3
   },
   "file_extension": ".py",
   "mimetype": "text/x-python",
   "name": "python",
   "nbconvert_exporter": "python",
   "pygments_lexer": "ipython3",
   "version": "3.11.3"
  }
 },
 "nbformat": 4,
 "nbformat_minor": 5
}
