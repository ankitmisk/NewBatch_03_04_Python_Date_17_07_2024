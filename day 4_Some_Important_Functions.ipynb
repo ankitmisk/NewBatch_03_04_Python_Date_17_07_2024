{
 "cells": [
  {
   "cell_type": "code",
   "execution_count": 1,
   "id": "eca6b8b8",
   "metadata": {},
   "outputs": [],
   "source": [
    "# sum()\n",
    "# max()\n",
    "# min()\n",
    "# len()\n",
    "# eval()\n",
    "# exec()\n",
    "# input()\n",
    "# execfile()"
   ]
  },
  {
   "cell_type": "code",
   "execution_count": 2,
   "id": "fcdf377c",
   "metadata": {},
   "outputs": [],
   "source": [
    "# Road Map\n",
    "# String :- 2\n",
    "# list & tuple:-1\n",
    "# dict:-1\n",
    "# set:-1\n",
    "# if else:- 2\n",
    "# for loop:- 2\n",
    "# while loop:- 2\n",
    "# Pattern printing:- 1\n",
    "# functions:- 3\n",
    "# Modules:- 1.5\n",
    "# File handling:- 2\n",
    "# exception Handling:- 1\n",
    "# threading vs Processing:- 1\n",
    "# Oops:- 4\n",
    "# Mysql:- 4.5\n",
    "# webscrapping:- 2\n",
    "# Project:- 2"
   ]
  },
  {
   "cell_type": "markdown",
   "id": "5c1801d2",
   "metadata": {},
   "source": [
    "# Important Functions"
   ]
  },
  {
   "cell_type": "code",
   "execution_count": 3,
   "id": "2ad1e37d",
   "metadata": {},
   "outputs": [],
   "source": [
    "# sum()\n",
    "# max()\n",
    "# min()\n",
    "# len()\n",
    "# eval()\n",
    "# exec()\n",
    "# input()\n",
    "# execfile()"
   ]
  },
  {
   "cell_type": "code",
   "execution_count": 4,
   "id": "721b71f3",
   "metadata": {},
   "outputs": [
    {
     "name": "stdout",
     "output_type": "stream",
     "text": [
      "8037\n"
     ]
    }
   ],
   "source": [
    "sales = [1,233,54,3213,4536]\n",
    "\n",
    "total_sales = sum(sales)\n",
    "\n",
    "print(total_sales)"
   ]
  },
  {
   "cell_type": "code",
   "execution_count": 5,
   "id": "3b12828c",
   "metadata": {},
   "outputs": [],
   "source": [
    "sales = [1,233,54,3213,4536]\n",
    "\n",
    "# Avg_sales = total_sales/no_of_sales"
   ]
  },
  {
   "cell_type": "code",
   "execution_count": 8,
   "id": "4b54a6ac",
   "metadata": {},
   "outputs": [
    {
     "name": "stdout",
     "output_type": "stream",
     "text": [
      "5\n"
     ]
    }
   ],
   "source": [
    "no_of_sales = len(sales)\n",
    "\n",
    "print(no_of_sales)"
   ]
  },
  {
   "cell_type": "code",
   "execution_count": 9,
   "id": "d14bd858",
   "metadata": {},
   "outputs": [
    {
     "name": "stdout",
     "output_type": "stream",
     "text": [
      "1607.4\n"
     ]
    }
   ],
   "source": [
    "Avg_sales = total_sales/no_of_sales\n",
    "\n",
    "print(Avg_sales)"
   ]
  },
  {
   "cell_type": "code",
   "execution_count": 10,
   "id": "6027f3de",
   "metadata": {},
   "outputs": [
    {
     "data": {
      "text/plain": [
       "(977.4865-9j)"
      ]
     },
     "execution_count": 10,
     "metadata": {},
     "output_type": "execute_result"
    }
   ],
   "source": [
    "#  sum()\n",
    "\n",
    "a = [12,43,46,45.45,23.23,456.5765,343.23,8-9j]\n",
    "\n",
    "sum(a)"
   ]
  },
  {
   "cell_type": "code",
   "execution_count": 11,
   "id": "41e0b4a4",
   "metadata": {},
   "outputs": [
    {
     "data": {
      "text/plain": [
       "20"
      ]
     },
     "execution_count": 11,
     "metadata": {},
     "output_type": "execute_result"
    }
   ],
   "source": [
    "a = 'This is Python class'\n",
    "\n",
    "\n",
    "len(a)"
   ]
  },
  {
   "cell_type": "code",
   "execution_count": 15,
   "id": "74eefef4",
   "metadata": {},
   "outputs": [
    {
     "data": {
      "text/plain": [
       "6"
      ]
     },
     "execution_count": 15,
     "metadata": {},
     "output_type": "execute_result"
    }
   ],
   "source": [
    "a = 'Python'\n",
    "\n",
    "len(a)"
   ]
  },
  {
   "cell_type": "code",
   "execution_count": 16,
   "id": "9a212866",
   "metadata": {},
   "outputs": [],
   "source": [
    "# max()\n",
    "# min()"
   ]
  },
  {
   "cell_type": "code",
   "execution_count": 22,
   "id": "fc4502ad",
   "metadata": {},
   "outputs": [
    {
     "name": "stdout",
     "output_type": "stream",
     "text": [
      "5434\n",
      "12\n"
     ]
    }
   ],
   "source": [
    "sales = [1,234,321,34,532,13,3456,7,5434,32,56,2345]\n",
    "\n",
    "max_sales = max(sales)\n",
    "\n",
    "print(max_sales)\n",
    "\n",
    "print(len(sales))"
   ]
  },
  {
   "cell_type": "code",
   "execution_count": 23,
   "id": "a386c9a6",
   "metadata": {},
   "outputs": [],
   "source": [
    "import matplotlib.pyplot as plt"
   ]
  },
  {
   "cell_type": "code",
   "execution_count": 29,
   "id": "b7f64e8d",
   "metadata": {},
   "outputs": [
    {
     "data": {
      "image/png": "[encoded data removed]",
      "text/plain": [
       "<Figure size 640x480 with 1 Axes>"
      ]
     },
     "metadata": {},
     "output_type": "display_data"
    }
   ],
   "source": [
    "month_name = ['Jan','Feb','Mar','Apr','May','June',\"July\",'Aug','Sep',\n",
    "             'Oct','Nov','Dec']\n",
    "\n",
    "plt.plot(month_name,sales,color = 'r',marker = 'o')\n",
    "plt.show()"
   ]
  },
  {
   "cell_type": "code",
   "execution_count": 30,
   "id": "6a71dabf",
   "metadata": {},
   "outputs": [],
   "source": [
    "sales = [1435,234,321,34,532,13,3456,7,5434,32,56,2345]\n"
   ]
  },
  {
   "cell_type": "code",
   "execution_count": 31,
   "id": "7a584bc3",
   "metadata": {},
   "outputs": [
    {
     "data": {
      "text/plain": [
       "7"
      ]
     },
     "execution_count": 31,
     "metadata": {},
     "output_type": "execute_result"
    }
   ],
   "source": [
    "min(sales)"
   ]
  },
  {
   "cell_type": "code",
   "execution_count": 32,
   "id": "0564b7a3",
   "metadata": {},
   "outputs": [
    {
     "data": {
      "text/plain": [
       "'v'"
      ]
     },
     "execution_count": 32,
     "metadata": {},
     "output_type": "execute_result"
    }
   ],
   "source": [
    "data = 'this is java class'\n",
    "\n",
    "max(data)"
   ]
  },
  {
   "cell_type": "code",
   "execution_count": 33,
   "id": "2f80d785",
   "metadata": {},
   "outputs": [
    {
     "data": {
      "text/plain": [
       "' '"
      ]
     },
     "execution_count": 33,
     "metadata": {},
     "output_type": "execute_result"
    }
   ],
   "source": [
    "min(data)"
   ]
  },
  {
   "cell_type": "code",
   "execution_count": 34,
   "id": "d7c5c833",
   "metadata": {},
   "outputs": [],
   "source": [
    "# ord()\n",
    "# chr()"
   ]
  },
  {
   "cell_type": "code",
   "execution_count": 35,
   "id": "0fbdfea2",
   "metadata": {},
   "outputs": [
    {
     "data": {
      "text/plain": [
       "32"
      ]
     },
     "execution_count": 35,
     "metadata": {},
     "output_type": "execute_result"
    }
   ],
   "source": [
    "ord(' ')"
   ]
  },
  {
   "cell_type": "code",
   "execution_count": 36,
   "id": "e0b43fe9",
   "metadata": {},
   "outputs": [
    {
     "data": {
      "text/plain": [
       "104"
      ]
     },
     "execution_count": 36,
     "metadata": {},
     "output_type": "execute_result"
    }
   ],
   "source": [
    "ord('h')"
   ]
  },
  {
   "cell_type": "code",
   "execution_count": 37,
   "id": "165302a9",
   "metadata": {},
   "outputs": [
    {
     "data": {
      "text/plain": [
       "2309"
      ]
     },
     "execution_count": 37,
     "metadata": {},
     "output_type": "execute_result"
    }
   ],
   "source": [
    "ord('अ')"
   ]
  },
  {
   "cell_type": "code",
   "execution_count": 38,
   "id": "013d0fc4",
   "metadata": {},
   "outputs": [
    {
     "data": {
      "text/plain": [
       "'अ'"
      ]
     },
     "execution_count": 38,
     "metadata": {},
     "output_type": "execute_result"
    }
   ],
   "source": [
    "chr(2309)"
   ]
  },
  {
   "cell_type": "code",
   "execution_count": 39,
   "id": "d9884c44",
   "metadata": {},
   "outputs": [
    {
     "data": {
      "text/plain": [
       "'आ'"
      ]
     },
     "execution_count": 39,
     "metadata": {},
     "output_type": "execute_result"
    }
   ],
   "source": [
    "chr(2310)"
   ]
  },
  {
   "cell_type": "code",
   "execution_count": 40,
   "id": "b0d332bc",
   "metadata": {},
   "outputs": [
    {
     "data": {
      "text/plain": [
       "97"
      ]
     },
     "execution_count": 40,
     "metadata": {},
     "output_type": "execute_result"
    }
   ],
   "source": [
    "ord('a')"
   ]
  },
  {
   "cell_type": "code",
   "execution_count": 41,
   "id": "7dc03a3f",
   "metadata": {},
   "outputs": [
    {
     "data": {
      "text/plain": [
       "'a'"
      ]
     },
     "execution_count": 41,
     "metadata": {},
     "output_type": "execute_result"
    }
   ],
   "source": [
    "chr(97)"
   ]
  },
  {
   "cell_type": "code",
   "execution_count": 42,
   "id": "7aa7550f",
   "metadata": {},
   "outputs": [
    {
     "data": {
      "text/plain": [
       "'b'"
      ]
     },
     "execution_count": 42,
     "metadata": {},
     "output_type": "execute_result"
    }
   ],
   "source": [
    "chr(98)"
   ]
  },
  {
   "cell_type": "code",
   "execution_count": 43,
   "id": "b7d3a6c3",
   "metadata": {},
   "outputs": [
    {
     "data": {
      "text/plain": [
       "'c'"
      ]
     },
     "execution_count": 43,
     "metadata": {},
     "output_type": "execute_result"
    }
   ],
   "source": [
    "chr(99)"
   ]
  },
  {
   "cell_type": "code",
   "execution_count": 44,
   "id": "f4024a9e",
   "metadata": {},
   "outputs": [
    {
     "data": {
      "text/plain": [
       "128077"
      ]
     },
     "execution_count": 44,
     "metadata": {},
     "output_type": "execute_result"
    }
   ],
   "source": [
    "ord('👍')"
   ]
  },
  {
   "cell_type": "code",
   "execution_count": 51,
   "id": "b2805c95",
   "metadata": {},
   "outputs": [
    {
     "data": {
      "text/plain": [
       "'🐞'"
      ]
     },
     "execution_count": 51,
     "metadata": {},
     "output_type": "execute_result"
    }
   ],
   "source": [
    "chr(128030)"
   ]
  },
  {
   "cell_type": "code",
   "execution_count": 55,
   "id": "c6f681c2",
   "metadata": {},
   "outputs": [
    {
     "data": {
      "text/plain": [
       "'🐴'"
      ]
     },
     "execution_count": 55,
     "metadata": {},
     "output_type": "execute_result"
    }
   ],
   "source": [
    "chr(128052)"
   ]
  },
  {
   "cell_type": "code",
   "execution_count": 61,
   "id": "c1a55e9c",
   "metadata": {},
   "outputs": [],
   "source": [
    "# sum()\n",
    "# min()\n",
    "# max()\n",
    "# len()\n",
    "# ord()\n",
    "# chr()\n",
    "# id()\n",
    "# print()\n",
    "# round()\n",
    "# input()"
   ]
  },
  {
   "cell_type": "code",
   "execution_count": 60,
   "id": "595c5e83",
   "metadata": {},
   "outputs": [
    {
     "data": {
      "text/plain": [
       "345"
      ]
     },
     "execution_count": 60,
     "metadata": {},
     "output_type": "execute_result"
    }
   ],
   "source": [
    "a = 345.3456754\n",
    "\n",
    "round(a)"
   ]
  },
  {
   "cell_type": "code",
   "execution_count": 65,
   "id": "d08ba749",
   "metadata": {},
   "outputs": [
    {
     "name": "stdout",
     "output_type": "stream",
     "text": [
      "Enter your name: Google\n",
      "Hello Google How are you?\n"
     ]
    }
   ],
   "source": [
    "a = input('Enter your name: ')\n",
    "\n",
    "print('Hello',a,'How are you?')"
   ]
  },
  {
   "cell_type": "code",
   "execution_count": 66,
   "id": "289dccdd",
   "metadata": {},
   "outputs": [
    {
     "name": "stdout",
     "output_type": "stream",
     "text": [
      "Enter  number one: 10\n",
      "Enter number two: 25\n",
      "Enter number three: 95\n",
      "102595\n"
     ]
    }
   ],
   "source": [
    "# three numbers sum\n",
    "\n",
    "\n",
    "a = input('Enter  number one: ')\n",
    "\n",
    "b = input('Enter number two: ')\n",
    "\n",
    "c = input('Enter number three: ')\n",
    "\n",
    "\n",
    "\n",
    "\n",
    "print(a + b + c)"
   ]
  },
  {
   "cell_type": "code",
   "execution_count": 67,
   "id": "6232b6e0",
   "metadata": {},
   "outputs": [
    {
     "data": {
      "text/plain": [
       "'102595'"
      ]
     },
     "execution_count": 67,
     "metadata": {},
     "output_type": "execute_result"
    }
   ],
   "source": [
    "'10'  + '25'  + '95'"
   ]
  },
  {
   "cell_type": "code",
   "execution_count": null,
   "id": "60e78316",
   "metadata": {},
   "outputs": [],
   "source": []
  },
  {
   "cell_type": "code",
   "execution_count": null,
   "id": "dd325f06",
   "metadata": {},
   "outputs": [],
   "source": []
  },
  {
   "cell_type": "code",
   "execution_count": 68,
   "id": "a2e46ac4",
   "metadata": {},
   "outputs": [
    {
     "name": "stdout",
     "output_type": "stream",
     "text": [
      "Enter  number one: 10\n",
      "Enter number two: 25\n",
      "Enter number three: 95\n",
      "130\n"
     ]
    }
   ],
   "source": [
    "# three numbers sum\n",
    "\n",
    "\n",
    "a = int(input('Enter  number one: '))\n",
    "\n",
    "b = int(input('Enter number two: '))\n",
    "\n",
    "c = int(input('Enter number three: '))\n",
    "\n",
    "\n",
    "\n",
    "\n",
    "print(a + b + c)"
   ]
  },
  {
   "cell_type": "code",
   "execution_count": null,
   "id": "e1faecd8",
   "metadata": {},
   "outputs": [],
   "source": []
  },
  {
   "cell_type": "code",
   "execution_count": 69,
   "id": "9def7b4f",
   "metadata": {},
   "outputs": [],
   "source": [
    "# eval()\n",
    "# exec()\n",
    "# execfile()"
   ]
  },
  {
   "cell_type": "code",
   "execution_count": 71,
   "id": "3f8f878d",
   "metadata": {},
   "outputs": [
    {
     "name": "stdout",
     "output_type": "stream",
     "text": [
      "Enter you name: Komal Verma\n",
      "Enter your age: 19\n",
      "Enter your sec: A\n",
      "Enter your address: Greater Noida\n",
      "👍👍This is your Information👍👍\n",
      "\n",
      "\n",
      "\n",
      "Your name is Komal Verma\n",
      "Your age is 19\n",
      "Your address is Greater Noida\n",
      "Your Section is A\n"
     ]
    }
   ],
   "source": [
    "name = input('Enter you name: ')\n",
    "\n",
    "age = input('Enter your age: ')\n",
    "\n",
    "sec = input('Enter your sec: ')\n",
    "\n",
    "address = input('Enter your address: ')\n",
    "\n",
    "\n",
    "print('👍👍This is your Information👍👍')   # emoji shortcut:- winkey + .\n",
    "\n",
    "\n",
    "print()\n",
    "print()\n",
    "print()\n",
    "\n",
    "print('Your name is',name)\n",
    "print('Your age is',age)\n",
    "print('Your address is',address)\n",
    "print('Your Section is',sec)"
   ]
  },
  {
   "cell_type": "code",
   "execution_count": null,
   "id": "1056032d",
   "metadata": {},
   "outputs": [],
   "source": []
  },
  {
   "cell_type": "code",
   "execution_count": null,
   "id": "ad4dcd60",
   "metadata": {},
   "outputs": [],
   "source": []
  },
  {
   "cell_type": "code",
   "execution_count": 73,
   "id": "bf8cf462",
   "metadata": {},
   "outputs": [
    {
     "data": {
      "text/plain": [
       "15"
      ]
     },
     "execution_count": 73,
     "metadata": {},
     "output_type": "execute_result"
    }
   ],
   "source": [
    "# eval():- evaluate at run time\n",
    "\n",
    "\n",
    "eval('5+10')\n",
    "\n"
   ]
  },
  {
   "cell_type": "code",
   "execution_count": 74,
   "id": "4cde3299",
   "metadata": {},
   "outputs": [
    {
     "data": {
      "text/plain": [
       "50"
      ]
     },
     "execution_count": 74,
     "metadata": {},
     "output_type": "execute_result"
    }
   ],
   "source": [
    "eval('2*4*5-10+20')"
   ]
  },
  {
   "cell_type": "code",
   "execution_count": 75,
   "id": "c8d2a3e9",
   "metadata": {},
   "outputs": [
    {
     "name": "stdout",
     "output_type": "stream",
     "text": [
      "Calculate here: 45*60+20-50/5\n",
      "\n",
      "\n",
      "Your answer is 2710.0\n"
     ]
    }
   ],
   "source": [
    "ans = eval(input('Calculate here: '))\n",
    "\n",
    "\n",
    "print()\n",
    "print()\n",
    "\n",
    "print('Your answer is',ans)"
   ]
  },
  {
   "cell_type": "code",
   "execution_count": null,
   "id": "24e22b20",
   "metadata": {},
   "outputs": [],
   "source": []
  },
  {
   "cell_type": "code",
   "execution_count": null,
   "id": "33c1c82b",
   "metadata": {},
   "outputs": [],
   "source": []
  },
  {
   "cell_type": "code",
   "execution_count": 76,
   "id": "b3e04094",
   "metadata": {},
   "outputs": [],
   "source": [
    "# exec()"
   ]
  },
  {
   "cell_type": "code",
   "execution_count": 77,
   "id": "ae9b3e95",
   "metadata": {},
   "outputs": [
    {
     "name": "stdout",
     "output_type": "stream",
     "text": [
      "name = \"shanu\";age = 23\n"
     ]
    }
   ],
   "source": [
    "a = 'name = \"shanu\";age = 23'\n",
    "\n",
    "print(a)"
   ]
  },
  {
   "cell_type": "code",
   "execution_count": 78,
   "id": "edf36ff1",
   "metadata": {},
   "outputs": [
    {
     "name": "stdout",
     "output_type": "stream",
     "text": [
      "Komal Verma\n"
     ]
    }
   ],
   "source": [
    "print(name)"
   ]
  },
  {
   "cell_type": "code",
   "execution_count": 79,
   "id": "63e999c9",
   "metadata": {},
   "outputs": [
    {
     "name": "stdout",
     "output_type": "stream",
     "text": [
      "19\n"
     ]
    }
   ],
   "source": [
    "print(age)"
   ]
  },
  {
   "cell_type": "code",
   "execution_count": 80,
   "id": "c24fb90c",
   "metadata": {},
   "outputs": [],
   "source": [
    "exec(a)"
   ]
  },
  {
   "cell_type": "code",
   "execution_count": 81,
   "id": "ca02186b",
   "metadata": {},
   "outputs": [
    {
     "name": "stdout",
     "output_type": "stream",
     "text": [
      "shanu\n"
     ]
    }
   ],
   "source": [
    "print(name)"
   ]
  },
  {
   "cell_type": "code",
   "execution_count": 82,
   "id": "364238f4",
   "metadata": {},
   "outputs": [
    {
     "name": "stdout",
     "output_type": "stream",
     "text": [
      "23\n"
     ]
    }
   ],
   "source": [
    "print(age)"
   ]
  },
  {
   "cell_type": "code",
   "execution_count": null,
   "id": "a17ac6ef",
   "metadata": {},
   "outputs": [],
   "source": []
  },
  {
   "cell_type": "code",
   "execution_count": 84,
   "id": "eed70822",
   "metadata": {},
   "outputs": [],
   "source": [
    "# sum()\n",
    "# min()\n",
    "# max()\n",
    "# len()\n",
    "# ord()\n",
    "# chr()\n",
    "# id()\n",
    "# print()\n",
    "# round()\n",
    "# input()\n",
    "# eval()\n",
    "# exec()\n",
    "# execfile()"
   ]
  },
  {
   "cell_type": "code",
   "execution_count": 85,
   "id": "be7eb918",
   "metadata": {},
   "outputs": [],
   "source": [
    "# music:- .mp3\n",
    "# movie:- .mp4\n",
    "# photo:- .jpg/jpeg"
   ]
  },
  {
   "cell_type": "code",
   "execution_count": 86,
   "id": "b68d8ab5",
   "metadata": {},
   "outputs": [],
   "source": [
    "# python code:- .py"
   ]
  },
  {
   "cell_type": "code",
   "execution_count": null,
   "id": "24e45354",
   "metadata": {},
   "outputs": [],
   "source": []
  },
  {
   "cell_type": "code",
   "execution_count": null,
   "id": "364113c7",
   "metadata": {},
   "outputs": [],
   "source": []
  },
  {
   "cell_type": "code",
   "execution_count": 87,
   "id": "6c0b8c78",
   "metadata": {},
   "outputs": [
    {
     "name": "stdout",
     "output_type": "stream",
     "text": [
      "Enter your name: Aman Verma\n",
      "Hello Aman Verma How are you??\n",
      "We are in Techvidya\n",
      "We are learning Python!!\n",
      "Bye Bye!!👍👍\n"
     ]
    }
   ],
   "source": [
    "execfile('shanu.py')"
   ]
  },
  {
   "cell_type": "code",
   "execution_count": 3,
   "id": "be6baf2d",
   "metadata": {},
   "outputs": [
    {
     "name": "stdout",
     "output_type": "stream",
     "text": [
      "  _____\n",
      "| Hello |\n",
      "  =====\n",
      "     \\\n",
      "      \\\n",
      "        ^__^\n",
      "        (oo)\\_______\n",
      "        (__)\\       )\\/\\\n",
      "            ||----w |\n",
      "            ||     ||\n"
     ]
    }
   ],
   "source": [
    "import cowsay\n",
    "cowsay.cow('Hello')"
   ]
  },
  {
   "cell_type": "code",
   "execution_count": null,
   "id": "d79a61ba",
   "metadata": {},
   "outputs": [],
   "source": []
  }
 ],
 "metadata": {
  "kernelspec": {
   "display_name": "Python 3 (ipykernel)",
   "language": "python",
   "name": "python3"
  },
  "language_info": {
   "codemirror_mode": {
    "name": "ipython",
    "version": 3
   },
   "file_extension": ".py",
   "mimetype": "text/x-python",
   "name": "python",
   "nbconvert_exporter": "python",
   "pygments_lexer": "ipython3",
   "version": "3.11.3"
  }
 },
 "nbformat": 4,
 "nbformat_minor": 5
}
