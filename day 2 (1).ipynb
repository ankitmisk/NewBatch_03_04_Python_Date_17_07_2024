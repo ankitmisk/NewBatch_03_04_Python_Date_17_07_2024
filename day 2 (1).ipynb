{
 "cells": [
  {
   "cell_type": "code",
   "execution_count": 1,
   "id": "c65cf09e",
   "metadata": {},
   "outputs": [],
   "source": [
    "# # variables"
   ]
  },
  {
   "cell_type": "code",
   "execution_count": 2,
   "id": "76a445f7",
   "metadata": {},
   "outputs": [
    {
     "name": "stdout",
     "output_type": "stream",
     "text": [
      "2345\n"
     ]
    }
   ],
   "source": [
    "a = 2345\n",
    "print(a)"
   ]
  },
  {
   "cell_type": "code",
   "execution_count": 3,
   "id": "bbed967e",
   "metadata": {},
   "outputs": [
    {
     "ename": "SyntaxError",
     "evalue": "invalid syntax (1204665617.py, line 1)",
     "output_type": "error",
     "traceback": [
      "\u001b[1;36m  Cell \u001b[1;32mIn[3], line 1\u001b[1;36m\u001b[0m\n\u001b[1;33m    full name = 'komal verma'\u001b[0m\n\u001b[1;37m         ^\u001b[0m\n\u001b[1;31mSyntaxError\u001b[0m\u001b[1;31m:\u001b[0m invalid syntax\n"
     ]
    }
   ],
   "source": [
    "full name = 'komal verma'\n",
    "\n",
    "print(full name)"
   ]
  },
  {
   "cell_type": "code",
   "execution_count": 4,
   "id": "6a49e93a",
   "metadata": {},
   "outputs": [
    {
     "ename": "SyntaxError",
     "evalue": "invalid decimal literal (3118103047.py, line 3)",
     "output_type": "error",
     "traceback": [
      "\u001b[1;36m  Cell \u001b[1;32mIn[4], line 3\u001b[1;36m\u001b[0m\n\u001b[1;33m    123fg = 'harry'\u001b[0m\n\u001b[1;37m      ^\u001b[0m\n\u001b[1;31mSyntaxError\u001b[0m\u001b[1;31m:\u001b[0m invalid decimal literal\n"
     ]
    }
   ],
   "source": [
    "# 1>>:- It must not starts with digit\n",
    "\n",
    "123fg = 'harry'\n",
    "\n",
    "print(123fg)"
   ]
  },
  {
   "cell_type": "code",
   "execution_count": 5,
   "id": "0d0e4417",
   "metadata": {},
   "outputs": [
    {
     "ename": "SyntaxError",
     "evalue": "cannot assign to expression here. Maybe you meant '==' instead of '='? (4121748054.py, line 5)",
     "output_type": "error",
     "traceback": [
      "\u001b[1;36m  Cell \u001b[1;32mIn[5], line 5\u001b[1;36m\u001b[0m\n\u001b[1;33m    ajay@noida = 'Noida'\u001b[0m\n\u001b[1;37m    ^\u001b[0m\n\u001b[1;31mSyntaxError\u001b[0m\u001b[1;31m:\u001b[0m cannot assign to expression here. Maybe you meant '==' instead of '='?\n"
     ]
    }
   ],
   "source": [
    "# 2>> it can not contain any special characters except underscore\n",
    "\n",
    "# ~!@$%^&*()-+=[]{}\n",
    "\n",
    "ajay@noida = 'Noida'\n",
    "\n",
    "print(ajay@noida)"
   ]
  },
  {
   "cell_type": "code",
   "execution_count": 6,
   "id": "629d5393",
   "metadata": {},
   "outputs": [
    {
     "name": "stdout",
     "output_type": "stream",
     "text": [
      "Noida\n"
     ]
    }
   ],
   "source": [
    "ajaynoida = 'Noida'\n",
    "\n",
    "print(ajaynoida)"
   ]
  },
  {
   "cell_type": "code",
   "execution_count": 8,
   "id": "e62a0f70",
   "metadata": {},
   "outputs": [
    {
     "ename": "SyntaxError",
     "evalue": "invalid syntax (179556156.py, line 3)",
     "output_type": "error",
     "traceback": [
      "\u001b[1;36m  Cell \u001b[1;32mIn[8], line 3\u001b[1;36m\u001b[0m\n\u001b[1;33m    employee name = 'karan sharma'\u001b[0m\n\u001b[1;37m             ^\u001b[0m\n\u001b[1;31mSyntaxError\u001b[0m\u001b[1;31m:\u001b[0m invalid syntax\n"
     ]
    }
   ],
   "source": [
    "# 3>> it must not contain any white spaces\n",
    "\n",
    "employee name = 'karan sharma'\n",
    "\n",
    "print(employee name)"
   ]
  },
  {
   "cell_type": "code",
   "execution_count": 11,
   "id": "83f460be",
   "metadata": {},
   "outputs": [
    {
     "name": "stdout",
     "output_type": "stream",
     "text": [
      "Komal verma\n"
     ]
    }
   ],
   "source": [
    "# 4>> variable can contain underscore:- starts, end, middle\n",
    "\n",
    "employee_name  = 'Komal verma'\n",
    "\n",
    "print(employee_name)"
   ]
  },
  {
   "cell_type": "code",
   "execution_count": 12,
   "id": "9dd05f0a",
   "metadata": {},
   "outputs": [
    {
     "name": "stdout",
     "output_type": "stream",
     "text": [
      "tinku sir\n"
     ]
    }
   ],
   "source": [
    "# 5>> python variable is case sensitive\n",
    "\n",
    "name = 'tinku sir'\n",
    "\n",
    "print(name)"
   ]
  },
  {
   "cell_type": "code",
   "execution_count": 13,
   "id": "6fac8a4f",
   "metadata": {},
   "outputs": [
    {
     "name": "stdout",
     "output_type": "stream",
     "text": [
      "tinku ji\n"
     ]
    }
   ],
   "source": [
    "Name = 'tinku ji'\n",
    "\n",
    "print(Name)"
   ]
  },
  {
   "cell_type": "code",
   "execution_count": 14,
   "id": "f9e14ef0",
   "metadata": {},
   "outputs": [
    {
     "name": "stdout",
     "output_type": "stream",
     "text": [
      "tinku sir\n"
     ]
    }
   ],
   "source": [
    "print(name)"
   ]
  },
  {
   "cell_type": "code",
   "execution_count": 15,
   "id": "1002da4e",
   "metadata": {},
   "outputs": [
    {
     "name": "stdout",
     "output_type": "stream",
     "text": [
      "tinku ji\n"
     ]
    }
   ],
   "source": [
    "print(Name)"
   ]
  },
  {
   "cell_type": "code",
   "execution_count": 16,
   "id": "ed145b70",
   "metadata": {},
   "outputs": [
    {
     "name": "stdout",
     "output_type": "stream",
     "text": [
      "komal\n"
     ]
    }
   ],
   "source": [
    "# 6:- we can use digit after second position of variable\n",
    "\n",
    "n1 = 'komal'\n",
    "b2 = 'ajay'\n",
    "\n",
    "print(n1)"
   ]
  },
  {
   "cell_type": "code",
   "execution_count": 17,
   "id": "788f3bad",
   "metadata": {},
   "outputs": [
    {
     "name": "stdout",
     "output_type": "stream",
     "text": [
      "ajay\n"
     ]
    }
   ],
   "source": [
    "print(b2)"
   ]
  },
  {
   "cell_type": "code",
   "execution_count": 18,
   "id": "704d77ce",
   "metadata": {},
   "outputs": [
    {
     "name": "stdout",
     "output_type": "stream",
     "text": [
      "\n",
      "Here is a list of the Python keywords.  Enter any keyword to get more help.\n",
      "\n",
      "False               class               from                or\n",
      "None                continue            global              pass\n",
      "True                def                 if                  raise\n",
      "and                 del                 import              return\n",
      "as                  elif                in                  try\n",
      "assert              else                is                  while\n",
      "async               except              lambda              with\n",
      "await               finally             nonlocal            yield\n",
      "break               for                 not                 \n",
      "\n"
     ]
    }
   ],
   "source": [
    "# 7>> we can not use reserved keywords\n",
    "\n",
    "help('keywords')"
   ]
  },
  {
   "cell_type": "code",
   "execution_count": 20,
   "id": "9d52c171",
   "metadata": {},
   "outputs": [
    {
     "ename": "SyntaxError",
     "evalue": "invalid syntax (1245411944.py, line 1)",
     "output_type": "error",
     "traceback": [
      "\u001b[1;36m  Cell \u001b[1;32mIn[20], line 1\u001b[1;36m\u001b[0m\n\u001b[1;33m    await  = 'tinku sir'\u001b[0m\n\u001b[1;37m           ^\u001b[0m\n\u001b[1;31mSyntaxError\u001b[0m\u001b[1;31m:\u001b[0m invalid syntax\n"
     ]
    }
   ],
   "source": [
    "await  = 'tinku sir'\n",
    "\n",
    "print(await)"
   ]
  },
  {
   "cell_type": "code",
   "execution_count": 21,
   "id": "b8de2a0d",
   "metadata": {},
   "outputs": [],
   "source": [
    "# 1>>:- It must not starts with digit\n",
    "# 2>> it can not contain any special characters except underscore\n",
    "# 3>> it must not contain any white spaces\n",
    "# 4>> variable can contain underscore:- starts, end, middle\n",
    "# 5>> python variable is case sensitive\n",
    "# 6:- we can use digit after second position of variable\n",
    "# 7>> we can not use reserved keywords"
   ]
  },
  {
   "cell_type": "code",
   "execution_count": null,
   "id": "db1dc19d",
   "metadata": {},
   "outputs": [],
   "source": []
  },
  {
   "cell_type": "code",
   "execution_count": null,
   "id": "079a26ed",
   "metadata": {},
   "outputs": [],
   "source": []
  },
  {
   "cell_type": "code",
   "execution_count": 22,
   "id": "898fc87a",
   "metadata": {},
   "outputs": [],
   "source": [
    "# operators"
   ]
  },
  {
   "cell_type": "code",
   "execution_count": 24,
   "id": "e77c95e6",
   "metadata": {},
   "outputs": [
    {
     "name": "stdout",
     "output_type": "stream",
     "text": [
      "55\n"
     ]
    }
   ],
   "source": [
    "a = 45\n",
    "b = 10\n",
    "\n",
    "\n",
    "print(a + b)  # operands:- += operator"
   ]
  },
  {
   "cell_type": "code",
   "execution_count": 25,
   "id": "0859fb7d",
   "metadata": {},
   "outputs": [],
   "source": [
    "# # arithmetic op\n",
    "# +,\n",
    "# -\n",
    "# *\n",
    "# /\n",
    "# %\n",
    "# **\n",
    "# //"
   ]
  },
  {
   "cell_type": "code",
   "execution_count": 26,
   "id": "b0f8a3b0",
   "metadata": {},
   "outputs": [
    {
     "name": "stdout",
     "output_type": "stream",
     "text": [
      "11\n"
     ]
    }
   ],
   "source": [
    "a = 34\n",
    "b = 45\n",
    "\n",
    "print(b - a)"
   ]
  },
  {
   "cell_type": "code",
   "execution_count": 27,
   "id": "9b481aef",
   "metadata": {},
   "outputs": [
    {
     "name": "stdout",
     "output_type": "stream",
     "text": [
      "1530\n"
     ]
    }
   ],
   "source": [
    "a = 34\n",
    "b = 45\n",
    "\n",
    "print( a * b)"
   ]
  },
  {
   "cell_type": "code",
   "execution_count": 29,
   "id": "509ec93d",
   "metadata": {},
   "outputs": [
    {
     "name": "stdout",
     "output_type": "stream",
     "text": [
      "9.0\n"
     ]
    }
   ],
   "source": [
    "a = 36\n",
    "b = 4\n",
    "\n",
    "print(a / b)  # normal div:- float"
   ]
  },
  {
   "cell_type": "code",
   "execution_count": 31,
   "id": "e109f031",
   "metadata": {},
   "outputs": [
    {
     "name": "stdout",
     "output_type": "stream",
     "text": [
      "9\n"
     ]
    }
   ],
   "source": [
    "a = 36\n",
    "b = 4\n",
    "\n",
    "print(a // b)  # floor division:- int"
   ]
  },
  {
   "cell_type": "code",
   "execution_count": 35,
   "id": "44caa7d4",
   "metadata": {},
   "outputs": [
    {
     "name": "stdout",
     "output_type": "stream",
     "text": [
      "256\n"
     ]
    }
   ],
   "source": [
    "# **:- power, exponent\n",
    "\n",
    "a = 4\n",
    "\n",
    "print(a ** 4)"
   ]
  },
  {
   "cell_type": "code",
   "execution_count": 36,
   "id": "69fdcba2",
   "metadata": {},
   "outputs": [],
   "source": [
    "# 4 * 4 * 4 * 4"
   ]
  },
  {
   "cell_type": "code",
   "execution_count": 38,
   "id": "0f5fa121",
   "metadata": {},
   "outputs": [
    {
     "name": "stdout",
     "output_type": "stream",
     "text": [
      "2\n"
     ]
    }
   ],
   "source": [
    "# % modulus division:- remainder\n",
    "\n",
    "a = 51\n",
    "\n",
    "b = 7\n",
    "\n",
    "print(a % b)"
   ]
  },
  {
   "cell_type": "code",
   "execution_count": 40,
   "id": "646ff857",
   "metadata": {},
   "outputs": [],
   "source": [
    "# op:- comparison op:- relational op\n",
    "# <\n",
    "# >\n",
    "# <=\n",
    "# >=\n",
    "# !=\n",
    "# =="
   ]
  },
  {
   "cell_type": "code",
   "execution_count": 41,
   "id": "1d0fd0de",
   "metadata": {},
   "outputs": [
    {
     "name": "stdout",
     "output_type": "stream",
     "text": [
      "True\n"
     ]
    }
   ],
   "source": [
    "# bool:- True/False\n",
    "a = 34\n",
    "b = 45\n",
    "\n",
    "print(a < b)"
   ]
  },
  {
   "cell_type": "code",
   "execution_count": 42,
   "id": "44f275ba",
   "metadata": {},
   "outputs": [
    {
     "name": "stdout",
     "output_type": "stream",
     "text": [
      "False\n"
     ]
    }
   ],
   "source": [
    "a = 34\n",
    "b = 45\n",
    "\n",
    "print(a > b)"
   ]
  },
  {
   "cell_type": "code",
   "execution_count": 43,
   "id": "2807e428",
   "metadata": {},
   "outputs": [
    {
     "name": "stdout",
     "output_type": "stream",
     "text": [
      "False\n"
     ]
    }
   ],
   "source": [
    "a = 34\n",
    "b = 45\n",
    "\n",
    "print(a >= b)"
   ]
  },
  {
   "cell_type": "code",
   "execution_count": 44,
   "id": "e7ccb7ee",
   "metadata": {},
   "outputs": [
    {
     "name": "stdout",
     "output_type": "stream",
     "text": [
      "True\n"
     ]
    }
   ],
   "source": [
    "a = 34\n",
    "b = 45\n",
    "\n",
    "print(a <= b)"
   ]
  },
  {
   "cell_type": "code",
   "execution_count": 46,
   "id": "a338e7d5",
   "metadata": {},
   "outputs": [
    {
     "name": "stdout",
     "output_type": "stream",
     "text": [
      "True\n"
     ]
    }
   ],
   "source": [
    "a = 34\n",
    "b = 34\n",
    "\n",
    "print(a == b)"
   ]
  },
  {
   "cell_type": "code",
   "execution_count": 47,
   "id": "351d7c52",
   "metadata": {},
   "outputs": [
    {
     "name": "stdout",
     "output_type": "stream",
     "text": [
      "True\n"
     ]
    }
   ],
   "source": [
    "a = 34\n",
    "b = 45\n",
    "\n",
    "print(a != b)"
   ]
  },
  {
   "cell_type": "code",
   "execution_count": null,
   "id": "8bf33214",
   "metadata": {},
   "outputs": [],
   "source": []
  },
  {
   "cell_type": "code",
   "execution_count": null,
   "id": "d9e5ca66",
   "metadata": {},
   "outputs": [],
   "source": []
  },
  {
   "cell_type": "code",
   "execution_count": 48,
   "id": "dd5e9e19",
   "metadata": {},
   "outputs": [
    {
     "data": {
      "text/plain": [
       "True"
      ]
     },
     "execution_count": 48,
     "metadata": {},
     "output_type": "execute_result"
    }
   ],
   "source": [
    "# membership:in, not in\n",
    "a = ['karan','komal','ravi','sahil','naman']\n",
    "\n",
    "'komal' in a"
   ]
  },
  {
   "cell_type": "code",
   "execution_count": 49,
   "id": "31a4bde5",
   "metadata": {},
   "outputs": [
    {
     "data": {
      "text/plain": [
       "False"
      ]
     },
     "execution_count": 49,
     "metadata": {},
     "output_type": "execute_result"
    }
   ],
   "source": [
    "'Ravi' in a"
   ]
  },
  {
   "cell_type": "code",
   "execution_count": 51,
   "id": "1ba1ba99",
   "metadata": {},
   "outputs": [
    {
     "data": {
      "text/plain": [
       "True"
      ]
     },
     "execution_count": 51,
     "metadata": {},
     "output_type": "execute_result"
    }
   ],
   "source": [
    "'modi' not in a"
   ]
  },
  {
   "cell_type": "code",
   "execution_count": null,
   "id": "9d5f70e7",
   "metadata": {},
   "outputs": [],
   "source": [
    "# identity op\n",
    "# logical op\n",
    "# assignment op\n",
    "# bitwise"
   ]
  },
  {
   "attachments": {
    "images.jpg": {
     "image/jpeg": "[encoded data removed]"
    }
   },
   "cell_type": "markdown",
   "id": "a68432ae",
   "metadata": {},
   "source": [
    "![images.jpg](attachment:images.jpg)"
   ]
  },
  {
   "cell_type": "code",
   "execution_count": null,
   "id": "d823755d",
   "metadata": {},
   "outputs": [],
   "source": []
  },
  {
   "cell_type": "markdown",
   "id": "7782fda9",
   "metadata": {},
   "source": [
    "# day 3"
   ]
  },
  {
   "cell_type": "code",
   "execution_count": 1,
   "id": "af2f5f31",
   "metadata": {},
   "outputs": [],
   "source": [
    "# identity op\n",
    "# logical op\n",
    "# assignment op\n",
    "# bitwise"
   ]
  },
  {
   "cell_type": "code",
   "execution_count": 2,
   "id": "5157d089",
   "metadata": {},
   "outputs": [],
   "source": [
    "a = 34\n",
    "b = 45\n",
    "\n"
   ]
  },
  {
   "cell_type": "code",
   "execution_count": 3,
   "id": "90abd170",
   "metadata": {},
   "outputs": [
    {
     "data": {
      "text/plain": [
       "140703770187592"
      ]
     },
     "execution_count": 3,
     "metadata": {},
     "output_type": "execute_result"
    }
   ],
   "source": [
    "id(a)"
   ]
  },
  {
   "cell_type": "code",
   "execution_count": 4,
   "id": "1151e766",
   "metadata": {},
   "outputs": [
    {
     "data": {
      "text/plain": [
       "140703770187944"
      ]
     },
     "execution_count": 4,
     "metadata": {},
     "output_type": "execute_result"
    }
   ],
   "source": [
    "id(b)"
   ]
  },
  {
   "cell_type": "code",
   "execution_count": 6,
   "id": "b34418fd",
   "metadata": {},
   "outputs": [],
   "source": [
    "# identity op:- is, is not"
   ]
  },
  {
   "cell_type": "code",
   "execution_count": 7,
   "id": "c32dd3d8",
   "metadata": {},
   "outputs": [
    {
     "data": {
      "text/plain": [
       "False"
      ]
     },
     "execution_count": 7,
     "metadata": {},
     "output_type": "execute_result"
    }
   ],
   "source": [
    "a is b"
   ]
  },
  {
   "cell_type": "code",
   "execution_count": 8,
   "id": "31b90852",
   "metadata": {},
   "outputs": [],
   "source": [
    "d = 125\n",
    "g = 125\n",
    "\n",
    "\n"
   ]
  },
  {
   "cell_type": "code",
   "execution_count": 9,
   "id": "c074d699",
   "metadata": {},
   "outputs": [
    {
     "data": {
      "text/plain": [
       "True"
      ]
     },
     "execution_count": 9,
     "metadata": {},
     "output_type": "execute_result"
    }
   ],
   "source": [
    "d is g"
   ]
  },
  {
   "cell_type": "code",
   "execution_count": 10,
   "id": "cfad7cc2",
   "metadata": {},
   "outputs": [
    {
     "data": {
      "text/plain": [
       "140703770190504"
      ]
     },
     "execution_count": 10,
     "metadata": {},
     "output_type": "execute_result"
    }
   ],
   "source": [
    "id(d)"
   ]
  },
  {
   "cell_type": "code",
   "execution_count": 11,
   "id": "9aba6475",
   "metadata": {},
   "outputs": [
    {
     "data": {
      "text/plain": [
       "140703770190504"
      ]
     },
     "execution_count": 11,
     "metadata": {},
     "output_type": "execute_result"
    }
   ],
   "source": [
    "id(g)"
   ]
  },
  {
   "cell_type": "code",
   "execution_count": 12,
   "id": "8ea84630",
   "metadata": {},
   "outputs": [
    {
     "data": {
      "text/plain": [
       "False"
      ]
     },
     "execution_count": 12,
     "metadata": {},
     "output_type": "execute_result"
    }
   ],
   "source": [
    "b = [1,243,65]\n",
    "\n",
    "g = [1,243,65]\n",
    "\n",
    "\n",
    "b is g"
   ]
  },
  {
   "cell_type": "code",
   "execution_count": 13,
   "id": "76ead798",
   "metadata": {},
   "outputs": [],
   "source": [
    "d = {1,12,3}\n",
    "f = {1,12,3}\n"
   ]
  },
  {
   "cell_type": "code",
   "execution_count": 14,
   "id": "f8236008",
   "metadata": {},
   "outputs": [
    {
     "data": {
      "text/plain": [
       "False"
      ]
     },
     "execution_count": 14,
     "metadata": {},
     "output_type": "execute_result"
    }
   ],
   "source": [
    "d is f"
   ]
  },
  {
   "cell_type": "code",
   "execution_count": 15,
   "id": "b45616b0",
   "metadata": {},
   "outputs": [
    {
     "data": {
      "text/plain": [
       "1930489421088"
      ]
     },
     "execution_count": 15,
     "metadata": {},
     "output_type": "execute_result"
    }
   ],
   "source": [
    "id(d)"
   ]
  },
  {
   "cell_type": "code",
   "execution_count": 16,
   "id": "11af0633",
   "metadata": {},
   "outputs": [
    {
     "data": {
      "text/plain": [
       "1930489421536"
      ]
     },
     "execution_count": 16,
     "metadata": {},
     "output_type": "execute_result"
    }
   ],
   "source": [
    "id(f)"
   ]
  },
  {
   "cell_type": "code",
   "execution_count": 17,
   "id": "09c31e9e",
   "metadata": {},
   "outputs": [],
   "source": [
    "d = {1,12,3}\n",
    "f = {1,12,3}"
   ]
  },
  {
   "cell_type": "code",
   "execution_count": 19,
   "id": "5b92ae0d",
   "metadata": {},
   "outputs": [
    {
     "data": {
      "text/plain": [
       "False"
      ]
     },
     "execution_count": 19,
     "metadata": {},
     "output_type": "execute_result"
    }
   ],
   "source": [
    "d is f"
   ]
  },
  {
   "cell_type": "code",
   "execution_count": 20,
   "id": "818549a3",
   "metadata": {},
   "outputs": [
    {
     "data": {
      "text/plain": [
       "True"
      ]
     },
     "execution_count": 20,
     "metadata": {},
     "output_type": "execute_result"
    }
   ],
   "source": [
    "d == f"
   ]
  },
  {
   "cell_type": "code",
   "execution_count": 21,
   "id": "50ae8271",
   "metadata": {},
   "outputs": [],
   "source": [
    "f  = 'Ajay'\n",
    "\n",
    "h = \"Ajay\""
   ]
  },
  {
   "cell_type": "code",
   "execution_count": 22,
   "id": "1448a698",
   "metadata": {},
   "outputs": [
    {
     "data": {
      "text/plain": [
       "1930490706992"
      ]
     },
     "execution_count": 22,
     "metadata": {},
     "output_type": "execute_result"
    }
   ],
   "source": [
    "id(f)"
   ]
  },
  {
   "cell_type": "code",
   "execution_count": 23,
   "id": "308c717e",
   "metadata": {},
   "outputs": [
    {
     "data": {
      "text/plain": [
       "1930490706992"
      ]
     },
     "execution_count": 23,
     "metadata": {},
     "output_type": "execute_result"
    }
   ],
   "source": [
    "id(h)"
   ]
  },
  {
   "cell_type": "code",
   "execution_count": 24,
   "id": "fa778c11",
   "metadata": {},
   "outputs": [
    {
     "data": {
      "text/plain": [
       "True"
      ]
     },
     "execution_count": 24,
     "metadata": {},
     "output_type": "execute_result"
    }
   ],
   "source": [
    "h is f"
   ]
  },
  {
   "cell_type": "code",
   "execution_count": 25,
   "id": "04161f39",
   "metadata": {},
   "outputs": [],
   "source": [
    "# is not"
   ]
  },
  {
   "cell_type": "code",
   "execution_count": 26,
   "id": "5173192b",
   "metadata": {},
   "outputs": [
    {
     "data": {
      "text/plain": [
       "False"
      ]
     },
     "execution_count": 26,
     "metadata": {},
     "output_type": "execute_result"
    }
   ],
   "source": [
    "h is not f"
   ]
  },
  {
   "cell_type": "code",
   "execution_count": 28,
   "id": "acc7861d",
   "metadata": {},
   "outputs": [
    {
     "data": {
      "text/plain": [
       "True"
      ]
     },
     "execution_count": 28,
     "metadata": {},
     "output_type": "execute_result"
    }
   ],
   "source": [
    "a  = [1,243,56]\n",
    "\n",
    "b = [1,243,56]\n",
    "\n",
    "\n",
    "a is not b"
   ]
  },
  {
   "cell_type": "code",
   "execution_count": 29,
   "id": "939b4643",
   "metadata": {},
   "outputs": [],
   "source": [
    "# # assignment op"
   ]
  },
  {
   "cell_type": "code",
   "execution_count": 30,
   "id": "17f88ca1",
   "metadata": {},
   "outputs": [],
   "source": [
    "# +,-,*,/,//,**,%"
   ]
  },
  {
   "cell_type": "code",
   "execution_count": 31,
   "id": "4550b0f4",
   "metadata": {},
   "outputs": [],
   "source": [
    "# # # assignment op\n",
    "# =,\n",
    "# +=,\n",
    "# -=\n",
    "# /=\n",
    "# //=\n",
    "# **=\n",
    "# %="
   ]
  },
  {
   "cell_type": "code",
   "execution_count": 32,
   "id": "4dffe626",
   "metadata": {},
   "outputs": [
    {
     "name": "stdout",
     "output_type": "stream",
     "text": [
      "45\n"
     ]
    }
   ],
   "source": [
    "a = 45\n",
    "print(a)"
   ]
  },
  {
   "cell_type": "code",
   "execution_count": 33,
   "id": "401c3605",
   "metadata": {},
   "outputs": [
    {
     "name": "stdout",
     "output_type": "stream",
     "text": [
      "55\n"
     ]
    }
   ],
   "source": [
    "a = 45\n",
    "\n",
    "a = a + 10  # increment\n",
    "\n",
    "print(a)"
   ]
  },
  {
   "cell_type": "code",
   "execution_count": 34,
   "id": "53ea70d7",
   "metadata": {},
   "outputs": [
    {
     "name": "stdout",
     "output_type": "stream",
     "text": [
      "75000\n"
     ]
    }
   ],
   "source": [
    "sanjay = 55000\n",
    "\n",
    "sanjay = sanjay + 20000\n",
    "\n",
    "print(sanjay)"
   ]
  },
  {
   "cell_type": "code",
   "execution_count": 35,
   "id": "3b21d7b1",
   "metadata": {},
   "outputs": [
    {
     "name": "stdout",
     "output_type": "stream",
     "text": [
      "60000\n"
     ]
    }
   ],
   "source": [
    "ankul = 45000\n",
    "\n",
    "ankul += 15000\n",
    "\n",
    "print(ankul)"
   ]
  },
  {
   "cell_type": "code",
   "execution_count": 36,
   "id": "b4b6c5a7",
   "metadata": {},
   "outputs": [
    {
     "name": "stdout",
     "output_type": "stream",
     "text": [
      "50000\n"
     ]
    }
   ],
   "source": [
    "ankul -= 10000\n",
    "\n",
    "print(ankul)"
   ]
  },
  {
   "cell_type": "code",
   "execution_count": 37,
   "id": "239ede07",
   "metadata": {},
   "outputs": [
    {
     "name": "stdout",
     "output_type": "stream",
     "text": [
      "450\n"
     ]
    }
   ],
   "source": [
    "a = 45\n",
    "\n",
    "a *= 10\n",
    "\n",
    "print(a)"
   ]
  },
  {
   "cell_type": "code",
   "execution_count": 38,
   "id": "5aa731a7",
   "metadata": {},
   "outputs": [
    {
     "name": "stdout",
     "output_type": "stream",
     "text": [
      "9.0\n"
     ]
    }
   ],
   "source": [
    "a = 45\n",
    "\n",
    "a /= 5\n",
    "\n",
    "print(a)"
   ]
  },
  {
   "cell_type": "code",
   "execution_count": 39,
   "id": "df25b419",
   "metadata": {},
   "outputs": [
    {
     "name": "stdout",
     "output_type": "stream",
     "text": [
      "22\n"
     ]
    }
   ],
   "source": [
    "a = 45\n",
    "\n",
    "a //= 2\n",
    "\n",
    "print(a)"
   ]
  },
  {
   "cell_type": "code",
   "execution_count": 41,
   "id": "2896772c",
   "metadata": {},
   "outputs": [
    {
     "name": "stdout",
     "output_type": "stream",
     "text": [
      "36\n"
     ]
    }
   ],
   "source": [
    "a = 6\n",
    "\n",
    "a **= 2\n",
    "\n",
    "print(a)"
   ]
  },
  {
   "cell_type": "code",
   "execution_count": 42,
   "id": "0397d473",
   "metadata": {},
   "outputs": [
    {
     "name": "stdout",
     "output_type": "stream",
     "text": [
      "3\n"
     ]
    }
   ],
   "source": [
    "a = 45\n",
    "\n",
    "a %= 6\n",
    "\n",
    "print(a)"
   ]
  },
  {
   "cell_type": "code",
   "execution_count": 44,
   "id": "659de6af",
   "metadata": {},
   "outputs": [],
   "source": [
    "# logical op\n",
    "\n",
    "# and, or, not"
   ]
  },
  {
   "cell_type": "code",
   "execution_count": null,
   "id": "a55c6eef",
   "metadata": {},
   "outputs": [],
   "source": [
    "# # cibil\n",
    "# # BGV\n",
    "# # proof\n",
    "# # identity\n",
    "# # income\n",
    "\n",
    "# loan:- yes"
   ]
  },
  {
   "cell_type": "code",
   "execution_count": null,
   "id": "e4e5d917",
   "metadata": {},
   "outputs": [],
   "source": []
  },
  {
   "cell_type": "code",
   "execution_count": 49,
   "id": "9b74a790",
   "metadata": {},
   "outputs": [
    {
     "data": {
      "text/plain": [
       "False"
      ]
     },
     "execution_count": 49,
     "metadata": {},
     "output_type": "execute_result"
    }
   ],
   "source": [
    "# and op:- every result must be true for final output as True, and False if any condition is False\n",
    "\n",
    "\n",
    "income = 3567686\n",
    "\n",
    "house = False\n",
    "\n",
    "age = 23\n",
    "\n",
    "proof = 'Indian'\n",
    "\n",
    "\n",
    "(income>=25000)  and (house == True) and (age >=18) and (proof == 'Indian')\n",
    "\n",
    "#       F                    T                 T                    T"
   ]
  },
  {
   "cell_type": "code",
   "execution_count": null,
   "id": "4a57b4cf",
   "metadata": {},
   "outputs": [],
   "source": []
  },
  {
   "cell_type": "code",
   "execution_count": null,
   "id": "9dd82ca8",
   "metadata": {},
   "outputs": [],
   "source": []
  },
  {
   "cell_type": "code",
   "execution_count": 53,
   "id": "d1db4501",
   "metadata": {},
   "outputs": [
    {
     "data": {
      "text/plain": [
       "False"
      ]
     },
     "execution_count": 53,
     "metadata": {},
     "output_type": "execute_result"
    }
   ],
   "source": [
    "# or op:- one result must be true for final output as True, and False if each condition is False\n",
    "\n",
    "\n",
    "income = 35\n",
    "\n",
    "house = False\n",
    "\n",
    "age = 3\n",
    "\n",
    "proof = 'Pakistan'\n",
    "\n",
    "\n",
    "(income>=25000)  or (house == True) or (age >=18) or (proof == 'Indian')\n",
    "\n",
    "#       F                    F                 F                   F"
   ]
  },
  {
   "cell_type": "code",
   "execution_count": null,
   "id": "66230ddb",
   "metadata": {},
   "outputs": [],
   "source": []
  },
  {
   "cell_type": "code",
   "execution_count": null,
   "id": "3ef04c8d",
   "metadata": {},
   "outputs": [],
   "source": []
  },
  {
   "cell_type": "code",
   "execution_count": 59,
   "id": "f341274c",
   "metadata": {},
   "outputs": [
    {
     "data": {
      "text/plain": [
       "True"
      ]
     },
     "execution_count": 59,
     "metadata": {},
     "output_type": "execute_result"
    }
   ],
   "source": [
    "# not\n",
    "\n",
    "income = 35\n",
    "\n",
    "house = False\n",
    "\n",
    "age = 3\n",
    "\n",
    "proof = 'Pakistan'\n",
    "\n",
    "\n",
    "not((income>=25000)  or (house == True) or (age >=18) or (proof == 'Indian'))"
   ]
  },
  {
   "cell_type": "code",
   "execution_count": null,
   "id": "4d5d56cd",
   "metadata": {},
   "outputs": [],
   "source": []
  },
  {
   "cell_type": "code",
   "execution_count": null,
   "id": "91714faa",
   "metadata": {},
   "outputs": [],
   "source": []
  },
  {
   "cell_type": "code",
   "execution_count": null,
   "id": "de774e6e",
   "metadata": {},
   "outputs": [],
   "source": []
  },
  {
   "cell_type": "code",
   "execution_count": 60,
   "id": "b62769cc",
   "metadata": {},
   "outputs": [],
   "source": [
    "# Arithmetic\n",
    "# Assignment\n",
    "# Logical\n",
    "# membership\n",
    "# Identity \n",
    "# Comparison/Relational"
   ]
  },
  {
   "cell_type": "code",
   "execution_count": 62,
   "id": "9b86ff79",
   "metadata": {},
   "outputs": [],
   "source": [
    "# Bitwise op:- perform bit level calculation Bit(0/1)\n",
    "\n",
    "# can only work with integer"
   ]
  },
  {
   "cell_type": "code",
   "execution_count": 63,
   "id": "0a479464",
   "metadata": {},
   "outputs": [],
   "source": [
    "a = 12    # 1100\n",
    "\n",
    "b = 15    # 1111\n",
    "\n",
    "# 1:- True\n",
    "# 0:- False"
   ]
  },
  {
   "cell_type": "code",
   "execution_count": 65,
   "id": "4913745c",
   "metadata": {},
   "outputs": [],
   "source": [
    "# &:- AND operator"
   ]
  },
  {
   "cell_type": "code",
   "execution_count": 67,
   "id": "80afc670",
   "metadata": {},
   "outputs": [
    {
     "name": "stdout",
     "output_type": "stream",
     "text": [
      "0\n"
     ]
    }
   ],
   "source": [
    "# and\n",
    "\n",
    "a = 25    # 11001\n",
    "\n",
    "b = 34    # 100010\n",
    "\n",
    "          # 000000\n",
    "    \n",
    "    \n",
    "print(a & b)"
   ]
  },
  {
   "cell_type": "code",
   "execution_count": 68,
   "id": "0876ecf7",
   "metadata": {},
   "outputs": [
    {
     "name": "stdout",
     "output_type": "stream",
     "text": [
      "59\n"
     ]
    }
   ],
   "source": [
    "# or:- \n",
    "a = 25    # 011001\n",
    "\n",
    "b = 34    # 100010\n",
    "\n",
    "          # 111011\n",
    "    \n",
    "print(a | b)"
   ]
  },
  {
   "cell_type": "code",
   "execution_count": 70,
   "id": "b265c7ed",
   "metadata": {},
   "outputs": [
    {
     "name": "stdout",
     "output_type": "stream",
     "text": [
      "59\n"
     ]
    }
   ],
   "source": [
    "# Xor :- ^:- same bit:- 0\n",
    "# Alternate bit:- 1\n",
    "\n",
    "a = 25    # 011001\n",
    "\n",
    "b = 34    # 100010\n",
    "\n",
    "\n",
    "          #111011\n",
    "    \n",
    "print(a ^ b)"
   ]
  },
  {
   "cell_type": "code",
   "execution_count": 73,
   "id": "da8adeab",
   "metadata": {},
   "outputs": [
    {
     "data": {
      "text/plain": [
       "55"
      ]
     },
     "execution_count": 73,
     "metadata": {},
     "output_type": "execute_result"
    }
   ],
   "source": [
    "# not ~:- tilde\n",
    "\n",
    "a = -56\n",
    "\n",
    "~a"
   ]
  },
  {
   "cell_type": "code",
   "execution_count": 74,
   "id": "3a357974",
   "metadata": {},
   "outputs": [],
   "source": [
    "# left shift op\n",
    "# right shift op"
   ]
  },
  {
   "cell_type": "code",
   "execution_count": 81,
   "id": "25b0b05a",
   "metadata": {},
   "outputs": [
    {
     "data": {
      "text/plain": [
       "64"
      ]
     },
     "execution_count": 81,
     "metadata": {},
     "output_type": "execute_result"
    }
   ],
   "source": [
    "# # left shift op:- twice the result\n",
    "\n",
    "a = 2  # 1001\n",
    "\n",
    "\n",
    "a<<4"
   ]
  },
  {
   "cell_type": "code",
   "execution_count": 79,
   "id": "52390a75",
   "metadata": {},
   "outputs": [
    {
     "data": {
      "text/plain": [
       "'0b1001'"
      ]
     },
     "execution_count": 79,
     "metadata": {},
     "output_type": "execute_result"
    }
   ],
   "source": [
    "# bin(9)"
   ]
  },
  {
   "cell_type": "code",
   "execution_count": 83,
   "id": "8ec547d0",
   "metadata": {},
   "outputs": [
    {
     "data": {
      "text/plain": [
       "64"
      ]
     },
     "execution_count": 83,
     "metadata": {},
     "output_type": "execute_result"
    }
   ],
   "source": [
    "2*2**5"
   ]
  },
  {
   "cell_type": "code",
   "execution_count": 84,
   "id": "8369b3d8",
   "metadata": {},
   "outputs": [],
   "source": [
    "# right shift op:- remove the bit:- and half the result"
   ]
  },
  {
   "cell_type": "code",
   "execution_count": 91,
   "id": "a45f8da2",
   "metadata": {},
   "outputs": [
    {
     "data": {
      "text/plain": [
       "0"
      ]
     },
     "execution_count": 91,
     "metadata": {},
     "output_type": "execute_result"
    }
   ],
   "source": [
    "a = 56\n",
    "\n",
    "a>>8"
   ]
  },
  {
   "cell_type": "code",
   "execution_count": null,
   "id": "e4a1d5d9",
   "metadata": {},
   "outputs": [],
   "source": []
  }
 ],
 "metadata": {
  "kernelspec": {
   "display_name": "Python 3 (ipykernel)",
   "language": "python",
   "name": "python3"
  },
  "language_info": {
   "codemirror_mode": {
    "name": "ipython",
    "version": 3
   },
   "file_extension": ".py",
   "mimetype": "text/x-python",
   "name": "python",
   "nbconvert_exporter": "python",
   "pygments_lexer": "ipython3",
   "version": "3.11.3"
  }
 },
 "nbformat": 4,
 "nbformat_minor": 5
}
