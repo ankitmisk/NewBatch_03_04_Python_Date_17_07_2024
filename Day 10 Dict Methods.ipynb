{
 "cells": [
  {
   "cell_type": "markdown",
   "id": "de0113ad",
   "metadata": {},
   "source": [
    "# Dict Methods"
   ]
  },
  {
   "cell_type": "code",
   "execution_count": 1,
   "id": "b6202ca5",
   "metadata": {},
   "outputs": [
    {
     "name": "stdout",
     "output_type": "stream",
     "text": [
      "['__class__', '__class_getitem__', '__contains__', '__delattr__', '__delitem__', '__dir__', '__doc__', '__eq__', '__format__', '__ge__', '__getattribute__', '__getitem__', '__getstate__', '__gt__', '__hash__', '__init__', '__init_subclass__', '__ior__', '__iter__', '__le__', '__len__', '__lt__', '__ne__', '__new__', '__or__', '__reduce__', '__reduce_ex__', '__repr__', '__reversed__', '__ror__', '__setattr__', '__setitem__', '__sizeof__', '__str__', '__subclasshook__', 'clear', 'copy', 'fromkeys', 'get', 'items', 'keys', 'pop', 'popitem', 'setdefault', 'update', 'values']\n"
     ]
    }
   ],
   "source": [
    "print(dir(dict))"
   ]
  },
  {
   "cell_type": "code",
   "execution_count": 2,
   "id": "72a39fe1",
   "metadata": {},
   "outputs": [],
   "source": [
    "methods = ['clear', 'copy', 'fromkeys', 'get', 'items', 'keys', 'pop', 'popitem', 'setdefault', 'update', 'values']"
   ]
  },
  {
   "cell_type": "code",
   "execution_count": 3,
   "id": "b73f7eb7",
   "metadata": {},
   "outputs": [
    {
     "name": "stdout",
     "output_type": "stream",
     "text": [
      "11\n"
     ]
    }
   ],
   "source": [
    "print(len(methods))"
   ]
  },
  {
   "cell_type": "code",
   "execution_count": 4,
   "id": "583e0caf",
   "metadata": {},
   "outputs": [
    {
     "name": "stdout",
     "output_type": "stream",
     "text": [
      "['clear', 'copy', 'fromkeys', 'get', 'items', 'keys', 'pop', 'popitem', 'setdefault', 'update', 'values']\n"
     ]
    }
   ],
   "source": [
    "print(methods)"
   ]
  },
  {
   "cell_type": "code",
   "execution_count": 5,
   "id": "499a28d5",
   "metadata": {},
   "outputs": [
    {
     "name": "stdout",
     "output_type": "stream",
     "text": [
      "{'Name': 'Komal', 'Age': 78, 'Salary': 234567}\n"
     ]
    }
   ],
   "source": [
    "data = {'Name':'Komal','Age':78,'Salary':234567}\n",
    "\n",
    "print(data)"
   ]
  },
  {
   "cell_type": "code",
   "execution_count": 6,
   "id": "0848f86f",
   "metadata": {},
   "outputs": [],
   "source": [
    "data.clear()"
   ]
  },
  {
   "cell_type": "code",
   "execution_count": 7,
   "id": "78b7573f",
   "metadata": {},
   "outputs": [
    {
     "name": "stdout",
     "output_type": "stream",
     "text": [
      "{}\n"
     ]
    }
   ],
   "source": [
    "print(data)\n",
    "# empty dict"
   ]
  },
  {
   "cell_type": "code",
   "execution_count": 8,
   "id": "d7e5987d",
   "metadata": {},
   "outputs": [],
   "source": [
    "# copy method"
   ]
  },
  {
   "cell_type": "code",
   "execution_count": 44,
   "id": "5684712b",
   "metadata": {},
   "outputs": [
    {
     "name": "stdout",
     "output_type": "stream",
     "text": [
      "{'Bank1': [12, 13], 'Bank2': [14, 15]}\n"
     ]
    }
   ],
   "source": [
    "rohan = {'Bank1':[12,13],'Bank2':[14,15]}\n",
    "\n",
    "print(rohan)"
   ]
  },
  {
   "cell_type": "code",
   "execution_count": 45,
   "id": "b4c1822a",
   "metadata": {},
   "outputs": [],
   "source": [
    "sohan = rohan\n",
    "# deep copy"
   ]
  },
  {
   "cell_type": "code",
   "execution_count": 12,
   "id": "e1608039",
   "metadata": {},
   "outputs": [
    {
     "name": "stdout",
     "output_type": "stream",
     "text": [
      "{'Bank1': [12, 13], 'Bank2': [14, 15]}\n"
     ]
    }
   ],
   "source": [
    "print(sohan)"
   ]
  },
  {
   "cell_type": "code",
   "execution_count": 15,
   "id": "dd6c0b13",
   "metadata": {},
   "outputs": [],
   "source": [
    "sohan['Bank2'][1] = 1500"
   ]
  },
  {
   "cell_type": "code",
   "execution_count": 16,
   "id": "cb636a5a",
   "metadata": {},
   "outputs": [
    {
     "name": "stdout",
     "output_type": "stream",
     "text": [
      "{'Bank1': [12, 13], 'Bank2': [14, 1500]}\n"
     ]
    }
   ],
   "source": [
    "print(sohan)"
   ]
  },
  {
   "cell_type": "code",
   "execution_count": 17,
   "id": "741aebf5",
   "metadata": {},
   "outputs": [
    {
     "name": "stdout",
     "output_type": "stream",
     "text": [
      "{'Bank1': [12, 13], 'Bank2': [14, 1500]}\n"
     ]
    }
   ],
   "source": [
    "print(rohan)"
   ]
  },
  {
   "cell_type": "code",
   "execution_count": null,
   "id": "0786b244",
   "metadata": {},
   "outputs": [],
   "source": []
  },
  {
   "cell_type": "code",
   "execution_count": null,
   "id": "64633913",
   "metadata": {},
   "outputs": [],
   "source": []
  },
  {
   "cell_type": "code",
   "execution_count": 27,
   "id": "c10d5cb6",
   "metadata": {},
   "outputs": [],
   "source": [
    "ajay = {'Bank1':[12,13],'Bank2':[14,15]}"
   ]
  },
  {
   "cell_type": "code",
   "execution_count": 28,
   "id": "1e08aee8",
   "metadata": {},
   "outputs": [],
   "source": [
    "vijay = ajay.copy()"
   ]
  },
  {
   "cell_type": "code",
   "execution_count": 29,
   "id": "6bba1bd8",
   "metadata": {},
   "outputs": [
    {
     "name": "stdout",
     "output_type": "stream",
     "text": [
      "{'Bank1': [12, 13], 'Bank2': [14, 15]}\n"
     ]
    }
   ],
   "source": [
    "print(vijay)"
   ]
  },
  {
   "cell_type": "code",
   "execution_count": 30,
   "id": "6cbeaca1",
   "metadata": {},
   "outputs": [
    {
     "name": "stdout",
     "output_type": "stream",
     "text": [
      "{'Bank1': [12, 13], 'Bank2': [14, 15]}\n"
     ]
    }
   ],
   "source": [
    "print(ajay)"
   ]
  },
  {
   "cell_type": "code",
   "execution_count": 31,
   "id": "55ac88d5",
   "metadata": {},
   "outputs": [],
   "source": [
    "vijay['Bank1'][1] = 9865"
   ]
  },
  {
   "cell_type": "code",
   "execution_count": 32,
   "id": "56231e92",
   "metadata": {},
   "outputs": [
    {
     "name": "stdout",
     "output_type": "stream",
     "text": [
      "{'Bank1': [12, 9865], 'Bank2': [14, 15]}\n"
     ]
    }
   ],
   "source": [
    "print(vijay)"
   ]
  },
  {
   "cell_type": "code",
   "execution_count": 34,
   "id": "99861438",
   "metadata": {},
   "outputs": [
    {
     "name": "stdout",
     "output_type": "stream",
     "text": [
      "{'Bank1': [12, 9865], 'Bank2': [14, 15]}\n"
     ]
    }
   ],
   "source": [
    "print(ajay)"
   ]
  },
  {
   "cell_type": "code",
   "execution_count": null,
   "id": "02446952",
   "metadata": {},
   "outputs": [],
   "source": []
  },
  {
   "cell_type": "code",
   "execution_count": null,
   "id": "006187f3",
   "metadata": {},
   "outputs": [],
   "source": []
  },
  {
   "cell_type": "code",
   "execution_count": 35,
   "id": "9b6a897f",
   "metadata": {},
   "outputs": [],
   "source": [
    "ajay = {'Bank1':[12,13],'Bank2':[14,15]}\n",
    "\n",
    "\n",
    "karan = ajay.copy()"
   ]
  },
  {
   "cell_type": "code",
   "execution_count": 38,
   "id": "bf87d89c",
   "metadata": {},
   "outputs": [],
   "source": [
    "karan['Bank1'][1] = 90"
   ]
  },
  {
   "cell_type": "code",
   "execution_count": 39,
   "id": "a7020d46",
   "metadata": {},
   "outputs": [
    {
     "data": {
      "text/plain": [
       "{'Bank1': [12, 90], 'Bank2': [14, 15]}"
      ]
     },
     "execution_count": 39,
     "metadata": {},
     "output_type": "execute_result"
    }
   ],
   "source": [
    "karan"
   ]
  },
  {
   "cell_type": "code",
   "execution_count": 40,
   "id": "a54b1164",
   "metadata": {},
   "outputs": [
    {
     "data": {
      "text/plain": [
       "{'Bank1': [12, 90], 'Bank2': [14, 15]}"
      ]
     },
     "execution_count": 40,
     "metadata": {},
     "output_type": "execute_result"
    }
   ],
   "source": [
    "ajay"
   ]
  },
  {
   "cell_type": "code",
   "execution_count": 41,
   "id": "4e6cd711",
   "metadata": {},
   "outputs": [],
   "source": [
    "karan['Bank3'] = [123,234]"
   ]
  },
  {
   "cell_type": "code",
   "execution_count": 42,
   "id": "521ed798",
   "metadata": {},
   "outputs": [
    {
     "data": {
      "text/plain": [
       "{'Bank1': [12, 90], 'Bank2': [14, 15], 'Bank3': [123, 234]}"
      ]
     },
     "execution_count": 42,
     "metadata": {},
     "output_type": "execute_result"
    }
   ],
   "source": [
    "karan"
   ]
  },
  {
   "cell_type": "code",
   "execution_count": 43,
   "id": "3d1ed1a3",
   "metadata": {},
   "outputs": [
    {
     "data": {
      "text/plain": [
       "{'Bank1': [12, 90], 'Bank2': [14, 15]}"
      ]
     },
     "execution_count": 43,
     "metadata": {},
     "output_type": "execute_result"
    }
   ],
   "source": [
    "ajay"
   ]
  },
  {
   "cell_type": "code",
   "execution_count": null,
   "id": "c1c4a811",
   "metadata": {},
   "outputs": [],
   "source": []
  },
  {
   "cell_type": "code",
   "execution_count": null,
   "id": "98eec4eb",
   "metadata": {},
   "outputs": [],
   "source": []
  },
  {
   "cell_type": "code",
   "execution_count": 46,
   "id": "c3e95deb",
   "metadata": {},
   "outputs": [
    {
     "data": {
      "text/plain": [
       "{'Bank1': [12, 13], 'Bank2': [14, 15]}"
      ]
     },
     "execution_count": 46,
     "metadata": {},
     "output_type": "execute_result"
    }
   ],
   "source": [
    "sohan"
   ]
  },
  {
   "cell_type": "code",
   "execution_count": 47,
   "id": "8720ca1d",
   "metadata": {},
   "outputs": [
    {
     "data": {
      "text/plain": [
       "{'Bank1': [12, 13], 'Bank2': [14, 15]}"
      ]
     },
     "execution_count": 47,
     "metadata": {},
     "output_type": "execute_result"
    }
   ],
   "source": [
    "rohan"
   ]
  },
  {
   "cell_type": "code",
   "execution_count": 48,
   "id": "6aab873d",
   "metadata": {},
   "outputs": [],
   "source": [
    "rohan['Bank3'] = 345678"
   ]
  },
  {
   "cell_type": "code",
   "execution_count": 49,
   "id": "a7862ffe",
   "metadata": {},
   "outputs": [
    {
     "data": {
      "text/plain": [
       "{'Bank1': [12, 13], 'Bank2': [14, 15], 'Bank3': 345678}"
      ]
     },
     "execution_count": 49,
     "metadata": {},
     "output_type": "execute_result"
    }
   ],
   "source": [
    "rohan"
   ]
  },
  {
   "cell_type": "code",
   "execution_count": 50,
   "id": "bdc46bd4",
   "metadata": {},
   "outputs": [
    {
     "data": {
      "text/plain": [
       "{'Bank1': [12, 13], 'Bank2': [14, 15], 'Bank3': 345678}"
      ]
     },
     "execution_count": 50,
     "metadata": {},
     "output_type": "execute_result"
    }
   ],
   "source": [
    "sohan"
   ]
  },
  {
   "cell_type": "code",
   "execution_count": null,
   "id": "82a526ec",
   "metadata": {},
   "outputs": [],
   "source": []
  },
  {
   "cell_type": "code",
   "execution_count": 51,
   "id": "42fa37ad",
   "metadata": {},
   "outputs": [
    {
     "data": {
      "text/plain": [
       "{'Bank1': [12, 13], 'Bank2': [14, 15], 'Bank3': 345678}"
      ]
     },
     "execution_count": 51,
     "metadata": {},
     "output_type": "execute_result"
    }
   ],
   "source": [
    "jatin = {**sohan}\n",
    "\n",
    "jatin"
   ]
  },
  {
   "cell_type": "code",
   "execution_count": 54,
   "id": "5fd359b2",
   "metadata": {},
   "outputs": [],
   "source": [
    "jatin['Bank1'][1] = 9000"
   ]
  },
  {
   "cell_type": "code",
   "execution_count": 55,
   "id": "2bd6d1c7",
   "metadata": {},
   "outputs": [
    {
     "data": {
      "text/plain": [
       "{'Bank1': [12, 9000], 'Bank2': [14, 15], 'Bank3': 345678}"
      ]
     },
     "execution_count": 55,
     "metadata": {},
     "output_type": "execute_result"
    }
   ],
   "source": [
    "jatin"
   ]
  },
  {
   "cell_type": "code",
   "execution_count": 56,
   "id": "28be97f0",
   "metadata": {},
   "outputs": [
    {
     "data": {
      "text/plain": [
       "{'Bank1': [12, 9000], 'Bank2': [14, 15], 'Bank3': 345678}"
      ]
     },
     "execution_count": 56,
     "metadata": {},
     "output_type": "execute_result"
    }
   ],
   "source": [
    "sohan"
   ]
  },
  {
   "cell_type": "code",
   "execution_count": null,
   "id": "86386294",
   "metadata": {},
   "outputs": [],
   "source": []
  },
  {
   "cell_type": "code",
   "execution_count": null,
   "id": "2358f225",
   "metadata": {},
   "outputs": [],
   "source": []
  },
  {
   "cell_type": "code",
   "execution_count": null,
   "id": "95bdab48",
   "metadata": {},
   "outputs": [],
   "source": []
  },
  {
   "cell_type": "code",
   "execution_count": 58,
   "id": "7222a758",
   "metadata": {},
   "outputs": [
    {
     "name": "stdout",
     "output_type": "stream",
     "text": [
      "['clear', 'copy', 'fromkeys', 'get', 'items', 'keys', 'pop', 'popitem', 'setdefault', 'update', 'values']\n"
     ]
    }
   ],
   "source": [
    "print(methods)"
   ]
  },
  {
   "cell_type": "code",
   "execution_count": 60,
   "id": "2d3b463d",
   "metadata": {},
   "outputs": [
    {
     "data": {
      "text/plain": [
       "{'Name': 'Ravi', 'Sec': 'A', 'Class': 5, 'Roll': 56, 'Address': 'Noida'}"
      ]
     },
     "execution_count": 60,
     "metadata": {},
     "output_type": "execute_result"
    }
   ],
   "source": [
    "students = {\"Name\":'Ravi','Sec':'A','Class':5,'Roll':56,'Address':'Noida'}\n",
    "students\n"
   ]
  },
  {
   "cell_type": "code",
   "execution_count": 61,
   "id": "956d50bb",
   "metadata": {},
   "outputs": [],
   "source": [
    "# to get value of a key"
   ]
  },
  {
   "cell_type": "code",
   "execution_count": 62,
   "id": "9dd97d2f",
   "metadata": {},
   "outputs": [
    {
     "data": {
      "text/plain": [
       "5"
      ]
     },
     "execution_count": 62,
     "metadata": {},
     "output_type": "execute_result"
    }
   ],
   "source": [
    "students.get('Class')"
   ]
  },
  {
   "cell_type": "code",
   "execution_count": 63,
   "id": "f20c6daa",
   "metadata": {},
   "outputs": [
    {
     "data": {
      "text/plain": [
       "5"
      ]
     },
     "execution_count": 63,
     "metadata": {},
     "output_type": "execute_result"
    }
   ],
   "source": [
    "students['Class']"
   ]
  },
  {
   "cell_type": "code",
   "execution_count": 64,
   "id": "752e89f7",
   "metadata": {},
   "outputs": [],
   "source": [
    "students['Class'] = 6"
   ]
  },
  {
   "cell_type": "code",
   "execution_count": 65,
   "id": "9db416d0",
   "metadata": {},
   "outputs": [
    {
     "data": {
      "text/plain": [
       "{'Name': 'Ravi', 'Sec': 'A', 'Class': 6, 'Roll': 56, 'Address': 'Noida'}"
      ]
     },
     "execution_count": 65,
     "metadata": {},
     "output_type": "execute_result"
    }
   ],
   "source": [
    "students"
   ]
  },
  {
   "cell_type": "code",
   "execution_count": 67,
   "id": "c638cf8a",
   "metadata": {},
   "outputs": [
    {
     "ename": "SyntaxError",
     "evalue": "cannot assign to function call here. Maybe you meant '==' instead of '='? (1767001071.py, line 1)",
     "output_type": "error",
     "traceback": [
      "\u001b[1;36m  Cell \u001b[1;32mIn[67], line 1\u001b[1;36m\u001b[0m\n\u001b[1;33m    students.get('Class') = 10\u001b[0m\n\u001b[1;37m    ^\u001b[0m\n\u001b[1;31mSyntaxError\u001b[0m\u001b[1;31m:\u001b[0m cannot assign to function call here. Maybe you meant '==' instead of '='?\n"
     ]
    }
   ],
   "source": [
    "students.get('Class') = 10"
   ]
  },
  {
   "cell_type": "code",
   "execution_count": 69,
   "id": "95613d7f",
   "metadata": {},
   "outputs": [
    {
     "data": {
      "text/plain": [
       "dict_items([('Name', 'Ravi'), ('Sec', 'A'), ('Class', 6), ('Roll', 56), ('Address', 'Noida')])"
      ]
     },
     "execution_count": 69,
     "metadata": {},
     "output_type": "execute_result"
    }
   ],
   "source": [
    "students.items()"
   ]
  },
  {
   "cell_type": "code",
   "execution_count": 70,
   "id": "2facc3cf",
   "metadata": {},
   "outputs": [],
   "source": [
    "# keys"
   ]
  },
  {
   "cell_type": "code",
   "execution_count": 72,
   "id": "35ea0fdc",
   "metadata": {},
   "outputs": [
    {
     "data": {
      "text/plain": [
       "dict_keys(['Name', 'Sec', 'Class', 'Roll', 'Address'])"
      ]
     },
     "execution_count": 72,
     "metadata": {},
     "output_type": "execute_result"
    }
   ],
   "source": [
    "students.keys()"
   ]
  },
  {
   "cell_type": "code",
   "execution_count": 73,
   "id": "caf2a3f8",
   "metadata": {},
   "outputs": [
    {
     "data": {
      "text/plain": [
       "['Name', 'Sec', 'Class', 'Roll', 'Address']"
      ]
     },
     "execution_count": 73,
     "metadata": {},
     "output_type": "execute_result"
    }
   ],
   "source": [
    "list(students)"
   ]
  },
  {
   "cell_type": "code",
   "execution_count": 74,
   "id": "d47207d2",
   "metadata": {},
   "outputs": [
    {
     "data": {
      "text/plain": [
       "('Name', 'Sec', 'Class', 'Roll', 'Address')"
      ]
     },
     "execution_count": 74,
     "metadata": {},
     "output_type": "execute_result"
    }
   ],
   "source": [
    "tuple(students)"
   ]
  },
  {
   "cell_type": "code",
   "execution_count": null,
   "id": "3891c90e",
   "metadata": {},
   "outputs": [],
   "source": []
  },
  {
   "cell_type": "code",
   "execution_count": 78,
   "id": "732f4b94",
   "metadata": {},
   "outputs": [
    {
     "data": {
      "text/plain": [
       "{'Name': 'Ravi', 'Sec': 'A', 'Class': 6, 'Roll': 56, 'Address': 'Noida'}"
      ]
     },
     "execution_count": 78,
     "metadata": {},
     "output_type": "execute_result"
    }
   ],
   "source": [
    "students"
   ]
  },
  {
   "cell_type": "code",
   "execution_count": 77,
   "id": "dc571dba",
   "metadata": {},
   "outputs": [
    {
     "name": "stdout",
     "output_type": "stream",
     "text": [
      "dict_values(['Ravi', 'A', 6, 56, 'Noida'])\n"
     ]
    }
   ],
   "source": [
    "print(students.values())"
   ]
  },
  {
   "cell_type": "code",
   "execution_count": null,
   "id": "ba09dd4c",
   "metadata": {},
   "outputs": [],
   "source": []
  },
  {
   "cell_type": "code",
   "execution_count": null,
   "id": "f84d0a6c",
   "metadata": {},
   "outputs": [],
   "source": []
  },
  {
   "cell_type": "code",
   "execution_count": 79,
   "id": "abd17bc3",
   "metadata": {},
   "outputs": [],
   "source": [
    "# 'pop', 'popitem', 'setdefault', 'update',"
   ]
  },
  {
   "cell_type": "code",
   "execution_count": 81,
   "id": "ec6731f2",
   "metadata": {},
   "outputs": [
    {
     "data": {
      "text/plain": [
       "56"
      ]
     },
     "execution_count": 81,
     "metadata": {},
     "output_type": "execute_result"
    }
   ],
   "source": [
    "students.pop('Roll')"
   ]
  },
  {
   "cell_type": "code",
   "execution_count": 83,
   "id": "212743b7",
   "metadata": {},
   "outputs": [
    {
     "data": {
      "text/plain": [
       "'Noida'"
      ]
     },
     "execution_count": 83,
     "metadata": {},
     "output_type": "execute_result"
    }
   ],
   "source": [
    "students.pop('Address')"
   ]
  },
  {
   "cell_type": "code",
   "execution_count": 84,
   "id": "8657c5d8",
   "metadata": {},
   "outputs": [
    {
     "data": {
      "text/plain": [
       "{'Name': 'Ravi', 'Sec': 'A', 'Class': 6}"
      ]
     },
     "execution_count": 84,
     "metadata": {},
     "output_type": "execute_result"
    }
   ],
   "source": [
    "students"
   ]
  },
  {
   "cell_type": "code",
   "execution_count": null,
   "id": "0c8f9efe",
   "metadata": {},
   "outputs": [],
   "source": []
  },
  {
   "cell_type": "code",
   "execution_count": 85,
   "id": "8136942e",
   "metadata": {},
   "outputs": [
    {
     "ename": "TypeError",
     "evalue": "pop expected at least 1 argument, got 0",
     "output_type": "error",
     "traceback": [
      "\u001b[1;31m---------------------------------------------------------------------------\u001b[0m",
      "\u001b[1;31mTypeError\u001b[0m                                 Traceback (most recent call last)",
      "Cell \u001b[1;32mIn[85], line 1\u001b[0m\n\u001b[1;32m----> 1\u001b[0m students\u001b[38;5;241m.\u001b[39mpop()\n",
      "\u001b[1;31mTypeError\u001b[0m: pop expected at least 1 argument, got 0"
     ]
    }
   ],
   "source": [
    "students.pop()"
   ]
  },
  {
   "cell_type": "code",
   "execution_count": 86,
   "id": "c45b3eb4",
   "metadata": {},
   "outputs": [
    {
     "data": {
      "text/plain": [
       "{'Name': 'Ravi', 'Sec': 'A', 'Class': 6}"
      ]
     },
     "execution_count": 86,
     "metadata": {},
     "output_type": "execute_result"
    }
   ],
   "source": [
    "students"
   ]
  },
  {
   "cell_type": "code",
   "execution_count": 90,
   "id": "bcd705b3",
   "metadata": {},
   "outputs": [
    {
     "ename": "KeyError",
     "evalue": "'popitem(): dictionary is empty'",
     "output_type": "error",
     "traceback": [
      "\u001b[1;31m---------------------------------------------------------------------------\u001b[0m",
      "\u001b[1;31mKeyError\u001b[0m                                  Traceback (most recent call last)",
      "Cell \u001b[1;32mIn[90], line 1\u001b[0m\n\u001b[1;32m----> 1\u001b[0m students\u001b[38;5;241m.\u001b[39mpopitem()\n",
      "\u001b[1;31mKeyError\u001b[0m: 'popitem(): dictionary is empty'"
     ]
    }
   ],
   "source": [
    "students.popitem()"
   ]
  },
  {
   "cell_type": "code",
   "execution_count": 91,
   "id": "9a8f0499",
   "metadata": {},
   "outputs": [
    {
     "data": {
      "text/plain": [
       "{}"
      ]
     },
     "execution_count": 91,
     "metadata": {},
     "output_type": "execute_result"
    }
   ],
   "source": [
    "students"
   ]
  },
  {
   "cell_type": "code",
   "execution_count": 92,
   "id": "e62853ef",
   "metadata": {},
   "outputs": [
    {
     "data": {
      "text/plain": [
       "{'Name': 'Ravi', 'Sec': 'A', 'Class': 5, 'Roll': 56, 'Address': 'Noida'}"
      ]
     },
     "execution_count": 92,
     "metadata": {},
     "output_type": "execute_result"
    }
   ],
   "source": [
    "students = {\"Name\":'Ravi','Sec':'A','Class':5,'Roll':56,'Address':'Noida'}\n",
    "students\n"
   ]
  },
  {
   "cell_type": "code",
   "execution_count": 94,
   "id": "27a27fe2",
   "metadata": {},
   "outputs": [
    {
     "data": {
      "text/plain": [
       "('Address', 'Noida')"
      ]
     },
     "execution_count": 94,
     "metadata": {},
     "output_type": "execute_result"
    }
   ],
   "source": [
    "students.popitem()"
   ]
  },
  {
   "cell_type": "code",
   "execution_count": 96,
   "id": "e2b3f163",
   "metadata": {},
   "outputs": [
    {
     "data": {
      "text/plain": [
       "'Ravi'"
      ]
     },
     "execution_count": 96,
     "metadata": {},
     "output_type": "execute_result"
    }
   ],
   "source": [
    "students.pop('Name')"
   ]
  },
  {
   "cell_type": "code",
   "execution_count": 97,
   "id": "e924ce21",
   "metadata": {},
   "outputs": [
    {
     "data": {
      "text/plain": [
       "{'Sec': 'A', 'Class': 5, 'Roll': 56}"
      ]
     },
     "execution_count": 97,
     "metadata": {},
     "output_type": "execute_result"
    }
   ],
   "source": [
    "students"
   ]
  },
  {
   "cell_type": "code",
   "execution_count": 98,
   "id": "6253356e",
   "metadata": {},
   "outputs": [],
   "source": [
    "# fromkeys,'setdefault', 'update',"
   ]
  },
  {
   "cell_type": "code",
   "execution_count": 99,
   "id": "0612e30a",
   "metadata": {},
   "outputs": [
    {
     "data": {
      "text/plain": [
       "{'Name': ['Ajay', 'Karan'], 'salary': [34, 45], 'Address': ['Noida', 'delhi']}"
      ]
     },
     "execution_count": 99,
     "metadata": {},
     "output_type": "execute_result"
    }
   ],
   "source": [
    "employee_data = {'Name':['Ajay','Karan'],\n",
    "                'salary':[34,45],\n",
    "                'Address':['Noida',\"delhi\"]}\n",
    "\n",
    "employee_data"
   ]
  },
  {
   "cell_type": "code",
   "execution_count": 100,
   "id": "92a48ebd",
   "metadata": {},
   "outputs": [],
   "source": [
    "new_dict = {}\n",
    "\n",
    "\n",
    "new_dict = new_dict.fromkeys(employee_data)"
   ]
  },
  {
   "cell_type": "code",
   "execution_count": 101,
   "id": "c50a2441",
   "metadata": {},
   "outputs": [
    {
     "data": {
      "text/plain": [
       "{'Name': None, 'salary': None, 'Address': None}"
      ]
     },
     "execution_count": 101,
     "metadata": {},
     "output_type": "execute_result"
    }
   ],
   "source": [
    "new_dict"
   ]
  },
  {
   "cell_type": "code",
   "execution_count": 102,
   "id": "ac40df65",
   "metadata": {},
   "outputs": [],
   "source": [
    "data = ['Name','Address','Salary','Emp_id','Dept']\n",
    "\n",
    "\n",
    "employee_dict = {}\n",
    "\n",
    "employee_dict = employee_dict.fromkeys(data)"
   ]
  },
  {
   "cell_type": "code",
   "execution_count": 103,
   "id": "43465aa5",
   "metadata": {},
   "outputs": [
    {
     "data": {
      "text/plain": [
       "{'Name': None, 'Address': None, 'Salary': None, 'Emp_id': None, 'Dept': None}"
      ]
     },
     "execution_count": 103,
     "metadata": {},
     "output_type": "execute_result"
    }
   ],
   "source": [
    "employee_dict"
   ]
  },
  {
   "cell_type": "code",
   "execution_count": null,
   "id": "ac54bee5",
   "metadata": {},
   "outputs": [],
   "source": []
  },
  {
   "cell_type": "code",
   "execution_count": null,
   "id": "088c6409",
   "metadata": {},
   "outputs": [],
   "source": []
  },
  {
   "cell_type": "code",
   "execution_count": 104,
   "id": "99d1078e",
   "metadata": {},
   "outputs": [],
   "source": [
    "# 'setdefault', 'update',"
   ]
  },
  {
   "cell_type": "code",
   "execution_count": null,
   "id": "fe93f289",
   "metadata": {},
   "outputs": [],
   "source": []
  },
  {
   "cell_type": "code",
   "execution_count": 105,
   "id": "f235cb3f",
   "metadata": {},
   "outputs": [
    {
     "name": "stdout",
     "output_type": "stream",
     "text": [
      "{'Bmw': 989876, 'Kia': 56543, 'Maruti': 34567, 'Honda': 56543}\n"
     ]
    }
   ],
   "source": [
    "car_collection = {'Bmw':989876,'Kia':56543,'Maruti':34567,'Honda':56543}\n",
    "\n",
    "print(car_collection)"
   ]
  },
  {
   "cell_type": "code",
   "execution_count": 106,
   "id": "ec2016ef",
   "metadata": {},
   "outputs": [
    {
     "data": {
      "text/plain": [
       "999999"
      ]
     },
     "execution_count": 106,
     "metadata": {},
     "output_type": "execute_result"
    }
   ],
   "source": [
    "car_collection.setdefault('Jaguar',999999)"
   ]
  },
  {
   "cell_type": "code",
   "execution_count": 107,
   "id": "240d203d",
   "metadata": {},
   "outputs": [
    {
     "data": {
      "text/plain": [
       "{'Bmw': 989876,\n",
       " 'Kia': 56543,\n",
       " 'Maruti': 34567,\n",
       " 'Honda': 56543,\n",
       " 'Jaguar': 999999}"
      ]
     },
     "execution_count": 107,
     "metadata": {},
     "output_type": "execute_result"
    }
   ],
   "source": [
    "car_collection"
   ]
  },
  {
   "cell_type": "code",
   "execution_count": 108,
   "id": "d84e72fb",
   "metadata": {},
   "outputs": [
    {
     "data": {
      "text/plain": [
       "56543"
      ]
     },
     "execution_count": 108,
     "metadata": {},
     "output_type": "execute_result"
    }
   ],
   "source": [
    "car_collection.setdefault('Kia',98765432)"
   ]
  },
  {
   "cell_type": "code",
   "execution_count": 109,
   "id": "7fa05010",
   "metadata": {},
   "outputs": [
    {
     "data": {
      "text/plain": [
       "{'Bmw': 989876,\n",
       " 'Kia': 56543,\n",
       " 'Maruti': 34567,\n",
       " 'Honda': 56543,\n",
       " 'Jaguar': 999999}"
      ]
     },
     "execution_count": 109,
     "metadata": {},
     "output_type": "execute_result"
    }
   ],
   "source": [
    "car_collection"
   ]
  },
  {
   "cell_type": "code",
   "execution_count": 110,
   "id": "4c8d604a",
   "metadata": {},
   "outputs": [],
   "source": [
    "car_collection['Kia'] = 98754"
   ]
  },
  {
   "cell_type": "code",
   "execution_count": 111,
   "id": "8171fdd6",
   "metadata": {},
   "outputs": [
    {
     "data": {
      "text/plain": [
       "{'Bmw': 989876,\n",
       " 'Kia': 98754,\n",
       " 'Maruti': 34567,\n",
       " 'Honda': 56543,\n",
       " 'Jaguar': 999999}"
      ]
     },
     "execution_count": 111,
     "metadata": {},
     "output_type": "execute_result"
    }
   ],
   "source": [
    "car_collection"
   ]
  },
  {
   "cell_type": "code",
   "execution_count": 112,
   "id": "ae3b1e34",
   "metadata": {},
   "outputs": [],
   "source": [
    "car_collection['MG'] = 87654"
   ]
  },
  {
   "cell_type": "code",
   "execution_count": 113,
   "id": "23644639",
   "metadata": {},
   "outputs": [
    {
     "data": {
      "text/plain": [
       "{'Bmw': 989876,\n",
       " 'Kia': 98754,\n",
       " 'Maruti': 34567,\n",
       " 'Honda': 56543,\n",
       " 'Jaguar': 999999,\n",
       " 'MG': 87654}"
      ]
     },
     "execution_count": 113,
     "metadata": {},
     "output_type": "execute_result"
    }
   ],
   "source": [
    "car_collection"
   ]
  },
  {
   "cell_type": "code",
   "execution_count": 114,
   "id": "aa1ef32f",
   "metadata": {},
   "outputs": [],
   "source": [
    "car_collection['Rolls Royce'] = 76543\n",
    "car_collection['Thar'] = 87654\n",
    "car_collection['Range Rover'] = 87654"
   ]
  },
  {
   "cell_type": "code",
   "execution_count": 115,
   "id": "359ae789",
   "metadata": {},
   "outputs": [
    {
     "data": {
      "text/plain": [
       "{'Bmw': 989876,\n",
       " 'Kia': 98754,\n",
       " 'Maruti': 34567,\n",
       " 'Honda': 56543,\n",
       " 'Jaguar': 999999,\n",
       " 'MG': 87654,\n",
       " 'Rolls Royce': 76543,\n",
       " 'Thar': 87654,\n",
       " 'Range Rover': 87654}"
      ]
     },
     "execution_count": 115,
     "metadata": {},
     "output_type": "execute_result"
    }
   ],
   "source": [
    "car_collection"
   ]
  },
  {
   "cell_type": "code",
   "execution_count": 137,
   "id": "60ea10a9",
   "metadata": {},
   "outputs": [],
   "source": [
    "new_car = {'Kia':12,'Swift':8765,'Toyota':87654,'Nano':34567,'Scorpio':23456,'Rolls Royce':456765}"
   ]
  },
  {
   "cell_type": "code",
   "execution_count": 138,
   "id": "55a0fc94",
   "metadata": {},
   "outputs": [],
   "source": [
    "car_collection.update(new_car)"
   ]
  },
  {
   "cell_type": "code",
   "execution_count": 139,
   "id": "5bb6f999",
   "metadata": {},
   "outputs": [
    {
     "data": {
      "text/plain": [
       "{'Bmw': 989876,\n",
       " 'Kia': 12,\n",
       " 'Maruti': 34567,\n",
       " 'Honda': 56543,\n",
       " 'Jaguar': 999999,\n",
       " 'MG': 87654,\n",
       " 'Rolls Royce': 456765,\n",
       " 'Thar': 87654,\n",
       " 'Range Rover': 87654,\n",
       " 'Swift': 8765,\n",
       " 'Toyota': 87654,\n",
       " 'Nano': 34567,\n",
       " 'Scorpio': 23456}"
      ]
     },
     "execution_count": 139,
     "metadata": {},
     "output_type": "execute_result"
    }
   ],
   "source": [
    "car_collection"
   ]
  },
  {
   "cell_type": "code",
   "execution_count": 140,
   "id": "5eaadf85",
   "metadata": {},
   "outputs": [],
   "source": [
    "import pandas as pd"
   ]
  },
  {
   "cell_type": "code",
   "execution_count": 141,
   "id": "038dfe11",
   "metadata": {},
   "outputs": [
    {
     "data": {
      "text/html": [
       "<div>\n",
       "<style scoped>\n",
       "    .dataframe tbody tr th:only-of-type {\n",
       "        vertical-align: middle;\n",
       "    }\n",
       "\n",
       "    .dataframe tbody tr th {\n",
       "        vertical-align: top;\n",
       "    }\n",
       "\n",
       "    .dataframe thead th {\n",
       "        text-align: right;\n",
       "    }\n",
       "</style>\n",
       "<table border=\"1\" class=\"dataframe\">\n",
       "  <thead>\n",
       "    <tr style=\"text-align: right;\">\n",
       "      <th></th>\n",
       "      <th>Bmw</th>\n",
       "      <th>Kia</th>\n",
       "      <th>Maruti</th>\n",
       "      <th>Honda</th>\n",
       "      <th>Jaguar</th>\n",
       "      <th>MG</th>\n",
       "      <th>Rolls Royce</th>\n",
       "      <th>Thar</th>\n",
       "      <th>Range Rover</th>\n",
       "      <th>Swift</th>\n",
       "      <th>Toyota</th>\n",
       "      <th>Nano</th>\n",
       "      <th>Scorpio</th>\n",
       "    </tr>\n",
       "  </thead>\n",
       "  <tbody>\n",
       "    <tr>\n",
       "      <th>Price</th>\n",
       "      <td>989876</td>\n",
       "      <td>12</td>\n",
       "      <td>34567</td>\n",
       "      <td>56543</td>\n",
       "      <td>999999</td>\n",
       "      <td>87654</td>\n",
       "      <td>456765</td>\n",
       "      <td>87654</td>\n",
       "      <td>87654</td>\n",
       "      <td>8765</td>\n",
       "      <td>87654</td>\n",
       "      <td>34567</td>\n",
       "      <td>23456</td>\n",
       "    </tr>\n",
       "  </tbody>\n",
       "</table>\n",
       "</div>"
      ],
      "text/plain": [
       "          Bmw  Kia  Maruti  Honda  Jaguar     MG  Rolls Royce   Thar  \\\n",
       "Price  989876   12   34567  56543  999999  87654       456765  87654   \n",
       "\n",
       "       Range Rover  Swift  Toyota   Nano  Scorpio  \n",
       "Price        87654   8765   87654  34567    23456  "
      ]
     },
     "execution_count": 141,
     "metadata": {},
     "output_type": "execute_result"
    }
   ],
   "source": [
    "pd.DataFrame(car_collection,index = ['Price'])"
   ]
  },
  {
   "cell_type": "code",
   "execution_count": 149,
   "id": "15120d2d",
   "metadata": {},
   "outputs": [
    {
     "data": {
      "text/plain": [
       "13"
      ]
     },
     "execution_count": 149,
     "metadata": {},
     "output_type": "execute_result"
    }
   ],
   "source": [
    "len(car_collection)"
   ]
  },
  {
   "cell_type": "code",
   "execution_count": 155,
   "id": "f4aaf72d",
   "metadata": {},
   "outputs": [],
   "source": [
    "c = ['orange','red','yellow','blue','green','black','purple','pink','indigo','violet','gray','yellow','blue']"
   ]
  },
  {
   "cell_type": "code",
   "execution_count": 156,
   "id": "3cf1be2e",
   "metadata": {},
   "outputs": [
    {
     "data": {
      "text/plain": [
       "13"
      ]
     },
     "execution_count": 156,
     "metadata": {},
     "output_type": "execute_result"
    }
   ],
   "source": [
    "len(c)"
   ]
  },
  {
   "cell_type": "code",
   "execution_count": 160,
   "id": "ef211297",
   "metadata": {},
   "outputs": [],
   "source": [
    "import seaborn as sns"
   ]
  },
  {
   "cell_type": "code",
   "execution_count": 163,
   "id": "f471c0f3",
   "metadata": {},
   "outputs": [
    {
     "data": {
      "text/plain": [
       "<Axes: >"
      ]
     },
     "execution_count": 163,
     "metadata": {},
     "output_type": "execute_result"
    },
    {
     "data": {
      "image/png": "[encoded data removed]",
      "text/plain": [
       "<Figure size 640x480 with 1 Axes>"
      ]
     },
     "metadata": {},
     "output_type": "display_data"
    }
   ],
   "source": [
    "pd.DataFrame(car_collection,index = ['Price']).plot(kind='bar',width =0.9,color = c)"
   ]
  },
  {
   "cell_type": "code",
   "execution_count": null,
   "id": "c08e32ca",
   "metadata": {},
   "outputs": [],
   "source": []
  },
  {
   "cell_type": "code",
   "execution_count": 164,
   "id": "231cf644",
   "metadata": {},
   "outputs": [],
   "source": [
    "# update"
   ]
  },
  {
   "cell_type": "code",
   "execution_count": 165,
   "id": "09f54fb0",
   "metadata": {},
   "outputs": [
    {
     "data": {
      "text/plain": [
       "{'Bmw': 989876,\n",
       " 'Kia': 12,\n",
       " 'Maruti': 34567,\n",
       " 'Honda': 56543,\n",
       " 'Jaguar': 999999,\n",
       " 'MG': 87654,\n",
       " 'Rolls Royce': 456765,\n",
       " 'Thar': 87654,\n",
       " 'Range Rover': 87654,\n",
       " 'Swift': 8765,\n",
       " 'Toyota': 87654,\n",
       " 'Nano': 34567,\n",
       " 'Scorpio': 23456}"
      ]
     },
     "execution_count": 165,
     "metadata": {},
     "output_type": "execute_result"
    }
   ],
   "source": [
    "car_collection"
   ]
  },
  {
   "cell_type": "code",
   "execution_count": 172,
   "id": "af53c0a2",
   "metadata": {},
   "outputs": [],
   "source": [
    "a = {'Name':'Komal'}\n",
    "b = {'Car':'Bmw'}\n",
    "c = {'Salary':876543}\n",
    "d = {'Address':'Noida'}"
   ]
  },
  {
   "cell_type": "code",
   "execution_count": 171,
   "id": "c325193f",
   "metadata": {},
   "outputs": [
    {
     "data": {
      "text/plain": [
       "{'Name': 'Komal', 'Car': 'Bmw', 'Salary': 876543, 'Address': 'Noida'}"
      ]
     },
     "execution_count": 171,
     "metadata": {},
     "output_type": "execute_result"
    }
   ],
   "source": [
    "all_details = {}\n",
    "\n",
    "\n",
    "all_details.update(a)\n",
    "all_details.update(b)\n",
    "all_details.update(c)\n",
    "all_details.update(d)\n",
    "\n",
    "\n",
    "all_details"
   ]
  },
  {
   "cell_type": "code",
   "execution_count": null,
   "id": "214238ec",
   "metadata": {},
   "outputs": [],
   "source": []
  },
  {
   "cell_type": "code",
   "execution_count": 197,
   "id": "78c549b9",
   "metadata": {},
   "outputs": [
    {
     "data": {
      "text/plain": [
       "3"
      ]
     },
     "execution_count": 197,
     "metadata": {},
     "output_type": "execute_result"
    }
   ],
   "source": [
    "# unpacking:_ dict\n",
    "\n",
    "\n",
    "a,b,c = [1,2,3]\n",
    "\n",
    "c"
   ]
  },
  {
   "cell_type": "code",
   "execution_count": 174,
   "id": "00ac777c",
   "metadata": {},
   "outputs": [
    {
     "data": {
      "text/plain": [
       "{'Name': 'Komal', 'Car': 'Bmw', 'Salary': 876543, 'Address': 'Noida'}"
      ]
     },
     "execution_count": 174,
     "metadata": {},
     "output_type": "execute_result"
    }
   ],
   "source": [
    "final_details = {**a,**b,**c,**d}\n",
    "final_details"
   ]
  },
  {
   "cell_type": "code",
   "execution_count": 175,
   "id": "c59d59a3",
   "metadata": {},
   "outputs": [],
   "source": [
    "car_collection['New'] = {**final_details}"
   ]
  },
  {
   "cell_type": "code",
   "execution_count": 176,
   "id": "4264f7c3",
   "metadata": {},
   "outputs": [
    {
     "data": {
      "text/plain": [
       "{'Bmw': 989876,\n",
       " 'Kia': 12,\n",
       " 'Maruti': 34567,\n",
       " 'Honda': 56543,\n",
       " 'Jaguar': 999999,\n",
       " 'MG': 87654,\n",
       " 'Rolls Royce': 456765,\n",
       " 'Thar': 87654,\n",
       " 'Range Rover': 87654,\n",
       " 'Swift': 8765,\n",
       " 'Toyota': 87654,\n",
       " 'Nano': 34567,\n",
       " 'Scorpio': 23456,\n",
       " 'New': {'Name': 'Komal', 'Car': 'Bmw', 'Salary': 876543, 'Address': 'Noida'}}"
      ]
     },
     "execution_count": 176,
     "metadata": {},
     "output_type": "execute_result"
    }
   ],
   "source": [
    "car_collection"
   ]
  },
  {
   "cell_type": "code",
   "execution_count": null,
   "id": "930a9525",
   "metadata": {},
   "outputs": [],
   "source": []
  },
  {
   "cell_type": "code",
   "execution_count": null,
   "id": "f7fb7fea",
   "metadata": {},
   "outputs": [],
   "source": []
  },
  {
   "cell_type": "code",
   "execution_count": 179,
   "id": "0ac00b84",
   "metadata": {},
   "outputs": [
    {
     "data": {
      "text/plain": [
       "{'Name': 'Komal', 'Car': 'Bmw', 'Salary': 876543, 'Address': 'Noida'}"
      ]
     },
     "execution_count": 179,
     "metadata": {},
     "output_type": "execute_result"
    }
   ],
   "source": [
    "final_details = {**a,**b,**c,**d}\n",
    "final_details"
   ]
  },
  {
   "cell_type": "code",
   "execution_count": 181,
   "id": "464db2ed",
   "metadata": {},
   "outputs": [
    {
     "data": {
      "text/plain": [
       "dict_keys(['Name', 'Car', 'Salary', 'Address'])"
      ]
     },
     "execution_count": 181,
     "metadata": {},
     "output_type": "execute_result"
    }
   ],
   "source": [
    "final_details.keys()"
   ]
  },
  {
   "cell_type": "code",
   "execution_count": 182,
   "id": "9ac083e5",
   "metadata": {},
   "outputs": [
    {
     "data": {
      "text/plain": [
       "['Name', 'Car', 'Salary', 'Address']"
      ]
     },
     "execution_count": 182,
     "metadata": {},
     "output_type": "execute_result"
    }
   ],
   "source": [
    "list(final_details)"
   ]
  },
  {
   "cell_type": "code",
   "execution_count": 183,
   "id": "8bc58a4e",
   "metadata": {},
   "outputs": [
    {
     "data": {
      "text/plain": [
       "['Name', 'Car', 'Salary', 'Address']"
      ]
     },
     "execution_count": 183,
     "metadata": {},
     "output_type": "execute_result"
    }
   ],
   "source": [
    "[*final_details]"
   ]
  },
  {
   "cell_type": "code",
   "execution_count": 187,
   "id": "0a482feb",
   "metadata": {},
   "outputs": [
    {
     "data": {
      "text/plain": [
       "[{'Name': 'Komal', 'Car': 'Bmw', 'Salary': 876543, 'Address': 'Noida'}]"
      ]
     },
     "execution_count": 187,
     "metadata": {},
     "output_type": "execute_result"
    }
   ],
   "source": [
    "[{**final_details}]"
   ]
  },
  {
   "cell_type": "code",
   "execution_count": 194,
   "id": "7ada1cb9",
   "metadata": {},
   "outputs": [
    {
     "data": {
      "text/plain": [
       "('Name', 'Car', 'Salary', 'Address')"
      ]
     },
     "execution_count": 194,
     "metadata": {},
     "output_type": "execute_result"
    }
   ],
   "source": [
    "(*final_details,)"
   ]
  },
  {
   "cell_type": "code",
   "execution_count": 193,
   "id": "a3fc47b6",
   "metadata": {},
   "outputs": [
    {
     "data": {
      "text/plain": [
       "(2,)"
      ]
     },
     "execution_count": 193,
     "metadata": {},
     "output_type": "execute_result"
    }
   ],
   "source": [
    "(2,)"
   ]
  },
  {
   "cell_type": "code",
   "execution_count": null,
   "id": "5cdb6f06",
   "metadata": {},
   "outputs": [],
   "source": []
  }
 ],
 "metadata": {
  "kernelspec": {
   "display_name": "Python 3 (ipykernel)",
   "language": "python",
   "name": "python3"
  },
  "language_info": {
   "codemirror_mode": {
    "name": "ipython",
    "version": 3
   },
   "file_extension": ".py",
   "mimetype": "text/x-python",
   "name": "python",
   "nbconvert_exporter": "python",
   "pygments_lexer": "ipython3",
   "version": "3.11.3"
  }
 },
 "nbformat": 4,
 "nbformat_minor": 5
}
