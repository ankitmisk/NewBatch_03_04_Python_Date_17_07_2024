{
 "cells": [
  {
   "cell_type": "code",
   "execution_count": 1,
   "id": "ffe6e6fa",
   "metadata": {},
   "outputs": [],
   "source": [
    "# some important funcs\n",
    "# recursive func\n",
    "# lambda func:- map, filter, reduce\n",
    "# decorator func\n",
    "# generator func"
   ]
  },
  {
   "cell_type": "code",
   "execution_count": 2,
   "id": "f8ecfe2c",
   "metadata": {},
   "outputs": [],
   "source": [
    "# some important functions"
   ]
  },
  {
   "cell_type": "code",
   "execution_count": 3,
   "id": "b53d76f5",
   "metadata": {},
   "outputs": [],
   "source": [
    "# fibonacci numbers\n",
    "# max\n",
    "# min\n",
    "# count\n",
    "# palindrome\n",
    "# check_prime\n",
    "# check_armstrong\n",
    "# anagram\n",
    "# reverse list\n",
    "# give_prime\n",
    "# give_armstrong\n",
    "# "
   ]
  },
  {
   "cell_type": "code",
   "execution_count": 4,
   "id": "31d9cc94",
   "metadata": {},
   "outputs": [
    {
     "data": {
      "text/plain": [
       "532"
      ]
     },
     "execution_count": 4,
     "metadata": {},
     "output_type": "execute_result"
    }
   ],
   "source": [
    "# max\n",
    "\n",
    "a = [23,4,532,6,7]\n",
    "\n",
    "max(a)"
   ]
  },
  {
   "cell_type": "code",
   "execution_count": 5,
   "id": "4ba2d9bb",
   "metadata": {},
   "outputs": [],
   "source": [
    "def maxx(data):\n",
    "    my_max = data[0]\n",
    "    \n",
    "    for i in data:\n",
    "        if i>my_max:\n",
    "            my_max = i\n",
    "    \n",
    "    return my_max"
   ]
  },
  {
   "cell_type": "code",
   "execution_count": 6,
   "id": "bf9e15fd",
   "metadata": {},
   "outputs": [
    {
     "data": {
      "text/plain": [
       "324456"
      ]
     },
     "execution_count": 6,
     "metadata": {},
     "output_type": "execute_result"
    }
   ],
   "source": [
    "a = [21,34,532,456,75,324456,7,5435]\n",
    "\n",
    "max(a)"
   ]
  },
  {
   "cell_type": "code",
   "execution_count": 9,
   "id": "be317070",
   "metadata": {},
   "outputs": [
    {
     "data": {
      "text/plain": [
       "324456"
      ]
     },
     "execution_count": 9,
     "metadata": {},
     "output_type": "execute_result"
    }
   ],
   "source": [
    "maxx(a)"
   ]
  },
  {
   "cell_type": "code",
   "execution_count": null,
   "id": "f1c93c22",
   "metadata": {},
   "outputs": [],
   "source": []
  },
  {
   "cell_type": "code",
   "execution_count": null,
   "id": "99b545c7",
   "metadata": {},
   "outputs": [],
   "source": []
  },
  {
   "cell_type": "code",
   "execution_count": 10,
   "id": "c749bd93",
   "metadata": {},
   "outputs": [],
   "source": [
    "def minn(data):\n",
    "    my_min = data[0]\n",
    "    \n",
    "    for i in data:\n",
    "        if i<my_min:\n",
    "            my_min = i\n",
    "    \n",
    "    return my_min"
   ]
  },
  {
   "cell_type": "code",
   "execution_count": 11,
   "id": "45cb10de",
   "metadata": {},
   "outputs": [
    {
     "data": {
      "text/plain": [
       "23"
      ]
     },
     "execution_count": 11,
     "metadata": {},
     "output_type": "execute_result"
    }
   ],
   "source": [
    "a = [23,45,5432,456,65,35]\n",
    "\n",
    "min(a)"
   ]
  },
  {
   "cell_type": "code",
   "execution_count": 12,
   "id": "f2ba6d57",
   "metadata": {},
   "outputs": [
    {
     "data": {
      "text/plain": [
       "23"
      ]
     },
     "execution_count": 12,
     "metadata": {},
     "output_type": "execute_result"
    }
   ],
   "source": [
    "minn(a)"
   ]
  },
  {
   "cell_type": "code",
   "execution_count": 13,
   "id": "0dc90205",
   "metadata": {},
   "outputs": [
    {
     "data": {
      "text/plain": [
       "13"
      ]
     },
     "execution_count": 13,
     "metadata": {},
     "output_type": "execute_result"
    }
   ],
   "source": [
    "a = [23,45,32,56,4,324,56,789,765,543,4546,7898,78]\n",
    "\n",
    "len(a)"
   ]
  },
  {
   "cell_type": "code",
   "execution_count": 14,
   "id": "c8320286",
   "metadata": {},
   "outputs": [],
   "source": [
    "def count_data(data):\n",
    "    ans = 0\n",
    "    \n",
    "    for i in data:\n",
    "        ans += 1\n",
    "    return ans"
   ]
  },
  {
   "cell_type": "code",
   "execution_count": 16,
   "id": "fc2703d6",
   "metadata": {},
   "outputs": [
    {
     "data": {
      "text/plain": [
       "11"
      ]
     },
     "execution_count": 16,
     "metadata": {},
     "output_type": "execute_result"
    }
   ],
   "source": [
    "a = [23,54,32,456,4,35689,765,543,456797,65465,4578]\n",
    "\n",
    "len(a)"
   ]
  },
  {
   "cell_type": "code",
   "execution_count": 17,
   "id": "2f33c56d",
   "metadata": {},
   "outputs": [
    {
     "data": {
      "text/plain": [
       "11"
      ]
     },
     "execution_count": 17,
     "metadata": {},
     "output_type": "execute_result"
    }
   ],
   "source": [
    "count_data(a)"
   ]
  },
  {
   "cell_type": "code",
   "execution_count": null,
   "id": "a6aa95b0",
   "metadata": {},
   "outputs": [],
   "source": []
  },
  {
   "cell_type": "code",
   "execution_count": 18,
   "id": "1d14ffe8",
   "metadata": {},
   "outputs": [],
   "source": [
    "# palindrome\n",
    "# check_prime\n",
    "# check_armstrong\n",
    "# anagram\n",
    "# reverse list\n",
    "# give_prime\n",
    "# give_armstrong"
   ]
  },
  {
   "cell_type": "code",
   "execution_count": 28,
   "id": "b70cd30b",
   "metadata": {},
   "outputs": [],
   "source": [
    "a = 'naman'\n",
    "\n",
    "def check_palindrome(word):\n",
    "    word = word.lower()\n",
    "    return 'Palindrome' if word == word[::-1] else 'Not a Palindrome'"
   ]
  },
  {
   "cell_type": "code",
   "execution_count": 29,
   "id": "f77f8d68",
   "metadata": {},
   "outputs": [],
   "source": [
    "a = 'nitin'"
   ]
  },
  {
   "cell_type": "code",
   "execution_count": 30,
   "id": "12610eef",
   "metadata": {},
   "outputs": [
    {
     "data": {
      "text/plain": [
       "'nitin'"
      ]
     },
     "execution_count": 30,
     "metadata": {},
     "output_type": "execute_result"
    }
   ],
   "source": [
    "a[::-1]"
   ]
  },
  {
   "cell_type": "code",
   "execution_count": 31,
   "id": "6cf91595",
   "metadata": {},
   "outputs": [
    {
     "data": {
      "text/plain": [
       "'Not a Palindrome'"
      ]
     },
     "execution_count": 31,
     "metadata": {},
     "output_type": "execute_result"
    }
   ],
   "source": [
    "check_palindrome('karan')"
   ]
  },
  {
   "cell_type": "code",
   "execution_count": 32,
   "id": "1980865f",
   "metadata": {},
   "outputs": [
    {
     "data": {
      "text/plain": [
       "'Not a Palindrome'"
      ]
     },
     "execution_count": 32,
     "metadata": {},
     "output_type": "execute_result"
    }
   ],
   "source": [
    "check_palindrome('ajay')"
   ]
  },
  {
   "cell_type": "code",
   "execution_count": 33,
   "id": "c4deb4d1",
   "metadata": {},
   "outputs": [
    {
     "data": {
      "text/plain": [
       "'Palindrome'"
      ]
     },
     "execution_count": 33,
     "metadata": {},
     "output_type": "execute_result"
    }
   ],
   "source": [
    "check_palindrome('nItin')"
   ]
  },
  {
   "cell_type": "code",
   "execution_count": 37,
   "id": "43f0c7d7",
   "metadata": {},
   "outputs": [
    {
     "data": {
      "text/plain": [
       "'Not a Palindrome'"
      ]
     },
     "execution_count": 37,
     "metadata": {},
     "output_type": "execute_result"
    }
   ],
   "source": [
    "check_palindrome('rottator')"
   ]
  },
  {
   "cell_type": "code",
   "execution_count": 38,
   "id": "b0739c9f",
   "metadata": {},
   "outputs": [],
   "source": [
    "# check_prime"
   ]
  },
  {
   "cell_type": "code",
   "execution_count": 39,
   "id": "9f342048",
   "metadata": {},
   "outputs": [],
   "source": [
    "# Thursday:- next:- Test(Upto functions)"
   ]
  },
  {
   "cell_type": "code",
   "execution_count": 40,
   "id": "f1cb254d",
   "metadata": {},
   "outputs": [],
   "source": [
    "# check_prime"
   ]
  },
  {
   "cell_type": "code",
   "execution_count": 42,
   "id": "a8e73f67",
   "metadata": {},
   "outputs": [],
   "source": [
    "# prime:- self, 1\n",
    "# 1:- Not a prime\n",
    "# 2:- Prime:- Even Prime number\n",
    "# 3"
   ]
  },
  {
   "cell_type": "code",
   "execution_count": null,
   "id": "b4b827e0",
   "metadata": {},
   "outputs": [],
   "source": [
    "14:\n",
    "    2,12\n",
    "2,3,4,5,6,7,8,9,10,11,12,13"
   ]
  },
  {
   "cell_type": "code",
   "execution_count": null,
   "id": "f36d6939",
   "metadata": {},
   "outputs": [],
   "source": []
  },
  {
   "cell_type": "code",
   "execution_count": 43,
   "id": "6c2a5ee1",
   "metadata": {},
   "outputs": [],
   "source": [
    "def check_prime(number):\n",
    "    for i in range(2,number):\n",
    "        if number % i == 0:\n",
    "            print('Not a Prime Number')\n",
    "            break\n",
    "    else:\n",
    "        print('Prime Number')"
   ]
  },
  {
   "cell_type": "code",
   "execution_count": 48,
   "id": "4c183745",
   "metadata": {},
   "outputs": [
    {
     "name": "stdout",
     "output_type": "stream",
     "text": [
      "Not a Prime Number\n"
     ]
    }
   ],
   "source": [
    "check_prime(278)"
   ]
  },
  {
   "cell_type": "code",
   "execution_count": null,
   "id": "d9a30a9a",
   "metadata": {},
   "outputs": [],
   "source": []
  },
  {
   "cell_type": "code",
   "execution_count": 52,
   "id": "b3bb9da4",
   "metadata": {},
   "outputs": [],
   "source": [
    "def give_prime_number(n1,n2):\n",
    "    all_prime = []\n",
    "    \n",
    "    for i in range(n1,n2+1):\n",
    "        \n",
    "        for j in range(2,i):\n",
    "            if i % j == 0:\n",
    "                break\n",
    "        else:\n",
    "            all_prime.append(i)\n",
    "            \n",
    "    return all_prime"
   ]
  },
  {
   "cell_type": "code",
   "execution_count": 51,
   "id": "decfbc53",
   "metadata": {},
   "outputs": [
    {
     "data": {
      "text/plain": [
       "[2, 3, 4, 5, 6, 7, 8, 9, 10]"
      ]
     },
     "execution_count": 51,
     "metadata": {},
     "output_type": "execute_result"
    }
   ],
   "source": [
    "list(range(2,11))"
   ]
  },
  {
   "cell_type": "code",
   "execution_count": 53,
   "id": "5e8d120b",
   "metadata": {},
   "outputs": [
    {
     "data": {
      "text/plain": [
       "[13, 17, 19, 23, 29, 31, 37, 41, 43, 47, 53]"
      ]
     },
     "execution_count": 53,
     "metadata": {},
     "output_type": "execute_result"
    }
   ],
   "source": [
    "give_prime_number(12,55)"
   ]
  },
  {
   "cell_type": "code",
   "execution_count": 59,
   "id": "03537297",
   "metadata": {},
   "outputs": [
    {
     "name": "stdout",
     "output_type": "stream",
     "text": [
      "                                  2024\n",
      "\n",
      "      January                   February                   March\n",
      "Mo Tu We Th Fr Sa Su      Mo Tu We Th Fr Sa Su      Mo Tu We Th Fr Sa Su\n",
      " 1  2  3  4  5  6  7                1  2  3  4                   1  2  3\n",
      " 8  9 10 11 12 13 14       5  6  7  8  9 10 11       4  5  6  7  8  9 10\n",
      "15 16 17 18 19 20 21      12 13 14 15 16 17 18      11 12 13 14 15 16 17\n",
      "22 23 24 25 26 27 28      19 20 21 22 23 24 25      18 19 20 21 22 23 24\n",
      "29 30 31                  26 27 28 29               25 26 27 28 29 30 31\n",
      "\n",
      "       April                      May                       June\n",
      "Mo Tu We Th Fr Sa Su      Mo Tu We Th Fr Sa Su      Mo Tu We Th Fr Sa Su\n",
      " 1  2  3  4  5  6  7             1  2  3  4  5                      1  2\n",
      " 8  9 10 11 12 13 14       6  7  8  9 10 11 12       3  4  5  6  7  8  9\n",
      "15 16 17 18 19 20 21      13 14 15 16 17 18 19      10 11 12 13 14 15 16\n",
      "22 23 24 25 26 27 28      20 21 22 23 24 25 26      17 18 19 20 21 22 23\n",
      "29 30                     27 28 29 30 31            24 25 26 27 28 29 30\n",
      "\n",
      "        July                     August                  September\n",
      "Mo Tu We Th Fr Sa Su      Mo Tu We Th Fr Sa Su      Mo Tu We Th Fr Sa Su\n",
      " 1  2  3  4  5  6  7                1  2  3  4                         1\n",
      " 8  9 10 11 12 13 14       5  6  7  8  9 10 11       2  3  4  5  6  7  8\n",
      "15 16 17 18 19 20 21      12 13 14 15 16 17 18       9 10 11 12 13 14 15\n",
      "22 23 24 25 26 27 28      19 20 21 22 23 24 25      16 17 18 19 20 21 22\n",
      "29 30 31                  26 27 28 29 30 31         23 24 25 26 27 28 29\n",
      "                                                    30\n",
      "\n",
      "      October                   November                  December\n",
      "Mo Tu We Th Fr Sa Su      Mo Tu We Th Fr Sa Su      Mo Tu We Th Fr Sa Su\n",
      "    1  2  3  4  5  6                   1  2  3                         1\n",
      " 7  8  9 10 11 12 13       4  5  6  7  8  9 10       2  3  4  5  6  7  8\n",
      "14 15 16 17 18 19 20      11 12 13 14 15 16 17       9 10 11 12 13 14 15\n",
      "21 22 23 24 25 26 27      18 19 20 21 22 23 24      16 17 18 19 20 21 22\n",
      "28 29 30 31               25 26 27 28 29 30         23 24 25 26 27 28 29\n",
      "                                                    30 31\n",
      "\n"
     ]
    }
   ],
   "source": [
    "import calendar\n",
    "print(calendar.calendar(2024))"
   ]
  },
  {
   "cell_type": "code",
   "execution_count": 63,
   "id": "a83c43a2",
   "metadata": {},
   "outputs": [
    {
     "name": "stdout",
     "output_type": "stream",
     "text": [
      "     April 2024\n",
      "Mo Tu We Th Fr Sa Su\n",
      " 1  2  3  4  5  6  7\n",
      " 8  9 10 11 12 13 14\n",
      "15 16 17 18 19 20 21\n",
      "22 23 24 25 26 27 28\n",
      "29 30\n",
      "\n"
     ]
    }
   ],
   "source": [
    "print(calendar.month(2024,4))"
   ]
  },
  {
   "cell_type": "code",
   "execution_count": 65,
   "id": "1aeee8d2",
   "metadata": {},
   "outputs": [
    {
     "name": "stdout",
     "output_type": "stream",
     "text": [
      "[2, 3, 5, 7, 11, 13, 17, 19, 23, 29, 31, 37, 41, 43, 47, 53, 59, 61, 67, 71, 73, 79, 83, 89, 97, 101, 103, 107, 109, 113, 127, 131, 137, 139, 149, 151, 157, 163, 167, 173, 179, 181, 191, 193, 197, 199, 211, 223, 227, 229, 233, 239, 241, 251, 257, 263, 269, 271, 277, 281, 283, 293, 307, 311, 313, 317, 331, 337, 347, 349, 353, 359, 367, 373, 379, 383, 389, 397, 401, 409, 419, 421, 431, 433, 439, 443, 449, 457, 461, 463, 467, 479, 487, 491, 499]\n"
     ]
    }
   ],
   "source": [
    "print(give_prime_number(2,500))"
   ]
  },
  {
   "cell_type": "code",
   "execution_count": 66,
   "id": "abc976b4",
   "metadata": {},
   "outputs": [
    {
     "name": "stdout",
     "output_type": "stream",
     "text": [
      "Prime Number\n"
     ]
    }
   ],
   "source": [
    "check_prime(499)"
   ]
  },
  {
   "cell_type": "code",
   "execution_count": 67,
   "id": "5cf29624",
   "metadata": {},
   "outputs": [],
   "source": [
    "# check_armstrong\n",
    "# # anagram"
   ]
  },
  {
   "cell_type": "code",
   "execution_count": 68,
   "id": "d79f14e4",
   "metadata": {},
   "outputs": [],
   "source": [
    "# 153:-"
   ]
  },
  {
   "cell_type": "code",
   "execution_count": 69,
   "id": "d992bc1a",
   "metadata": {},
   "outputs": [
    {
     "data": {
      "text/plain": [
       "153"
      ]
     },
     "execution_count": 69,
     "metadata": {},
     "output_type": "execute_result"
    }
   ],
   "source": [
    "1**3  + 5**3  +  3**3"
   ]
  },
  {
   "cell_type": "code",
   "execution_count": 70,
   "id": "b407b7ba",
   "metadata": {},
   "outputs": [],
   "source": [
    "# 8208"
   ]
  },
  {
   "cell_type": "code",
   "execution_count": 71,
   "id": "4a908ffb",
   "metadata": {},
   "outputs": [
    {
     "data": {
      "text/plain": [
       "8208"
      ]
     },
     "execution_count": 71,
     "metadata": {},
     "output_type": "execute_result"
    }
   ],
   "source": [
    "8**4  + 2**4 +  0**4 +  8**4"
   ]
  },
  {
   "cell_type": "code",
   "execution_count": 73,
   "id": "4e67ddbe",
   "metadata": {},
   "outputs": [],
   "source": [
    "a = 4679307774"
   ]
  },
  {
   "cell_type": "code",
   "execution_count": 76,
   "id": "4229ff82",
   "metadata": {},
   "outputs": [
    {
     "data": {
      "text/plain": [
       "10"
      ]
     },
     "execution_count": 76,
     "metadata": {},
     "output_type": "execute_result"
    }
   ],
   "source": [
    "len(str(a))"
   ]
  },
  {
   "cell_type": "code",
   "execution_count": 77,
   "id": "a59a1cf4",
   "metadata": {},
   "outputs": [
    {
     "data": {
      "text/plain": [
       "4679307774"
      ]
     },
     "execution_count": 77,
     "metadata": {},
     "output_type": "execute_result"
    }
   ],
   "source": [
    "4**10+6**10+7**10+9**10+3**10+0**10+7**10+7**10+7**10+4**10"
   ]
  },
  {
   "cell_type": "code",
   "execution_count": 80,
   "id": "4c5fc760",
   "metadata": {},
   "outputs": [],
   "source": [
    "# for i in str(4679307774):\n",
    "#     print(i)"
   ]
  },
  {
   "cell_type": "code",
   "execution_count": 82,
   "id": "ecd590ae",
   "metadata": {},
   "outputs": [
    {
     "data": {
      "text/plain": [
       "64"
      ]
     },
     "execution_count": 82,
     "metadata": {},
     "output_type": "execute_result"
    }
   ],
   "source": [
    "int('4')**3"
   ]
  },
  {
   "cell_type": "code",
   "execution_count": 84,
   "id": "d0050f81",
   "metadata": {},
   "outputs": [],
   "source": [
    "def check_armstrong(number):\n",
    "    lt = len(str(number))\n",
    "    \n",
    "    ans = 0\n",
    "    \n",
    "    for i in str(number):\n",
    "        ans += int(i)**lt\n",
    "        \n",
    "    return 'Armstrong Number' if ans == number else 'Not an Armstrong Number'"
   ]
  },
  {
   "cell_type": "code",
   "execution_count": null,
   "id": "2237fb77",
   "metadata": {},
   "outputs": [],
   "source": []
  },
  {
   "cell_type": "code",
   "execution_count": 85,
   "id": "c781e269",
   "metadata": {},
   "outputs": [
    {
     "data": {
      "text/plain": [
       "'Armstrong Number'"
      ]
     },
     "execution_count": 85,
     "metadata": {},
     "output_type": "execute_result"
    }
   ],
   "source": [
    "check_armstrong(153)"
   ]
  },
  {
   "cell_type": "code",
   "execution_count": 86,
   "id": "c059e488",
   "metadata": {},
   "outputs": [
    {
     "data": {
      "text/plain": [
       "'Not an Armstrong Number'"
      ]
     },
     "execution_count": 86,
     "metadata": {},
     "output_type": "execute_result"
    }
   ],
   "source": [
    "check_armstrong(157)"
   ]
  },
  {
   "cell_type": "code",
   "execution_count": 87,
   "id": "ed4c055f",
   "metadata": {},
   "outputs": [
    {
     "data": {
      "text/plain": [
       "'Armstrong Number'"
      ]
     },
     "execution_count": 87,
     "metadata": {},
     "output_type": "execute_result"
    }
   ],
   "source": [
    "check_armstrong(4679307774)"
   ]
  },
  {
   "cell_type": "code",
   "execution_count": 89,
   "id": "18a69cd1",
   "metadata": {},
   "outputs": [
    {
     "data": {
      "text/plain": [
       "'Not an Armstrong Number'"
      ]
     },
     "execution_count": 89,
     "metadata": {},
     "output_type": "execute_result"
    }
   ],
   "source": [
    "check_armstrong(92717)"
   ]
  },
  {
   "cell_type": "code",
   "execution_count": 90,
   "id": "d3962cf3",
   "metadata": {},
   "outputs": [],
   "source": [
    "def give_armstrong(n1,n2):\n",
    "    for i in range(n1,n2+1):\n",
    "        print(i,check_armstrong(i))"
   ]
  },
  {
   "cell_type": "code",
   "execution_count": 92,
   "id": "216d08cc",
   "metadata": {},
   "outputs": [
    {
     "name": "stdout",
     "output_type": "stream",
     "text": [
      "23 Not an Armstrong Number\n",
      "24 Not an Armstrong Number\n",
      "25 Not an Armstrong Number\n",
      "26 Not an Armstrong Number\n",
      "27 Not an Armstrong Number\n",
      "28 Not an Armstrong Number\n",
      "29 Not an Armstrong Number\n",
      "30 Not an Armstrong Number\n",
      "31 Not an Armstrong Number\n",
      "32 Not an Armstrong Number\n",
      "33 Not an Armstrong Number\n",
      "34 Not an Armstrong Number\n",
      "35 Not an Armstrong Number\n",
      "36 Not an Armstrong Number\n",
      "37 Not an Armstrong Number\n",
      "38 Not an Armstrong Number\n",
      "39 Not an Armstrong Number\n",
      "40 Not an Armstrong Number\n",
      "41 Not an Armstrong Number\n",
      "42 Not an Armstrong Number\n",
      "43 Not an Armstrong Number\n",
      "44 Not an Armstrong Number\n",
      "45 Not an Armstrong Number\n",
      "46 Not an Armstrong Number\n",
      "47 Not an Armstrong Number\n",
      "48 Not an Armstrong Number\n",
      "49 Not an Armstrong Number\n",
      "50 Not an Armstrong Number\n",
      "51 Not an Armstrong Number\n",
      "52 Not an Armstrong Number\n",
      "53 Not an Armstrong Number\n",
      "54 Not an Armstrong Number\n",
      "55 Not an Armstrong Number\n",
      "56 Not an Armstrong Number\n",
      "57 Not an Armstrong Number\n",
      "58 Not an Armstrong Number\n",
      "59 Not an Armstrong Number\n",
      "60 Not an Armstrong Number\n",
      "61 Not an Armstrong Number\n",
      "62 Not an Armstrong Number\n",
      "63 Not an Armstrong Number\n",
      "64 Not an Armstrong Number\n",
      "65 Not an Armstrong Number\n",
      "66 Not an Armstrong Number\n",
      "67 Not an Armstrong Number\n",
      "68 Not an Armstrong Number\n",
      "69 Not an Armstrong Number\n",
      "70 Not an Armstrong Number\n",
      "71 Not an Armstrong Number\n",
      "72 Not an Armstrong Number\n",
      "73 Not an Armstrong Number\n",
      "74 Not an Armstrong Number\n",
      "75 Not an Armstrong Number\n",
      "76 Not an Armstrong Number\n",
      "77 Not an Armstrong Number\n",
      "78 Not an Armstrong Number\n",
      "79 Not an Armstrong Number\n",
      "80 Not an Armstrong Number\n",
      "81 Not an Armstrong Number\n",
      "82 Not an Armstrong Number\n",
      "83 Not an Armstrong Number\n",
      "84 Not an Armstrong Number\n",
      "85 Not an Armstrong Number\n",
      "86 Not an Armstrong Number\n",
      "87 Not an Armstrong Number\n",
      "88 Not an Armstrong Number\n",
      "89 Not an Armstrong Number\n",
      "90 Not an Armstrong Number\n",
      "91 Not an Armstrong Number\n",
      "92 Not an Armstrong Number\n",
      "93 Not an Armstrong Number\n",
      "94 Not an Armstrong Number\n",
      "95 Not an Armstrong Number\n",
      "96 Not an Armstrong Number\n",
      "97 Not an Armstrong Number\n",
      "98 Not an Armstrong Number\n",
      "99 Not an Armstrong Number\n",
      "100 Not an Armstrong Number\n",
      "101 Not an Armstrong Number\n",
      "102 Not an Armstrong Number\n",
      "103 Not an Armstrong Number\n",
      "104 Not an Armstrong Number\n",
      "105 Not an Armstrong Number\n",
      "106 Not an Armstrong Number\n",
      "107 Not an Armstrong Number\n",
      "108 Not an Armstrong Number\n",
      "109 Not an Armstrong Number\n",
      "110 Not an Armstrong Number\n",
      "111 Not an Armstrong Number\n",
      "112 Not an Armstrong Number\n",
      "113 Not an Armstrong Number\n",
      "114 Not an Armstrong Number\n",
      "115 Not an Armstrong Number\n",
      "116 Not an Armstrong Number\n",
      "117 Not an Armstrong Number\n",
      "118 Not an Armstrong Number\n",
      "119 Not an Armstrong Number\n",
      "120 Not an Armstrong Number\n",
      "121 Not an Armstrong Number\n",
      "122 Not an Armstrong Number\n",
      "123 Not an Armstrong Number\n",
      "124 Not an Armstrong Number\n",
      "125 Not an Armstrong Number\n",
      "126 Not an Armstrong Number\n",
      "127 Not an Armstrong Number\n",
      "128 Not an Armstrong Number\n",
      "129 Not an Armstrong Number\n",
      "130 Not an Armstrong Number\n",
      "131 Not an Armstrong Number\n",
      "132 Not an Armstrong Number\n",
      "133 Not an Armstrong Number\n",
      "134 Not an Armstrong Number\n",
      "135 Not an Armstrong Number\n",
      "136 Not an Armstrong Number\n",
      "137 Not an Armstrong Number\n",
      "138 Not an Armstrong Number\n",
      "139 Not an Armstrong Number\n",
      "140 Not an Armstrong Number\n",
      "141 Not an Armstrong Number\n",
      "142 Not an Armstrong Number\n",
      "143 Not an Armstrong Number\n",
      "144 Not an Armstrong Number\n",
      "145 Not an Armstrong Number\n",
      "146 Not an Armstrong Number\n",
      "147 Not an Armstrong Number\n",
      "148 Not an Armstrong Number\n",
      "149 Not an Armstrong Number\n",
      "150 Not an Armstrong Number\n",
      "151 Not an Armstrong Number\n",
      "152 Not an Armstrong Number\n",
      "153 Armstrong Number\n",
      "154 Not an Armstrong Number\n",
      "155 Not an Armstrong Number\n",
      "156 Not an Armstrong Number\n",
      "157 Not an Armstrong Number\n",
      "158 Not an Armstrong Number\n",
      "159 Not an Armstrong Number\n",
      "160 Not an Armstrong Number\n",
      "161 Not an Armstrong Number\n",
      "162 Not an Armstrong Number\n",
      "163 Not an Armstrong Number\n",
      "164 Not an Armstrong Number\n",
      "165 Not an Armstrong Number\n",
      "166 Not an Armstrong Number\n",
      "167 Not an Armstrong Number\n",
      "168 Not an Armstrong Number\n",
      "169 Not an Armstrong Number\n",
      "170 Not an Armstrong Number\n",
      "171 Not an Armstrong Number\n",
      "172 Not an Armstrong Number\n",
      "173 Not an Armstrong Number\n",
      "174 Not an Armstrong Number\n",
      "175 Not an Armstrong Number\n",
      "176 Not an Armstrong Number\n",
      "177 Not an Armstrong Number\n",
      "178 Not an Armstrong Number\n",
      "179 Not an Armstrong Number\n",
      "180 Not an Armstrong Number\n",
      "181 Not an Armstrong Number\n",
      "182 Not an Armstrong Number\n",
      "183 Not an Armstrong Number\n",
      "184 Not an Armstrong Number\n",
      "185 Not an Armstrong Number\n",
      "186 Not an Armstrong Number\n",
      "187 Not an Armstrong Number\n",
      "188 Not an Armstrong Number\n",
      "189 Not an Armstrong Number\n",
      "190 Not an Armstrong Number\n",
      "191 Not an Armstrong Number\n",
      "192 Not an Armstrong Number\n",
      "193 Not an Armstrong Number\n",
      "194 Not an Armstrong Number\n",
      "195 Not an Armstrong Number\n",
      "196 Not an Armstrong Number\n",
      "197 Not an Armstrong Number\n",
      "198 Not an Armstrong Number\n",
      "199 Not an Armstrong Number\n",
      "200 Not an Armstrong Number\n",
      "201 Not an Armstrong Number\n",
      "202 Not an Armstrong Number\n",
      "203 Not an Armstrong Number\n",
      "204 Not an Armstrong Number\n",
      "205 Not an Armstrong Number\n",
      "206 Not an Armstrong Number\n",
      "207 Not an Armstrong Number\n",
      "208 Not an Armstrong Number\n",
      "209 Not an Armstrong Number\n",
      "210 Not an Armstrong Number\n",
      "211 Not an Armstrong Number\n",
      "212 Not an Armstrong Number\n",
      "213 Not an Armstrong Number\n",
      "214 Not an Armstrong Number\n",
      "215 Not an Armstrong Number\n",
      "216 Not an Armstrong Number\n",
      "217 Not an Armstrong Number\n",
      "218 Not an Armstrong Number\n",
      "219 Not an Armstrong Number\n",
      "220 Not an Armstrong Number\n",
      "221 Not an Armstrong Number\n",
      "222 Not an Armstrong Number\n",
      "223 Not an Armstrong Number\n",
      "224 Not an Armstrong Number\n",
      "225 Not an Armstrong Number\n",
      "226 Not an Armstrong Number\n",
      "227 Not an Armstrong Number\n",
      "228 Not an Armstrong Number\n",
      "229 Not an Armstrong Number\n",
      "230 Not an Armstrong Number\n",
      "231 Not an Armstrong Number\n",
      "232 Not an Armstrong Number\n",
      "233 Not an Armstrong Number\n",
      "234 Not an Armstrong Number\n",
      "235 Not an Armstrong Number\n",
      "236 Not an Armstrong Number\n",
      "237 Not an Armstrong Number\n",
      "238 Not an Armstrong Number\n",
      "239 Not an Armstrong Number\n",
      "240 Not an Armstrong Number\n",
      "241 Not an Armstrong Number\n",
      "242 Not an Armstrong Number\n",
      "243 Not an Armstrong Number\n",
      "244 Not an Armstrong Number\n",
      "245 Not an Armstrong Number\n",
      "246 Not an Armstrong Number\n",
      "247 Not an Armstrong Number\n",
      "248 Not an Armstrong Number\n",
      "249 Not an Armstrong Number\n",
      "250 Not an Armstrong Number\n",
      "251 Not an Armstrong Number\n",
      "252 Not an Armstrong Number\n",
      "253 Not an Armstrong Number\n",
      "254 Not an Armstrong Number\n",
      "255 Not an Armstrong Number\n",
      "256 Not an Armstrong Number\n",
      "257 Not an Armstrong Number\n",
      "258 Not an Armstrong Number\n",
      "259 Not an Armstrong Number\n",
      "260 Not an Armstrong Number\n",
      "261 Not an Armstrong Number\n",
      "262 Not an Armstrong Number\n",
      "263 Not an Armstrong Number\n",
      "264 Not an Armstrong Number\n",
      "265 Not an Armstrong Number\n",
      "266 Not an Armstrong Number\n",
      "267 Not an Armstrong Number\n",
      "268 Not an Armstrong Number\n",
      "269 Not an Armstrong Number\n",
      "270 Not an Armstrong Number\n",
      "271 Not an Armstrong Number\n",
      "272 Not an Armstrong Number\n",
      "273 Not an Armstrong Number\n",
      "274 Not an Armstrong Number\n",
      "275 Not an Armstrong Number\n",
      "276 Not an Armstrong Number\n",
      "277 Not an Armstrong Number\n",
      "278 Not an Armstrong Number\n",
      "279 Not an Armstrong Number\n",
      "280 Not an Armstrong Number\n",
      "281 Not an Armstrong Number\n",
      "282 Not an Armstrong Number\n",
      "283 Not an Armstrong Number\n",
      "284 Not an Armstrong Number\n",
      "285 Not an Armstrong Number\n",
      "286 Not an Armstrong Number\n",
      "287 Not an Armstrong Number\n",
      "288 Not an Armstrong Number\n",
      "289 Not an Armstrong Number\n",
      "290 Not an Armstrong Number\n",
      "291 Not an Armstrong Number\n",
      "292 Not an Armstrong Number\n",
      "293 Not an Armstrong Number\n",
      "294 Not an Armstrong Number\n",
      "295 Not an Armstrong Number\n",
      "296 Not an Armstrong Number\n",
      "297 Not an Armstrong Number\n",
      "298 Not an Armstrong Number\n",
      "299 Not an Armstrong Number\n",
      "300 Not an Armstrong Number\n"
     ]
    }
   ],
   "source": [
    "give_armstrong(23,300)"
   ]
  },
  {
   "cell_type": "code",
   "execution_count": 93,
   "id": "feba3064",
   "metadata": {},
   "outputs": [],
   "source": [
    "def give_armstrong(n1,n2):\n",
    "    all_armstrong = []\n",
    "    for i in range(n1,n2+1):\n",
    "        if check_armstrong(i) == 'Armstrong Number':\n",
    "            all_armstrong.append(i)\n",
    "    return all_armstrong"
   ]
  },
  {
   "cell_type": "code",
   "execution_count": 94,
   "id": "aada9648",
   "metadata": {},
   "outputs": [
    {
     "data": {
      "text/plain": [
       "[153, 370, 371, 407]"
      ]
     },
     "execution_count": 94,
     "metadata": {},
     "output_type": "execute_result"
    }
   ],
   "source": [
    "give_armstrong(100,500)"
   ]
  },
  {
   "cell_type": "code",
   "execution_count": null,
   "id": "6ebfa5fd",
   "metadata": {},
   "outputs": [],
   "source": []
  },
  {
   "cell_type": "markdown",
   "id": "4f848369",
   "metadata": {},
   "source": [
    "# day 5"
   ]
  },
  {
   "cell_type": "code",
   "execution_count": 1,
   "id": "5684c0ad",
   "metadata": {},
   "outputs": [
    {
     "data": {
      "text/plain": [
       "2"
      ]
     },
     "execution_count": 1,
     "metadata": {},
     "output_type": "execute_result"
    }
   ],
   "source": [
    "'harry'.count('r')"
   ]
  },
  {
   "cell_type": "code",
   "execution_count": 4,
   "id": "d7f698eb",
   "metadata": {},
   "outputs": [],
   "source": [
    "a = {}\n",
    "a['c'] = 3"
   ]
  },
  {
   "cell_type": "code",
   "execution_count": 5,
   "id": "47529f5d",
   "metadata": {},
   "outputs": [
    {
     "data": {
      "text/plain": [
       "{'c': 3}"
      ]
     },
     "execution_count": 5,
     "metadata": {},
     "output_type": "execute_result"
    }
   ],
   "source": [
    "a"
   ]
  },
  {
   "cell_type": "code",
   "execution_count": 17,
   "id": "d1cdfe45",
   "metadata": {},
   "outputs": [],
   "source": [
    "# anagram:- two words with same count of characters\n",
    "\n",
    "# Cheater = teacher\n",
    "def check_anagram(w1,w2):\n",
    "        \n",
    "    w1,w2 = w1.lower(),w2.lower()\n",
    "    \n",
    "    w1_counts = {}\n",
    "    w2_counts = {}\n",
    "    \n",
    "    \n",
    "    for i in w1:\n",
    "        w1_counts[i] = w1.count(i)\n",
    "        \n",
    "    for j in w2:\n",
    "        w2_counts[j] = w2.count(j)\n",
    "    \n",
    "    \n",
    "        \n",
    "    return 'Anagram' if w1_counts == w2_counts else 'Not an Anagram'\n"
   ]
  },
  {
   "cell_type": "code",
   "execution_count": 20,
   "id": "425166b1",
   "metadata": {},
   "outputs": [
    {
     "data": {
      "text/plain": [
       "'Anagram'"
      ]
     },
     "execution_count": 20,
     "metadata": {},
     "output_type": "execute_result"
    }
   ],
   "source": [
    "check_anagram('Cheater','teacher')"
   ]
  },
  {
   "cell_type": "code",
   "execution_count": null,
   "id": "25389fb2",
   "metadata": {},
   "outputs": [],
   "source": []
  },
  {
   "cell_type": "code",
   "execution_count": 21,
   "id": "b3836f1d",
   "metadata": {},
   "outputs": [],
   "source": [
    "# 'ant'\n",
    "# 'tna'\n",
    "# 'nat'\n",
    "# 'atn'\n",
    "# 'nta'\n",
    "# 'tan'"
   ]
  },
  {
   "cell_type": "code",
   "execution_count": 22,
   "id": "1eddc3bb",
   "metadata": {},
   "outputs": [
    {
     "data": {
      "text/plain": [
       "6"
      ]
     },
     "execution_count": 22,
     "metadata": {},
     "output_type": "execute_result"
    }
   ],
   "source": [
    "3*2*1"
   ]
  },
  {
   "cell_type": "code",
   "execution_count": 24,
   "id": "785df130",
   "metadata": {},
   "outputs": [
    {
     "data": {
      "text/plain": [
       "6"
      ]
     },
     "execution_count": 24,
     "metadata": {},
     "output_type": "execute_result"
    }
   ],
   "source": [
    "3*2\n",
    "2*3"
   ]
  },
  {
   "cell_type": "code",
   "execution_count": 32,
   "id": "b0eac637",
   "metadata": {},
   "outputs": [],
   "source": [
    "def factorial(number):\n",
    "    if number>=0:\n",
    "        res = 1\n",
    "\n",
    "        for i in range(1,number+1):\n",
    "            res*= i\n",
    "        return res\n",
    "    else:\n",
    "        print('Not allowed!!')"
   ]
  },
  {
   "cell_type": "code",
   "execution_count": 35,
   "id": "d0c80d75",
   "metadata": {},
   "outputs": [
    {
     "data": {
      "text/plain": [
       "3628800"
      ]
     },
     "execution_count": 35,
     "metadata": {},
     "output_type": "execute_result"
    }
   ],
   "source": [
    "factorial(10)"
   ]
  },
  {
   "cell_type": "code",
   "execution_count": null,
   "id": "a4780f31",
   "metadata": {},
   "outputs": [],
   "source": [
    "'gfdfgkjggfzgg'"
   ]
  },
  {
   "cell_type": "code",
   "execution_count": null,
   "id": "f0278b5e",
   "metadata": {},
   "outputs": [],
   "source": []
  },
  {
   "cell_type": "code",
   "execution_count": 36,
   "id": "d6243a05",
   "metadata": {},
   "outputs": [
    {
     "name": "stdout",
     "output_type": "stream",
     "text": [
      "[23, 45, 4321, 345, 67434]\n"
     ]
    }
   ],
   "source": [
    "a = [23,45,4321,345,67434]\n",
    "\n",
    "print(a)"
   ]
  },
  {
   "cell_type": "code",
   "execution_count": 37,
   "id": "2cc18b04",
   "metadata": {},
   "outputs": [],
   "source": [
    "a.reverse()"
   ]
  },
  {
   "cell_type": "code",
   "execution_count": 38,
   "id": "bfc21745",
   "metadata": {},
   "outputs": [
    {
     "data": {
      "text/plain": [
       "[67434, 345, 4321, 45, 23]"
      ]
     },
     "execution_count": 38,
     "metadata": {},
     "output_type": "execute_result"
    }
   ],
   "source": [
    "a"
   ]
  },
  {
   "cell_type": "code",
   "execution_count": 39,
   "id": "00fc1d60",
   "metadata": {},
   "outputs": [
    {
     "data": {
      "text/plain": [
       "[3, 7787, 46, 324, 67, 13245, 4, 3245, 34]"
      ]
     },
     "execution_count": 39,
     "metadata": {},
     "output_type": "execute_result"
    }
   ],
   "source": [
    "data = [34,3245,4,13245,67,324,46,7787,3]\n",
    "\n",
    "\n",
    "data[::-1]"
   ]
  },
  {
   "cell_type": "code",
   "execution_count": 40,
   "id": "b8bd6b68",
   "metadata": {},
   "outputs": [],
   "source": [
    "# reversed()"
   ]
  },
  {
   "cell_type": "code",
   "execution_count": 41,
   "id": "48713f07",
   "metadata": {},
   "outputs": [
    {
     "data": {
      "text/plain": [
       "[34, 3245, 4, 13245, 67, 324, 46, 7787, 3]"
      ]
     },
     "execution_count": 41,
     "metadata": {},
     "output_type": "execute_result"
    }
   ],
   "source": [
    "data"
   ]
  },
  {
   "cell_type": "code",
   "execution_count": 42,
   "id": "4de4625e",
   "metadata": {},
   "outputs": [
    {
     "name": "stdout",
     "output_type": "stream",
     "text": [
      "34\n",
      "3245\n",
      "4\n",
      "13245\n",
      "67\n",
      "324\n",
      "46\n",
      "7787\n",
      "3\n"
     ]
    }
   ],
   "source": [
    "for i in data:\n",
    "    print(i)"
   ]
  },
  {
   "cell_type": "code",
   "execution_count": 43,
   "id": "c0472f69",
   "metadata": {},
   "outputs": [
    {
     "data": {
      "text/plain": [
       "[34, 3245, 4, 13245, 67, 324, 46, 7787, 3]"
      ]
     },
     "execution_count": 43,
     "metadata": {},
     "output_type": "execute_result"
    }
   ],
   "source": [
    "data"
   ]
  },
  {
   "cell_type": "code",
   "execution_count": 45,
   "id": "33d76d13",
   "metadata": {},
   "outputs": [
    {
     "data": {
      "text/plain": [
       "9"
      ]
     },
     "execution_count": 45,
     "metadata": {},
     "output_type": "execute_result"
    }
   ],
   "source": [
    "len(data)"
   ]
  },
  {
   "cell_type": "code",
   "execution_count": null,
   "id": "dfbc7510",
   "metadata": {},
   "outputs": [],
   "source": []
  },
  {
   "cell_type": "code",
   "execution_count": 60,
   "id": "3df5f8ab",
   "metadata": {},
   "outputs": [
    {
     "data": {
      "text/plain": [
       "[34, 3245, 4, 13245, 67, 324, 46, 7787, 3]"
      ]
     },
     "execution_count": 60,
     "metadata": {},
     "output_type": "execute_result"
    }
   ],
   "source": [
    "data"
   ]
  },
  {
   "cell_type": "code",
   "execution_count": 59,
   "id": "7de7d632",
   "metadata": {},
   "outputs": [
    {
     "name": "stdout",
     "output_type": "stream",
     "text": [
      "[3, 7787, 46, 324, 67, 13245, 4, 3245, 34]\n"
     ]
    }
   ],
   "source": [
    "reversed_list = []\n",
    "for i in range(1,len(data)+1):\n",
    "    reversed_list.append(data[-i])\n",
    "print(reversed_list)"
   ]
  },
  {
   "cell_type": "code",
   "execution_count": null,
   "id": "739ea67a",
   "metadata": {},
   "outputs": [],
   "source": []
  },
  {
   "cell_type": "code",
   "execution_count": 70,
   "id": "278dbf88",
   "metadata": {},
   "outputs": [],
   "source": [
    "def reversed_list(data):\n",
    "    r_data =[]\n",
    "    for i in range(1,len(data)+1):\n",
    "        r_data.append(data[-i])\n",
    "        \n",
    "    if type(data) == str:\n",
    "        return ...\n",
    "    \n",
    "    elif type(data) == tuple:\n",
    "        return tuple(r_data)\n",
    "\n",
    "    else:\n",
    "        return r_data\n"
   ]
  },
  {
   "cell_type": "code",
   "execution_count": 66,
   "id": "3cfb4430",
   "metadata": {},
   "outputs": [
    {
     "data": {
      "text/plain": [
       "[78, 435, 5432, 34, 2]"
      ]
     },
     "execution_count": 66,
     "metadata": {},
     "output_type": "execute_result"
    }
   ],
   "source": [
    "reversed_list([2,34,5432,435,78])"
   ]
  },
  {
   "cell_type": "code",
   "execution_count": 67,
   "id": "6b3e2496",
   "metadata": {},
   "outputs": [
    {
     "data": {
      "text/plain": [
       "(467, 653, 345, 42, 34, 2)"
      ]
     },
     "execution_count": 67,
     "metadata": {},
     "output_type": "execute_result"
    }
   ],
   "source": [
    "reversed_list((2,34,42,345,653,467))"
   ]
  },
  {
   "cell_type": "code",
   "execution_count": null,
   "id": "e66227a5",
   "metadata": {},
   "outputs": [],
   "source": []
  },
  {
   "cell_type": "code",
   "execution_count": 68,
   "id": "2718ffe0",
   "metadata": {},
   "outputs": [
    {
     "data": {
      "text/plain": [
       "[467, 653, 345, 42, 34, 2]"
      ]
     },
     "execution_count": 68,
     "metadata": {},
     "output_type": "execute_result"
    }
   ],
   "source": [
    "reversed_list([2,34,42,345,653,467])"
   ]
  },
  {
   "cell_type": "code",
   "execution_count": 69,
   "id": "9e3fdff7",
   "metadata": {},
   "outputs": [
    {
     "data": {
      "text/plain": [
       "['r', 'e', 'k', 'o', 'j']"
      ]
     },
     "execution_count": 69,
     "metadata": {},
     "output_type": "execute_result"
    }
   ],
   "source": [
    "reversed_list('joker')"
   ]
  },
  {
   "cell_type": "code",
   "execution_count": 71,
   "id": "3152121c",
   "metadata": {},
   "outputs": [
    {
     "data": {
      "text/plain": [
       "'rekoj'"
      ]
     },
     "execution_count": 71,
     "metadata": {},
     "output_type": "execute_result"
    }
   ],
   "source": [
    "''.join(['r', 'e', 'k', 'o', 'j'])"
   ]
  },
  {
   "cell_type": "code",
   "execution_count": null,
   "id": "7715c21c",
   "metadata": {},
   "outputs": [],
   "source": []
  },
  {
   "cell_type": "code",
   "execution_count": 72,
   "id": "d5254dba",
   "metadata": {},
   "outputs": [],
   "source": [
    "def reversed_list(data):\n",
    "    r_data =[]\n",
    "    for i in range(1,len(data)+1):\n",
    "        r_data.append(data[-i])\n",
    "        \n",
    "    if type(data) == str:\n",
    "        return ''.join(r_data)\n",
    "    \n",
    "    elif type(data) == tuple:\n",
    "        return tuple(r_data)\n",
    "\n",
    "    else:\n",
    "        return r_data\n"
   ]
  },
  {
   "cell_type": "code",
   "execution_count": null,
   "id": "2d08e140",
   "metadata": {},
   "outputs": [],
   "source": []
  },
  {
   "cell_type": "code",
   "execution_count": 73,
   "id": "63a75352",
   "metadata": {},
   "outputs": [
    {
     "data": {
      "text/plain": [
       "'rekoj'"
      ]
     },
     "execution_count": 73,
     "metadata": {},
     "output_type": "execute_result"
    }
   ],
   "source": [
    "reversed_list('joker')"
   ]
  },
  {
   "cell_type": "code",
   "execution_count": 74,
   "id": "5839ac21",
   "metadata": {},
   "outputs": [
    {
     "data": {
      "text/plain": [
       "[457, 34, 21345, 4, 23, 1]"
      ]
     },
     "execution_count": 74,
     "metadata": {},
     "output_type": "execute_result"
    }
   ],
   "source": [
    "reversed_list([1,23,4,21345,34,457])"
   ]
  },
  {
   "cell_type": "code",
   "execution_count": null,
   "id": "fc46ff6c",
   "metadata": {},
   "outputs": [],
   "source": []
  },
  {
   "cell_type": "code",
   "execution_count": null,
   "id": "0e7f0a5e",
   "metadata": {},
   "outputs": [],
   "source": []
  },
  {
   "cell_type": "code",
   "execution_count": 75,
   "id": "d78a591b",
   "metadata": {},
   "outputs": [],
   "source": [
    "def reversed_list(data):\n",
    "    r_data =[]\n",
    "    for i in range(1,len(data)+1):\n",
    "        r_data.append(data[-i])\n",
    "        \n",
    "    if type(data) == str:\n",
    "        r_data = ''.join(r_data)\n",
    "    \n",
    "    elif type(data) == tuple:\n",
    "        r_data =  tuple(r_data)\n",
    "    \n",
    "    else:\n",
    "        ...\n",
    "    \n",
    "    return r_data\n",
    "    \n"
   ]
  },
  {
   "cell_type": "code",
   "execution_count": 79,
   "id": "ffc3cf84",
   "metadata": {},
   "outputs": [
    {
     "data": {
      "text/plain": [
       "'yaja'"
      ]
     },
     "execution_count": 79,
     "metadata": {},
     "output_type": "execute_result"
    }
   ],
   "source": [
    "reversed_list('ajay')"
   ]
  },
  {
   "cell_type": "code",
   "execution_count": null,
   "id": "e6376a00",
   "metadata": {},
   "outputs": [],
   "source": [
    "1,6,50\n",
    "1,6,10\n",
    "1,3,6"
   ]
  },
  {
   "cell_type": "code",
   "execution_count": 95,
   "id": "c9267c80",
   "metadata": {},
   "outputs": [],
   "source": [
    "def give_AP_series(s,e,k):\n",
    "    ...\n",
    "    \n",
    "def give_area(shape=None):\n",
    "    if shape == 'circle':\n",
    "        r = float(input('Enter radius: '))\n",
    "        \n",
    "        area = 3.14*r**2\n",
    "        \n",
    "    elif shape == 'rectangle':\n",
    "        l = float(input('Enter length: '))\n",
    "        b = float(input('Enter breadth: '))\n",
    "        area = l*b\n",
    "        \n",
    "    elif shape == 'square':\n",
    "        side = float(input('Enter side of a Square: '))\n",
    "        \n",
    "        area = side**2\n",
    "        \n",
    "    elif shape == 'triangle':\n",
    "    \n",
    "        \n",
    "        side_a = float(input('Enter side_a: '))\n",
    "        side_b = float(input('Enter side_b: '))\n",
    "        side_c = float(input('Enter side_c: '))\n",
    "        \n",
    "        if ((side_a+side_b)>side_c) and ((side_b+side_c)>side_a) and ((side_c+side_a)>side_b):\n",
    "        \n",
    "        \n",
    "            s = (side_a + side_b + side_c)/2\n",
    "\n",
    "            area = (s*(s-side_a)*(s-side_b)*(s-side_c))**0.5\n",
    "        else:\n",
    "            print('Invalid Triangle shape!!')\n",
    "            area = -1\n",
    "\n",
    "    else:\n",
    "        print('Invalid shape')\n",
    "        \n",
    "    print(f'Area of a {shape} : {round(area,2)} sq-unit')\n",
    "        "
   ]
  },
  {
   "cell_type": "code",
   "execution_count": null,
   "id": "2575dbde",
   "metadata": {},
   "outputs": [],
   "source": []
  },
  {
   "cell_type": "code",
   "execution_count": null,
   "id": "61500130",
   "metadata": {},
   "outputs": [],
   "source": []
  },
  {
   "cell_type": "code",
   "execution_count": 97,
   "id": "f79d0c33",
   "metadata": {},
   "outputs": [
    {
     "name": "stdout",
     "output_type": "stream",
     "text": [
      "Enter side_a: 12\n",
      "Enter side_b: 45\n",
      "Enter side_c: 34\n",
      "Area of a triangle : 93.62 sq-unit\n"
     ]
    }
   ],
   "source": [
    "give_area('triangle')"
   ]
  },
  {
   "cell_type": "code",
   "execution_count": null,
   "id": "5dd3771c",
   "metadata": {},
   "outputs": [],
   "source": [
    "# round()\n",
    "\n",
    "a = 23\n",
    "b = 3\n",
    "c = 21\n"
   ]
  }
 ],
 "metadata": {
  "kernelspec": {
   "display_name": "Python 3 (ipykernel)",
   "language": "python",
   "name": "python3"
  },
  "language_info": {
   "codemirror_mode": {
    "name": "ipython",
    "version": 3
   },
   "file_extension": ".py",
   "mimetype": "text/x-python",
   "name": "python",
   "nbconvert_exporter": "python",
   "pygments_lexer": "ipython3",
   "version": "3.11.3"
  }
 },
 "nbformat": 4,
 "nbformat_minor": 5
}
