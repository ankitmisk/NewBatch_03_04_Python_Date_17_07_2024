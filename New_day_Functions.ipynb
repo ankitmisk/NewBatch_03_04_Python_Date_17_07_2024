{
 "cells": [
  {
   "cell_type": "code",
   "execution_count": 1,
   "id": "f0b6e452",
   "metadata": {},
   "outputs": [],
   "source": [
    "# Functions"
   ]
  },
  {
   "cell_type": "code",
   "execution_count": null,
   "id": "32b9a0f6",
   "metadata": {},
   "outputs": [],
   "source": []
  },
  {
   "cell_type": "code",
   "execution_count": 2,
   "id": "1a15cc66",
   "metadata": {},
   "outputs": [
    {
     "data": {
      "text/plain": [
       "3244"
      ]
     },
     "execution_count": 2,
     "metadata": {},
     "output_type": "execute_result"
    }
   ],
   "source": [
    "data = [1,234,5,3244]\n",
    "\n",
    "max(data)"
   ]
  },
  {
   "cell_type": "code",
   "execution_count": 3,
   "id": "387a2a6b",
   "metadata": {},
   "outputs": [],
   "source": [
    "data = ['ola','uber','happy']\n",
    "\n",
    "v = []\n",
    "c = []\n",
    "\n",
    "\n",
    "for i in data:\n",
    "    if i[0].lower() in 'aeiou':\n",
    "        v.append(i)\n",
    "    else:\n",
    "        c.append(i)"
   ]
  },
  {
   "cell_type": "code",
   "execution_count": 4,
   "id": "5dc773e1",
   "metadata": {},
   "outputs": [
    {
     "name": "stdout",
     "output_type": "stream",
     "text": [
      "['ola', 'uber']\n"
     ]
    }
   ],
   "source": [
    "print(v)"
   ]
  },
  {
   "cell_type": "code",
   "execution_count": 5,
   "id": "e741ebb3",
   "metadata": {},
   "outputs": [
    {
     "name": "stdout",
     "output_type": "stream",
     "text": [
      "['happy']\n"
     ]
    }
   ],
   "source": [
    "print(c)"
   ]
  },
  {
   "cell_type": "code",
   "execution_count": 6,
   "id": "2fb505f0",
   "metadata": {},
   "outputs": [],
   "source": [
    "# functions:- set of defined codes which perform some operations and give result"
   ]
  },
  {
   "cell_type": "code",
   "execution_count": 7,
   "id": "8d1fa664",
   "metadata": {},
   "outputs": [],
   "source": [
    "# functions:- \n",
    "# inbuilt func:- predefined\n",
    "# user defined func"
   ]
  },
  {
   "cell_type": "code",
   "execution_count": 9,
   "id": "b98823a5",
   "metadata": {},
   "outputs": [],
   "source": [
    "# # pre-defined\n",
    "# 1. print()\n",
    "# 2. id()\n",
    "# 3. len()\n",
    "# 4. chr()\n",
    "# 5. ord()\n",
    "# 6. max()\n",
    "# 7. min()\n",
    "# 8. sum()\n",
    "# 9. reversed()\n",
    "# 10. range()\n",
    "# 11. round()\n",
    "# 12. exec()\n",
    "# 13. execfile()\n",
    "# 14. dir()\n",
    "# 15. input()\n",
    "# 16. type()"
   ]
  },
  {
   "cell_type": "code",
   "execution_count": 10,
   "id": "32c16d95",
   "metadata": {},
   "outputs": [],
   "source": [
    "# # str():- class\n",
    "# int()\n",
    "# float()\n",
    "# bool()\n",
    "# tuple()\n",
    "# list()\n",
    "# set()\n",
    "# complex\n",
    "# dict()\n",
    "# frozenset()\n",
    "\n"
   ]
  },
  {
   "cell_type": "code",
   "execution_count": 11,
   "id": "f2c13381",
   "metadata": {},
   "outputs": [],
   "source": [
    "# user defined functions"
   ]
  },
  {
   "cell_type": "code",
   "execution_count": 12,
   "id": "20271248",
   "metadata": {},
   "outputs": [],
   "source": [
    "# Software:DA\n",
    "#     Packages:\n",
    "#         Modules:\n",
    "#             class:\n",
    "#                 function:\n",
    "#                     conditional programming"
   ]
  },
  {
   "cell_type": "code",
   "execution_count": null,
   "id": "61d5fe54",
   "metadata": {},
   "outputs": [],
   "source": []
  },
  {
   "cell_type": "code",
   "execution_count": 13,
   "id": "6adb8433",
   "metadata": {},
   "outputs": [],
   "source": [
    "# define"
   ]
  },
  {
   "cell_type": "code",
   "execution_count": 15,
   "id": "f676ad43",
   "metadata": {},
   "outputs": [],
   "source": [
    "# def greet():\n",
    "#     code jo abhi tak padha hai"
   ]
  },
  {
   "cell_type": "code",
   "execution_count": 16,
   "id": "ac04d27a",
   "metadata": {},
   "outputs": [],
   "source": [
    "def greet():\n",
    "    print('Hello Buddy!!')"
   ]
  },
  {
   "cell_type": "code",
   "execution_count": 17,
   "id": "b5513c58",
   "metadata": {},
   "outputs": [
    {
     "name": "stdout",
     "output_type": "stream",
     "text": [
      "\n",
      "Here is a list of the Python keywords.  Enter any keyword to get more help.\n",
      "\n",
      "False               class               from                or\n",
      "None                continue            global              pass\n",
      "True                def                 if                  raise\n",
      "and                 del                 import              return\n",
      "as                  elif                in                  try\n",
      "assert              else                is                  while\n",
      "async               except              lambda              with\n",
      "await               finally             nonlocal            yield\n",
      "break               for                 not                 \n",
      "\n"
     ]
    }
   ],
   "source": [
    "help('keywords')"
   ]
  },
  {
   "cell_type": "code",
   "execution_count": 18,
   "id": "3e598c78",
   "metadata": {},
   "outputs": [
    {
     "data": {
      "text/plain": [
       "<function __main__.greet()>"
      ]
     },
     "execution_count": 18,
     "metadata": {},
     "output_type": "execute_result"
    }
   ],
   "source": [
    "greet"
   ]
  },
  {
   "cell_type": "code",
   "execution_count": 19,
   "id": "b47ee6c4",
   "metadata": {},
   "outputs": [],
   "source": [
    "# present_file:- __main__"
   ]
  },
  {
   "cell_type": "code",
   "execution_count": 20,
   "id": "1621f45b",
   "metadata": {},
   "outputs": [
    {
     "data": {
      "text/plain": [
       "builtin_function_or_method"
      ]
     },
     "execution_count": 20,
     "metadata": {},
     "output_type": "execute_result"
    }
   ],
   "source": [
    "type(max)"
   ]
  },
  {
   "cell_type": "code",
   "execution_count": 21,
   "id": "a5d8872a",
   "metadata": {},
   "outputs": [
    {
     "data": {
      "text/plain": [
       "function"
      ]
     },
     "execution_count": 21,
     "metadata": {},
     "output_type": "execute_result"
    }
   ],
   "source": [
    "type(greet)"
   ]
  },
  {
   "cell_type": "code",
   "execution_count": 22,
   "id": "c7b1a9be",
   "metadata": {},
   "outputs": [
    {
     "data": {
      "text/plain": [
       "builtin_function_or_method"
      ]
     },
     "execution_count": 22,
     "metadata": {},
     "output_type": "execute_result"
    }
   ],
   "source": [
    "a = [23546,3256]\n",
    "\n",
    "type(a.append)"
   ]
  },
  {
   "cell_type": "code",
   "execution_count": 23,
   "id": "992d22e7",
   "metadata": {},
   "outputs": [
    {
     "name": "stdout",
     "output_type": "stream",
     "text": [
      "Hello Buddy!!\n"
     ]
    }
   ],
   "source": [
    "greet()"
   ]
  },
  {
   "cell_type": "code",
   "execution_count": 27,
   "id": "4b6c5fc7",
   "metadata": {},
   "outputs": [],
   "source": [
    "def print_table():\n",
    "    for i in range(1,11):\n",
    "        print(f\"2 x {i} = {2*i}\")"
   ]
  },
  {
   "cell_type": "code",
   "execution_count": 28,
   "id": "ad42c178",
   "metadata": {},
   "outputs": [
    {
     "name": "stdout",
     "output_type": "stream",
     "text": [
      "2 x 1 = 2\n",
      "2 x 2 = 4\n",
      "2 x 3 = 6\n",
      "2 x 4 = 8\n",
      "2 x 5 = 10\n",
      "2 x 6 = 12\n",
      "2 x 7 = 14\n",
      "2 x 8 = 16\n",
      "2 x 9 = 18\n",
      "2 x 10 = 20\n"
     ]
    }
   ],
   "source": [
    "print_table()"
   ]
  },
  {
   "cell_type": "code",
   "execution_count": 29,
   "id": "dcefcbbc",
   "metadata": {},
   "outputs": [
    {
     "name": "stdout",
     "output_type": "stream",
     "text": [
      "2 x 1 = 2\n",
      "2 x 2 = 4\n",
      "2 x 3 = 6\n",
      "2 x 4 = 8\n",
      "2 x 5 = 10\n",
      "2 x 6 = 12\n",
      "2 x 7 = 14\n",
      "2 x 8 = 16\n",
      "2 x 9 = 18\n",
      "2 x 10 = 20\n"
     ]
    }
   ],
   "source": [
    "for i in range(1,11):\n",
    "        print(f\"2 x {i} = {2*i}\")"
   ]
  },
  {
   "cell_type": "code",
   "execution_count": 30,
   "id": "b144b92b",
   "metadata": {},
   "outputs": [
    {
     "name": "stdout",
     "output_type": "stream",
     "text": [
      "2 x 1 = 2\n",
      "2 x 2 = 4\n",
      "2 x 3 = 6\n",
      "2 x 4 = 8\n",
      "2 x 5 = 10\n",
      "2 x 6 = 12\n",
      "2 x 7 = 14\n",
      "2 x 8 = 16\n",
      "2 x 9 = 18\n",
      "2 x 10 = 20\n"
     ]
    }
   ],
   "source": [
    "for i in range(1,11):\n",
    "        print(f\"2 x {i} = {2*i}\")"
   ]
  },
  {
   "cell_type": "code",
   "execution_count": 31,
   "id": "609fa0b0",
   "metadata": {},
   "outputs": [
    {
     "name": "stdout",
     "output_type": "stream",
     "text": [
      "2 x 1 = 2\n",
      "2 x 2 = 4\n",
      "2 x 3 = 6\n",
      "2 x 4 = 8\n",
      "2 x 5 = 10\n",
      "2 x 6 = 12\n",
      "2 x 7 = 14\n",
      "2 x 8 = 16\n",
      "2 x 9 = 18\n",
      "2 x 10 = 20\n"
     ]
    }
   ],
   "source": [
    "print_table()"
   ]
  },
  {
   "cell_type": "code",
   "execution_count": 32,
   "id": "ef245d09",
   "metadata": {},
   "outputs": [
    {
     "name": "stdout",
     "output_type": "stream",
     "text": [
      "2 x 1 = 2\n",
      "2 x 2 = 4\n",
      "2 x 3 = 6\n",
      "2 x 4 = 8\n",
      "2 x 5 = 10\n",
      "2 x 6 = 12\n",
      "2 x 7 = 14\n",
      "2 x 8 = 16\n",
      "2 x 9 = 18\n",
      "2 x 10 = 20\n"
     ]
    }
   ],
   "source": [
    "print_table()"
   ]
  },
  {
   "cell_type": "code",
   "execution_count": 33,
   "id": "2fc4ce51",
   "metadata": {},
   "outputs": [
    {
     "data": {
      "text/plain": [
       "245"
      ]
     },
     "execution_count": 33,
     "metadata": {},
     "output_type": "execute_result"
    }
   ],
   "source": [
    "max([1,245,6])"
   ]
  },
  {
   "cell_type": "code",
   "execution_count": 35,
   "id": "8ded9cf6",
   "metadata": {},
   "outputs": [],
   "source": [
    "# print_table(2)"
   ]
  },
  {
   "cell_type": "code",
   "execution_count": 36,
   "id": "9fd02626",
   "metadata": {},
   "outputs": [],
   "source": [
    "# 50%\n",
    "# func\n",
    "# 50%"
   ]
  },
  {
   "cell_type": "code",
   "execution_count": 41,
   "id": "c0730561",
   "metadata": {},
   "outputs": [],
   "source": [
    "def give_table(kiska):\n",
    "    for i in range(1,11):\n",
    "        print(f\"{kiska} x {i} = {kiska*i}\")"
   ]
  },
  {
   "cell_type": "code",
   "execution_count": null,
   "id": "e4b4521d",
   "metadata": {},
   "outputs": [],
   "source": []
  },
  {
   "cell_type": "code",
   "execution_count": 43,
   "id": "1e777b05",
   "metadata": {},
   "outputs": [
    {
     "name": "stdout",
     "output_type": "stream",
     "text": [
      "39854 x 1 = 39854\n",
      "39854 x 2 = 79708\n",
      "39854 x 3 = 119562\n",
      "39854 x 4 = 159416\n",
      "39854 x 5 = 199270\n",
      "39854 x 6 = 239124\n",
      "39854 x 7 = 278978\n",
      "39854 x 8 = 318832\n",
      "39854 x 9 = 358686\n",
      "39854 x 10 = 398540\n"
     ]
    }
   ],
   "source": [
    "give_table(39854)"
   ]
  },
  {
   "cell_type": "code",
   "execution_count": null,
   "id": "01af143a",
   "metadata": {},
   "outputs": [],
   "source": []
  },
  {
   "cell_type": "code",
   "execution_count": 59,
   "id": "28fba20d",
   "metadata": {},
   "outputs": [],
   "source": [
    "def greet(car):\n",
    "    print(f'''Hello {car}\\nHow are you??''')"
   ]
  },
  {
   "cell_type": "code",
   "execution_count": 60,
   "id": "793f1321",
   "metadata": {},
   "outputs": [
    {
     "name": "stdout",
     "output_type": "stream",
     "text": [
      "Hello Shanu\n",
      "How are you??\n"
     ]
    }
   ],
   "source": [
    "greet('Shanu')"
   ]
  },
  {
   "cell_type": "code",
   "execution_count": 61,
   "id": "67884034",
   "metadata": {},
   "outputs": [
    {
     "name": "stdout",
     "output_type": "stream",
     "text": [
      "Hello Akhil\n",
      "How are you??\n"
     ]
    }
   ],
   "source": [
    "greet('Akhil')"
   ]
  },
  {
   "cell_type": "code",
   "execution_count": 62,
   "id": "c016b80b",
   "metadata": {},
   "outputs": [
    {
     "name": "stdout",
     "output_type": "stream",
     "text": [
      "Hello Python\n",
      "How are you??\n"
     ]
    }
   ],
   "source": [
    "greet('Python')"
   ]
  },
  {
   "cell_type": "code",
   "execution_count": null,
   "id": "bd8dca30",
   "metadata": {},
   "outputs": [],
   "source": []
  },
  {
   "cell_type": "code",
   "execution_count": 63,
   "id": "b29dadf8",
   "metadata": {},
   "outputs": [
    {
     "name": "stdout",
     "output_type": "stream",
     "text": [
      "Hello Ajay\n",
      "How are you??\n"
     ]
    }
   ],
   "source": [
    "greet('Ajay')"
   ]
  },
  {
   "cell_type": "code",
   "execution_count": 64,
   "id": "5dcc7037",
   "metadata": {},
   "outputs": [
    {
     "name": "stdout",
     "output_type": "stream",
     "text": [
      "Hello Vijay\n",
      "How are you??\n"
     ]
    }
   ],
   "source": [
    "greet('Vijay')"
   ]
  },
  {
   "cell_type": "code",
   "execution_count": null,
   "id": "fb9b4d0a",
   "metadata": {},
   "outputs": [],
   "source": []
  },
  {
   "cell_type": "code",
   "execution_count": 65,
   "id": "e48ef157",
   "metadata": {},
   "outputs": [],
   "source": [
    "# name,age,salary,address:- parameters\n",
    "def introduction(name,age,salary,adrs):\n",
    "    print(f'My name is {name}')\n",
    "    print(f'My Age is {age}')   \n",
    "    print(f'My Salary is {salary}')\n",
    "    print(f'My Address is {adrs}')    "
   ]
  },
  {
   "cell_type": "code",
   "execution_count": null,
   "id": "c95e64d5",
   "metadata": {},
   "outputs": [],
   "source": []
  },
  {
   "cell_type": "code",
   "execution_count": 66,
   "id": "bd431dfe",
   "metadata": {},
   "outputs": [
    {
     "name": "stdout",
     "output_type": "stream",
     "text": [
      "My name is Komal\n",
      "My Age is 23\n",
      "My Salary is 34567\n",
      "My Address is Noida\n"
     ]
    }
   ],
   "source": [
    "introduction('Komal',23,34567,'Noida')"
   ]
  },
  {
   "cell_type": "code",
   "execution_count": 71,
   "id": "25c81079",
   "metadata": {},
   "outputs": [
    {
     "name": "stdout",
     "output_type": "stream",
     "text": [
      "My name is lucky\n",
      "My Age is 23\n",
      "My Salary is 87654\n",
      "My Address is delhi\n"
     ]
    }
   ],
   "source": [
    "# 'Komal',23,34567,'Noida':- Arguments\n",
    "introduction('lucky',23,87654,'delhi')"
   ]
  },
  {
   "cell_type": "code",
   "execution_count": 72,
   "id": "6531b4c3",
   "metadata": {},
   "outputs": [
    {
     "ename": "TypeError",
     "evalue": "introduction() takes 4 positional arguments but 5 were given",
     "output_type": "error",
     "traceback": [
      "\u001b[1;31m---------------------------------------------------------------------------\u001b[0m",
      "\u001b[1;31mTypeError\u001b[0m                                 Traceback (most recent call last)",
      "Cell \u001b[1;32mIn[72], line 1\u001b[0m\n\u001b[1;32m----> 1\u001b[0m introduction(\u001b[38;5;124m'\u001b[39m\u001b[38;5;124mlucky\u001b[39m\u001b[38;5;124m'\u001b[39m,\u001b[38;5;241m23\u001b[39m,\u001b[38;5;241m87654\u001b[39m,\u001b[38;5;124m'\u001b[39m\u001b[38;5;124mdelhi\u001b[39m\u001b[38;5;124m'\u001b[39m,\u001b[38;5;124m'\u001b[39m\u001b[38;5;124mSalesman\u001b[39m\u001b[38;5;124m'\u001b[39m)\n",
      "\u001b[1;31mTypeError\u001b[0m: introduction() takes 4 positional arguments but 5 were given"
     ]
    }
   ],
   "source": [
    "introduction('lucky',23,87654,'delhi','Salesman')"
   ]
  },
  {
   "cell_type": "code",
   "execution_count": 73,
   "id": "73c2ff0b",
   "metadata": {},
   "outputs": [],
   "source": [
    "# # func:-\n",
    "# # udf\n",
    "#     with param\n",
    "#     without params"
   ]
  },
  {
   "cell_type": "code",
   "execution_count": null,
   "id": "4886d2fa",
   "metadata": {},
   "outputs": [],
   "source": []
  },
  {
   "cell_type": "code",
   "execution_count": null,
   "id": "28a45620",
   "metadata": {},
   "outputs": [],
   "source": []
  },
  {
   "cell_type": "code",
   "execution_count": null,
   "id": "63f17c69",
   "metadata": {},
   "outputs": [],
   "source": [
    "introduction('lucky',23,87654,'delhi')"
   ]
  },
  {
   "cell_type": "code",
   "execution_count": 74,
   "id": "364e1065",
   "metadata": {},
   "outputs": [
    {
     "name": "stdout",
     "output_type": "stream",
     "text": [
      "My name is 23\n",
      "My Age is lucky\n",
      "My Salary is delhi\n",
      "My Address is 87654\n"
     ]
    }
   ],
   "source": [
    "introduction(23,'lucky','delhi',87654)"
   ]
  },
  {
   "cell_type": "code",
   "execution_count": 77,
   "id": "5b640298",
   "metadata": {},
   "outputs": [
    {
     "name": "stdout",
     "output_type": "stream",
     "text": [
      "My name is lucky\n",
      "My Age is 23\n",
      "My Salary is 87654\n",
      "My Address is delhi\n"
     ]
    }
   ],
   "source": [
    "# positional arguments\n",
    "introduction(age = 23,name = 'lucky',adrs = 'delhi',salary = 87654)"
   ]
  },
  {
   "cell_type": "code",
   "execution_count": null,
   "id": "fedcf5e1",
   "metadata": {},
   "outputs": [],
   "source": []
  },
  {
   "attachments": {
    "image.png": {
     "image/png": "[encoded data removed]"
    }
   },
   "cell_type": "markdown",
   "id": "fdbde093",
   "metadata": {},
   "source": [
    "![image.png](attachment:image.png)"
   ]
  },
  {
   "cell_type": "code",
   "execution_count": null,
   "id": "c2b43a37",
   "metadata": {},
   "outputs": [],
   "source": []
  },
  {
   "cell_type": "code",
   "execution_count": null,
   "id": "0bb2facc",
   "metadata": {},
   "outputs": [],
   "source": []
  },
  {
   "cell_type": "code",
   "execution_count": 78,
   "id": "c7f844c4",
   "metadata": {},
   "outputs": [],
   "source": [
    "# len()"
   ]
  },
  {
   "cell_type": "code",
   "execution_count": 79,
   "id": "4b310e59",
   "metadata": {},
   "outputs": [],
   "source": [
    "# introduction()\n"
   ]
  },
  {
   "cell_type": "code",
   "execution_count": 80,
   "id": "a9769499",
   "metadata": {},
   "outputs": [],
   "source": [
    "# name,age,salary,address:- parameters\n",
    "def introduction(name,age,salary,adrs):\n",
    "    '''Ye mera function hai, ise maine banaya hai, ye mera hi rahega\n",
    "    ex: ise aap 4 detail do ye aapko detail dega'''\n",
    "    print(f'My name is {name}')\n",
    "    print(f'My Age is {age}')   \n",
    "    print(f'My Salary is {salary}')\n",
    "    print(f'My Address is {adrs}')    "
   ]
  },
  {
   "cell_type": "code",
   "execution_count": null,
   "id": "edef2fdd",
   "metadata": {},
   "outputs": [],
   "source": [
    "greet()"
   ]
  },
  {
   "cell_type": "code",
   "execution_count": null,
   "id": "331abd4b",
   "metadata": {},
   "outputs": [],
   "source": [
    "introduction()"
   ]
  },
  {
   "cell_type": "code",
   "execution_count": null,
   "id": "0a4431fc",
   "metadata": {},
   "outputs": [],
   "source": []
  },
  {
   "cell_type": "code",
   "execution_count": 83,
   "id": "9017541f",
   "metadata": {},
   "outputs": [],
   "source": [
    "def summ(a,b):\n",
    "    '''add two numbers'''\n",
    "    \n",
    "    print(f\"{a} + {b} is : \",a + b)"
   ]
  },
  {
   "cell_type": "code",
   "execution_count": 85,
   "id": "d249276b",
   "metadata": {},
   "outputs": [
    {
     "name": "stdout",
     "output_type": "stream",
     "text": [
      "3 + 1 is :  4\n"
     ]
    }
   ],
   "source": [
    "summ(3,1)"
   ]
  },
  {
   "cell_type": "code",
   "execution_count": 86,
   "id": "d5cab5f8",
   "metadata": {},
   "outputs": [],
   "source": [
    "# multiply\n",
    "# sub\n",
    "# div\n"
   ]
  },
  {
   "cell_type": "code",
   "execution_count": null,
   "id": "c5951961",
   "metadata": {},
   "outputs": [],
   "source": []
  }
 ],
 "metadata": {
  "kernelspec": {
   "display_name": "Python 3 (ipykernel)",
   "language": "python",
   "name": "python3"
  },
  "language_info": {
   "codemirror_mode": {
    "name": "ipython",
    "version": 3
   },
   "file_extension": ".py",
   "mimetype": "text/x-python",
   "name": "python",
   "nbconvert_exporter": "python",
   "pygments_lexer": "ipython3",
   "version": "3.11.3"
  }
 },
 "nbformat": 4,
 "nbformat_minor": 5
}
