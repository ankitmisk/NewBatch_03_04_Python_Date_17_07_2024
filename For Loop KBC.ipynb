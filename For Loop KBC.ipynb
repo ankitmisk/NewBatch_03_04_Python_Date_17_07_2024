{
 "cells": [
  {
   "cell_type": "code",
   "execution_count": 1,
   "id": "a575f31a",
   "metadata": {},
   "outputs": [],
   "source": [
    "# Pattern printing\n",
    "# while loop"
   ]
  },
  {
   "cell_type": "code",
   "execution_count": 8,
   "id": "aa38908e",
   "metadata": {},
   "outputs": [
    {
     "name": "stdout",
     "output_type": "stream",
     "text": [
      "karan\n",
      "ravi\n",
      "mohan\n"
     ]
    }
   ],
   "source": [
    "data = ['karan','ravi','mohan']\n",
    "\n",
    "for index,value in enumerate(data):\n",
    "    print(value)"
   ]
  },
  {
   "cell_type": "code",
   "execution_count": 9,
   "id": "91fd5490",
   "metadata": {},
   "outputs": [],
   "source": [
    "import random\n",
    "import time"
   ]
  },
  {
   "cell_type": "code",
   "execution_count": 68,
   "id": "29fd431d",
   "metadata": {},
   "outputs": [
    {
     "name": "stdout",
     "output_type": "stream",
     "text": [
      "                                                     Kon Banega Crorepati                                                    \n",
      "\n",
      "\n",
      "Q1) Which of the following are called \"Key Industrial animals\"?\n",
      "\n",
      "   a) Producers\n",
      "   b) Tertiary consumers\n",
      "   c) Primary consumers\n",
      "   d) None of these\n",
      "Enter your choice: c\n",
      "You Win!!💥\n",
      "\n",
      "\n",
      "\n",
      "Q2) What is the pH value of the human body?\n",
      "\n",
      "   a) 9.2 to 9.8\n",
      "   b) 7.0 to 7.8\n",
      "   c) 6.1 to 6.3\n",
      "   d) 5.4 to 5.6\n"
     ]
    },
    {
     "ename": "KeyboardInterrupt",
     "evalue": "Interrupted by user",
     "output_type": "error",
     "traceback": [
      "\u001b[1;31m---------------------------------------------------------------------------\u001b[0m",
      "\u001b[1;31mKeyboardInterrupt\u001b[0m                         Traceback (most recent call last)",
      "Cell \u001b[1;32mIn[68], line 41\u001b[0m\n\u001b[0;32m     38\u001b[0m \u001b[38;5;28;01mfor\u001b[39;00m ix,op \u001b[38;5;129;01min\u001b[39;00m \u001b[38;5;28menumerate\u001b[39m(options[question_no]):\n\u001b[0;32m     39\u001b[0m     \u001b[38;5;28mprint\u001b[39m(\u001b[38;5;124mf\u001b[39m\u001b[38;5;124m\"\u001b[39m\u001b[38;5;124m   \u001b[39m\u001b[38;5;132;01m{\u001b[39;00moption_name[ix]\u001b[38;5;132;01m}\u001b[39;00m\u001b[38;5;124m) \u001b[39m\u001b[38;5;132;01m{\u001b[39;00mop\u001b[38;5;132;01m}\u001b[39;00m\u001b[38;5;124m\"\u001b[39m)\n\u001b[1;32m---> 41\u001b[0m ans \u001b[38;5;241m=\u001b[39m \u001b[38;5;28minput\u001b[39m(\u001b[38;5;124m'\u001b[39m\u001b[38;5;124mEnter your choice: \u001b[39m\u001b[38;5;124m'\u001b[39m)\u001b[38;5;241m.\u001b[39mlower()\n\u001b[0;32m     43\u001b[0m actual_ans \u001b[38;5;241m=\u001b[39m correct_op[question_no]\n\u001b[0;32m     45\u001b[0m \u001b[38;5;28;01mif\u001b[39;00m ans \u001b[38;5;129;01min\u001b[39;00m option_name:\n",
      "File \u001b[1;32m~\\anaconda3\\Lib\\site-packages\\ipykernel\\kernelbase.py:1175\u001b[0m, in \u001b[0;36mKernel.raw_input\u001b[1;34m(self, prompt)\u001b[0m\n\u001b[0;32m   1171\u001b[0m \u001b[38;5;28;01mif\u001b[39;00m \u001b[38;5;129;01mnot\u001b[39;00m \u001b[38;5;28mself\u001b[39m\u001b[38;5;241m.\u001b[39m_allow_stdin:\n\u001b[0;32m   1172\u001b[0m     \u001b[38;5;28;01mraise\u001b[39;00m StdinNotImplementedError(\n\u001b[0;32m   1173\u001b[0m         \u001b[38;5;124m\"\u001b[39m\u001b[38;5;124mraw_input was called, but this frontend does not support input requests.\u001b[39m\u001b[38;5;124m\"\u001b[39m\n\u001b[0;32m   1174\u001b[0m     )\n\u001b[1;32m-> 1175\u001b[0m \u001b[38;5;28;01mreturn\u001b[39;00m \u001b[38;5;28mself\u001b[39m\u001b[38;5;241m.\u001b[39m_input_request(\n\u001b[0;32m   1176\u001b[0m     \u001b[38;5;28mstr\u001b[39m(prompt),\n\u001b[0;32m   1177\u001b[0m     \u001b[38;5;28mself\u001b[39m\u001b[38;5;241m.\u001b[39m_parent_ident[\u001b[38;5;124m\"\u001b[39m\u001b[38;5;124mshell\u001b[39m\u001b[38;5;124m\"\u001b[39m],\n\u001b[0;32m   1178\u001b[0m     \u001b[38;5;28mself\u001b[39m\u001b[38;5;241m.\u001b[39mget_parent(\u001b[38;5;124m\"\u001b[39m\u001b[38;5;124mshell\u001b[39m\u001b[38;5;124m\"\u001b[39m),\n\u001b[0;32m   1179\u001b[0m     password\u001b[38;5;241m=\u001b[39m\u001b[38;5;28;01mFalse\u001b[39;00m,\n\u001b[0;32m   1180\u001b[0m )\n",
      "File \u001b[1;32m~\\anaconda3\\Lib\\site-packages\\ipykernel\\kernelbase.py:1217\u001b[0m, in \u001b[0;36mKernel._input_request\u001b[1;34m(self, prompt, ident, parent, password)\u001b[0m\n\u001b[0;32m   1214\u001b[0m             \u001b[38;5;28;01mbreak\u001b[39;00m\n\u001b[0;32m   1215\u001b[0m \u001b[38;5;28;01mexcept\u001b[39;00m \u001b[38;5;167;01mKeyboardInterrupt\u001b[39;00m:\n\u001b[0;32m   1216\u001b[0m     \u001b[38;5;66;03m# re-raise KeyboardInterrupt, to truncate traceback\u001b[39;00m\n\u001b[1;32m-> 1217\u001b[0m     \u001b[38;5;28;01mraise\u001b[39;00m \u001b[38;5;167;01mKeyboardInterrupt\u001b[39;00m(\u001b[38;5;124m\"\u001b[39m\u001b[38;5;124mInterrupted by user\u001b[39m\u001b[38;5;124m\"\u001b[39m) \u001b[38;5;28;01mfrom\u001b[39;00m \u001b[38;5;28;01mNone\u001b[39;00m\n\u001b[0;32m   1218\u001b[0m \u001b[38;5;28;01mexcept\u001b[39;00m \u001b[38;5;167;01mException\u001b[39;00m:\n\u001b[0;32m   1219\u001b[0m     \u001b[38;5;28mself\u001b[39m\u001b[38;5;241m.\u001b[39mlog\u001b[38;5;241m.\u001b[39mwarning(\u001b[38;5;124m\"\u001b[39m\u001b[38;5;124mInvalid Message:\u001b[39m\u001b[38;5;124m\"\u001b[39m, exc_info\u001b[38;5;241m=\u001b[39m\u001b[38;5;28;01mTrue\u001b[39;00m)\n",
      "\u001b[1;31mKeyboardInterrupt\u001b[0m: Interrupted by user"
     ]
    }
   ],
   "source": [
    "import pygame\n",
    "pygame.init()\n",
    "\n",
    "questions = ['Which of the following are called \"Key Industrial animals\"?',\n",
    "            'What is the pH value of the human body?',\n",
    "            'Elections to panchayats in state are regulated by',\n",
    "            'Which of the following Himalayan regions is called \"Shivalik\\'s\"?',\n",
    "            'Forming of Association in India is']\n",
    "\n",
    "options = [['Producers','Tertiary consumers','Primary consumers','None of these'],\n",
    "          ['9.2 to 9.8','7.0 to 7.8','6.1 to 6.3','5.4 to 5.6'],\n",
    "          ['Gram panchayat','Nagar Nigam','Election Commission of India','State Election Commission'],\n",
    "          ['Upper Himalayas', 'Lower Himalayas', 'Outer Himalayas', 'Inner Himalayas'],\n",
    "          ['Legal Right', 'Illegal Right', 'Natural Right', 'Fundamental Right.']]\n",
    "\n",
    "\n",
    "correct_op = ['C','B','D','C','D']\n",
    "\n",
    "print('Kon Banega Crorepati'.center(125,' '),end = '\\n'*3)\n",
    "music = pygame.mixer.Sound(r\"C:\\Users\\Lenovo\\Downloads\\kbc-awesome-5410 (1).mp3\")\n",
    "music.play()\n",
    "\n",
    "\n",
    "time.sleep(10)\n",
    "\n",
    "music.stop()\n",
    "\n",
    "\n",
    "\n",
    "option_name = 'abcd'\n",
    "\n",
    "\n",
    "money = 0\n",
    "\n",
    "for question_no,question in enumerate(questions):\n",
    "    print('Q'+str(question_no+1)+')',question,end = '\\n'*2)\n",
    "    \n",
    "    for ix,op in enumerate(options[question_no]):\n",
    "        print(f\"   {option_name[ix]}) {op}\")\n",
    "        \n",
    "    ans = input('Enter your choice: ').lower()\n",
    "    \n",
    "    actual_ans = correct_op[question_no]\n",
    "    \n",
    "    if ans in option_name:\n",
    "        if ans.upper() == actual_ans:\n",
    "            print('You Win!!💥')\n",
    "            money += 100000\n",
    "        else:\n",
    "            print('You Lose😒')\n",
    "            break\n",
    "            \n",
    "    elif ans.lower() in ['exit','e']:\n",
    "        print('Total Win Points',money)\n",
    "        print('BYE!!')\n",
    "        break\n",
    "        \n",
    "    else:\n",
    "        print('Invalid Choice!!')\n",
    "        break\n",
    "    \n",
    "    print(end = '\\n'*3)\n",
    "\n",
    "else:\n",
    "    print('Total Win Points:',money)"
   ]
  },
  {
   "cell_type": "code",
   "execution_count": null,
   "id": "41c12107",
   "metadata": {},
   "outputs": [],
   "source": []
  },
  {
   "cell_type": "code",
   "execution_count": null,
   "id": "80f28594",
   "metadata": {},
   "outputs": [],
   "source": []
  },
  {
   "cell_type": "code",
   "execution_count": null,
   "id": "639466d2",
   "metadata": {},
   "outputs": [],
   "source": []
  }
 ],
 "metadata": {
  "kernelspec": {
   "display_name": "Python 3 (ipykernel)",
   "language": "python",
   "name": "python3"
  },
  "language_info": {
   "codemirror_mode": {
    "name": "ipython",
    "version": 3
   },
   "file_extension": ".py",
   "mimetype": "text/x-python",
   "name": "python",
   "nbconvert_exporter": "python",
   "pygments_lexer": "ipython3",
   "version": "3.11.3"
  }
 },
 "nbformat": 4,
 "nbformat_minor": 5
}
