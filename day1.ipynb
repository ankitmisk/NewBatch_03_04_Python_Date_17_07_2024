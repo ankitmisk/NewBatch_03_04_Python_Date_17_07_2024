{
 "cells": [
  {
   "cell_type": "code",
   "execution_count": 1,
   "id": "38eb9f67",
   "metadata": {},
   "outputs": [
    {
     "name": "stdout",
     "output_type": "stream",
     "text": [
      "4\n"
     ]
    }
   ],
   "source": [
    "print(2*2)"
   ]
  },
  {
   "cell_type": "code",
   "execution_count": 2,
   "id": "45ce5f72",
   "metadata": {},
   "outputs": [
    {
     "name": "stdout",
     "output_type": "stream",
     "text": [
      "Hello World\n"
     ]
    }
   ],
   "source": [
    "print('Hello World')"
   ]
  },
  {
   "cell_type": "code",
   "execution_count": 5,
   "id": "312baa95",
   "metadata": {},
   "outputs": [
    {
     "name": "stdout",
     "output_type": "stream",
     "text": [
      "65.33333333333333\n"
     ]
    }
   ],
   "source": [
    "print(56*7/6)"
   ]
  },
  {
   "cell_type": "code",
   "execution_count": 6,
   "id": "b5d43207",
   "metadata": {},
   "outputs": [
    {
     "name": "stdout",
     "output_type": "stream",
     "text": [
      "Komal\n"
     ]
    }
   ],
   "source": []
  },
  {
   "cell_type": "code",
   "execution_count": 12,
   "id": "f7e3437c",
   "metadata": {},
   "outputs": [
    {
     "name": "stdout",
     "output_type": "stream",
     "text": [
      "Komal\n"
     ]
    }
   ],
   "source": [
    "print('Komal')"
   ]
  },
  {
   "cell_type": "code",
   "execution_count": 13,
   "id": "d80fbee9",
   "metadata": {},
   "outputs": [
    {
     "name": "stdout",
     "output_type": "stream",
     "text": [
      "hello Komal\n",
      "hello Komal\n",
      "hello Komal\n",
      "hello Komal\n",
      "hello Komal\n",
      "hello Komal\n",
      "hello Komal\n",
      "hello Komal\n",
      "hello Komal\n",
      "hello Komal\n"
     ]
    }
   ],
   "source": [
    "for i in range(10):\n",
    "    print('hello Komal')"
   ]
  },
  {
   "cell_type": "code",
   "execution_count": 14,
   "id": "76f2a0f4",
   "metadata": {},
   "outputs": [],
   "source": [
    "import calendar"
   ]
  },
  {
   "cell_type": "code",
   "execution_count": 17,
   "id": "65c9c13f",
   "metadata": {},
   "outputs": [
    {
     "name": "stdout",
     "output_type": "stream",
     "text": [
      "                                  2025\n",
      "\n",
      "      January                   February                   March\n",
      "Mo Tu We Th Fr Sa Su      Mo Tu We Th Fr Sa Su      Mo Tu We Th Fr Sa Su\n",
      "       1  2  3  4  5                      1  2                      1  2\n",
      " 6  7  8  9 10 11 12       3  4  5  6  7  8  9       3  4  5  6  7  8  9\n",
      "13 14 15 16 17 18 19      10 11 12 13 14 15 16      10 11 12 13 14 15 16\n",
      "20 21 22 23 24 25 26      17 18 19 20 21 22 23      17 18 19 20 21 22 23\n",
      "27 28 29 30 31            24 25 26 27 28            24 25 26 27 28 29 30\n",
      "                                                    31\n",
      "\n",
      "       April                      May                       June\n",
      "Mo Tu We Th Fr Sa Su      Mo Tu We Th Fr Sa Su      Mo Tu We Th Fr Sa Su\n",
      "    1  2  3  4  5  6                1  2  3  4                         1\n",
      " 7  8  9 10 11 12 13       5  6  7  8  9 10 11       2  3  4  5  6  7  8\n",
      "14 15 16 17 18 19 20      12 13 14 15 16 17 18       9 10 11 12 13 14 15\n",
      "21 22 23 24 25 26 27      19 20 21 22 23 24 25      16 17 18 19 20 21 22\n",
      "28 29 30                  26 27 28 29 30 31         23 24 25 26 27 28 29\n",
      "                                                    30\n",
      "\n",
      "        July                     August                  September\n",
      "Mo Tu We Th Fr Sa Su      Mo Tu We Th Fr Sa Su      Mo Tu We Th Fr Sa Su\n",
      "    1  2  3  4  5  6                   1  2  3       1  2  3  4  5  6  7\n",
      " 7  8  9 10 11 12 13       4  5  6  7  8  9 10       8  9 10 11 12 13 14\n",
      "14 15 16 17 18 19 20      11 12 13 14 15 16 17      15 16 17 18 19 20 21\n",
      "21 22 23 24 25 26 27      18 19 20 21 22 23 24      22 23 24 25 26 27 28\n",
      "28 29 30 31               25 26 27 28 29 30 31      29 30\n",
      "\n",
      "      October                   November                  December\n",
      "Mo Tu We Th Fr Sa Su      Mo Tu We Th Fr Sa Su      Mo Tu We Th Fr Sa Su\n",
      "       1  2  3  4  5                      1  2       1  2  3  4  5  6  7\n",
      " 6  7  8  9 10 11 12       3  4  5  6  7  8  9       8  9 10 11 12 13 14\n",
      "13 14 15 16 17 18 19      10 11 12 13 14 15 16      15 16 17 18 19 20 21\n",
      "20 21 22 23 24 25 26      17 18 19 20 21 22 23      22 23 24 25 26 27 28\n",
      "27 28 29 30 31            24 25 26 27 28 29 30      29 30 31\n",
      "\n"
     ]
    }
   ],
   "source": [
    "print(calendar.calendar(2025))"
   ]
  },
  {
   "cell_type": "code",
   "execution_count": 18,
   "id": "8e6cefdd",
   "metadata": {},
   "outputs": [],
   "source": [
    "import cowsay"
   ]
  },
  {
   "cell_type": "code",
   "execution_count": 20,
   "id": "78d78d57",
   "metadata": {},
   "outputs": [
    {
     "name": "stdout",
     "output_type": "stream",
     "text": [
      "  ____________\n",
      "| hello Khushi |\n",
      "  ============\n",
      "                   \\\n",
      "                    \\\n",
      "                     \\\n",
      "                      \\\n",
      "                         .-=-==--==--.\n",
      "                   ..-==\"  ,'o`)      `.\n",
      "                 ,'         `\"'         \\\n",
      "                :  (                     `.__...._\n",
      "                |                  )    /         `-=-.\n",
      "                :       ,vv.-._   /    /               `---==-._\n",
      "                 \\/\\/\\/VV ^ d88`;'    /                         `.\n",
      "                     ``  ^/d88P!'    /             ,              `._\n",
      "                        ^/    !'   ,.      ,      /                  \"-,,__,,--'\"\"\"\"-.\n",
      "                       ^/    !'  ,'  \\ . .(      (         _           )  ) ) ) ))_,-.\\\n",
      "                      ^(__ ,!',\"'   ;:+.:%:a.     \\:.. . ,'          )  )  ) ) ,\"'    '\n",
      "                      ',,,'','     /o:::\":%:%a.    \\:.:.:         .    )  ) _,'\n",
      "                       \"\"\"'       ;':::'' `+%%%a._  \\%:%|         ;.). _,-\"\"\n",
      "                              ,-='_.-'      ``:%::)  )%:|        /:._,\"\n",
      "                             (/(/\"           ,\" ,'_,'%%%:       (_,'\n",
      "                                            (  (//(`.___;        \\\n",
      "                                             \\     \\    `         `\n",
      "                                              `.    `.   `.        :\n",
      "                                                \\. . .\\    : . . . :\n",
      "                                                 \\. . .:    `.. . .:\n",
      "                                                  `..:.:\\     \\:...\\\n",
      "                                                   ;:.:.;      ::...:\n",
      "                                                   ):%::       :::::;\n",
      "                                               __,::%:(        :::::\n",
      "                                            ,;:%%%%%%%:        ;:%::\n",
      "                                              ;,--\"\"-.`\\  ,=--':%:%:\\\n",
      "                                             /\"       \"| /-\".:%%%%%%%\\\n",
      "                                                             ;,-\"'`)%%)\n",
      "                                                            /\"      \"|\n"
     ]
    }
   ],
   "source": [
    "cowsay.trex('hello Khushi')"
   ]
  },
  {
   "cell_type": "code",
   "execution_count": 21,
   "id": "4bb1a563",
   "metadata": {},
   "outputs": [
    {
     "name": "stdout",
     "output_type": "stream",
     "text": [
      "\n",
      "Here is a list of the Python keywords.  Enter any keyword to get more help.\n",
      "\n",
      "False               class               from                or\n",
      "None                continue            global              pass\n",
      "True                def                 if                  raise\n",
      "and                 del                 import              return\n",
      "as                  elif                in                  try\n",
      "assert              else                is                  while\n",
      "async               except              lambda              with\n",
      "await               finally             nonlocal            yield\n",
      "break               for                 not                 \n",
      "\n"
     ]
    }
   ],
   "source": [
    "help('keywords')"
   ]
  },
  {
   "cell_type": "markdown",
   "id": "e0e56aeb",
   "metadata": {},
   "source": [
    "# Python Introduction"
   ]
  },
  {
   "cell_type": "markdown",
   "id": "507469ae",
   "metadata": {},
   "source": [
    "Python is a high-level, general-purpose programming language. Its design philosophy emphasizes code readability with the use of significant indentation. Python is dynamically typed and garbage-collected. It supports multiple programming paradigms, including structured, object-oriented and functional programming."
   ]
  },
  {
   "attachments": {
    "Python-Features.png": {
     "image/png": "[encoded data removed]"
    }
   },
   "cell_type": "markdown",
   "id": "9c83f97f",
   "metadata": {},
   "source": [
    "![Python-Features.png](attachment:Python-Features.png)"
   ]
  },
  {
   "cell_type": "markdown",
   "id": "3cccf3c0",
   "metadata": {},
   "source": [
    "# Python Introduction\n",
    "## Python Introduction\n",
    "### Python Introduction\n",
    "#### Python Introduction\n",
    "##### Python Introduction\n",
    "###### Python Introduction\n",
    "####### Python Introduction"
   ]
  },
  {
   "cell_type": "code",
   "execution_count": null,
   "id": "96a79198",
   "metadata": {},
   "outputs": [],
   "source": []
  },
  {
   "cell_type": "markdown",
   "id": "627f9fd9",
   "metadata": {},
   "source": [
    "<center><h1>My name is Harsh</h1></center>"
   ]
  },
  {
   "cell_type": "code",
   "execution_count": null,
   "id": "9955ffb5",
   "metadata": {},
   "outputs": [],
   "source": []
  },
  {
   "cell_type": "code",
   "execution_count": null,
   "id": "81f0f34e",
   "metadata": {},
   "outputs": [],
   "source": []
  },
  {
   "cell_type": "code",
   "execution_count": null,
   "id": "31a3a29c",
   "metadata": {},
   "outputs": [],
   "source": []
  },
  {
   "cell_type": "code",
   "execution_count": 23,
   "id": "58e6668b",
   "metadata": {},
   "outputs": [],
   "source": [
    "# python Data types"
   ]
  },
  {
   "cell_type": "code",
   "execution_count": 25,
   "id": "f692335a",
   "metadata": {},
   "outputs": [
    {
     "name": "stdout",
     "output_type": "stream",
     "text": [
      "Komal Verma learning Python\n"
     ]
    }
   ],
   "source": [
    "name = 'Komal Verma learning Python'\n",
    "print(name)"
   ]
  },
  {
   "cell_type": "code",
   "execution_count": 26,
   "id": "1068ee4b",
   "metadata": {},
   "outputs": [
    {
     "name": "stdout",
     "output_type": "stream",
     "text": [
      "<class 'str'>\n"
     ]
    }
   ],
   "source": [
    "print(type(name))"
   ]
  },
  {
   "cell_type": "code",
   "execution_count": 27,
   "id": "871e698d",
   "metadata": {},
   "outputs": [
    {
     "data": {
      "text/plain": [
       "'KOMAL VERMA LEARNING PYTHON'"
      ]
     },
     "execution_count": 27,
     "metadata": {},
     "output_type": "execute_result"
    }
   ],
   "source": [
    "name.upper()"
   ]
  },
  {
   "cell_type": "code",
   "execution_count": 32,
   "id": "c56fdc45",
   "metadata": {},
   "outputs": [
    {
     "data": {
      "text/plain": [
       "'👍👍👍Komal Verma learning Python👍👍👍'"
      ]
     },
     "execution_count": 32,
     "metadata": {},
     "output_type": "execute_result"
    }
   ],
   "source": [
    "name.center(33,'👍')"
   ]
  },
  {
   "cell_type": "code",
   "execution_count": 33,
   "id": "591c3cd6",
   "metadata": {},
   "outputs": [
    {
     "name": "stdout",
     "output_type": "stream",
     "text": [
      "Hello Python\n"
     ]
    }
   ],
   "source": [
    "data = \"Hello Python\"\n",
    "\n",
    "print(data)"
   ]
  },
  {
   "cell_type": "code",
   "execution_count": 40,
   "id": "0146f1d1",
   "metadata": {},
   "outputs": [
    {
     "name": "stdout",
     "output_type": "stream",
     "text": [
      "-4567\n"
     ]
    }
   ],
   "source": [
    "# numerical data type\n",
    "\n",
    "a = -4567\n",
    "print(a)"
   ]
  },
  {
   "cell_type": "code",
   "execution_count": 41,
   "id": "6ebc2ba5",
   "metadata": {},
   "outputs": [
    {
     "name": "stdout",
     "output_type": "stream",
     "text": [
      "<class 'int'>\n"
     ]
    }
   ],
   "source": [
    "print(type(a))"
   ]
  },
  {
   "cell_type": "code",
   "execution_count": 42,
   "id": "0616cd15",
   "metadata": {},
   "outputs": [
    {
     "name": "stdout",
     "output_type": "stream",
     "text": [
      "234567.34567\n",
      "<class 'float'>\n"
     ]
    }
   ],
   "source": [
    "b = 234567.34567\n",
    "\n",
    "print(b)\n",
    "print(type(b))"
   ]
  },
  {
   "cell_type": "code",
   "execution_count": 44,
   "id": "20d2442f",
   "metadata": {},
   "outputs": [
    {
     "name": "stdout",
     "output_type": "stream",
     "text": [
      "(34+8j)\n"
     ]
    }
   ],
   "source": [
    "data = 34 + 8j\n",
    "\n",
    "print(data)"
   ]
  },
  {
   "cell_type": "code",
   "execution_count": 45,
   "id": "d902362b",
   "metadata": {},
   "outputs": [
    {
     "name": "stdout",
     "output_type": "stream",
     "text": [
      "<class 'complex'>\n"
     ]
    }
   ],
   "source": [
    "print(type(data))"
   ]
  },
  {
   "cell_type": "code",
   "execution_count": 47,
   "id": "c70a0b90",
   "metadata": {},
   "outputs": [
    {
     "name": "stdout",
     "output_type": "stream",
     "text": [
      "('kartik', 34, 56.9, (89-9j))\n",
      "<class 'tuple'>\n"
     ]
    }
   ],
   "source": [
    "# collection\n",
    "data = 'kartik',34,56.9,89-9j\n",
    "\n",
    "print(data)\n",
    "\n",
    "print(type(data))"
   ]
  },
  {
   "cell_type": "code",
   "execution_count": 48,
   "id": "8913e563",
   "metadata": {},
   "outputs": [
    {
     "name": "stdout",
     "output_type": "stream",
     "text": [
      "(1, 23, 45, 'Mohan', 676.9)\n"
     ]
    }
   ],
   "source": [
    "a = (1,23,45,'Mohan',676.9)\n",
    "\n",
    "print(a)"
   ]
  },
  {
   "cell_type": "code",
   "execution_count": 49,
   "id": "8a7100de",
   "metadata": {},
   "outputs": [
    {
     "name": "stdout",
     "output_type": "stream",
     "text": [
      "<class 'tuple'>\n"
     ]
    }
   ],
   "source": [
    "print(type(a))"
   ]
  },
  {
   "cell_type": "code",
   "execution_count": 50,
   "id": "21ed3a70",
   "metadata": {},
   "outputs": [
    {
     "name": "stdout",
     "output_type": "stream",
     "text": [
      "[1, 234, 5, 'karan', 'jatin', 7.9]\n"
     ]
    }
   ],
   "source": [
    "# list\n",
    "\n",
    "var = [1,234,5,'karan','jatin',7.9]\n",
    "\n",
    "print(var)"
   ]
  },
  {
   "cell_type": "code",
   "execution_count": 51,
   "id": "95496a58",
   "metadata": {},
   "outputs": [
    {
     "name": "stdout",
     "output_type": "stream",
     "text": [
      "<class 'list'>\n"
     ]
    }
   ],
   "source": [
    "print(type(var))"
   ]
  },
  {
   "cell_type": "code",
   "execution_count": 52,
   "id": "f9fcbd8e",
   "metadata": {},
   "outputs": [
    {
     "name": "stdout",
     "output_type": "stream",
     "text": [
      "(1, 23, 45, 'Mohan', 676.9)\n"
     ]
    }
   ],
   "source": [
    "print(a)"
   ]
  },
  {
   "cell_type": "code",
   "execution_count": 54,
   "id": "34d28f36",
   "metadata": {},
   "outputs": [
    {
     "ename": "TypeError",
     "evalue": "'tuple' object does not support item assignment",
     "output_type": "error",
     "traceback": [
      "\u001b[1;31m---------------------------------------------------------------------------\u001b[0m",
      "\u001b[1;31mTypeError\u001b[0m                                 Traceback (most recent call last)",
      "Cell \u001b[1;32mIn[54], line 1\u001b[0m\n\u001b[1;32m----> 1\u001b[0m a[\u001b[38;5;241m3\u001b[39m] \u001b[38;5;241m=\u001b[39m \u001b[38;5;124m'\u001b[39m\u001b[38;5;124mMohan kumar\u001b[39m\u001b[38;5;124m'\u001b[39m\n",
      "\u001b[1;31mTypeError\u001b[0m: 'tuple' object does not support item assignment"
     ]
    }
   ],
   "source": [
    "a[3] = 'Mohan kumar'"
   ]
  },
  {
   "cell_type": "code",
   "execution_count": 55,
   "id": "11622722",
   "metadata": {},
   "outputs": [
    {
     "name": "stdout",
     "output_type": "stream",
     "text": [
      "[1, 234, 5, 'karan', 'jatin', 7.9]\n"
     ]
    }
   ],
   "source": [
    "print(var)"
   ]
  },
  {
   "cell_type": "code",
   "execution_count": 57,
   "id": "488026f3",
   "metadata": {},
   "outputs": [],
   "source": [
    "var[4] = 'Jatin Kumar'"
   ]
  },
  {
   "cell_type": "code",
   "execution_count": 58,
   "id": "e0dc4890",
   "metadata": {},
   "outputs": [
    {
     "name": "stdout",
     "output_type": "stream",
     "text": [
      "[1, 234, 5, 'karan', 'Jatin Kumar', 7.9]\n"
     ]
    }
   ],
   "source": [
    "print(var)"
   ]
  },
  {
   "cell_type": "code",
   "execution_count": 59,
   "id": "56d2f290",
   "metadata": {},
   "outputs": [],
   "source": [
    "# tuple\n",
    "# list\n",
    "# complex\n",
    "# string\n",
    "# integer\n",
    "# float\n"
   ]
  },
  {
   "cell_type": "code",
   "execution_count": 60,
   "id": "fa9ab965",
   "metadata": {},
   "outputs": [
    {
     "name": "stdout",
     "output_type": "stream",
     "text": [
      "[1, 1, 1, 1, 1, 2, 22, 2, 3, 3, 3, 3, 4, 4, 4, 5]\n"
     ]
    }
   ],
   "source": [
    "d = [1,1,1,1,1,2,22,2,3,3,3,3,4,4,4,5]\n",
    "\n",
    "print(d)"
   ]
  },
  {
   "cell_type": "code",
   "execution_count": 62,
   "id": "214c9266",
   "metadata": {},
   "outputs": [
    {
     "name": "stdout",
     "output_type": "stream",
     "text": [
      "{1, 2, 3, 34, 4, 5, 21, 22, 667}\n"
     ]
    }
   ],
   "source": [
    "# set\n",
    "my_data = {1,1,1,21,2,22,2,2,2,2,2,2,2,22,2,3,3,3,3,34,4,4,4,4,5,5,5,667}\n",
    "\n",
    "print(my_data)"
   ]
  },
  {
   "cell_type": "code",
   "execution_count": 66,
   "id": "77a0ba01",
   "metadata": {},
   "outputs": [
    {
     "name": "stdout",
     "output_type": "stream",
     "text": [
      "<class 'set'>\n"
     ]
    }
   ],
   "source": [
    "print(type(my_data))"
   ]
  },
  {
   "cell_type": "code",
   "execution_count": 68,
   "id": "791279e9",
   "metadata": {},
   "outputs": [
    {
     "name": "stdout",
     "output_type": "stream",
     "text": [
      "None\n"
     ]
    }
   ],
   "source": [
    "harsh = None\n",
    "\n",
    "print(harsh)"
   ]
  },
  {
   "cell_type": "code",
   "execution_count": 65,
   "id": "c34a2670",
   "metadata": {},
   "outputs": [
    {
     "name": "stdout",
     "output_type": "stream",
     "text": [
      "<class 'NoneType'>\n"
     ]
    }
   ],
   "source": [
    "print(type(harsh))"
   ]
  },
  {
   "cell_type": "code",
   "execution_count": 69,
   "id": "679621eb",
   "metadata": {},
   "outputs": [],
   "source": [
    "# bool data type"
   ]
  },
  {
   "cell_type": "code",
   "execution_count": 70,
   "id": "7ffd9d31",
   "metadata": {},
   "outputs": [],
   "source": [
    "kushi = True\n",
    "Mayank = False"
   ]
  },
  {
   "cell_type": "code",
   "execution_count": 71,
   "id": "a140b449",
   "metadata": {},
   "outputs": [
    {
     "name": "stdout",
     "output_type": "stream",
     "text": [
      "True\n"
     ]
    }
   ],
   "source": [
    "print(kushi)"
   ]
  },
  {
   "cell_type": "code",
   "execution_count": 72,
   "id": "bd05a2c9",
   "metadata": {},
   "outputs": [
    {
     "name": "stdout",
     "output_type": "stream",
     "text": [
      "<class 'bool'>\n"
     ]
    }
   ],
   "source": [
    "print(type(kushi))"
   ]
  },
  {
   "cell_type": "code",
   "execution_count": 73,
   "id": "453fbad1",
   "metadata": {},
   "outputs": [],
   "source": [
    "# tuple\n",
    "# list\n",
    "# complex\n",
    "# string\n",
    "# integer\n",
    "# float\n",
    "# set\n",
    "# bool\n",
    "# None"
   ]
  },
  {
   "cell_type": "code",
   "execution_count": 74,
   "id": "fb86848b",
   "metadata": {},
   "outputs": [
    {
     "name": "stdout",
     "output_type": "stream",
     "text": [
      "['karan@123', 'jatin@134', 'mayank@12345']\n"
     ]
    }
   ],
   "source": [
    "# dict \n",
    "\n",
    "password = ['karan@123','jatin@134','mayank@12345']\n",
    "\n",
    "print(password)"
   ]
  },
  {
   "cell_type": "code",
   "execution_count": 75,
   "id": "71ebec06",
   "metadata": {},
   "outputs": [],
   "source": [
    "data = {'Harsh':'karan@123',\n",
    "       'Shanu':'mayank@12345'}\n",
    "#           key      value"
   ]
  },
  {
   "cell_type": "code",
   "execution_count": 76,
   "id": "e553d9e5",
   "metadata": {},
   "outputs": [
    {
     "name": "stdout",
     "output_type": "stream",
     "text": [
      "{'Harsh': 'karan@123', 'Shanu': 'mayank@12345'}\n"
     ]
    }
   ],
   "source": [
    "print(data)"
   ]
  },
  {
   "cell_type": "code",
   "execution_count": 77,
   "id": "eacf5f2f",
   "metadata": {},
   "outputs": [
    {
     "name": "stdout",
     "output_type": "stream",
     "text": [
      "<class 'dict'>\n"
     ]
    }
   ],
   "source": [
    "print(type(data))"
   ]
  },
  {
   "attachments": {
    "Python-data-structure.jpg": {
     "image/jpeg": "[encoded data removed]"
    }
   },
   "cell_type": "markdown",
   "id": "5989acc1",
   "metadata": {},
   "source": [
    "![Python-data-structure.jpg](attachment:Python-data-structure.jpg)"
   ]
  },
  {
   "cell_type": "code",
   "execution_count": null,
   "id": "d2e1e45e",
   "metadata": {},
   "outputs": [],
   "source": []
  }
 ],
 "metadata": {
  "kernelspec": {
   "display_name": "Python 3 (ipykernel)",
   "language": "python",
   "name": "python3"
  },
  "language_info": {
   "codemirror_mode": {
    "name": "ipython",
    "version": 3
   },
   "file_extension": ".py",
   "mimetype": "text/x-python",
   "name": "python",
   "nbconvert_exporter": "python",
   "pygments_lexer": "ipython3",
   "version": "3.11.3"
  }
 },
 "nbformat": 4,
 "nbformat_minor": 5
}
