{
 "cells": [
  {
   "cell_type": "code",
   "execution_count": 2,
   "id": "b0da6be9",
   "metadata": {},
   "outputs": [],
   "source": [
    "# * * *\n",
    "# * * *\n",
    "# * * *"
   ]
  },
  {
   "cell_type": "code",
   "execution_count": 22,
   "id": "24ce7725",
   "metadata": {},
   "outputs": [
    {
     "name": "stdout",
     "output_type": "stream",
     "text": [
      " * * * * * *\n",
      " * * * * * *\n",
      " * * * * * *\n",
      " * * * * * *\n",
      " * * * * * *\n",
      " * * * * * *\n"
     ]
    }
   ],
   "source": [
    "number = 6\n",
    "\n",
    "for i in range(number):\n",
    "    print(' *'*number)"
   ]
  },
  {
   "cell_type": "code",
   "execution_count": 6,
   "id": "aebdc7ab",
   "metadata": {},
   "outputs": [],
   "source": [
    "# \"* \"*4\n",
    "# \"* \"*4\n",
    "# \"* \"*4\n",
    "# \"* \"*4"
   ]
  },
  {
   "cell_type": "code",
   "execution_count": 11,
   "id": "df81462a",
   "metadata": {},
   "outputs": [],
   "source": [
    "# for loop:- nested"
   ]
  },
  {
   "cell_type": "code",
   "execution_count": 23,
   "id": "64a48bba",
   "metadata": {},
   "outputs": [
    {
     "name": "stdout",
     "output_type": "stream",
     "text": [
      "* * * * * * * * \n",
      "* * * * * * * * \n",
      "* * * * * * * * \n",
      "* * * * * * * * \n",
      "* * * * * * * * \n",
      "* * * * * * * * \n",
      "* * * * * * * * \n",
      "* * * * * * * * \n",
      "\n"
     ]
    }
   ],
   "source": [
    "num = 8\n",
    "star = (\"* \"*num+'\\n')\n",
    "print(star*num)"
   ]
  },
  {
   "cell_type": "code",
   "execution_count": 19,
   "id": "bbf08418",
   "metadata": {},
   "outputs": [
    {
     "name": "stdout",
     "output_type": "stream",
     "text": [
      "* \n",
      "* \n",
      "* \n",
      "* \n",
      "\n"
     ]
    }
   ],
   "source": [
    "print('* \\n'*4)"
   ]
  },
  {
   "cell_type": "code",
   "execution_count": 24,
   "id": "df622932",
   "metadata": {},
   "outputs": [],
   "source": [
    "# '* * * * *'\n",
    "#      *\n",
    "#      *    \n",
    "#      *        \n",
    "#      *    "
   ]
  },
  {
   "cell_type": "code",
   "execution_count": 25,
   "id": "3bcf71dc",
   "metadata": {},
   "outputs": [],
   "source": [
    "# * * * *\n",
    "#    *\n",
    "#    *\n",
    "#    *"
   ]
  },
  {
   "cell_type": "code",
   "execution_count": 43,
   "id": "23c69e1f",
   "metadata": {},
   "outputs": [
    {
     "name": "stdout",
     "output_type": "stream",
     "text": [
      "* * * * * * * * \n",
      "       *\n",
      "       *\n",
      "       *\n",
      "       *\n",
      "       *\n",
      "       *\n",
      "       *\n"
     ]
    }
   ],
   "source": [
    "num = 8\n",
    "for i in range(num):\n",
    "    if i == 0:\n",
    "        print('* '*num)\n",
    "    else:\n",
    "        print(' '*(num-1)+'*')"
   ]
  },
  {
   "cell_type": "code",
   "execution_count": 39,
   "id": "81816dcf",
   "metadata": {},
   "outputs": [
    {
     "data": {
      "text/plain": [
       "'      *       '"
      ]
     },
     "execution_count": 39,
     "metadata": {},
     "output_type": "execute_result"
    }
   ],
   "source": [
    "'*'.center((num-1)*2,' ')"
   ]
  },
  {
   "cell_type": "code",
   "execution_count": 44,
   "id": "d6f87873",
   "metadata": {},
   "outputs": [],
   "source": [
    "# *\n",
    "# * *\n",
    "# * * *\n",
    "# * * * *"
   ]
  },
  {
   "cell_type": "code",
   "execution_count": 55,
   "id": "b0102f77",
   "metadata": {},
   "outputs": [
    {
     "name": "stdout",
     "output_type": "stream",
     "text": [
      "* \n",
      "* * \n",
      "* * * \n",
      "* * * * \n",
      "* * * * * \n"
     ]
    }
   ],
   "source": [
    "num = 5\n",
    "\n",
    "for i in range(1,num+1):\n",
    "    print('* '*i)"
   ]
  },
  {
   "cell_type": "code",
   "execution_count": 56,
   "id": "191d78b1",
   "metadata": {},
   "outputs": [],
   "source": [
    "# * \n",
    "# * * \n",
    "# * * * \n",
    "# * * * *  \n",
    "# * * * * *\n",
    "# * * * * \n",
    "# * * * \n",
    "# * * \n",
    "# *"
   ]
  },
  {
   "cell_type": "code",
   "execution_count": 57,
   "id": "3073f066",
   "metadata": {},
   "outputs": [
    {
     "name": "stdout",
     "output_type": "stream",
     "text": [
      "* * * * * \n",
      "* * * * \n",
      "* * * \n",
      "* * \n",
      "* \n"
     ]
    }
   ],
   "source": [
    "num = 5\n",
    "\n",
    "for i in range(num,0,-1):\n",
    "    print('* '*i)"
   ]
  },
  {
   "cell_type": "code",
   "execution_count": 62,
   "id": "3e81e011",
   "metadata": {},
   "outputs": [
    {
     "name": "stdout",
     "output_type": "stream",
     "text": [
      "* \n",
      "* * \n",
      "* * * \n",
      "* * * * \n",
      "* * * * * \n",
      "* * * * \n",
      "* * * \n",
      "* * \n",
      "* \n"
     ]
    }
   ],
   "source": [
    "num = 5\n",
    "for i in range(1,num):\n",
    "    print('* '*i)\n",
    "    \n",
    "for i in range(num,0,-1):\n",
    "    print('* '*i)"
   ]
  },
  {
   "cell_type": "code",
   "execution_count": 63,
   "id": "72304e95",
   "metadata": {},
   "outputs": [],
   "source": [
    "#         * \n",
    "#       * * \n",
    "#     * * * \n",
    "#   * * * * \n",
    "# * * * * * "
   ]
  },
  {
   "cell_type": "code",
   "execution_count": 70,
   "id": "2894f58a",
   "metadata": {},
   "outputs": [
    {
     "name": "stdout",
     "output_type": "stream",
     "text": [
      "* \n",
      "* * \n",
      "* * * \n",
      "* * * * \n"
     ]
    }
   ],
   "source": [
    "num = 4\n",
    "for i in range(1,num+1):\n",
    "    print(''*(num-i)+'* '*i)"
   ]
  },
  {
   "cell_type": "code",
   "execution_count": null,
   "id": "3785d070",
   "metadata": {},
   "outputs": [],
   "source": []
  },
  {
   "cell_type": "code",
   "execution_count": 76,
   "id": "df4d1a43",
   "metadata": {},
   "outputs": [
    {
     "name": "stdout",
     "output_type": "stream",
     "text": [
      "          * \n",
      "        * * \n",
      "      * * * \n",
      "    * * * * \n",
      "  * * * * * \n",
      "* * * * * * \n"
     ]
    }
   ],
   "source": [
    "num = 6\n",
    "for i in range(1,num+1):\n",
    "    print('  '*(num-i)+'* '*i)"
   ]
  },
  {
   "cell_type": "code",
   "execution_count": 77,
   "id": "c620632d",
   "metadata": {},
   "outputs": [
    {
     "name": "stdout",
     "output_type": "stream",
     "text": [
      "     * \n",
      "    * * \n",
      "   * * * \n",
      "  * * * * \n",
      " * * * * * \n",
      "* * * * * * \n"
     ]
    }
   ],
   "source": [
    "num = 6\n",
    "for i in range(1,num+1):\n",
    "    print(' '*(num-i)+'* '*i)"
   ]
  },
  {
   "cell_type": "code",
   "execution_count": 78,
   "id": "d7459610",
   "metadata": {},
   "outputs": [
    {
     "name": "stdout",
     "output_type": "stream",
     "text": [
      "* * * * * * \n",
      " * * * * * \n",
      "  * * * * \n",
      "   * * * \n",
      "    * * \n",
      "     * \n"
     ]
    }
   ],
   "source": [
    "num = 6\n",
    "for i in range(num,0,-1):\n",
    "    print(' '*(num-i)+'* '*i)"
   ]
  },
  {
   "cell_type": "code",
   "execution_count": null,
   "id": "aba09501",
   "metadata": {},
   "outputs": [],
   "source": []
  },
  {
   "cell_type": "code",
   "execution_count": 81,
   "id": "60db1c2b",
   "metadata": {},
   "outputs": [
    {
     "name": "stdout",
     "output_type": "stream",
     "text": [
      "           * \n",
      "          * * \n",
      "         * * * \n",
      "        * * * * \n",
      "       * * * * * \n",
      "      * * * * * * \n",
      "     * * * * * * * \n",
      "    * * * * * * * * \n",
      "   * * * * * * * * * \n",
      "  * * * * * * * * * * \n",
      " * * * * * * * * * * * \n",
      "* * * * * * * * * * * * \n",
      " * * * * * * * * * * * \n",
      "  * * * * * * * * * * \n",
      "   * * * * * * * * * \n",
      "    * * * * * * * * \n",
      "     * * * * * * * \n",
      "      * * * * * * \n",
      "       * * * * * \n",
      "        * * * * \n",
      "         * * * \n",
      "          * * \n",
      "           * \n"
     ]
    }
   ],
   "source": [
    "num = 12\n",
    "\n",
    "for i in range(1,num):\n",
    "    print(' '*(num-i)+'* '*i)\n",
    "    \n",
    "    \n",
    "for i in range(num,0,-1):\n",
    "    print(' '*(num-i)+'* '*i)"
   ]
  },
  {
   "cell_type": "code",
   "execution_count": 82,
   "id": "91dd8309",
   "metadata": {},
   "outputs": [],
   "source": [
    "#               *\n",
    "#              * *\n",
    "#             * * *\n",
    "#            * * * *\n",
    "#           * * * * *\n",
    "#          * * * * * *\n",
    "#         * * * * * * *\n",
    "#               *\n",
    "#              * *\n",
    "#             * * *\n",
    "#            * * * *\n",
    "#           * * * * *\n",
    "#          * * * * * *\n",
    "#         * * * * * * *\n",
    "#             *  *\n",
    "#             *  *\n",
    "#             *  *\n",
    "#             *  *\n",
    "#             *  *\n",
    "#             *  *\n",
    "\n"
   ]
  },
  {
   "cell_type": "code",
   "execution_count": 99,
   "id": "6aaabc44",
   "metadata": {},
   "outputs": [
    {
     "name": "stdout",
     "output_type": "stream",
     "text": [
      "    * \n",
      "   * * \n",
      "  * * * \n",
      " * * * * \n",
      "* * * * * \n",
      "    * \n",
      "   * * \n",
      "  * * * \n",
      " * * * * \n",
      "* * * * * \n",
      "   * *\n",
      "   * *\n",
      "   * *\n",
      "   * *\n"
     ]
    }
   ],
   "source": [
    "num = 5\n",
    "\n",
    "for j in range(2):\n",
    "    for i in range(1,num+1):\n",
    "        print(' '*(num-i)+'* '*i)\n",
    "    \n",
    "for k in range(num-1):\n",
    "    print(' '*(num-2)+'* *')"
   ]
  },
  {
   "cell_type": "code",
   "execution_count": 100,
   "id": "58babcc8",
   "metadata": {},
   "outputs": [],
   "source": [
    "import cowsay"
   ]
  },
  {
   "cell_type": "code",
   "execution_count": 101,
   "id": "1274e4c1",
   "metadata": {},
   "outputs": [
    {
     "name": "stdout",
     "output_type": "stream",
     "text": [
      "  _____\n",
      "| hello |\n",
      "  =====\n",
      "     \\\n",
      "      \\\n",
      "       \\\n",
      "        \\\n",
      "                       _ ___.--'''`--''//-,-_--_.\n",
      "           \\\\`\"' ` || \\\\\\\\ \\\\ \\\\\\\\/ / // / ,-\\\\\\\\`,_\n",
      "          /'`  \\\\ \\\\ || Y  | \\\\|/ / // / - |__ `-,\n",
      "         /\\@\"\\\\  ` \\\\ `\\\\ |  | ||/ // | \\\\/  \\\\  `-._`-,_.,\n",
      "        /  _.-. `.-\\\\,___/\\\\ _/|_/_\\\\_\\\\/|_/ |     `-._._)\n",
      "        `-'``/  /  |  // \\\\__/\\\\__  /  \\\\__/ \\\\\n",
      "             `-'  /-\\\\/  | -|   \\\\__ \\\\   |-' |\n",
      "               __/\\\\ / _/ \\\\/ __,-'   ) ,' _|'\n",
      "              (((__/(((_.' ((___..-'((__,'\n"
     ]
    }
   ],
   "source": [
    "cowsay.meow('hello')"
   ]
  },
  {
   "cell_type": "code",
   "execution_count": 102,
   "id": "b1019b3a",
   "metadata": {},
   "outputs": [
    {
     "name": "stdout",
     "output_type": "stream",
     "text": [
      "  _____\n",
      "| Apple |\n",
      "  =====\n",
      "      \\\n",
      "       \\\n",
      "        \\\n",
      "         |\\_/|,,_____,~~`\n",
      "         (.\".)~~     )`~}}\n",
      "          \\o/\\ /---~\\\\ ~}}\n",
      "            _//    _// ~}\n"
     ]
    }
   ],
   "source": [
    "cowsay.fox('Apple')"
   ]
  },
  {
   "cell_type": "code",
   "execution_count": 103,
   "id": "b7bb0081",
   "metadata": {},
   "outputs": [
    {
     "name": "stdout",
     "output_type": "stream",
     "text": [
      "['__builtins__', '__cached__', '__doc__', '__file__', '__loader__', '__name__', '__package__', '__path__', '__spec__', '__version__', 'beavis', 'char_names', 'characters', 'chars', 'cheese', 'cow', 'daemon', 'dragon', 'fox', 'get_output_string', 'ghostbusters', 'kitty', 'main', 'meow', 'miki', 'milk', 'pig', 'stegosaurus', 'stimpy', 'trex', 'turkey', 'turtle', 'tux']\n"
     ]
    }
   ],
   "source": [
    "print(dir(cowsay))"
   ]
  },
  {
   "cell_type": "code",
   "execution_count": null,
   "id": "eac56efb",
   "metadata": {},
   "outputs": [],
   "source": []
  },
  {
   "cell_type": "code",
   "execution_count": 105,
   "id": "10742e01",
   "metadata": {},
   "outputs": [],
   "source": [
    "# cowsay.pig('kjhgf')"
   ]
  },
  {
   "cell_type": "code",
   "execution_count": null,
   "id": "5819aa67",
   "metadata": {},
   "outputs": [],
   "source": []
  },
  {
   "cell_type": "code",
   "execution_count": 120,
   "id": "f48ec67c",
   "metadata": {},
   "outputs": [],
   "source": [
    "message = 'Hello'\n",
    "\n",
    "\n",
    "ele =f'''|{message}|-----------------) )\n",
    "   |               |    0)\n",
    "   |               |     )\n",
    "   |               |____ J\n",
    "   /(_ _ _ _ _ _ _ _     | J\n",
    "  / | |        | |      L J\n",
    " 0  | |        | |      L J\n",
    "    | |        | |      L J\n",
    "    | |        | |      JJ'''"
   ]
  },
  {
   "cell_type": "code",
   "execution_count": 121,
   "id": "e2585f0f",
   "metadata": {},
   "outputs": [
    {
     "name": "stdout",
     "output_type": "stream",
     "text": [
      "|Hello|-----------------) )\n",
      "   |               |    0)\n",
      "   |               |     )\n",
      "   |               |____ J\n",
      "   /(_ _ _ _ _ _ _ _     | J\n",
      "  / | |        | |      L J\n",
      " 0  | |        | |      L J\n",
      "    | |        | |      L J\n",
      "    | |        | |      JJ\n"
     ]
    }
   ],
   "source": [
    "print(ele)"
   ]
  },
  {
   "cell_type": "code",
   "execution_count": 128,
   "id": "0a3dfbaa",
   "metadata": {},
   "outputs": [],
   "source": [
    "# fox = f'''  _____\n",
    "# | {m} |\n",
    "#   =====\n",
    "#       \\\n",
    "#        \\\n",
    "#         \\\n",
    "#          |\\_/|,,_____,~~`\n",
    "#          (.\".)~~     )`~}}\n",
    "#           \\o/\\ /---~\\\\ ~}}\n",
    "#             _//    _// ~\\}'''"
   ]
  },
  {
   "cell_type": "code",
   "execution_count": null,
   "id": "76a8db10",
   "metadata": {},
   "outputs": [],
   "source": []
  },
  {
   "attachments": {
    "1_8yRJzazvRJcAet3FW0HaOQ.png": {
     "image/png": "[encoded data removed]"
    }
   },
   "cell_type": "markdown",
   "id": "5e8be9d3",
   "metadata": {},
   "source": [
    "![1_8yRJzazvRJcAet3FW0HaOQ.png](attachment:1_8yRJzazvRJcAet3FW0HaOQ.png)"
   ]
  },
  {
   "cell_type": "code",
   "execution_count": null,
   "id": "5019b9a7",
   "metadata": {},
   "outputs": [],
   "source": []
  }
 ],
 "metadata": {
  "kernelspec": {
   "display_name": "Python 3 (ipykernel)",
   "language": "python",
   "name": "python3"
  },
  "language_info": {
   "codemirror_mode": {
    "name": "ipython",
    "version": 3
   },
   "file_extension": ".py",
   "mimetype": "text/x-python",
   "name": "python",
   "nbconvert_exporter": "python",
   "pygments_lexer": "ipython3",
   "version": "3.11.3"
  }
 },
 "nbformat": 4,
 "nbformat_minor": 5
}
