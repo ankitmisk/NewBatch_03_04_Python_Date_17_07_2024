{
 "cells": [
  {
   "cell_type": "code",
   "execution_count": 1,
   "id": "68c7212a",
   "metadata": {},
   "outputs": [
    {
     "name": "stdout",
     "output_type": "stream",
     "text": [
      "[1, 234, 45, 4421, 34, 67]\n"
     ]
    }
   ],
   "source": [
    "data = [1,234,45,4421,34,67]\n",
    "\n",
    "print(data)"
   ]
  },
  {
   "cell_type": "code",
   "execution_count": 2,
   "id": "106b2b62",
   "metadata": {},
   "outputs": [
    {
     "name": "stdout",
     "output_type": "stream",
     "text": [
      "<class 'list'>\n"
     ]
    }
   ],
   "source": [
    "print(type(data))"
   ]
  },
  {
   "cell_type": "code",
   "execution_count": 3,
   "id": "78b040c9",
   "metadata": {},
   "outputs": [
    {
     "name": "stdout",
     "output_type": "stream",
     "text": [
      "[]\n"
     ]
    }
   ],
   "source": [
    "# empty list\n",
    "\n",
    "e_list = []\n",
    "\n",
    "print(e_list)"
   ]
  },
  {
   "cell_type": "code",
   "execution_count": 4,
   "id": "6294792f",
   "metadata": {},
   "outputs": [
    {
     "data": {
      "text/plain": [
       "0"
      ]
     },
     "execution_count": 4,
     "metadata": {},
     "output_type": "execute_result"
    }
   ],
   "source": [
    "len(e_list)"
   ]
  },
  {
   "cell_type": "code",
   "execution_count": 5,
   "id": "31e395f6",
   "metadata": {},
   "outputs": [
    {
     "name": "stdout",
     "output_type": "stream",
     "text": [
      "[1, 24, 3456, 754, 36, 23, 234, 36, 57, 54, 78]\n"
     ]
    }
   ],
   "source": [
    "# some basic operations \n",
    "\n",
    "a = [1,24,3456,754,36]\n",
    "b = [23,234,36,57,54,78]\n",
    "\n",
    "c = a +b\n",
    "print(c)"
   ]
  },
  {
   "cell_type": "code",
   "execution_count": 6,
   "id": "23af63cf",
   "metadata": {},
   "outputs": [
    {
     "data": {
      "text/plain": [
       "[12, 342, 56, 2, 34, 536, 123, 44, 6]"
      ]
     },
     "execution_count": 6,
     "metadata": {},
     "output_type": "execute_result"
    }
   ],
   "source": [
    "[12,342,56] + [2,34,536] + [123,44,6]"
   ]
  },
  {
   "cell_type": "code",
   "execution_count": 7,
   "id": "d4850068",
   "metadata": {},
   "outputs": [
    {
     "ename": "TypeError",
     "evalue": "unsupported operand type(s) for -: 'list' and 'list'",
     "output_type": "error",
     "traceback": [
      "\u001b[1;31m---------------------------------------------------------------------------\u001b[0m",
      "\u001b[1;31mTypeError\u001b[0m                                 Traceback (most recent call last)",
      "Cell \u001b[1;32mIn[7], line 1\u001b[0m\n\u001b[1;32m----> 1\u001b[0m [\u001b[38;5;241m12\u001b[39m,\u001b[38;5;241m342\u001b[39m,\u001b[38;5;241m56\u001b[39m] \u001b[38;5;241m-\u001b[39m [\u001b[38;5;241m2\u001b[39m,\u001b[38;5;241m34\u001b[39m,\u001b[38;5;241m536\u001b[39m] \u001b[38;5;241m-\u001b[39m [\u001b[38;5;241m123\u001b[39m,\u001b[38;5;241m44\u001b[39m,\u001b[38;5;241m6\u001b[39m]\n",
      "\u001b[1;31mTypeError\u001b[0m: unsupported operand type(s) for -: 'list' and 'list'"
     ]
    }
   ],
   "source": [
    "[12,342,56] - [2,34,536] - [123,44,6]"
   ]
  },
  {
   "cell_type": "code",
   "execution_count": 8,
   "id": "87577d1f",
   "metadata": {},
   "outputs": [
    {
     "data": {
      "text/plain": [
       "[1, 243, 46, 1, 243, 46]"
      ]
     },
     "execution_count": 8,
     "metadata": {},
     "output_type": "execute_result"
    }
   ],
   "source": [
    "a = [1,243,46]\n",
    "\n",
    "a * 2"
   ]
  },
  {
   "cell_type": "code",
   "execution_count": 10,
   "id": "b05b79d4",
   "metadata": {},
   "outputs": [
    {
     "name": "stdout",
     "output_type": "stream",
     "text": [
      "['karan', 'karan', 'karan', 'karan', 'karan', 'karan', 'karan', 'karan', 'karan', 'karan']\n"
     ]
    }
   ],
   "source": [
    "name = ['karan']\n",
    "print(name * 10)"
   ]
  },
  {
   "cell_type": "code",
   "execution_count": 11,
   "id": "2079454d",
   "metadata": {},
   "outputs": [],
   "source": [
    "# features\n",
    "# 1>> list can contain any data type or elements or code"
   ]
  },
  {
   "cell_type": "code",
   "execution_count": 12,
   "id": "c28248f1",
   "metadata": {},
   "outputs": [
    {
     "name": "stdout",
     "output_type": "stream",
     "text": [
      "[1, 234.4, (4-9j), (12, 335), [1, 243, 5], True, None, {1, 243, 5}, {'Name': 'Karan'}, 'Mohan']\n"
     ]
    }
   ],
   "source": [
    "data = [1,234.4,4-9j,(12,335),[1,243,5],True,None,{1,243,5},{'Name':'Karan'},'Mohan']\n",
    "\n",
    "print(data)"
   ]
  },
  {
   "cell_type": "code",
   "execution_count": 13,
   "id": "56aefe01",
   "metadata": {},
   "outputs": [
    {
     "data": {
      "text/plain": [
       "[True, True, -1618]"
      ]
     },
     "execution_count": 13,
     "metadata": {},
     "output_type": "execute_result"
    }
   ],
   "source": [
    "data = [2==2, 'mohan' in ['ajay','karan','mohan'],23-98*67//4 ]\n",
    "data"
   ]
  },
  {
   "cell_type": "code",
   "execution_count": 14,
   "id": "5cc2046a",
   "metadata": {},
   "outputs": [],
   "source": [
    "# 2>> list can be nested"
   ]
  },
  {
   "cell_type": "code",
   "execution_count": 15,
   "id": "7c592f93",
   "metadata": {},
   "outputs": [],
   "source": [
    "data = [1,234,45,3,[1,24,345,[12,43,4,[12,4334,6,[235,436]]]]]"
   ]
  },
  {
   "cell_type": "code",
   "execution_count": 16,
   "id": "506d218d",
   "metadata": {},
   "outputs": [
    {
     "name": "stdout",
     "output_type": "stream",
     "text": [
      "[1, 234, 45, 3, [1, 24, 345, [12, 43, 4, [12, 4334, 6, [235, 436]]]]]\n"
     ]
    }
   ],
   "source": [
    "print(data)"
   ]
  },
  {
   "cell_type": "code",
   "execution_count": 17,
   "id": "3c0da4ff",
   "metadata": {},
   "outputs": [],
   "source": [
    "# 3>> list supports indexing"
   ]
  },
  {
   "cell_type": "code",
   "execution_count": 18,
   "id": "ac0fff14",
   "metadata": {},
   "outputs": [
    {
     "data": {
      "text/plain": [
       "8"
      ]
     },
     "execution_count": 18,
     "metadata": {},
     "output_type": "execute_result"
    }
   ],
   "source": [
    "data = [12,34,52,13,547,8,344,57]\n",
    "\n",
    "data[5]"
   ]
  },
  {
   "cell_type": "code",
   "execution_count": 20,
   "id": "1e7977ce",
   "metadata": {},
   "outputs": [
    {
     "data": {
      "text/plain": [
       "13"
      ]
     },
     "execution_count": 20,
     "metadata": {},
     "output_type": "execute_result"
    }
   ],
   "source": [
    "data[3]"
   ]
  },
  {
   "cell_type": "code",
   "execution_count": 21,
   "id": "5221bf7b",
   "metadata": {},
   "outputs": [
    {
     "data": {
      "text/plain": [
       "[34, 52, 13, 547, 8, 344]"
      ]
     },
     "execution_count": 21,
     "metadata": {},
     "output_type": "execute_result"
    }
   ],
   "source": [
    "#4>> list also support slicing\n",
    "\n",
    "data = [12,34,52,13,547,8,344,57]\n",
    "\n",
    "# [start:stop:step]\n",
    "\n",
    "data[1:7]"
   ]
  },
  {
   "cell_type": "code",
   "execution_count": 22,
   "id": "200ca0f3",
   "metadata": {},
   "outputs": [
    {
     "data": {
      "text/plain": [
       "[34, 52, 13, 547, 8, 344]"
      ]
     },
     "execution_count": 22,
     "metadata": {},
     "output_type": "execute_result"
    }
   ],
   "source": [
    "data[1:-1]"
   ]
  },
  {
   "cell_type": "code",
   "execution_count": 23,
   "id": "334b60bb",
   "metadata": {},
   "outputs": [],
   "source": [
    "# 5>> list also support negative indexing"
   ]
  },
  {
   "cell_type": "code",
   "execution_count": 24,
   "id": "066b7ad6",
   "metadata": {},
   "outputs": [
    {
     "data": {
      "text/plain": [
       "35"
      ]
     },
     "execution_count": 24,
     "metadata": {},
     "output_type": "execute_result"
    }
   ],
   "source": [
    "data = [1,234,5,4124,35,6]\n",
    "\n",
    "data[-2]"
   ]
  },
  {
   "cell_type": "code",
   "execution_count": 25,
   "id": "58f8354e",
   "metadata": {},
   "outputs": [
    {
     "data": {
      "text/plain": [
       "[6, 35, 4124, 5, 234, 1]"
      ]
     },
     "execution_count": 25,
     "metadata": {},
     "output_type": "execute_result"
    }
   ],
   "source": [
    "#6>> we can reverse list\n",
    "\n",
    "data = [1,234,5,4124,35,6]\n",
    "\n",
    "data[::-1]"
   ]
  },
  {
   "cell_type": "code",
   "execution_count": 26,
   "id": "b492e773",
   "metadata": {},
   "outputs": [
    {
     "data": {
      "text/plain": [
       "4124"
      ]
     },
     "execution_count": 26,
     "metadata": {},
     "output_type": "execute_result"
    }
   ],
   "source": [
    "# 7>> list are mutable in nature, list support item assignment\n",
    "data = [1,234,5,4124,35,6]\n",
    "\n",
    "data[3]"
   ]
  },
  {
   "cell_type": "code",
   "execution_count": 27,
   "id": "8c56c30a",
   "metadata": {},
   "outputs": [],
   "source": [
    "data = [1,234,5,4124,35,6]\n",
    "\n",
    "data[3] = 100"
   ]
  },
  {
   "cell_type": "code",
   "execution_count": 28,
   "id": "3b281d27",
   "metadata": {},
   "outputs": [
    {
     "name": "stdout",
     "output_type": "stream",
     "text": [
      "[1, 234, 5, 100, 35, 6]\n"
     ]
    }
   ],
   "source": [
    "print(data)"
   ]
  },
  {
   "cell_type": "code",
   "execution_count": 30,
   "id": "0b2aac85",
   "metadata": {},
   "outputs": [],
   "source": [
    "students = ['karan','ravi','mohan','ajay']\n",
    "\n",
    "students[2] = 'Mohan Verma'"
   ]
  },
  {
   "cell_type": "code",
   "execution_count": 31,
   "id": "653ef478",
   "metadata": {},
   "outputs": [
    {
     "name": "stdout",
     "output_type": "stream",
     "text": [
      "['karan', 'ravi', 'Mohan Verma', 'ajay']\n"
     ]
    }
   ],
   "source": [
    "print(students)"
   ]
  },
  {
   "cell_type": "code",
   "execution_count": 33,
   "id": "4ad6d282",
   "metadata": {},
   "outputs": [],
   "source": [
    "students[1] = 'ravi Malhotra sahab'"
   ]
  },
  {
   "cell_type": "code",
   "execution_count": 34,
   "id": "7f677dd9",
   "metadata": {},
   "outputs": [
    {
     "name": "stdout",
     "output_type": "stream",
     "text": [
      "['karan', 'ravi Malhotra sahab', 'Mohan Verma', 'ajay']\n"
     ]
    }
   ],
   "source": [
    "print(students)"
   ]
  },
  {
   "cell_type": "code",
   "execution_count": 35,
   "id": "ff917fce",
   "metadata": {},
   "outputs": [],
   "source": [
    "a = 234\n",
    "\n",
    "a+= 10"
   ]
  },
  {
   "cell_type": "code",
   "execution_count": 39,
   "id": "e8588fa0",
   "metadata": {},
   "outputs": [],
   "source": [
    "students = ['karan','ravi','mohan','ajay']\n",
    "\n",
    "students[1] += ' verma sahab'"
   ]
  },
  {
   "cell_type": "code",
   "execution_count": 40,
   "id": "3b1190ea",
   "metadata": {},
   "outputs": [
    {
     "name": "stdout",
     "output_type": "stream",
     "text": [
      "['karan', 'ravi verma sahab', 'mohan', 'ajay']\n"
     ]
    }
   ],
   "source": [
    "print(students)"
   ]
  },
  {
   "cell_type": "code",
   "execution_count": null,
   "id": "5c9b1fa3",
   "metadata": {},
   "outputs": [],
   "source": []
  },
  {
   "cell_type": "code",
   "execution_count": 42,
   "id": "a64c54e7",
   "metadata": {},
   "outputs": [],
   "source": [
    "students = ['karan','ravi','mohan','ajay']\n",
    "\n",
    "students[1]  = students[1] + ' kumar sahab'"
   ]
  },
  {
   "cell_type": "code",
   "execution_count": 43,
   "id": "0ba8e483",
   "metadata": {},
   "outputs": [
    {
     "name": "stdout",
     "output_type": "stream",
     "text": [
      "['karan', 'ravi kumar sahab', 'mohan', 'ajay']\n"
     ]
    }
   ],
   "source": [
    "print(students)"
   ]
  },
  {
   "cell_type": "code",
   "execution_count": null,
   "id": "aaaf7d98",
   "metadata": {},
   "outputs": [],
   "source": []
  },
  {
   "cell_type": "code",
   "execution_count": 44,
   "id": "d46ec896",
   "metadata": {},
   "outputs": [],
   "source": [
    "# nested list slicing"
   ]
  },
  {
   "cell_type": "code",
   "execution_count": 45,
   "id": "6d59ad9e",
   "metadata": {},
   "outputs": [
    {
     "data": {
      "text/plain": [
       "[[1, 2, 3, [1, 2, 3]], [4, 5, 6, [2, 3, 4]]]"
      ]
     },
     "execution_count": 45,
     "metadata": {},
     "output_type": "execute_result"
    }
   ],
   "source": [
    "bank = [[1,2,3,[1,2,3]],[4,5,6,[2,3,4]]]\n",
    "\n",
    "\n",
    "bank"
   ]
  },
  {
   "cell_type": "code",
   "execution_count": 46,
   "id": "d5442928",
   "metadata": {},
   "outputs": [
    {
     "data": {
      "text/plain": [
       "[[1, 2, 3, [1, 2, 3]], [4, 5, 6, [2, 3, 4]]]"
      ]
     },
     "execution_count": 46,
     "metadata": {},
     "output_type": "execute_result"
    }
   ],
   "source": [
    "bank"
   ]
  },
  {
   "cell_type": "code",
   "execution_count": 50,
   "id": "bb3a0699",
   "metadata": {},
   "outputs": [],
   "source": [
    "bank[0][3][-1] = 3000"
   ]
  },
  {
   "cell_type": "code",
   "execution_count": 51,
   "id": "e13c8f4c",
   "metadata": {},
   "outputs": [
    {
     "name": "stdout",
     "output_type": "stream",
     "text": [
      "[[1, 2, 3, [1, 2, 3000]], [4, 5, 6, [2, 3, 4]]]\n"
     ]
    }
   ],
   "source": [
    "print(bank)"
   ]
  },
  {
   "cell_type": "code",
   "execution_count": 56,
   "id": "95dcae79",
   "metadata": {},
   "outputs": [],
   "source": [
    "bank[-1][-1][-1] = 4000"
   ]
  },
  {
   "cell_type": "code",
   "execution_count": 57,
   "id": "c567f2d2",
   "metadata": {},
   "outputs": [
    {
     "data": {
      "text/plain": [
       "[[1, 2, 3, [1, 2, 3000]], [4, 5, 6, [2, 3, 4000]]]"
      ]
     },
     "execution_count": 57,
     "metadata": {},
     "output_type": "execute_result"
    }
   ],
   "source": [
    "bank"
   ]
  },
  {
   "cell_type": "code",
   "execution_count": null,
   "id": "59b04389",
   "metadata": {},
   "outputs": [],
   "source": []
  }
 ],
 "metadata": {
  "kernelspec": {
   "display_name": "Python 3 (ipykernel)",
   "language": "python",
   "name": "python3"
  },
  "language_info": {
   "codemirror_mode": {
    "name": "ipython",
    "version": 3
   },
   "file_extension": ".py",
   "mimetype": "text/x-python",
   "name": "python",
   "nbconvert_exporter": "python",
   "pygments_lexer": "ipython3",
   "version": "3.11.3"
  }
 },
 "nbformat": 4,
 "nbformat_minor": 5
}
