{
 "cells": [
  {
   "cell_type": "code",
   "execution_count": 1,
   "id": "2434d062",
   "metadata": {},
   "outputs": [],
   "source": [
    "# modules:\n",
    "#     oops:\n",
    "#         functional programming:\n",
    "#             basic programming:\n",
    "#                 loops, conditional statements"
   ]
  },
  {
   "cell_type": "code",
   "execution_count": 2,
   "id": "56fd63fc",
   "metadata": {},
   "outputs": [],
   "source": [
    "# modules:\n",
    "#     functional programming:\n",
    "#             basic programming:\n",
    "#                 loops, conditional statements"
   ]
  },
  {
   "cell_type": "code",
   "execution_count": 3,
   "id": "53040bef",
   "metadata": {},
   "outputs": [
    {
     "ename": "NameError",
     "evalue": "name 'factorial' is not defined",
     "output_type": "error",
     "traceback": [
      "\u001b[1;31m---------------------------------------------------------------------------\u001b[0m",
      "\u001b[1;31mNameError\u001b[0m                                 Traceback (most recent call last)",
      "Cell \u001b[1;32mIn[3], line 1\u001b[0m\n\u001b[1;32m----> 1\u001b[0m factorial(\u001b[38;5;241m12\u001b[39m)\n",
      "\u001b[1;31mNameError\u001b[0m: name 'factorial' is not defined"
     ]
    }
   ],
   "source": [
    "factorial(12)"
   ]
  },
  {
   "cell_type": "code",
   "execution_count": 4,
   "id": "e3b2d153",
   "metadata": {},
   "outputs": [],
   "source": [
    "def factorial(number):\n",
    "    if number>=0:\n",
    "        res = 1\n",
    "\n",
    "        for i in range(1,number+1):\n",
    "            res*= i\n",
    "        return res\n",
    "    else:\n",
    "        print('Not allowed!!')"
   ]
  },
  {
   "cell_type": "code",
   "execution_count": 5,
   "id": "4067681f",
   "metadata": {},
   "outputs": [
    {
     "data": {
      "text/plain": [
       "3628800"
      ]
     },
     "execution_count": 5,
     "metadata": {},
     "output_type": "execute_result"
    }
   ],
   "source": [
    "factorial(10)"
   ]
  },
  {
   "cell_type": "code",
   "execution_count": 6,
   "id": "5d64b4d6",
   "metadata": {},
   "outputs": [],
   "source": [
    "# Modules:- "
   ]
  },
  {
   "cell_type": "code",
   "execution_count": 8,
   "id": "58617c5e",
   "metadata": {},
   "outputs": [
    {
     "name": "stdout",
     "output_type": "stream",
     "text": [
      "done\n"
     ]
    }
   ],
   "source": [
    "import shivam\n",
    "print('done')"
   ]
  },
  {
   "cell_type": "code",
   "execution_count": 10,
   "id": "f74f45da",
   "metadata": {},
   "outputs": [
    {
     "data": {
      "text/plain": [
       "'Not an Armstrong Number'"
      ]
     },
     "execution_count": 10,
     "metadata": {},
     "output_type": "execute_result"
    }
   ],
   "source": [
    "shivam.check_armstrong(159)"
   ]
  },
  {
   "cell_type": "code",
   "execution_count": null,
   "id": "2936ef28",
   "metadata": {},
   "outputs": [],
   "source": []
  },
  {
   "cell_type": "code",
   "execution_count": 11,
   "id": "60433d82",
   "metadata": {},
   "outputs": [],
   "source": [
    "import cowsay"
   ]
  },
  {
   "cell_type": "code",
   "execution_count": 12,
   "id": "b1bf84f6",
   "metadata": {},
   "outputs": [
    {
     "name": "stdout",
     "output_type": "stream",
     "text": [
      "  _____\n",
      "| hello |\n",
      "  =====\n",
      "            \\\n",
      "             \\\n",
      "              \\\n",
      "               \\\n",
      "                  .-=-==--==--.\n",
      "            ..-==\"  ,'o`)      `.\n",
      "          ,'         `\"'         \\\n",
      "         :  (                     `.__...._\n",
      "         |                  )    /         `-=-.\n",
      "         :       ,vv.-._   /    /               `---==-._\n",
      "          \\/\\/\\/VV ^ d88`;'    /                         `.\n",
      "              ``  ^/d88P!'    /             ,              `._\n",
      "                 ^/    !'   ,.      ,      /                  \"-,,__,,--'\"\"\"\"-.\n",
      "                ^/    !'  ,'  \\ . .(      (         _           )  ) ) ) ))_,-.\\\n",
      "               ^(__ ,!',\"'   ;:+.:%:a.     \\:.. . ,'          )  )  ) ) ,\"'    '\n",
      "               ',,,'','     /o:::\":%:%a.    \\:.:.:         .    )  ) _,'\n",
      "                \"\"\"'       ;':::'' `+%%%a._  \\%:%|         ;.). _,-\"\"\n",
      "                       ,-='_.-'      ``:%::)  )%:|        /:._,\"\n",
      "                      (/(/\"           ,\" ,'_,'%%%:       (_,'\n",
      "                                     (  (//(`.___;        \\\n",
      "                                      \\     \\    `         `\n",
      "                                       `.    `.   `.        :\n",
      "                                         \\. . .\\    : . . . :\n",
      "                                          \\. . .:    `.. . .:\n",
      "                                           `..:.:\\     \\:...\\\n",
      "                                            ;:.:.;      ::...:\n",
      "                                            ):%::       :::::;\n",
      "                                        __,::%:(        :::::\n",
      "                                     ,;:%%%%%%%:        ;:%::\n",
      "                                       ;,--\"\"-.`\\  ,=--':%:%:\\\n",
      "                                      /\"       \"| /-\".:%%%%%%%\\\n",
      "                                                      ;,-\"'`)%%)\n",
      "                                                     /\"      \"|\n"
     ]
    }
   ],
   "source": [
    "cowsay.trex(\"hello\")"
   ]
  },
  {
   "cell_type": "code",
   "execution_count": 13,
   "id": "792b392c",
   "metadata": {},
   "outputs": [
    {
     "data": {
      "text/plain": [
       "[13, 17, 19]"
      ]
     },
     "execution_count": 13,
     "metadata": {},
     "output_type": "execute_result"
    }
   ],
   "source": [
    "shivam.give_prime_number(12,20)"
   ]
  },
  {
   "cell_type": "code",
   "execution_count": 15,
   "id": "32de3823",
   "metadata": {},
   "outputs": [
    {
     "name": "stdout",
     "output_type": "stream",
     "text": [
      "done\n"
     ]
    }
   ],
   "source": [
    "import math\n",
    "print('done')"
   ]
  },
  {
   "cell_type": "code",
   "execution_count": 16,
   "id": "995e2b3c",
   "metadata": {},
   "outputs": [],
   "source": [
    "# udf\n",
    "# inbuilt\n",
    "# external"
   ]
  },
  {
   "cell_type": "code",
   "execution_count": 17,
   "id": "9e1022c1",
   "metadata": {},
   "outputs": [],
   "source": [
    "import random"
   ]
  },
  {
   "cell_type": "code",
   "execution_count": 18,
   "id": "46122f52",
   "metadata": {},
   "outputs": [],
   "source": [
    "# cowsay:- pip install "
   ]
  },
  {
   "cell_type": "code",
   "execution_count": 19,
   "id": "c644f959",
   "metadata": {},
   "outputs": [
    {
     "name": "stdout",
     "output_type": "stream",
     "text": [
      "done\n"
     ]
    }
   ],
   "source": [
    "import cowsay as c\n",
    "print('done')"
   ]
  },
  {
   "cell_type": "code",
   "execution_count": 20,
   "id": "dba0c5eb",
   "metadata": {},
   "outputs": [
    {
     "name": "stdout",
     "output_type": "stream",
     "text": [
      "  _____\n",
      "| Hello |\n",
      "  =====\n",
      "     \\\n",
      "      \\\n",
      "        ^__^\n",
      "        (oo)\\_______\n",
      "        (__)\\       )\\/\\\n",
      "            ||----w |\n",
      "            ||     ||\n"
     ]
    }
   ],
   "source": [
    "c.cow('Hello')"
   ]
  },
  {
   "cell_type": "code",
   "execution_count": 21,
   "id": "916b5913",
   "metadata": {},
   "outputs": [
    {
     "name": "stdout",
     "output_type": "stream",
     "text": [
      "done\n"
     ]
    }
   ],
   "source": [
    "from cowsay import cow,trex\n",
    "print('done')"
   ]
  },
  {
   "cell_type": "code",
   "execution_count": 22,
   "id": "2b237011",
   "metadata": {},
   "outputs": [
    {
     "name": "stdout",
     "output_type": "stream",
     "text": [
      "  _____\n",
      "| Joker |\n",
      "  =====\n",
      "     \\\n",
      "      \\\n",
      "        ^__^\n",
      "        (oo)\\_______\n",
      "        (__)\\       )\\/\\\n",
      "            ||----w |\n",
      "            ||     ||\n"
     ]
    }
   ],
   "source": [
    "cow('Joker')"
   ]
  },
  {
   "cell_type": "code",
   "execution_count": 23,
   "id": "4557ce28",
   "metadata": {},
   "outputs": [
    {
     "name": "stdout",
     "output_type": "stream",
     "text": [
      "  _____\n",
      "| Komal |\n",
      "  =====\n",
      "            \\\n",
      "             \\\n",
      "              \\\n",
      "               \\\n",
      "                  .-=-==--==--.\n",
      "            ..-==\"  ,'o`)      `.\n",
      "          ,'         `\"'         \\\n",
      "         :  (                     `.__...._\n",
      "         |                  )    /         `-=-.\n",
      "         :       ,vv.-._   /    /               `---==-._\n",
      "          \\/\\/\\/VV ^ d88`;'    /                         `.\n",
      "              ``  ^/d88P!'    /             ,              `._\n",
      "                 ^/    !'   ,.      ,      /                  \"-,,__,,--'\"\"\"\"-.\n",
      "                ^/    !'  ,'  \\ . .(      (         _           )  ) ) ) ))_,-.\\\n",
      "               ^(__ ,!',\"'   ;:+.:%:a.     \\:.. . ,'          )  )  ) ) ,\"'    '\n",
      "               ',,,'','     /o:::\":%:%a.    \\:.:.:         .    )  ) _,'\n",
      "                \"\"\"'       ;':::'' `+%%%a._  \\%:%|         ;.). _,-\"\"\n",
      "                       ,-='_.-'      ``:%::)  )%:|        /:._,\"\n",
      "                      (/(/\"           ,\" ,'_,'%%%:       (_,'\n",
      "                                     (  (//(`.___;        \\\n",
      "                                      \\     \\    `         `\n",
      "                                       `.    `.   `.        :\n",
      "                                         \\. . .\\    : . . . :\n",
      "                                          \\. . .:    `.. . .:\n",
      "                                           `..:.:\\     \\:...\\\n",
      "                                            ;:.:.;      ::...:\n",
      "                                            ):%::       :::::;\n",
      "                                        __,::%:(        :::::\n",
      "                                     ,;:%%%%%%%:        ;:%::\n",
      "                                       ;,--\"\"-.`\\  ,=--':%:%:\\\n",
      "                                      /\"       \"| /-\".:%%%%%%%\\\n",
      "                                                      ;,-\"'`)%%)\n",
      "                                                     /\"      \"|\n"
     ]
    }
   ],
   "source": [
    "trex('Komal')"
   ]
  },
  {
   "cell_type": "code",
   "execution_count": 24,
   "id": "b3146187",
   "metadata": {},
   "outputs": [],
   "source": [
    "# from functools import reduce"
   ]
  },
  {
   "cell_type": "code",
   "execution_count": 25,
   "id": "12ce1d86",
   "metadata": {},
   "outputs": [],
   "source": [
    "import shivam as s"
   ]
  },
  {
   "cell_type": "code",
   "execution_count": 26,
   "id": "3b3656ef",
   "metadata": {},
   "outputs": [
    {
     "name": "stdout",
     "output_type": "stream",
     "text": [
      "Your name is Lucky\n",
      "Your age is 23\n",
      "Your salary is 2345678\n"
     ]
    }
   ],
   "source": [
    "s.intro(name = 'Lucky',age = 23, salary = 2345678)"
   ]
  },
  {
   "cell_type": "code",
   "execution_count": 27,
   "id": "062cd1e4",
   "metadata": {},
   "outputs": [],
   "source": [
    "from shivam import factorial,maxx"
   ]
  },
  {
   "cell_type": "code",
   "execution_count": 28,
   "id": "fc30b580",
   "metadata": {},
   "outputs": [
    {
     "data": {
      "text/plain": [
       "46"
      ]
     },
     "execution_count": 28,
     "metadata": {},
     "output_type": "execute_result"
    }
   ],
   "source": [
    "maxx([1,23,45,32,46])"
   ]
  },
  {
   "cell_type": "code",
   "execution_count": 29,
   "id": "d925e94e",
   "metadata": {},
   "outputs": [],
   "source": [
    "from shivam import *"
   ]
  },
  {
   "cell_type": "code",
   "execution_count": 30,
   "id": "4d3a9202",
   "metadata": {},
   "outputs": [
    {
     "data": {
      "text/plain": [
       "'Anagram'"
      ]
     },
     "execution_count": 30,
     "metadata": {},
     "output_type": "execute_result"
    }
   ],
   "source": [
    "check_anagram('cheater','teacher')"
   ]
  },
  {
   "cell_type": "code",
   "execution_count": 31,
   "id": "eb8b29c7",
   "metadata": {},
   "outputs": [
    {
     "data": {
      "text/plain": [
       "295232799039604140847618609643520000000"
      ]
     },
     "execution_count": 31,
     "metadata": {},
     "output_type": "execute_result"
    }
   ],
   "source": [
    "factorial(34)"
   ]
  },
  {
   "cell_type": "code",
   "execution_count": 32,
   "id": "1f8cd6e9",
   "metadata": {},
   "outputs": [],
   "source": [
    "import shivam\n",
    "import shivam as s\n",
    "from shivam import maxx\n",
    "from shivam import *\n"
   ]
  },
  {
   "cell_type": "code",
   "execution_count": 33,
   "id": "5c498764",
   "metadata": {},
   "outputs": [],
   "source": [
    "# Python:- Modules"
   ]
  },
  {
   "cell_type": "code",
   "execution_count": 34,
   "id": "d89730a1",
   "metadata": {},
   "outputs": [],
   "source": [
    "import calendar\n",
    "import random\n",
    "import time\n",
    "import math"
   ]
  },
  {
   "cell_type": "code",
   "execution_count": 36,
   "id": "73b6ebea",
   "metadata": {},
   "outputs": [
    {
     "name": "stdout",
     "output_type": "stream",
     "text": [
      "['__doc__', '__loader__', '__name__', '__package__', '__spec__', 'acos', 'acosh', 'asin', 'asinh', 'atan', 'atan2', 'atanh', 'cbrt', 'ceil', 'comb', 'copysign', 'cos', 'cosh', 'degrees', 'dist', 'e', 'erf', 'erfc', 'exp', 'exp2', 'expm1', 'fabs', 'factorial', 'floor', 'fmod', 'frexp', 'fsum', 'gamma', 'gcd', 'hypot', 'inf', 'isclose', 'isfinite', 'isinf', 'isnan', 'isqrt', 'lcm', 'ldexp', 'lgamma', 'log', 'log10', 'log1p', 'log2', 'modf', 'nan', 'nextafter', 'perm', 'pi', 'pow', 'prod', 'radians', 'remainder', 'sin', 'sinh', 'sqrt', 'tan', 'tanh', 'tau', 'trunc', 'ulp']\n"
     ]
    }
   ],
   "source": [
    "print(dir(math))"
   ]
  },
  {
   "cell_type": "code",
   "execution_count": 37,
   "id": "08036b70",
   "metadata": {},
   "outputs": [
    {
     "name": "stdout",
     "output_type": "stream",
     "text": [
      "['__builtins__', '__cached__', '__doc__', '__file__', '__loader__', '__name__', '__package__', '__spec__', 'check_anagram', 'check_armstrong', 'factorial', 'give_prime_number', 'intro', 'maxx']\n"
     ]
    }
   ],
   "source": [
    "print(dir(shivam))"
   ]
  },
  {
   "cell_type": "code",
   "execution_count": 38,
   "id": "b682d7cd",
   "metadata": {},
   "outputs": [
    {
     "data": {
      "text/plain": [
       "4"
      ]
     },
     "execution_count": 38,
     "metadata": {},
     "output_type": "execute_result"
    }
   ],
   "source": [
    "2**2"
   ]
  },
  {
   "cell_type": "code",
   "execution_count": 40,
   "id": "e91ab9a0",
   "metadata": {},
   "outputs": [
    {
     "data": {
      "text/plain": [
       "7.38905609893065"
      ]
     },
     "execution_count": 40,
     "metadata": {},
     "output_type": "execute_result"
    }
   ],
   "source": [
    "math.exp(2)"
   ]
  },
  {
   "cell_type": "code",
   "execution_count": 41,
   "id": "6bf558c1",
   "metadata": {},
   "outputs": [
    {
     "data": {
      "text/plain": [
       "4.0"
      ]
     },
     "execution_count": 41,
     "metadata": {},
     "output_type": "execute_result"
    }
   ],
   "source": [
    "math.pow(2,2)"
   ]
  },
  {
   "cell_type": "code",
   "execution_count": 42,
   "id": "5e380728",
   "metadata": {},
   "outputs": [
    {
     "data": {
      "text/plain": [
       "4"
      ]
     },
     "execution_count": 42,
     "metadata": {},
     "output_type": "execute_result"
    }
   ],
   "source": [
    "pow(2,2)"
   ]
  },
  {
   "cell_type": "code",
   "execution_count": 45,
   "id": "09d965e6",
   "metadata": {},
   "outputs": [
    {
     "data": {
      "text/plain": [
       "6"
      ]
     },
     "execution_count": 45,
     "metadata": {},
     "output_type": "execute_result"
    }
   ],
   "source": [
    "math.factorial(3)"
   ]
  },
  {
   "cell_type": "code",
   "execution_count": 44,
   "id": "c4199093",
   "metadata": {},
   "outputs": [
    {
     "data": {
      "text/plain": [
       "6"
      ]
     },
     "execution_count": 44,
     "metadata": {},
     "output_type": "execute_result"
    }
   ],
   "source": [
    "math.perm(3)"
   ]
  },
  {
   "cell_type": "code",
   "execution_count": 46,
   "id": "d6c8b63c",
   "metadata": {},
   "outputs": [],
   "source": [
    "# sin0 = p/H\n",
    "# cos0 = B/H\n",
    "# tan0 = p/b"
   ]
  },
  {
   "cell_type": "code",
   "execution_count": 47,
   "id": "ed5f160f",
   "metadata": {},
   "outputs": [],
   "source": [
    "# tan0 = sin0/cos0"
   ]
  },
  {
   "cell_type": "code",
   "execution_count": 48,
   "id": "552f60b5",
   "metadata": {},
   "outputs": [
    {
     "data": {
      "text/plain": [
       "0.8939966636005579"
      ]
     },
     "execution_count": 48,
     "metadata": {},
     "output_type": "execute_result"
    }
   ],
   "source": [
    "math.sin()"
   ]
  },
  {
   "cell_type": "code",
   "execution_count": 49,
   "id": "1441a05b",
   "metadata": {},
   "outputs": [
    {
     "data": {
      "text/plain": [
       "5156.620156177409"
      ]
     },
     "execution_count": 49,
     "metadata": {},
     "output_type": "execute_result"
    }
   ],
   "source": [
    "math.degrees(90)"
   ]
  },
  {
   "cell_type": "code",
   "execution_count": 50,
   "id": "8a4f5e3a",
   "metadata": {},
   "outputs": [
    {
     "data": {
      "text/plain": [
       "1.5707963267948966"
      ]
     },
     "execution_count": 50,
     "metadata": {},
     "output_type": "execute_result"
    }
   ],
   "source": [
    "math.radians(90)"
   ]
  },
  {
   "cell_type": "code",
   "execution_count": 51,
   "id": "853eec91",
   "metadata": {},
   "outputs": [
    {
     "data": {
      "text/plain": [
       "1.0"
      ]
     },
     "execution_count": 51,
     "metadata": {},
     "output_type": "execute_result"
    }
   ],
   "source": [
    "math.sin(1.5707963267948966)"
   ]
  },
  {
   "cell_type": "code",
   "execution_count": 53,
   "id": "e480ad64",
   "metadata": {},
   "outputs": [
    {
     "data": {
      "text/plain": [
       "0.0"
      ]
     },
     "execution_count": 53,
     "metadata": {},
     "output_type": "execute_result"
    }
   ],
   "source": [
    "math.sin(math.radians(0))"
   ]
  },
  {
   "cell_type": "code",
   "execution_count": 55,
   "id": "bd2ac59a",
   "metadata": {},
   "outputs": [
    {
     "data": {
      "text/plain": [
       "1.57"
      ]
     },
     "execution_count": 55,
     "metadata": {},
     "output_type": "execute_result"
    }
   ],
   "source": [
    "(3.14*90)/180"
   ]
  },
  {
   "cell_type": "code",
   "execution_count": 60,
   "id": "632d02dd",
   "metadata": {},
   "outputs": [
    {
     "data": {
      "text/plain": [
       "0.7850000000000001"
      ]
     },
     "execution_count": 60,
     "metadata": {},
     "output_type": "execute_result"
    }
   ],
   "source": [
    "pi = 3.14\n",
    "Theeta = 45\n",
    "rad = (pi/180)*Theeta\n",
    "rad"
   ]
  },
  {
   "cell_type": "code",
   "execution_count": 61,
   "id": "033507fe",
   "metadata": {},
   "outputs": [
    {
     "data": {
      "text/plain": [
       "0.7853981633974483"
      ]
     },
     "execution_count": 61,
     "metadata": {},
     "output_type": "execute_result"
    }
   ],
   "source": [
    "math.radians(45)"
   ]
  },
  {
   "cell_type": "code",
   "execution_count": 68,
   "id": "b2041c07",
   "metadata": {},
   "outputs": [],
   "source": [
    "def degree_to_radians(angle):\n",
    "    pi = 22/7\n",
    "    Theeta = angle\n",
    "    rad = (pi/180)*Theeta\n",
    "    return rad"
   ]
  },
  {
   "cell_type": "code",
   "execution_count": 69,
   "id": "354ed4de",
   "metadata": {},
   "outputs": [
    {
     "data": {
      "text/plain": [
       "1.519047619047619"
      ]
     },
     "execution_count": 69,
     "metadata": {},
     "output_type": "execute_result"
    }
   ],
   "source": [
    "degree_to_radians(87)"
   ]
  },
  {
   "cell_type": "code",
   "execution_count": 70,
   "id": "bab12fcb",
   "metadata": {},
   "outputs": [
    {
     "data": {
      "text/plain": [
       "1.5184364492350666"
      ]
     },
     "execution_count": 70,
     "metadata": {},
     "output_type": "execute_result"
    }
   ],
   "source": [
    "math.radians(87)"
   ]
  },
  {
   "cell_type": "code",
   "execution_count": null,
   "id": "a449be4b",
   "metadata": {},
   "outputs": [],
   "source": []
  },
  {
   "cell_type": "code",
   "execution_count": null,
   "id": "ad521d1c",
   "metadata": {},
   "outputs": [],
   "source": []
  },
  {
   "cell_type": "code",
   "execution_count": null,
   "id": "0a8bdaaf",
   "metadata": {},
   "outputs": [],
   "source": []
  },
  {
   "cell_type": "code",
   "execution_count": 71,
   "id": "5f8108a1",
   "metadata": {},
   "outputs": [],
   "source": [
    "# external module\n",
    "# qrcode"
   ]
  },
  {
   "cell_type": "code",
   "execution_count": 72,
   "id": "c036e0ee",
   "metadata": {},
   "outputs": [],
   "source": [
    "import qrcode"
   ]
  },
  {
   "cell_type": "code",
   "execution_count": 73,
   "id": "d5cf3f4c",
   "metadata": {},
   "outputs": [],
   "source": [
    "# pip install qrcode"
   ]
  },
  {
   "cell_type": "code",
   "execution_count": 74,
   "id": "7fad2026",
   "metadata": {},
   "outputs": [
    {
     "name": "stdout",
     "output_type": "stream",
     "text": [
      "done\n"
     ]
    }
   ],
   "source": [
    "qr = qrcode.make('Python is Awesome\\n❤️❤️')\n",
    "qr.save('myqr.png')\n",
    "print('done')"
   ]
  },
  {
   "cell_type": "code",
   "execution_count": 82,
   "id": "7a2777ce",
   "metadata": {},
   "outputs": [
    {
     "name": "stdout",
     "output_type": "stream",
     "text": [
      "done\n"
     ]
    }
   ],
   "source": [
    "url = '''https://www.youtube.com/watch?v=0jW0kZaPfQc'''\n",
    "qr = qrcode.make(url)\n",
    "qr.save('kapil.png')\n",
    "print('done')"
   ]
  },
  {
   "cell_type": "code",
   "execution_count": null,
   "id": "5139746d",
   "metadata": {},
   "outputs": [],
   "source": []
  },
  {
   "cell_type": "code",
   "execution_count": null,
   "id": "663af71c",
   "metadata": {},
   "outputs": [],
   "source": []
  },
  {
   "cell_type": "code",
   "execution_count": 76,
   "id": "f6134955",
   "metadata": {},
   "outputs": [],
   "source": [
    "# gtts:- google text to speech"
   ]
  },
  {
   "cell_type": "code",
   "execution_count": 79,
   "id": "f80bb081",
   "metadata": {},
   "outputs": [],
   "source": [
    "# pip install gtts"
   ]
  },
  {
   "cell_type": "code",
   "execution_count": 80,
   "id": "7c73cee2",
   "metadata": {},
   "outputs": [],
   "source": [
    "from gtts import gTTS"
   ]
  },
  {
   "cell_type": "code",
   "execution_count": 81,
   "id": "1312257f",
   "metadata": {},
   "outputs": [
    {
     "name": "stdout",
     "output_type": "stream",
     "text": [
      "done\n"
     ]
    }
   ],
   "source": [
    "audio = gTTS('Aur Bhai Harsh paper kaisa gaha tha')\n",
    "audio.save('exam.mp3')\n",
    "print('done')"
   ]
  },
  {
   "cell_type": "code",
   "execution_count": 83,
   "id": "01a5243d",
   "metadata": {},
   "outputs": [
    {
     "name": "stdout",
     "output_type": "stream",
     "text": [
      "pygame 2.5.1 (SDL 2.28.2, Python 3.11.3)\n",
      "Hello from the pygame community. https://www.pygame.org/contribute.html\n"
     ]
    },
    {
     "data": {
      "text/plain": [
       "(5, 0)"
      ]
     },
     "execution_count": 83,
     "metadata": {},
     "output_type": "execute_result"
    }
   ],
   "source": [
    "import pygame\n",
    "pygame.init()"
   ]
  },
  {
   "cell_type": "code",
   "execution_count": 84,
   "id": "96b04c4c",
   "metadata": {},
   "outputs": [],
   "source": [
    "# pip install pygame"
   ]
  },
  {
   "cell_type": "code",
   "execution_count": 85,
   "id": "e6b9658a",
   "metadata": {},
   "outputs": [
    {
     "data": {
      "text/plain": [
       "<pygame.mixer.Channel at 0x22ea8ae4a50>"
      ]
     },
     "execution_count": 85,
     "metadata": {},
     "output_type": "execute_result"
    }
   ],
   "source": [
    "music = pygame.mixer.Sound('exam.mp3')\n",
    "music.play()"
   ]
  },
  {
   "cell_type": "code",
   "execution_count": 86,
   "id": "e41f8fba",
   "metadata": {},
   "outputs": [],
   "source": [
    "def paytm(rs):\n",
    "    msg = f'''Paytm par {rs} rs prapt hue'''\n",
    "    audio = gTTS(msg)\n",
    "    audio.save('paytm.mp3')\n",
    "    \n",
    "    music = pygame.mixer.Sound('paytm.mp3')\n",
    "    music.play()"
   ]
  },
  {
   "cell_type": "code",
   "execution_count": 88,
   "id": "07742337",
   "metadata": {},
   "outputs": [],
   "source": [
    "paytm(45)"
   ]
  },
  {
   "cell_type": "code",
   "execution_count": null,
   "id": "a8ecf246",
   "metadata": {},
   "outputs": [],
   "source": []
  },
  {
   "cell_type": "markdown",
   "id": "a1bafbe4",
   "metadata": {},
   "source": [
    "# day 2"
   ]
  },
  {
   "cell_type": "code",
   "execution_count": 1,
   "id": "ab9be49d",
   "metadata": {},
   "outputs": [],
   "source": [
    "# modules\n",
    "# Excepting Handling\n",
    "# File handling\n",
    "# # requests\n",
    "# # regex\n",
    "# oops"
   ]
  },
  {
   "cell_type": "code",
   "execution_count": 3,
   "id": "4644fc07",
   "metadata": {},
   "outputs": [],
   "source": [
    "import IPython as ip"
   ]
  },
  {
   "cell_type": "code",
   "execution_count": 4,
   "id": "4dba2df3",
   "metadata": {},
   "outputs": [
    {
     "data": {
      "image/jpeg": "[encoded data removed]",
      "text/html": [
       "\n",
       "        <iframe\n",
       "            width=\"400\"\n",
       "            height=\"300\"\n",
       "            src=\"https://www.youtube.com/embed/d2e_UdUFyC4\"\n",
       "            frameborder=\"0\"\n",
       "            allowfullscreen\n",
       "            \n",
       "        ></iframe>\n",
       "        "
      ],
      "text/plain": [
       "<IPython.lib.display.YouTubeVideo at 0x23b7743ed10>"
      ]
     },
     "execution_count": 4,
     "metadata": {},
     "output_type": "execute_result"
    }
   ],
   "source": [
    "ip.display.YouTubeVideo('d2e_UdUFyC4')"
   ]
  },
  {
   "cell_type": "code",
   "execution_count": 7,
   "id": "31c78328",
   "metadata": {},
   "outputs": [
    {
     "data": {
      "image/jpeg": "[encoded data removed]",
      "text/html": [
       "\n",
       "        <iframe\n",
       "            width=\"150\"\n",
       "            height=\"150\"\n",
       "            src=\"https://www.youtube.com/embed/TD0A7fHAxKw\"\n",
       "            frameborder=\"0\"\n",
       "            allowfullscreen\n",
       "            \n",
       "        ></iframe>\n",
       "        "
      ],
      "text/plain": [
       "<IPython.lib.display.YouTubeVideo at 0x23b77467b90>"
      ]
     },
     "execution_count": 7,
     "metadata": {},
     "output_type": "execute_result"
    }
   ],
   "source": [
    "ip.display.YouTubeVideo('TD0A7fHAxKw',width=150,height=150)"
   ]
  },
  {
   "cell_type": "code",
   "execution_count": 8,
   "id": "b8eeb506",
   "metadata": {},
   "outputs": [],
   "source": [
    "import pyautogui as py"
   ]
  },
  {
   "cell_type": "code",
   "execution_count": 10,
   "id": "0fbfa98f",
   "metadata": {},
   "outputs": [],
   "source": [
    "# pip install PyAutoGUI\n",
    "import time"
   ]
  },
  {
   "cell_type": "code",
   "execution_count": 13,
   "id": "9ba096a4",
   "metadata": {},
   "outputs": [],
   "source": [
    "data = 'This is a Python class'\n",
    "time.sleep(4)\n",
    "\n",
    "for i in data:\n",
    "    py.write(i)"
   ]
  },
  {
   "cell_type": "code",
   "execution_count": 12,
   "id": "cd6f3979",
   "metadata": {},
   "outputs": [],
   "source": [
    "# # This is a Python class\n",
    "# webdevelopment:- Django, flask, fastapi\n",
    "# game development :- pygame\n",
    "# app:- tkinter, pyqt5\n",
    "# DA:- pandas, numpy, matplotlib, seaborn\n",
    "# ML:- Sklearn, scipy\n",
    "# DL/AI:- Keras, nltk, hugging face, gensim\n"
   ]
  },
  {
   "cell_type": "code",
   "execution_count": 14,
   "id": "604eda76",
   "metadata": {},
   "outputs": [],
   "source": [
    "import string"
   ]
  },
  {
   "cell_type": "code",
   "execution_count": 16,
   "id": "ccbde04a",
   "metadata": {},
   "outputs": [],
   "source": [
    "abcd = string.ascii_letters"
   ]
  },
  {
   "cell_type": "code",
   "execution_count": 17,
   "id": "d8583727",
   "metadata": {},
   "outputs": [],
   "source": [
    "import random"
   ]
  },
  {
   "cell_type": "code",
   "execution_count": 20,
   "id": "462c1349",
   "metadata": {},
   "outputs": [
    {
     "data": {
      "text/plain": [
       "'i'"
      ]
     },
     "execution_count": 20,
     "metadata": {},
     "output_type": "execute_result"
    }
   ],
   "source": [
    "random.choice(abcd)"
   ]
  },
  {
   "cell_type": "code",
   "execution_count": 21,
   "id": "d22b01d2",
   "metadata": {},
   "outputs": [],
   "source": [
    "time.sleep(5)\n",
    "for i in range(100):\n",
    "    alpha = random.choice(abcd)\n",
    "    py.press(alpha)"
   ]
  },
  {
   "cell_type": "code",
   "execution_count": null,
   "id": "3055c92d",
   "metadata": {},
   "outputs": [],
   "source": [
    "import time\n",
    "import random\n",
    "import calendar\n",
    "import string\n",
    "import pyautogui\n",
    "import gtts\n",
    "import pygame\n",
    "import cowsay\n",
    "import math\n",
    "import IPython\n"
   ]
  },
  {
   "cell_type": "code",
   "execution_count": 23,
   "id": "bd56f98f",
   "metadata": {},
   "outputs": [],
   "source": [
    "# type(display)"
   ]
  },
  {
   "cell_type": "code",
   "execution_count": 24,
   "id": "486ff919",
   "metadata": {},
   "outputs": [
    {
     "data": {
      "text/plain": [
       "function"
      ]
     },
     "execution_count": 24,
     "metadata": {},
     "output_type": "execute_result"
    }
   ],
   "source": [
    "type(execfile)"
   ]
  },
  {
   "cell_type": "code",
   "execution_count": 28,
   "id": "94aebad0",
   "metadata": {},
   "outputs": [],
   "source": [
    "# external \n",
    "from instaloader import Instaloader as I"
   ]
  },
  {
   "cell_type": "code",
   "execution_count": null,
   "id": "182df8b6",
   "metadata": {},
   "outputs": [],
   "source": []
  },
  {
   "cell_type": "code",
   "execution_count": 29,
   "id": "23de798a",
   "metadata": {},
   "outputs": [],
   "source": [
    "insta = I()"
   ]
  },
  {
   "cell_type": "code",
   "execution_count": 31,
   "id": "74341812",
   "metadata": {},
   "outputs": [
    {
     "name": "stdout",
     "output_type": "stream",
     "text": [
      "Stored ID 5878239372 for profile malleshkannan.\n",
      "malleshkannan\\2023-11-06_07-23-55_UTC_profile_pic.jpg \n",
      "Retrieving posts from profile malleshkannan.\n",
      "[  1/499] malleshkannan\\2024-08-14_12-39-15_UTC.jpg [LOVE PROBLEM 🥺 💔  #lovepain #…] malleshkannan\\2024-08-14_12-39-15_UTC.mp4 json \n",
      "[  2/499] malleshkannan\\2024-09-16_12-50-20_UTC.jpg [Job Referral 😝  #job #newjob …] malleshkannan\\2024-09-16_12-50-20_UTC.mp4 json \n",
      "[  3/499] malleshkannan\\2024-09-14_12-10-03_UTC.jpg [Su##de Zone 😔   #awarness #he…] malleshkannan\\2024-09-14_12-10-03_UTC.mp4 \n",
      "Saved resume information to malleshkannan\\iterator_bVH1jrbV.json.xz.\n"
     ]
    },
    {
     "name": "stderr",
     "output_type": "stream",
     "text": [
      "\n",
      "KeyboardInterrupt\n",
      "\n"
     ]
    }
   ],
   "source": [
    "insta.download_profile('malleshkannan')"
   ]
  },
  {
   "cell_type": "code",
   "execution_count": 32,
   "id": "262a4146",
   "metadata": {},
   "outputs": [
    {
     "name": "stdout",
     "output_type": "stream",
     "text": [
      "done\n"
     ]
    }
   ],
   "source": [
    "import turtle\n",
    "print('done')"
   ]
  },
  {
   "cell_type": "code",
   "execution_count": 33,
   "id": "f6ba1f42",
   "metadata": {},
   "outputs": [
    {
     "name": "stdout",
     "output_type": "stream",
     "text": [
      "['Canvas', 'Pen', 'RawPen', 'RawTurtle', 'Screen', 'ScrolledCanvas', 'Shape', 'TK', 'TNavigator', 'TPen', 'Tbuffer', 'Terminator', 'Turtle', 'TurtleGraphicsError', 'TurtleScreen', 'TurtleScreenBase', 'Vec2D', '_CFG', '_LANGUAGE', '_Root', '_Screen', '_TurtleImage', '__all__', '__builtins__', '__cached__', '__doc__', '__file__', '__forwardmethods', '__func_body', '__loader__', '__methodDict', '__methods', '__name__', '__package__', '__spec__', '__stringBody', '_alias_list', '_make_global_funcs', '_screen_docrevise', '_tg_classes', '_tg_screen_functions', '_tg_turtle_functions', '_tg_utilities', '_turtle_docrevise', '_ver', 'addshape', 'back', 'backward', 'begin_fill', 'begin_poly', 'bgcolor', 'bgpic', 'bk', 'bye', 'circle', 'clear', 'clearscreen', 'clearstamp', 'clearstamps', 'clone', 'color', 'colormode', 'config_dict', 'deepcopy', 'degrees', 'delay', 'distance', 'done', 'dot', 'down', 'end_fill', 'end_poly', 'exitonclick', 'fd', 'fillcolor', 'filling', 'forward', 'get_poly', 'get_shapepoly', 'getcanvas', 'getmethparlist', 'getpen', 'getscreen', 'getshapes', 'getturtle', 'goto', 'heading', 'hideturtle', 'home', 'ht', 'inspect', 'isdown', 'isfile', 'isvisible', 'join', 'left', 'listen', 'lt', 'mainloop', 'math', 'mode', 'numinput', 'onclick', 'ondrag', 'onkey', 'onkeypress', 'onkeyrelease', 'onrelease', 'onscreenclick', 'ontimer', 'pd', 'pen', 'pencolor', 'pendown', 'pensize', 'penup', 'pos', 'position', 'pu', 'radians', 'read_docstrings', 'readconfig', 'register_shape', 'reset', 'resetscreen', 'resizemode', 'right', 'rt', 'screensize', 'seth', 'setheading', 'setpos', 'setposition', 'settiltangle', 'setundobuffer', 'setup', 'setworldcoordinates', 'setx', 'sety', 'shape', 'shapesize', 'shapetransform', 'shearfactor', 'showturtle', 'simpledialog', 'speed', 'split', 'st', 'stamp', 'sys', 'textinput', 'tilt', 'tiltangle', 'time', 'title', 'towards', 'tracer', 'turtles', 'turtlesize', 'types', 'undo', 'undobufferentries', 'up', 'update', 'warnings', 'width', 'window_height', 'window_width', 'write', 'write_docstringdict', 'xcor', 'ycor']\n"
     ]
    }
   ],
   "source": [
    "print(dir(turtle))"
   ]
  },
  {
   "cell_type": "code",
   "execution_count": 43,
   "id": "0833d977",
   "metadata": {},
   "outputs": [],
   "source": [
    "import random\n",
    "\n",
    "\n",
    "turtle.bgcolor('black')\n",
    "\n",
    "for i in range(10):\n",
    "    turtle.speed(0)\n",
    "    all_color = ['yellow','orange','red','white','pink','blue']\n",
    "    turtle.pencolor(random.choice(all_color))\n",
    "    turtle.circle(100)\n",
    "    turtle.left(36)"
   ]
  },
  {
   "cell_type": "code",
   "execution_count": 40,
   "id": "fb3316da",
   "metadata": {},
   "outputs": [
    {
     "data": {
      "text/plain": [
       "36.0"
      ]
     },
     "execution_count": 40,
     "metadata": {},
     "output_type": "execute_result"
    }
   ],
   "source": [
    "360/10"
   ]
  },
  {
   "cell_type": "code",
   "execution_count": null,
   "id": "0124214e",
   "metadata": {},
   "outputs": [],
   "source": []
  },
  {
   "cell_type": "code",
   "execution_count": 46,
   "id": "2fbd0c0c",
   "metadata": {},
   "outputs": [
    {
     "ename": "Terminator",
     "evalue": "",
     "output_type": "error",
     "traceback": [
      "\u001b[1;31m---------------------------------------------------------------------------\u001b[0m",
      "\u001b[1;31mTerminator\u001b[0m                                Traceback (most recent call last)",
      "Cell \u001b[1;32mIn[46], line 6\u001b[0m\n\u001b[0;32m      4\u001b[0m all_color \u001b[38;5;241m=\u001b[39m [\u001b[38;5;124m'\u001b[39m\u001b[38;5;124myellow\u001b[39m\u001b[38;5;124m'\u001b[39m,\u001b[38;5;124m'\u001b[39m\u001b[38;5;124morange\u001b[39m\u001b[38;5;124m'\u001b[39m,\u001b[38;5;124m'\u001b[39m\u001b[38;5;124mred\u001b[39m\u001b[38;5;124m'\u001b[39m,\u001b[38;5;124m'\u001b[39m\u001b[38;5;124mwhite\u001b[39m\u001b[38;5;124m'\u001b[39m,\u001b[38;5;124m'\u001b[39m\u001b[38;5;124mpink\u001b[39m\u001b[38;5;124m'\u001b[39m,\u001b[38;5;124m'\u001b[39m\u001b[38;5;124mblue\u001b[39m\u001b[38;5;124m'\u001b[39m]\n\u001b[0;32m      5\u001b[0m turtle\u001b[38;5;241m.\u001b[39mpencolor(random\u001b[38;5;241m.\u001b[39mchoice(all_color))\n\u001b[1;32m----> 6\u001b[0m turtle\u001b[38;5;241m.\u001b[39mcircle(random\u001b[38;5;241m.\u001b[39mrandint(\u001b[38;5;241m100\u001b[39m,\u001b[38;5;241m200\u001b[39m))\n\u001b[0;32m      7\u001b[0m turtle\u001b[38;5;241m.\u001b[39mleft(random\u001b[38;5;241m.\u001b[39mrandint(\u001b[38;5;241m1\u001b[39m,\u001b[38;5;241m360\u001b[39m))\n",
      "File \u001b[1;32m<string>:5\u001b[0m, in \u001b[0;36mcircle\u001b[1;34m(radius, extent, steps)\u001b[0m\n",
      "\u001b[1;31mTerminator\u001b[0m: "
     ]
    }
   ],
   "source": [
    "turtle.bgcolor('black')\n",
    "while True:\n",
    "    turtle.speed(0)\n",
    "    all_color = ['yellow','orange','red','white','pink','blue']\n",
    "    turtle.pencolor(random.choice(all_color))\n",
    "    turtle.circle(random.randint(100,200))\n",
    "    turtle.left(random.randint(1,360))"
   ]
  },
  {
   "cell_type": "code",
   "execution_count": 52,
   "id": "3d0c0438",
   "metadata": {},
   "outputs": [
    {
     "ename": "Terminator",
     "evalue": "",
     "output_type": "error",
     "traceback": [
      "\u001b[1;31m---------------------------------------------------------------------------\u001b[0m",
      "\u001b[1;31mTclError\u001b[0m                                  Traceback (most recent call last)",
      "File \u001b[1;32m<string>:8\u001b[0m, in \u001b[0;36mfd\u001b[1;34m(distance)\u001b[0m\n",
      "File \u001b[1;32m~\\anaconda3\\Lib\\turtle.py:1638\u001b[0m, in \u001b[0;36mTNavigator.forward\u001b[1;34m(self, distance)\u001b[0m\n\u001b[0;32m   1618\u001b[0m \u001b[38;5;250m\u001b[39m\u001b[38;5;124;03m\"\"\"Move the turtle forward by the specified distance.\u001b[39;00m\n\u001b[0;32m   1619\u001b[0m \n\u001b[0;32m   1620\u001b[0m \u001b[38;5;124;03mAliases: forward | fd\u001b[39;00m\n\u001b[1;32m   (...)\u001b[0m\n\u001b[0;32m   1636\u001b[0m \u001b[38;5;124;03m(-50.00,0.00)\u001b[39;00m\n\u001b[0;32m   1637\u001b[0m \u001b[38;5;124;03m\"\"\"\u001b[39;00m\n\u001b[1;32m-> 1638\u001b[0m \u001b[38;5;28mself\u001b[39m\u001b[38;5;241m.\u001b[39m_go(distance)\n",
      "File \u001b[1;32m~\\anaconda3\\Lib\\turtle.py:1606\u001b[0m, in \u001b[0;36mTNavigator._go\u001b[1;34m(self, distance)\u001b[0m\n\u001b[0;32m   1605\u001b[0m ende \u001b[38;5;241m=\u001b[39m \u001b[38;5;28mself\u001b[39m\u001b[38;5;241m.\u001b[39m_position \u001b[38;5;241m+\u001b[39m \u001b[38;5;28mself\u001b[39m\u001b[38;5;241m.\u001b[39m_orient \u001b[38;5;241m*\u001b[39m distance\n\u001b[1;32m-> 1606\u001b[0m \u001b[38;5;28mself\u001b[39m\u001b[38;5;241m.\u001b[39m_goto(ende)\n",
      "File \u001b[1;32m~\\anaconda3\\Lib\\turtle.py:3193\u001b[0m, in \u001b[0;36mRawTurtle._goto\u001b[1;34m(self, end)\u001b[0m\n\u001b[0;32m   3192\u001b[0m \u001b[38;5;28;01mif\u001b[39;00m \u001b[38;5;28mself\u001b[39m\u001b[38;5;241m.\u001b[39m_drawing:\n\u001b[1;32m-> 3193\u001b[0m     screen\u001b[38;5;241m.\u001b[39m_drawline(\u001b[38;5;28mself\u001b[39m\u001b[38;5;241m.\u001b[39mdrawingLineItem,\n\u001b[0;32m   3194\u001b[0m                      (start, \u001b[38;5;28mself\u001b[39m\u001b[38;5;241m.\u001b[39m_position),\n\u001b[0;32m   3195\u001b[0m                      \u001b[38;5;28mself\u001b[39m\u001b[38;5;241m.\u001b[39m_pencolor, \u001b[38;5;28mself\u001b[39m\u001b[38;5;241m.\u001b[39m_pensize, top)\n\u001b[0;32m   3196\u001b[0m \u001b[38;5;28mself\u001b[39m\u001b[38;5;241m.\u001b[39m_update()\n",
      "File \u001b[1;32m~\\anaconda3\\Lib\\turtle.py:545\u001b[0m, in \u001b[0;36mTurtleScreenBase._drawline\u001b[1;34m(self, lineitem, coordlist, fill, width, top)\u001b[0m\n\u001b[0;32m    544\u001b[0m         cl\u001b[38;5;241m.\u001b[39mappend(\u001b[38;5;241m-\u001b[39my \u001b[38;5;241m*\u001b[39m \u001b[38;5;28mself\u001b[39m\u001b[38;5;241m.\u001b[39myscale)\n\u001b[1;32m--> 545\u001b[0m     \u001b[38;5;28mself\u001b[39m\u001b[38;5;241m.\u001b[39mcv\u001b[38;5;241m.\u001b[39mcoords(lineitem, \u001b[38;5;241m*\u001b[39mcl)\n\u001b[0;32m    546\u001b[0m \u001b[38;5;28;01mif\u001b[39;00m fill \u001b[38;5;129;01mis\u001b[39;00m \u001b[38;5;129;01mnot\u001b[39;00m \u001b[38;5;28;01mNone\u001b[39;00m:\n",
      "File \u001b[1;32m<string>:1\u001b[0m, in \u001b[0;36mcoords\u001b[1;34m(self, *args, **kw)\u001b[0m\n",
      "File \u001b[1;32m~\\anaconda3\\Lib\\tkinter\\__init__.py:2822\u001b[0m, in \u001b[0;36mCanvas.coords\u001b[1;34m(self, *args)\u001b[0m\n\u001b[0;32m   2819\u001b[0m \u001b[38;5;66;03m# XXX Should use _flatten on args\u001b[39;00m\n\u001b[0;32m   2820\u001b[0m \u001b[38;5;28;01mreturn\u001b[39;00m [\u001b[38;5;28mself\u001b[39m\u001b[38;5;241m.\u001b[39mtk\u001b[38;5;241m.\u001b[39mgetdouble(x) \u001b[38;5;28;01mfor\u001b[39;00m x \u001b[38;5;129;01min\u001b[39;00m\n\u001b[0;32m   2821\u001b[0m                    \u001b[38;5;28mself\u001b[39m\u001b[38;5;241m.\u001b[39mtk\u001b[38;5;241m.\u001b[39msplitlist(\n\u001b[1;32m-> 2822\u001b[0m            \u001b[38;5;28mself\u001b[39m\u001b[38;5;241m.\u001b[39mtk\u001b[38;5;241m.\u001b[39mcall((\u001b[38;5;28mself\u001b[39m\u001b[38;5;241m.\u001b[39m_w, \u001b[38;5;124m'\u001b[39m\u001b[38;5;124mcoords\u001b[39m\u001b[38;5;124m'\u001b[39m) \u001b[38;5;241m+\u001b[39m args))]\n",
      "\u001b[1;31mTclError\u001b[0m: invalid command name \".!canvas\"",
      "\nDuring handling of the above exception, another exception occurred:\n",
      "\u001b[1;31mTerminator\u001b[0m                                Traceback (most recent call last)",
      "Cell \u001b[1;32mIn[52], line 7\u001b[0m\n\u001b[0;32m      5\u001b[0m all_color \u001b[38;5;241m=\u001b[39m [\u001b[38;5;124m'\u001b[39m\u001b[38;5;124myellow\u001b[39m\u001b[38;5;124m'\u001b[39m,\u001b[38;5;124m'\u001b[39m\u001b[38;5;124morange\u001b[39m\u001b[38;5;124m'\u001b[39m,\u001b[38;5;124m'\u001b[39m\u001b[38;5;124mred\u001b[39m\u001b[38;5;124m'\u001b[39m,\u001b[38;5;124m'\u001b[39m\u001b[38;5;124mwhite\u001b[39m\u001b[38;5;124m'\u001b[39m,\u001b[38;5;124m'\u001b[39m\u001b[38;5;124mpink\u001b[39m\u001b[38;5;124m'\u001b[39m,\u001b[38;5;124m'\u001b[39m\u001b[38;5;124mblue\u001b[39m\u001b[38;5;124m'\u001b[39m]\n\u001b[0;32m      6\u001b[0m turtle\u001b[38;5;241m.\u001b[39mpencolor(random\u001b[38;5;241m.\u001b[39mchoice(all_color))\n\u001b[1;32m----> 7\u001b[0m turtle\u001b[38;5;241m.\u001b[39mfd(side)\n\u001b[0;32m      8\u001b[0m turtle\u001b[38;5;241m.\u001b[39mleft(\u001b[38;5;241m60\u001b[39m)\n\u001b[0;32m      9\u001b[0m side \u001b[38;5;241m+\u001b[39m\u001b[38;5;241m=\u001b[39m \u001b[38;5;241m5\u001b[39m\n",
      "File \u001b[1;32m<string>:12\u001b[0m, in \u001b[0;36mfd\u001b[1;34m(distance)\u001b[0m\n",
      "\u001b[1;31mTerminator\u001b[0m: "
     ]
    }
   ],
   "source": [
    "turtle.bgcolor('black')\n",
    "side = 1\n",
    "while True:\n",
    "    turtle.speed(1)\n",
    "    all_color = ['yellow','orange','red','white','pink','blue']\n",
    "    turtle.pencolor(random.choice(all_color))\n",
    "    turtle.fd(side)\n",
    "    turtle.left(60)\n",
    "    side += 5"
   ]
  },
  {
   "cell_type": "code",
   "execution_count": null,
   "id": "9c7b5599",
   "metadata": {},
   "outputs": [],
   "source": []
  }
 ],
 "metadata": {
  "kernelspec": {
   "display_name": "Python 3 (ipykernel)",
   "language": "python",
   "name": "python3"
  },
  "language_info": {
   "codemirror_mode": {
    "name": "ipython",
    "version": 3
   },
   "file_extension": ".py",
   "mimetype": "text/x-python",
   "name": "python",
   "nbconvert_exporter": "python",
   "pygments_lexer": "ipython3",
   "version": "3.11.3"
  }
 },
 "nbformat": 4,
 "nbformat_minor": 5
}
