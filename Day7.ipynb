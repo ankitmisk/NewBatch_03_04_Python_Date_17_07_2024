{
 "cells": [
  {
   "cell_type": "code",
   "execution_count": 3,
   "id": "ddd1f1ec",
   "metadata": {},
   "outputs": [],
   "source": [
    "# decorator:- to decorate an existing func:- with help of decorator:- modify a func with another func"
   ]
  },
  {
   "cell_type": "code",
   "execution_count": 4,
   "id": "1c5cf654",
   "metadata": {},
   "outputs": [],
   "source": [
    "def gali(aadmi):\n",
    "    print('Holi hai')\n",
    "    aadmi()\n",
    "    print('💥💥')"
   ]
  },
  {
   "cell_type": "code",
   "execution_count": 6,
   "id": "2e090521",
   "metadata": {},
   "outputs": [
    {
     "name": "stdout",
     "output_type": "stream",
     "text": [
      "Holi hai\n",
      "I am a Coder\n",
      "💥💥\n"
     ]
    }
   ],
   "source": [
    "@gali\n",
    "def harry():\n",
    "    print('I am a Coder')"
   ]
  },
  {
   "cell_type": "code",
   "execution_count": null,
   "id": "35e0edfe",
   "metadata": {},
   "outputs": [],
   "source": []
  },
  {
   "cell_type": "code",
   "execution_count": 16,
   "id": "148a38af",
   "metadata": {},
   "outputs": [],
   "source": [
    "def decorate_that(func):\n",
    "    print('Now you are decorated')\n",
    "    func()\n",
    "    print('This func has been decorated!!')"
   ]
  },
  {
   "cell_type": "code",
   "execution_count": 17,
   "id": "841513a2",
   "metadata": {},
   "outputs": [
    {
     "name": "stdout",
     "output_type": "stream",
     "text": [
      "Now you are decorated\n",
      "This is a car!!\n",
      "This func has been decorated!!\n"
     ]
    }
   ],
   "source": [
    "@decorate_that\n",
    "def car():\n",
    "    print('This is a car!!')"
   ]
  },
  {
   "cell_type": "code",
   "execution_count": 12,
   "id": "2a4f006b",
   "metadata": {},
   "outputs": [
    {
     "name": "stdout",
     "output_type": "stream",
     "text": [
      "This is a car!!\n"
     ]
    }
   ],
   "source": [
    "car()"
   ]
  },
  {
   "cell_type": "code",
   "execution_count": 19,
   "id": "c53f1ebd",
   "metadata": {},
   "outputs": [],
   "source": [
    "# @wr = 'w3e'"
   ]
  },
  {
   "cell_type": "code",
   "execution_count": null,
   "id": "0d89588b",
   "metadata": {},
   "outputs": [],
   "source": []
  },
  {
   "cell_type": "code",
   "execution_count": null,
   "id": "4eeedec5",
   "metadata": {},
   "outputs": [],
   "source": []
  },
  {
   "cell_type": "code",
   "execution_count": null,
   "id": "fb338b18",
   "metadata": {},
   "outputs": [],
   "source": [
    "def decorate_that(func):\n",
    "    print('Now you are decorated')\n",
    "    func()\n",
    "    print('This func has been decorated!!')"
   ]
  },
  {
   "cell_type": "code",
   "execution_count": 20,
   "id": "a2daa464",
   "metadata": {},
   "outputs": [],
   "source": [
    "def car():\n",
    "    print('This is a car!!')"
   ]
  },
  {
   "cell_type": "code",
   "execution_count": 21,
   "id": "f13791ee",
   "metadata": {},
   "outputs": [
    {
     "name": "stdout",
     "output_type": "stream",
     "text": [
      "Now you are decorated\n",
      "This is a car!!\n",
      "This func has been decorated!!\n"
     ]
    }
   ],
   "source": [
    "decorate_that(car)"
   ]
  },
  {
   "cell_type": "code",
   "execution_count": null,
   "id": "dd40cb71",
   "metadata": {},
   "outputs": [],
   "source": []
  },
  {
   "cell_type": "code",
   "execution_count": null,
   "id": "128063ec",
   "metadata": {},
   "outputs": [],
   "source": []
  },
  {
   "cell_type": "code",
   "execution_count": 22,
   "id": "2ed2d7f2",
   "metadata": {},
   "outputs": [],
   "source": [
    "# generator:- to generate something"
   ]
  },
  {
   "cell_type": "code",
   "execution_count": 24,
   "id": "cdb9d6f3",
   "metadata": {},
   "outputs": [],
   "source": [
    "def nadi_devta():\n",
    "    yield 'Golden Axe'\n",
    "    yield 'Silver Axe'\n",
    "    yield 'Iron Axe'\n",
    "    yield ['Golden Axe','Silver Axe']\n",
    "    \n",
    "    "
   ]
  },
  {
   "cell_type": "code",
   "execution_count": 25,
   "id": "c9e6bc67",
   "metadata": {},
   "outputs": [
    {
     "data": {
      "text/plain": [
       "<generator object nadi_devta at 0x000002974F22A200>"
      ]
     },
     "execution_count": 25,
     "metadata": {},
     "output_type": "execute_result"
    }
   ],
   "source": [
    "nadi_devta()"
   ]
  },
  {
   "cell_type": "code",
   "execution_count": 27,
   "id": "5801d4bf",
   "metadata": {},
   "outputs": [
    {
     "data": {
      "text/plain": [
       "generator"
      ]
     },
     "execution_count": 27,
     "metadata": {},
     "output_type": "execute_result"
    }
   ],
   "source": [
    "type(nadi_devta())"
   ]
  },
  {
   "cell_type": "code",
   "execution_count": 40,
   "id": "1347ab76",
   "metadata": {},
   "outputs": [],
   "source": [
    "arun = nadi_devta()"
   ]
  },
  {
   "cell_type": "code",
   "execution_count": 39,
   "id": "ccbd365e",
   "metadata": {},
   "outputs": [
    {
     "ename": "StopIteration",
     "evalue": "",
     "output_type": "error",
     "traceback": [
      "\u001b[1;31m---------------------------------------------------------------------------\u001b[0m",
      "\u001b[1;31mStopIteration\u001b[0m                             Traceback (most recent call last)",
      "Cell \u001b[1;32mIn[39], line 1\u001b[0m\n\u001b[1;32m----> 1\u001b[0m \u001b[38;5;28mnext\u001b[39m(arun)\n",
      "\u001b[1;31mStopIteration\u001b[0m: "
     ]
    }
   ],
   "source": [
    "next(arun)"
   ]
  },
  {
   "cell_type": "code",
   "execution_count": 41,
   "id": "0dfd953a",
   "metadata": {},
   "outputs": [
    {
     "ename": "MemoryError",
     "evalue": "",
     "output_type": "error",
     "traceback": [
      "\u001b[1;31m---------------------------------------------------------------------------\u001b[0m",
      "\u001b[1;31mMemoryError\u001b[0m                               Traceback (most recent call last)",
      "Cell \u001b[1;32mIn[41], line 1\u001b[0m\n\u001b[1;32m----> 1\u001b[0m paisa \u001b[38;5;241m=\u001b[39m [i \u001b[38;5;28;01mfor\u001b[39;00m i \u001b[38;5;129;01min\u001b[39;00m \u001b[38;5;28mrange\u001b[39m(\u001b[38;5;241m234567654323456787654323456789876543234567890987654\u001b[39m)]\n\u001b[0;32m      2\u001b[0m \u001b[38;5;28mprint\u001b[39m(\u001b[38;5;124m'\u001b[39m\u001b[38;5;124mdone\u001b[39m\u001b[38;5;124m'\u001b[39m)\n",
      "Cell \u001b[1;32mIn[41], line 1\u001b[0m, in \u001b[0;36m<listcomp>\u001b[1;34m(.0)\u001b[0m\n\u001b[1;32m----> 1\u001b[0m paisa \u001b[38;5;241m=\u001b[39m [i \u001b[38;5;28;01mfor\u001b[39;00m i \u001b[38;5;129;01min\u001b[39;00m \u001b[38;5;28mrange\u001b[39m(\u001b[38;5;241m234567654323456787654323456789876543234567890987654\u001b[39m)]\n\u001b[0;32m      2\u001b[0m \u001b[38;5;28mprint\u001b[39m(\u001b[38;5;124m'\u001b[39m\u001b[38;5;124mdone\u001b[39m\u001b[38;5;124m'\u001b[39m)\n",
      "\u001b[1;31mMemoryError\u001b[0m: "
     ]
    }
   ],
   "source": [
    "paisa = [i for i in range(234567654323456787654323456789876543234567890987654)]\n",
    "print('done')"
   ]
  },
  {
   "cell_type": "code",
   "execution_count": 57,
   "id": "69ce1fba",
   "metadata": {},
   "outputs": [
    {
     "name": "stdout",
     "output_type": "stream",
     "text": [
      "done\n"
     ]
    }
   ],
   "source": [
    "paisa = ('Hello '*i for i in range(2345676543234567876543234567898765654567898765434567890986443234567890987654))\n",
    "print('done')"
   ]
  },
  {
   "cell_type": "code",
   "execution_count": 55,
   "id": "19770c0f",
   "metadata": {},
   "outputs": [
    {
     "ename": "MemoryError",
     "evalue": "",
     "output_type": "error",
     "traceback": [
      "\u001b[1;31m---------------------------------------------------------------------------\u001b[0m",
      "\u001b[1;31mMemoryError\u001b[0m                               Traceback (most recent call last)",
      "Cell \u001b[1;32mIn[55], line 1\u001b[0m\n\u001b[1;32m----> 1\u001b[0m \u001b[38;5;28mlist\u001b[39m(paisa)\n",
      "Cell \u001b[1;32mIn[54], line 1\u001b[0m, in \u001b[0;36m<genexpr>\u001b[1;34m(.0)\u001b[0m\n\u001b[1;32m----> 1\u001b[0m paisa \u001b[38;5;241m=\u001b[39m (\u001b[38;5;124m'\u001b[39m\u001b[38;5;124mHello \u001b[39m\u001b[38;5;124m'\u001b[39m\u001b[38;5;241m*\u001b[39mi \u001b[38;5;28;01mfor\u001b[39;00m i \u001b[38;5;129;01min\u001b[39;00m \u001b[38;5;28mrange\u001b[39m(\u001b[38;5;241m2345676543234567876543234567898765654567898765434567890986443234567890987654\u001b[39m))\n\u001b[0;32m      2\u001b[0m \u001b[38;5;28mprint\u001b[39m(\u001b[38;5;124m'\u001b[39m\u001b[38;5;124mdone\u001b[39m\u001b[38;5;124m'\u001b[39m)\n",
      "\u001b[1;31mMemoryError\u001b[0m: "
     ]
    }
   ],
   "source": [
    "# list(paisa)"
   ]
  },
  {
   "cell_type": "code",
   "execution_count": 72,
   "id": "3497f7e1",
   "metadata": {},
   "outputs": [
    {
     "data": {
      "text/plain": [
       "'Hello Hello Hello Hello Hello Hello Hello Hello Hello Hello Hello Hello Hello Hello '"
      ]
     },
     "execution_count": 72,
     "metadata": {},
     "output_type": "execute_result"
    }
   ],
   "source": [
    "next(paisa)"
   ]
  },
  {
   "cell_type": "code",
   "execution_count": 74,
   "id": "c2ad86a5",
   "metadata": {},
   "outputs": [],
   "source": [
    "ans = (i**2 for i in range(10))"
   ]
  },
  {
   "cell_type": "code",
   "execution_count": 75,
   "id": "834b36b8",
   "metadata": {},
   "outputs": [
    {
     "data": {
      "text/plain": [
       "[0, 1, 4, 9, 16, 25, 36, 49, 64, 81]"
      ]
     },
     "execution_count": 75,
     "metadata": {},
     "output_type": "execute_result"
    }
   ],
   "source": [
    "list(ans)"
   ]
  },
  {
   "cell_type": "code",
   "execution_count": null,
   "id": "1a9b8e03",
   "metadata": {},
   "outputs": [],
   "source": []
  }
 ],
 "metadata": {
  "kernelspec": {
   "display_name": "Python 3 (ipykernel)",
   "language": "python",
   "name": "python3"
  },
  "language_info": {
   "codemirror_mode": {
    "name": "ipython",
    "version": 3
   },
   "file_extension": ".py",
   "mimetype": "text/x-python",
   "name": "python",
   "nbconvert_exporter": "python",
   "pygments_lexer": "ipython3",
   "version": "3.11.3"
  }
 },
 "nbformat": 4,
 "nbformat_minor": 5
}
