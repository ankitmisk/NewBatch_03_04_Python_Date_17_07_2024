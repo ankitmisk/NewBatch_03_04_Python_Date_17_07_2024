{
 "cells": [
  {
   "cell_type": "code",
   "execution_count": 1,
   "id": "dfcaeb78",
   "metadata": {},
   "outputs": [
    {
     "name": "stdout",
     "output_type": "stream",
     "text": [
      "komal\n",
      "<class 'str'>\n"
     ]
    }
   ],
   "source": [
    "a = 'komal'\n",
    "print(a)\n",
    "print(type(a))"
   ]
  },
  {
   "cell_type": "code",
   "execution_count": 2,
   "id": "020d2599",
   "metadata": {},
   "outputs": [],
   "source": [
    "# string:- single, double, triple quotes"
   ]
  },
  {
   "cell_type": "code",
   "execution_count": 4,
   "id": "cf7b2c13",
   "metadata": {},
   "outputs": [
    {
     "name": "stdout",
     "output_type": "stream",
     "text": [
      "we are in Techvidya\n",
      "<class 'str'>\n"
     ]
    }
   ],
   "source": [
    "b = \"we are in Techvidya\"\n",
    "\n",
    "print(b)\n",
    "print(type(b))"
   ]
  },
  {
   "cell_type": "code",
   "execution_count": null,
   "id": "84dbef52",
   "metadata": {},
   "outputs": [],
   "source": []
  },
  {
   "cell_type": "code",
   "execution_count": null,
   "id": "4eac065b",
   "metadata": {},
   "outputs": [],
   "source": []
  },
  {
   "cell_type": "code",
   "execution_count": 7,
   "id": "5fdc2ed7",
   "metadata": {},
   "outputs": [
    {
     "name": "stdout",
     "output_type": "stream",
     "text": [
      "we are in Techvidya and this is python's class \n"
     ]
    }
   ],
   "source": [
    "b = \"we are in Techvidya and this is python's class \"\n",
    "\n",
    "print(b)"
   ]
  },
  {
   "cell_type": "code",
   "execution_count": null,
   "id": "e3225352",
   "metadata": {},
   "outputs": [],
   "source": []
  },
  {
   "cell_type": "code",
   "execution_count": null,
   "id": "3df2b75c",
   "metadata": {},
   "outputs": [],
   "source": []
  },
  {
   "cell_type": "code",
   "execution_count": 11,
   "id": "044e19ee",
   "metadata": {},
   "outputs": [
    {
     "name": "stdout",
     "output_type": "stream",
     "text": [
      "\"we are in Techvidya and this is python's class\"\n"
     ]
    }
   ],
   "source": [
    "b = '''\"we are in Techvidya and this is python's class\"'''\n",
    "\n",
    "print(b)"
   ]
  },
  {
   "cell_type": "code",
   "execution_count": null,
   "id": "b0e8ff9c",
   "metadata": {},
   "outputs": [],
   "source": []
  },
  {
   "cell_type": "code",
   "execution_count": 14,
   "id": "4d00d8de",
   "metadata": {},
   "outputs": [
    {
     "ename": "SyntaxError",
     "evalue": "unterminated string literal (detected at line 1) (634709128.py, line 1)",
     "output_type": "error",
     "traceback": [
      "\u001b[1;36m  Cell \u001b[1;32mIn[14], line 1\u001b[1;36m\u001b[0m\n\u001b[1;33m    b = \"\"\"\"We are in Techvidya and this is python's class\"\"\"\"\u001b[0m\n\u001b[1;37m                                                             ^\u001b[0m\n\u001b[1;31mSyntaxError\u001b[0m\u001b[1;31m:\u001b[0m unterminated string literal (detected at line 1)\n"
     ]
    }
   ],
   "source": [
    "b = \"\"\"\"We are in Techvidya and this is python's class\"\"\"\"\n",
    "\n",
    "print(b)"
   ]
  },
  {
   "cell_type": "code",
   "execution_count": 16,
   "id": "182c623c",
   "metadata": {},
   "outputs": [
    {
     "name": "stdout",
     "output_type": "stream",
     "text": [
      "We are in Techvidya and this is python's class\n"
     ]
    }
   ],
   "source": [
    "b = \"\"\"We are in Techvidya and this is python's class\"\"\"\n",
    "\n",
    "print(b)"
   ]
  },
  {
   "cell_type": "code",
   "execution_count": 17,
   "id": "970c7aef",
   "metadata": {},
   "outputs": [],
   "source": [
    "# line continution character"
   ]
  },
  {
   "cell_type": "code",
   "execution_count": 18,
   "id": "2994a8a7",
   "metadata": {},
   "outputs": [
    {
     "ename": "SyntaxError",
     "evalue": "unterminated string literal (detected at line 1) (2489912231.py, line 1)",
     "output_type": "error",
     "traceback": [
      "\u001b[1;36m  Cell \u001b[1;32mIn[18], line 1\u001b[1;36m\u001b[0m\n\u001b[1;33m    a = 'This is python's class'\u001b[0m\n\u001b[1;37m                               ^\u001b[0m\n\u001b[1;31mSyntaxError\u001b[0m\u001b[1;31m:\u001b[0m unterminated string literal (detected at line 1)\n"
     ]
    }
   ],
   "source": [
    "a = 'This is python's class'\n",
    "\n",
    "print(a)"
   ]
  },
  {
   "cell_type": "code",
   "execution_count": 20,
   "id": "6aff9e72",
   "metadata": {},
   "outputs": [
    {
     "name": "stdout",
     "output_type": "stream",
     "text": [
      "This is python's class\n"
     ]
    }
   ],
   "source": [
    "a = '''This is python's class'''\n",
    "\n",
    "print(a)"
   ]
  },
  {
   "cell_type": "code",
   "execution_count": 21,
   "id": "b7f08ba7",
   "metadata": {},
   "outputs": [
    {
     "name": "stdout",
     "output_type": "stream",
     "text": [
      "This is python's class\n"
     ]
    }
   ],
   "source": [
    "# line continution character\n",
    "a = 'This is python\\'s class'\n",
    "\n",
    "print(a)"
   ]
  },
  {
   "cell_type": "code",
   "execution_count": 23,
   "id": "747a4afb",
   "metadata": {},
   "outputs": [],
   "source": [
    "# Multiline paragraphs\n",
    "\n",
    "\n",
    "a = 'India, officially the Republic of India, is a country in South Asia. It is the seventh-largest country by area; the most populous country as of June 2023; and from the time of its independence in 1947, the world\\'s most populous democracy'"
   ]
  },
  {
   "cell_type": "code",
   "execution_count": 24,
   "id": "786f3c19",
   "metadata": {},
   "outputs": [
    {
     "name": "stdout",
     "output_type": "stream",
     "text": [
      "India, officially the Republic of India, is a country in South Asia. It is the seventh-largest country by area; the most populous country as of June 2023; and from the time of its independence in 1947, the world's most populous democracy\n"
     ]
    }
   ],
   "source": [
    "print(a)"
   ]
  },
  {
   "cell_type": "code",
   "execution_count": null,
   "id": "1dfe3a0b",
   "metadata": {},
   "outputs": [],
   "source": []
  },
  {
   "cell_type": "code",
   "execution_count": 26,
   "id": "a2ecdeb7",
   "metadata": {},
   "outputs": [],
   "source": [
    "# Multiline paragraphs\n",
    "\n",
    "\n",
    "a = '''India, officially the Republic of India, is a country in South Asia. It is the seventh-largest country by area; the most populous country as of June 2023; and from the time of its independence in 1947, the world's most populous democracy'''"
   ]
  },
  {
   "cell_type": "code",
   "execution_count": 27,
   "id": "684bcde4",
   "metadata": {},
   "outputs": [
    {
     "name": "stdout",
     "output_type": "stream",
     "text": [
      "India, officially the Republic of India, is a country in South Asia. It is the seventh-largest country by area; the most populous country as of June 2023; and from the time of its independence in 1947, the world's most populous democracy\n"
     ]
    }
   ],
   "source": [
    "print(a)"
   ]
  },
  {
   "cell_type": "code",
   "execution_count": 28,
   "id": "dc16d863",
   "metadata": {},
   "outputs": [
    {
     "ename": "SyntaxError",
     "evalue": "unterminated string literal (detected at line 4) (4178531044.py, line 4)",
     "output_type": "error",
     "traceback": [
      "\u001b[1;36m  Cell \u001b[1;32mIn[28], line 4\u001b[1;36m\u001b[0m\n\u001b[1;33m    a = 'India, officially the Republic of India, is a country in South Asia.\u001b[0m\n\u001b[1;37m        ^\u001b[0m\n\u001b[1;31mSyntaxError\u001b[0m\u001b[1;31m:\u001b[0m unterminated string literal (detected at line 4)\n"
     ]
    }
   ],
   "source": [
    "# Multiline paragraphs\n",
    "\n",
    "\n",
    "a = 'India, officially the Republic of India, is a country in South Asia. \n",
    "It is the seventh-largest country by area; the most populous country as of June 2023;\n",
    "and from the time of its independence in 1947, the world\\'s most populous democracy'\n",
    "\n",
    "print(a)"
   ]
  },
  {
   "cell_type": "code",
   "execution_count": 30,
   "id": "cc1b847c",
   "metadata": {},
   "outputs": [
    {
     "name": "stdout",
     "output_type": "stream",
     "text": [
      "India, officially the Republic of India, is a country in South Asia. \n",
      "It is the seventh-largest country by area; the most populous country as of June 2023;\n",
      "and from the time of its independence in 1947, the world's most populous democracy\n"
     ]
    }
   ],
   "source": [
    "# Multiline paragraphs\n",
    "\n",
    "\n",
    "a = '''India, officially the Republic of India, is a country in South Asia. \n",
    "It is the seventh-largest country by area; the most populous country as of June 2023;\n",
    "and from the time of its independence in 1947, the world's most populous democracy'''\n",
    "\n",
    "print(a)"
   ]
  },
  {
   "cell_type": "code",
   "execution_count": 33,
   "id": "f9e1a0ea",
   "metadata": {},
   "outputs": [
    {
     "name": "stdout",
     "output_type": "stream",
     "text": [
      "Twinkle, twinkle, little star,\n",
      "How I wonder what you are!\n",
      "Up above the world so high,\n",
      "Like a diamond in the sky.\n",
      "\n",
      "When the blazing sun is gone,\n",
      "When he nothing shines upon,\n",
      "Then you show your little light,\n",
      "Twinkle, twinkle, all the night.\n",
      "\n",
      "Then the traveler in the dark\n",
      "Thanks you for your tiny spark,\n",
      "How could he see where to go,\n",
      "If you did not twinkle so?\n"
     ]
    }
   ],
   "source": [
    "print(\"\"\"Twinkle, twinkle, little star,\n",
    "How I wonder what you are!\n",
    "Up above the world so high,\n",
    "Like a diamond in the sky.\n",
    "\n",
    "When the blazing sun is gone,\n",
    "When he nothing shines upon,\n",
    "Then you show your little light,\n",
    "Twinkle, twinkle, all the night.\n",
    "\n",
    "Then the traveler in the dark\n",
    "Thanks you for your tiny spark,\n",
    "How could he see where to go,\n",
    "If you did not twinkle so?\"\"\")"
   ]
  },
  {
   "cell_type": "code",
   "execution_count": 34,
   "id": "54329e83",
   "metadata": {},
   "outputs": [
    {
     "name": "stdout",
     "output_type": "stream",
     "text": [
      "karan\n"
     ]
    }
   ],
   "source": [
    "# unpacking\n",
    "\n",
    "a = 'karan'\n",
    "\n",
    "print(a)"
   ]
  },
  {
   "cell_type": "code",
   "execution_count": 35,
   "id": "87b773e3",
   "metadata": {},
   "outputs": [
    {
     "name": "stdout",
     "output_type": "stream",
     "text": [
      "done\n"
     ]
    }
   ],
   "source": [
    "a,b,c,d,e = 'karan'\n",
    "\n",
    "print('done')"
   ]
  },
  {
   "cell_type": "code",
   "execution_count": 38,
   "id": "3805e215",
   "metadata": {},
   "outputs": [
    {
     "name": "stdout",
     "output_type": "stream",
     "text": [
      "n\n"
     ]
    }
   ],
   "source": [
    "print(e)"
   ]
  },
  {
   "cell_type": "code",
   "execution_count": 39,
   "id": "5f08e247",
   "metadata": {},
   "outputs": [
    {
     "name": "stdout",
     "output_type": "stream",
     "text": [
      "102\n"
     ]
    }
   ],
   "source": [
    "a = 12\n",
    "b = 34\n",
    "c = 56\n",
    "d = a+b+c\n",
    "print(d)"
   ]
  },
  {
   "cell_type": "markdown",
   "id": "7e16f3c3",
   "metadata": {},
   "source": [
    "# single line code"
   ]
  },
  {
   "cell_type": "code",
   "execution_count": 43,
   "id": "20a83c36",
   "metadata": {},
   "outputs": [
    {
     "name": "stdout",
     "output_type": "stream",
     "text": [
      "102\n"
     ]
    }
   ],
   "source": [
    "a = 12; b = 34; c = 56; d = a+b+c; print(d)"
   ]
  },
  {
   "cell_type": "code",
   "execution_count": 44,
   "id": "e5cc38f2",
   "metadata": {},
   "outputs": [],
   "source": [
    "# string"
   ]
  },
  {
   "cell_type": "code",
   "execution_count": 45,
   "id": "b1f14e9b",
   "metadata": {},
   "outputs": [
    {
     "name": "stdout",
     "output_type": "stream",
     "text": [
      "<class 'str'>\n"
     ]
    }
   ],
   "source": [
    "a = 'mohan'\n",
    "\n",
    "print(type(a))"
   ]
  },
  {
   "cell_type": "code",
   "execution_count": 46,
   "id": "42f616ad",
   "metadata": {},
   "outputs": [
    {
     "data": {
      "text/plain": [
       "'MOHAN'"
      ]
     },
     "execution_count": 46,
     "metadata": {},
     "output_type": "execute_result"
    }
   ],
   "source": [
    "a.upper()"
   ]
  },
  {
   "cell_type": "code",
   "execution_count": 47,
   "id": "4e7a18d5",
   "metadata": {},
   "outputs": [],
   "source": [
    "# some basic operations with string"
   ]
  },
  {
   "cell_type": "code",
   "execution_count": 51,
   "id": "02b895f9",
   "metadata": {},
   "outputs": [
    {
     "name": "stdout",
     "output_type": "stream",
     "text": [
      "Hello World\n"
     ]
    }
   ],
   "source": [
    "# concatenate\n",
    "\n",
    "a = 'Hello'\n",
    "b = 'World'\n",
    "\n",
    "print(a + ' '+  b)"
   ]
  },
  {
   "cell_type": "code",
   "execution_count": 54,
   "id": "81a273b7",
   "metadata": {},
   "outputs": [
    {
     "ename": "TypeError",
     "evalue": "unsupported operand type(s) for -: 'str' and 'str'",
     "output_type": "error",
     "traceback": [
      "\u001b[1;31m---------------------------------------------------------------------------\u001b[0m",
      "\u001b[1;31mTypeError\u001b[0m                                 Traceback (most recent call last)",
      "Cell \u001b[1;32mIn[54], line 5\u001b[0m\n\u001b[0;32m      1\u001b[0m a \u001b[38;5;241m=\u001b[39m \u001b[38;5;124m'\u001b[39m\u001b[38;5;124m23\u001b[39m\u001b[38;5;124m'\u001b[39m\n\u001b[0;32m      3\u001b[0m b \u001b[38;5;241m=\u001b[39m \u001b[38;5;124m'\u001b[39m\u001b[38;5;124mhappy\u001b[39m\u001b[38;5;124m'\u001b[39m\n\u001b[1;32m----> 5\u001b[0m \u001b[38;5;28mprint\u001b[39m(a \u001b[38;5;241m-\u001b[39m b)\n",
      "\u001b[1;31mTypeError\u001b[0m: unsupported operand type(s) for -: 'str' and 'str'"
     ]
    }
   ],
   "source": [
    "a = '23'\n",
    "\n",
    "b = 'happy'\n",
    "\n",
    "print(a - b)"
   ]
  },
  {
   "cell_type": "code",
   "execution_count": 56,
   "id": "e20828cd",
   "metadata": {},
   "outputs": [
    {
     "name": "stdout",
     "output_type": "stream",
     "text": [
      "23 happy\n"
     ]
    }
   ],
   "source": [
    "a = '23 '\n",
    "\n",
    "b = 'happy'\n",
    "\n",
    "print(a + b)"
   ]
  },
  {
   "cell_type": "code",
   "execution_count": 59,
   "id": "5ae1c5a5",
   "metadata": {},
   "outputs": [
    {
     "data": {
      "text/plain": [
       "'concatenate concatenate concatenate concatenate concatenate '"
      ]
     },
     "execution_count": 59,
     "metadata": {},
     "output_type": "execute_result"
    }
   ],
   "source": [
    "a = 'concatenate '\n",
    "\n",
    "a*5"
   ]
  },
  {
   "cell_type": "code",
   "execution_count": 60,
   "id": "7fd63102",
   "metadata": {},
   "outputs": [
    {
     "ename": "TypeError",
     "evalue": "unsupported operand type(s) for /: 'str' and 'int'",
     "output_type": "error",
     "traceback": [
      "\u001b[1;31m---------------------------------------------------------------------------\u001b[0m",
      "\u001b[1;31mTypeError\u001b[0m                                 Traceback (most recent call last)",
      "Cell \u001b[1;32mIn[60], line 3\u001b[0m\n\u001b[0;32m      1\u001b[0m a \u001b[38;5;241m=\u001b[39m \u001b[38;5;124m'\u001b[39m\u001b[38;5;124mconcatenate \u001b[39m\u001b[38;5;124m'\u001b[39m\n\u001b[1;32m----> 3\u001b[0m a\u001b[38;5;241m/\u001b[39m\u001b[38;5;241m5\u001b[39m\n",
      "\u001b[1;31mTypeError\u001b[0m: unsupported operand type(s) for /: 'str' and 'int'"
     ]
    }
   ],
   "source": [
    "a = 'concatenate '\n",
    "\n",
    "a/5"
   ]
  },
  {
   "cell_type": "code",
   "execution_count": 64,
   "id": "9ecf225a",
   "metadata": {},
   "outputs": [
    {
     "ename": "TypeError",
     "evalue": "can't multiply sequence by non-int of type 'float'",
     "output_type": "error",
     "traceback": [
      "\u001b[1;31m---------------------------------------------------------------------------\u001b[0m",
      "\u001b[1;31mTypeError\u001b[0m                                 Traceback (most recent call last)",
      "Cell \u001b[1;32mIn[64], line 3\u001b[0m\n\u001b[0;32m      1\u001b[0m a \u001b[38;5;241m=\u001b[39m \u001b[38;5;124m'\u001b[39m\u001b[38;5;124mconcatenate \u001b[39m\u001b[38;5;124m'\u001b[39m\n\u001b[1;32m----> 3\u001b[0m a\u001b[38;5;241m*\u001b[39m\u001b[38;5;241m5.0\u001b[39m\n",
      "\u001b[1;31mTypeError\u001b[0m: can't multiply sequence by non-int of type 'float'"
     ]
    }
   ],
   "source": [
    "a = 'concatenate '\n",
    "\n",
    "a*5.0"
   ]
  },
  {
   "cell_type": "code",
   "execution_count": 65,
   "id": "a4509331",
   "metadata": {},
   "outputs": [
    {
     "name": "stdout",
     "output_type": "stream",
     "text": [
      "Happy faces\n"
     ]
    }
   ],
   "source": [
    "# new line character  \\n\n",
    "\n",
    "\n",
    "a = 'Happy faces'\n",
    "\n",
    "print(a)"
   ]
  },
  {
   "cell_type": "code",
   "execution_count": 66,
   "id": "8f96f64e",
   "metadata": {},
   "outputs": [
    {
     "name": "stdout",
     "output_type": "stream",
     "text": [
      "Happy\n",
      "faces\n"
     ]
    }
   ],
   "source": [
    "a = '''Happy\n",
    "faces'''\n",
    "\n",
    "print(a)"
   ]
  },
  {
   "cell_type": "code",
   "execution_count": 67,
   "id": "0a6dad87",
   "metadata": {},
   "outputs": [
    {
     "name": "stdout",
     "output_type": "stream",
     "text": [
      "Happy\n",
      "faces\n"
     ]
    }
   ],
   "source": [
    "a = \"\"\"Happy\n",
    "faces\"\"\"\n",
    "\n",
    "print(a)"
   ]
  },
  {
   "cell_type": "code",
   "execution_count": 71,
   "id": "15bd9500",
   "metadata": {},
   "outputs": [
    {
     "name": "stdout",
     "output_type": "stream",
     "text": [
      "Happy\n",
      "\n",
      "faces\n"
     ]
    }
   ],
   "source": [
    "# new line character  \\n\n",
    "\n",
    "a = 'Happy\\n\\nfaces'\n",
    "\n",
    "print(a)"
   ]
  },
  {
   "cell_type": "code",
   "execution_count": 81,
   "id": "8915fbdb",
   "metadata": {},
   "outputs": [
    {
     "name": "stdout",
     "output_type": "stream",
     "text": [
      "concatenate\n",
      "concatenate\n",
      "concatenate\n",
      "\n"
     ]
    }
   ],
   "source": [
    "a = 'concatenate\\n'\n",
    "\n",
    "print(a*3)"
   ]
  },
  {
   "cell_type": "code",
   "execution_count": 84,
   "id": "0e15f9fe",
   "metadata": {},
   "outputs": [
    {
     "name": "stdout",
     "output_type": "stream",
     "text": [
      "Hello\bworld\b\n"
     ]
    }
   ],
   "source": [
    "# backspace character  \\b\n",
    "\n",
    "a = 'Hello\\bworld\\b'\n",
    "\n",
    "print(a)"
   ]
  },
  {
   "cell_type": "code",
   "execution_count": 88,
   "id": "e72d2d4a",
   "metadata": {},
   "outputs": [
    {
     "name": "stdout",
     "output_type": "stream",
     "text": [
      "<class 'str'>\n"
     ]
    }
   ],
   "source": [
    "a = '👍\\n'\n",
    "\n",
    "print(type(a))"
   ]
  },
  {
   "cell_type": "code",
   "execution_count": 86,
   "id": "e060db3e",
   "metadata": {},
   "outputs": [
    {
     "data": {
      "text/plain": [
       "128077"
      ]
     },
     "execution_count": 86,
     "metadata": {},
     "output_type": "execute_result"
    }
   ],
   "source": [
    "ord('👍')"
   ]
  },
  {
   "cell_type": "code",
   "execution_count": 90,
   "id": "9b48a5f0",
   "metadata": {},
   "outputs": [
    {
     "name": "stdout",
     "output_type": "stream",
     "text": [
      "👍\n",
      "👍\n",
      "👍\n",
      "👍\n",
      "👍\n",
      "\n"
     ]
    }
   ],
   "source": [
    "print(a*5)"
   ]
  },
  {
   "cell_type": "code",
   "execution_count": 91,
   "id": "28ec45f6",
   "metadata": {},
   "outputs": [],
   "source": [
    "# indexing"
   ]
  },
  {
   "cell_type": "code",
   "execution_count": 92,
   "id": "9ac882b5",
   "metadata": {},
   "outputs": [
    {
     "name": "stdout",
     "output_type": "stream",
     "text": [
      "hello world\n"
     ]
    }
   ],
   "source": [
    "a = 'hello world'\n",
    "\n",
    "print(a)"
   ]
  },
  {
   "cell_type": "code",
   "execution_count": 93,
   "id": "06a163d6",
   "metadata": {},
   "outputs": [
    {
     "data": {
      "text/plain": [
       "'w'"
      ]
     },
     "execution_count": 93,
     "metadata": {},
     "output_type": "execute_result"
    }
   ],
   "source": [
    "a[6]"
   ]
  },
  {
   "cell_type": "code",
   "execution_count": 94,
   "id": "17c54ca6",
   "metadata": {},
   "outputs": [
    {
     "data": {
      "text/plain": [
       "'d'"
      ]
     },
     "execution_count": 94,
     "metadata": {},
     "output_type": "execute_result"
    }
   ],
   "source": [
    "a[10]"
   ]
  },
  {
   "cell_type": "code",
   "execution_count": 95,
   "id": "2d9c7dc3",
   "metadata": {},
   "outputs": [],
   "source": [
    "# # indexing\n",
    "# 1>> positive\n",
    "# 2>> negative"
   ]
  },
  {
   "cell_type": "code",
   "execution_count": 96,
   "id": "a81dfec1",
   "metadata": {},
   "outputs": [],
   "source": [
    "a = 'python'\n",
    "\n",
    "#    012345:-- +ve\n",
    "#   -6-5-4-3-2-1:- -ve "
   ]
  },
  {
   "cell_type": "code",
   "execution_count": 97,
   "id": "bd8ae315",
   "metadata": {},
   "outputs": [
    {
     "data": {
      "text/plain": [
       "'h'"
      ]
     },
     "execution_count": 97,
     "metadata": {},
     "output_type": "execute_result"
    }
   ],
   "source": [
    "a[3]"
   ]
  },
  {
   "cell_type": "code",
   "execution_count": 98,
   "id": "2f8a131f",
   "metadata": {},
   "outputs": [
    {
     "data": {
      "text/plain": [
       "'h'"
      ]
     },
     "execution_count": 98,
     "metadata": {},
     "output_type": "execute_result"
    }
   ],
   "source": [
    "a[-3]"
   ]
  },
  {
   "cell_type": "code",
   "execution_count": 99,
   "id": "bf263bf8",
   "metadata": {},
   "outputs": [
    {
     "data": {
      "text/plain": [
       "True"
      ]
     },
     "execution_count": 99,
     "metadata": {},
     "output_type": "execute_result"
    }
   ],
   "source": [
    "a[3] == a[-3]"
   ]
  },
  {
   "cell_type": "code",
   "execution_count": 100,
   "id": "4ede12c8",
   "metadata": {},
   "outputs": [
    {
     "data": {
      "text/plain": [
       "'t'"
      ]
     },
     "execution_count": 100,
     "metadata": {},
     "output_type": "execute_result"
    }
   ],
   "source": [
    "a = 'python'\n",
    "\n",
    "a[2]"
   ]
  },
  {
   "cell_type": "code",
   "execution_count": 101,
   "id": "53967f6e",
   "metadata": {},
   "outputs": [
    {
     "data": {
      "text/plain": [
       "'t'"
      ]
     },
     "execution_count": 101,
     "metadata": {},
     "output_type": "execute_result"
    }
   ],
   "source": [
    "a[-4]"
   ]
  },
  {
   "cell_type": "code",
   "execution_count": 104,
   "id": "670fe75f",
   "metadata": {},
   "outputs": [
    {
     "data": {
      "text/plain": [
       "'s'"
      ]
     },
     "execution_count": 104,
     "metadata": {},
     "output_type": "execute_result"
    }
   ],
   "source": [
    "a = 'we are in techvidya and python is very awesome'\n",
    "\n",
    "\n",
    "a[-4]"
   ]
  },
  {
   "cell_type": "code",
   "execution_count": 105,
   "id": "ded833ed",
   "metadata": {},
   "outputs": [
    {
     "data": {
      "text/plain": [
       "'v'"
      ]
     },
     "execution_count": 105,
     "metadata": {},
     "output_type": "execute_result"
    }
   ],
   "source": [
    "a[-12]"
   ]
  },
  {
   "cell_type": "code",
   "execution_count": 109,
   "id": "ab3ebec3",
   "metadata": {},
   "outputs": [
    {
     "data": {
      "text/plain": [
       "'techvidya'"
      ]
     },
     "execution_count": 109,
     "metadata": {},
     "output_type": "execute_result"
    }
   ],
   "source": [
    "# slicing:- more than one character\n",
    "\n",
    "a = 'we are in techvidya and python is very awesome'\n",
    "\n",
    "a[10:19]"
   ]
  },
  {
   "cell_type": "code",
   "execution_count": 112,
   "id": "db46d666",
   "metadata": {},
   "outputs": [
    {
     "data": {
      "text/plain": [
       "'python is very awesome'"
      ]
     },
     "execution_count": 112,
     "metadata": {},
     "output_type": "execute_result"
    }
   ],
   "source": [
    "a[24:46]"
   ]
  },
  {
   "cell_type": "code",
   "execution_count": 113,
   "id": "292e3475",
   "metadata": {},
   "outputs": [
    {
     "data": {
      "text/plain": [
       "'python is very awesome'"
      ]
     },
     "execution_count": 113,
     "metadata": {},
     "output_type": "execute_result"
    }
   ],
   "source": [
    "a[24:]"
   ]
  },
  {
   "cell_type": "code",
   "execution_count": 114,
   "id": "9fc79850",
   "metadata": {},
   "outputs": [],
   "source": [
    "# [index]:- indexing\n",
    "    \n",
    "# [start:stop+1]:- slicing"
   ]
  },
  {
   "cell_type": "code",
   "execution_count": 115,
   "id": "b2cb26ec",
   "metadata": {},
   "outputs": [
    {
     "name": "stdout",
     "output_type": "stream",
     "text": [
      "we are in techvidya and python is very awesome\n"
     ]
    }
   ],
   "source": [
    "print(a)"
   ]
  },
  {
   "cell_type": "code",
   "execution_count": 116,
   "id": "c3aec320",
   "metadata": {},
   "outputs": [
    {
     "data": {
      "text/plain": [
       "'we are in techvidya'"
      ]
     },
     "execution_count": 116,
     "metadata": {},
     "output_type": "execute_result"
    }
   ],
   "source": [
    "a[0:19]"
   ]
  },
  {
   "cell_type": "code",
   "execution_count": 117,
   "id": "6c86808d",
   "metadata": {},
   "outputs": [
    {
     "data": {
      "text/plain": [
       "'we are in techvidya'"
      ]
     },
     "execution_count": 117,
     "metadata": {},
     "output_type": "execute_result"
    }
   ],
   "source": [
    "a[:19]"
   ]
  },
  {
   "cell_type": "code",
   "execution_count": null,
   "id": "ce17efa9",
   "metadata": {},
   "outputs": [],
   "source": []
  },
  {
   "cell_type": "code",
   "execution_count": 120,
   "id": "b3228bb3",
   "metadata": {},
   "outputs": [
    {
     "data": {
      "text/plain": [
       "'we are in techvidya and python is very awesome'"
      ]
     },
     "execution_count": 120,
     "metadata": {},
     "output_type": "execute_result"
    }
   ],
   "source": [
    "a[:]"
   ]
  },
  {
   "cell_type": "code",
   "execution_count": 123,
   "id": "67139966",
   "metadata": {},
   "outputs": [
    {
     "data": {
      "text/plain": [
       "'w r ntcvda'"
      ]
     },
     "execution_count": 123,
     "metadata": {},
     "output_type": "execute_result"
    }
   ],
   "source": [
    "a[0:19:2]"
   ]
  },
  {
   "cell_type": "code",
   "execution_count": 124,
   "id": "7a563752",
   "metadata": {},
   "outputs": [
    {
     "data": {
      "text/plain": [
       "'w r ntcvdaadpto svr wsm'"
      ]
     },
     "execution_count": 124,
     "metadata": {},
     "output_type": "execute_result"
    }
   ],
   "source": [
    "a[0::2]"
   ]
  },
  {
   "cell_type": "code",
   "execution_count": 125,
   "id": "af044d0f",
   "metadata": {},
   "outputs": [
    {
     "data": {
      "text/plain": [
       "'w r ntcvdaadpto svr wsm'"
      ]
     },
     "execution_count": 125,
     "metadata": {},
     "output_type": "execute_result"
    }
   ],
   "source": [
    "a[::2]"
   ]
  },
  {
   "cell_type": "code",
   "execution_count": 126,
   "id": "c57889a5",
   "metadata": {},
   "outputs": [],
   "source": [
    "# slicing\n",
    "# [start:stop:step/skip]"
   ]
  },
  {
   "cell_type": "code",
   "execution_count": 127,
   "id": "a14ec474",
   "metadata": {},
   "outputs": [
    {
     "data": {
      "text/plain": [
       "'olleh'"
      ]
     },
     "execution_count": 127,
     "metadata": {},
     "output_type": "execute_result"
    }
   ],
   "source": [
    "a = 'hello'\n",
    "\n",
    "# reverse:\n",
    "\n",
    "a[::-1]"
   ]
  },
  {
   "cell_type": "code",
   "execution_count": 128,
   "id": "acfd33b1",
   "metadata": {},
   "outputs": [
    {
     "data": {
      "text/plain": [
       "'nohtyP'"
      ]
     },
     "execution_count": 128,
     "metadata": {},
     "output_type": "execute_result"
    }
   ],
   "source": [
    "a = 'Python'\n",
    "\n",
    "a[::-1]"
   ]
  },
  {
   "cell_type": "code",
   "execution_count": 129,
   "id": "5da97df9",
   "metadata": {},
   "outputs": [
    {
     "data": {
      "text/plain": [
       "'madam'"
      ]
     },
     "execution_count": 129,
     "metadata": {},
     "output_type": "execute_result"
    }
   ],
   "source": [
    "g = 'madam'\n",
    "\n",
    "g"
   ]
  },
  {
   "cell_type": "code",
   "execution_count": 130,
   "id": "27c2d450",
   "metadata": {},
   "outputs": [
    {
     "data": {
      "text/plain": [
       "'madam'"
      ]
     },
     "execution_count": 130,
     "metadata": {},
     "output_type": "execute_result"
    }
   ],
   "source": [
    "g[::-1]"
   ]
  },
  {
   "cell_type": "code",
   "execution_count": 131,
   "id": "042bc716",
   "metadata": {},
   "outputs": [],
   "source": [
    "# palindrome words:- direct or reverse both are equal"
   ]
  },
  {
   "cell_type": "code",
   "execution_count": 132,
   "id": "5f03ad53",
   "metadata": {},
   "outputs": [
    {
     "data": {
      "text/plain": [
       "'narak'"
      ]
     },
     "execution_count": 132,
     "metadata": {},
     "output_type": "execute_result"
    }
   ],
   "source": [
    "name = 'karan'\n",
    "\n",
    "name[::-1]"
   ]
  },
  {
   "cell_type": "code",
   "execution_count": 133,
   "id": "33a6b205",
   "metadata": {},
   "outputs": [
    {
     "data": {
      "text/plain": [
       "'nayan'"
      ]
     },
     "execution_count": 133,
     "metadata": {},
     "output_type": "execute_result"
    }
   ],
   "source": [
    "name = 'nayan'\n",
    "\n",
    "name[::-1]"
   ]
  },
  {
   "cell_type": "code",
   "execution_count": 135,
   "id": "28af81bc",
   "metadata": {},
   "outputs": [
    {
     "data": {
      "text/plain": [
       "True"
      ]
     },
     "execution_count": 135,
     "metadata": {},
     "output_type": "execute_result"
    }
   ],
   "source": [
    "name = 'nayan'\n",
    "name == name[::-1]"
   ]
  },
  {
   "cell_type": "code",
   "execution_count": 136,
   "id": "93082fa4",
   "metadata": {},
   "outputs": [],
   "source": [
    "# reverse slicing"
   ]
  },
  {
   "cell_type": "code",
   "execution_count": 144,
   "id": "179e2566",
   "metadata": {},
   "outputs": [
    {
     "data": {
      "text/plain": [
       "'Elon'"
      ]
     },
     "execution_count": 144,
     "metadata": {},
     "output_type": "execute_result"
    }
   ],
   "source": [
    "a = 'This is Elon Musk'\n",
    "\n",
    "a[8:12]"
   ]
  },
  {
   "cell_type": "code",
   "execution_count": 145,
   "id": "c7955ae1",
   "metadata": {},
   "outputs": [
    {
     "data": {
      "text/plain": [
       "'Elon'"
      ]
     },
     "execution_count": 145,
     "metadata": {},
     "output_type": "execute_result"
    }
   ],
   "source": [
    "a[-9:-5]"
   ]
  },
  {
   "cell_type": "code",
   "execution_count": 146,
   "id": "34d38a59",
   "metadata": {},
   "outputs": [
    {
     "data": {
      "text/plain": [
       "'khatarnak'"
      ]
     },
     "execution_count": 146,
     "metadata": {},
     "output_type": "execute_result"
    }
   ],
   "source": [
    "a = 'This is khatarnak Elon Musk'\n",
    "\n",
    "a[-19:-10]"
   ]
  },
  {
   "cell_type": "code",
   "execution_count": null,
   "id": "773be3a5",
   "metadata": {},
   "outputs": [],
   "source": []
  },
  {
   "cell_type": "code",
   "execution_count": 150,
   "id": "138d78a0",
   "metadata": {},
   "outputs": [],
   "source": [
    "# string is immutable:- we can not change character of a string\n",
    "\n",
    "# 'str' object does not support item assignment"
   ]
  },
  {
   "cell_type": "code",
   "execution_count": 151,
   "id": "eb67fe4b",
   "metadata": {},
   "outputs": [
    {
     "ename": "TypeError",
     "evalue": "'str' object does not support item assignment",
     "output_type": "error",
     "traceback": [
      "\u001b[1;31m---------------------------------------------------------------------------\u001b[0m",
      "\u001b[1;31mTypeError\u001b[0m                                 Traceback (most recent call last)",
      "Cell \u001b[1;32mIn[151], line 3\u001b[0m\n\u001b[0;32m      1\u001b[0m a \u001b[38;5;241m=\u001b[39m \u001b[38;5;124m'\u001b[39m\u001b[38;5;124mThis is khatarnak Elon Musk\u001b[39m\u001b[38;5;124m'\u001b[39m\n\u001b[1;32m----> 3\u001b[0m a[\u001b[38;5;241m-\u001b[39m\u001b[38;5;241m19\u001b[39m:\u001b[38;5;241m-\u001b[39m\u001b[38;5;241m10\u001b[39m] \u001b[38;5;241m=\u001b[39m \u001b[38;5;124m'\u001b[39m\u001b[38;5;124mHappy\u001b[39m\u001b[38;5;124m'\u001b[39m\n",
      "\u001b[1;31mTypeError\u001b[0m: 'str' object does not support item assignment"
     ]
    }
   ],
   "source": [
    "a = 'This is khatarnak Elon Musk'\n",
    "\n",
    "a[-19:-10] = 'Happy'"
   ]
  },
  {
   "cell_type": "code",
   "execution_count": null,
   "id": "e9444355",
   "metadata": {},
   "outputs": [],
   "source": []
  },
  {
   "cell_type": "code",
   "execution_count": 152,
   "id": "a746f176",
   "metadata": {},
   "outputs": [
    {
     "data": {
      "text/plain": [
       "'This is happy Elon Musk'"
      ]
     },
     "execution_count": 152,
     "metadata": {},
     "output_type": "execute_result"
    }
   ],
   "source": [
    "a = 'This is khatarnak Elon Musk'\n",
    "\n",
    "a.replace('khatarnak','happy')"
   ]
  },
  {
   "cell_type": "code",
   "execution_count": 155,
   "id": "6af3c412",
   "metadata": {},
   "outputs": [
    {
     "name": "stdout",
     "output_type": "stream",
     "text": [
      "This is happy Elon Musk\n"
     ]
    }
   ],
   "source": [
    "a = 'This is khatarnak Elon Musk'\n",
    "\n",
    "a = a.replace('khatarnak','happy')\n",
    "\n",
    "print(a)"
   ]
  },
  {
   "cell_type": "code",
   "execution_count": 156,
   "id": "cead712f",
   "metadata": {},
   "outputs": [
    {
     "name": "stdout",
     "output_type": "stream",
     "text": [
      "This is happy Elon Musk\n"
     ]
    }
   ],
   "source": [
    "print(a)"
   ]
  },
  {
   "cell_type": "code",
   "execution_count": 157,
   "id": "c5c7065b",
   "metadata": {},
   "outputs": [
    {
     "data": {
      "text/plain": [
       "'This is khatarnak Musk Elon'"
      ]
     },
     "execution_count": 157,
     "metadata": {},
     "output_type": "execute_result"
    }
   ],
   "source": [
    "a = 'This is khatarnak Elon Musk'\n",
    "\n",
    "\n",
    "a.replace('Elon Musk','Musk Elon')"
   ]
  },
  {
   "cell_type": "code",
   "execution_count": 161,
   "id": "dee8de2c",
   "metadata": {},
   "outputs": [
    {
     "name": "stdout",
     "output_type": "stream",
     "text": [
      "WE ARE IN TECHVIDYA\n"
     ]
    }
   ],
   "source": [
    "a = 'we are in techvidya'\n",
    "\n",
    "\n",
    "a = a.upper()\n",
    "\n",
    "print(a)"
   ]
  },
  {
   "cell_type": "code",
   "execution_count": 178,
   "id": "62fc1ada",
   "metadata": {},
   "outputs": [
    {
     "name": "stdout",
     "output_type": "stream",
     "text": [
      "👍👍👍👍👍👍👍👍👍👍👍👍👍👍👍👍👍👍👍👍👍👍👍Hello World👍👍👍👍👍👍👍👍👍👍👍👍👍👍👍👍👍👍👍👍👍👍👍\n"
     ]
    }
   ],
   "source": [
    "a = 'Hello World'\n",
    "\n",
    "# print(len(a))\n",
    "print(a.center(57,'👍'))"
   ]
  },
  {
   "cell_type": "code",
   "execution_count": null,
   "id": "d2489005",
   "metadata": {},
   "outputs": [],
   "source": []
  },
  {
   "cell_type": "markdown",
   "id": "9b7d1a08",
   "metadata": {},
   "source": [
    "# New day"
   ]
  },
  {
   "cell_type": "markdown",
   "id": "d7d149e1",
   "metadata": {},
   "source": [
    "# String Methods"
   ]
  },
  {
   "cell_type": "code",
   "execution_count": 1,
   "id": "8a86aea2",
   "metadata": {},
   "outputs": [
    {
     "data": {
      "text/plain": [
       "'jhvjhvjhvh'"
      ]
     },
     "execution_count": 1,
     "metadata": {},
     "output_type": "execute_result"
    }
   ],
   "source": [
    "a = 'JHVJHVJHVH'\n",
    "\n",
    "a.lower()"
   ]
  },
  {
   "cell_type": "code",
   "execution_count": 2,
   "id": "ffceaa91",
   "metadata": {},
   "outputs": [
    {
     "data": {
      "text/plain": [
       "'This Is Python Class'"
      ]
     },
     "execution_count": 2,
     "metadata": {},
     "output_type": "execute_result"
    }
   ],
   "source": [
    "a = 'this is python class'\n",
    "\n",
    "a.title()"
   ]
  },
  {
   "cell_type": "code",
   "execution_count": 3,
   "id": "851ddd0f",
   "metadata": {},
   "outputs": [],
   "source": [
    "# upper\n",
    "# lower\n",
    "# title\n",
    "# center\n"
   ]
  },
  {
   "cell_type": "code",
   "execution_count": 4,
   "id": "b9bbc7e5",
   "metadata": {},
   "outputs": [
    {
     "data": {
      "text/plain": [
       "'We are in techvidya'"
      ]
     },
     "execution_count": 4,
     "metadata": {},
     "output_type": "execute_result"
    }
   ],
   "source": [
    "a = 'we are in techvidya'\n",
    "\n",
    "a.capitalize()"
   ]
  },
  {
   "cell_type": "code",
   "execution_count": 6,
   "id": "92dfcc6f",
   "metadata": {},
   "outputs": [
    {
     "data": {
      "text/plain": [
       "'ghjhhvhgejhbfjker'"
      ]
     },
     "execution_count": 6,
     "metadata": {},
     "output_type": "execute_result"
    }
   ],
   "source": [
    "a = 'GHJHHVHGejhbfjker'\n",
    "a.casefold()"
   ]
  },
  {
   "cell_type": "code",
   "execution_count": 7,
   "id": "02121817",
   "metadata": {},
   "outputs": [
    {
     "data": {
      "text/plain": [
       "3"
      ]
     },
     "execution_count": 7,
     "metadata": {},
     "output_type": "execute_result"
    }
   ],
   "source": [
    "a ='sdvfjrjhfbjerf'\n",
    "a.count('j')"
   ]
  },
  {
   "cell_type": "code",
   "execution_count": 9,
   "id": "919b5d43",
   "metadata": {},
   "outputs": [
    {
     "data": {
      "text/plain": [
       "3"
      ]
     },
     "execution_count": 9,
     "metadata": {},
     "output_type": "execute_result"
    }
   ],
   "source": [
    "a = 'we are in techvidya'\n",
    "a.count(' ')"
   ]
  },
  {
   "cell_type": "code",
   "execution_count": 14,
   "id": "905af791",
   "metadata": {},
   "outputs": [
    {
     "data": {
      "text/plain": [
       "False"
      ]
     },
     "execution_count": 14,
     "metadata": {},
     "output_type": "execute_result"
    }
   ],
   "source": [
    "a = 'we are in techvidya'\n",
    "a.endswith('e')"
   ]
  },
  {
   "cell_type": "code",
   "execution_count": 16,
   "id": "6b76b9ce",
   "metadata": {},
   "outputs": [
    {
     "name": "stdout",
     "output_type": "stream",
     "text": [
      "['__add__', '__class__', '__contains__', '__delattr__', '__dir__', '__doc__', '__eq__', '__format__', '__ge__', '__getattribute__', '__getitem__', '__getnewargs__', '__getstate__', '__gt__', '__hash__', '__init__', '__init_subclass__', '__iter__', '__le__', '__len__', '__lt__', '__mod__', '__mul__', '__ne__', '__new__', '__reduce__', '__reduce_ex__', '__repr__', '__rmod__', '__rmul__', '__setattr__', '__sizeof__', '__str__', '__subclasshook__', 'capitalize', 'casefold', 'center', 'count', 'encode', 'endswith', 'expandtabs', 'find', 'format', 'format_map', 'index', 'isalnum', 'isalpha', 'isascii', 'isdecimal', 'isdigit', 'isidentifier', 'islower', 'isnumeric', 'isprintable', 'isspace', 'istitle', 'isupper', 'join', 'ljust', 'lower', 'lstrip', 'maketrans', 'partition', 'removeprefix', 'removesuffix', 'replace', 'rfind', 'rindex', 'rjust', 'rpartition', 'rsplit', 'rstrip', 'split', 'splitlines', 'startswith', 'strip', 'swapcase', 'title', 'translate', 'upper', 'zfill']\n"
     ]
    }
   ],
   "source": [
    "print(dir(str))"
   ]
  },
  {
   "cell_type": "code",
   "execution_count": 5,
   "id": "82a958ea",
   "metadata": {},
   "outputs": [],
   "source": [
    "all_methods = ['capitalize', 'casefold', 'center', 'count', 'encode', 'endswith', 'expandtabs', 'find', 'format', 'format_map', 'index', 'isalnum', 'isalpha', 'isascii', 'isdecimal', 'isdigit', 'isidentifier', 'islower', 'isnumeric', 'isprintable', 'isspace', 'istitle', 'isupper', 'join', 'ljust', 'lower', 'lstrip', 'maketrans', 'partition', 'removeprefix', 'removesuffix', 'replace', 'rfind', 'rindex', 'rjust', 'rpartition', 'rsplit', 'rstrip', 'split', 'splitlines', 'startswith', 'strip', 'swapcase', 'title', 'translate', 'upper', 'zfill']\n",
    "               \n",
    "               "
   ]
  },
  {
   "cell_type": "code",
   "execution_count": 19,
   "id": "8bd47196",
   "metadata": {},
   "outputs": [
    {
     "name": "stdout",
     "output_type": "stream",
     "text": [
      "['capitalize', 'casefold', 'center', 'count', 'encode', 'endswith', 'expandtabs', 'find', 'format', 'format_map', 'index', 'isalnum', 'isalpha', 'isascii', 'isdecimal', 'isdigit', 'isidentifier', 'islower', 'isnumeric', 'isprintable', 'isspace', 'istitle', 'isupper', 'join', 'ljust', 'lower', 'lstrip', 'maketrans', 'partition', 'removeprefix', 'removesuffix', 'replace', 'rfind', 'rindex', 'rjust', 'rpartition', 'rsplit', 'rstrip', 'split', 'splitlines', 'startswith', 'strip', 'swapcase', 'title', 'translate', 'upper', 'zfill']\n"
     ]
    }
   ],
   "source": [
    "print(all_methods)"
   ]
  },
  {
   "cell_type": "code",
   "execution_count": 21,
   "id": "a9371206",
   "metadata": {},
   "outputs": [
    {
     "data": {
      "text/plain": [
       "'This    is   Elon   Musk'"
      ]
     },
     "execution_count": 21,
     "metadata": {},
     "output_type": "execute_result"
    }
   ],
   "source": [
    "a = 'This    is   Elon   Musk'\n",
    "\n",
    "a"
   ]
  },
  {
   "cell_type": "code",
   "execution_count": 27,
   "id": "632dad10",
   "metadata": {},
   "outputs": [
    {
     "data": {
      "text/plain": [
       "'This                is                  Elon                Musk'"
      ]
     },
     "execution_count": 27,
     "metadata": {},
     "output_type": "execute_result"
    }
   ],
   "source": [
    "a = 'This\\tis\\tElon\\tMusk'\n",
    "\n",
    "a.expandtabs(20)"
   ]
  },
  {
   "cell_type": "code",
   "execution_count": 29,
   "id": "f81f6749",
   "metadata": {},
   "outputs": [
    {
     "data": {
      "text/plain": [
       "'E'"
      ]
     },
     "execution_count": 29,
     "metadata": {},
     "output_type": "execute_result"
    }
   ],
   "source": [
    "a = 'This is Elon Musk'\n",
    "\n",
    "a[8]"
   ]
  },
  {
   "cell_type": "code",
   "execution_count": 31,
   "id": "98f0947e",
   "metadata": {},
   "outputs": [
    {
     "data": {
      "text/plain": [
       "13"
      ]
     },
     "execution_count": 31,
     "metadata": {},
     "output_type": "execute_result"
    }
   ],
   "source": [
    "a.find('M')"
   ]
  },
  {
   "cell_type": "code",
   "execution_count": 32,
   "id": "228b327b",
   "metadata": {},
   "outputs": [
    {
     "data": {
      "text/plain": [
       "'Musk'"
      ]
     },
     "execution_count": 32,
     "metadata": {},
     "output_type": "execute_result"
    }
   ],
   "source": [
    "a[13:]"
   ]
  },
  {
   "cell_type": "code",
   "execution_count": 33,
   "id": "507b5432",
   "metadata": {},
   "outputs": [
    {
     "data": {
      "text/plain": [
       "'Musk'"
      ]
     },
     "execution_count": 33,
     "metadata": {},
     "output_type": "execute_result"
    }
   ],
   "source": [
    "a[a.find('M'):]"
   ]
  },
  {
   "cell_type": "code",
   "execution_count": 37,
   "id": "b3d09d41",
   "metadata": {},
   "outputs": [
    {
     "data": {
      "text/plain": [
       "0"
      ]
     },
     "execution_count": 37,
     "metadata": {},
     "output_type": "execute_result"
    }
   ],
   "source": [
    "a = 'This is Techvidya Tnd we are in Noida'\n",
    "\n",
    "\n",
    "a.find('T')"
   ]
  },
  {
   "cell_type": "code",
   "execution_count": 38,
   "id": "d83b7e1a",
   "metadata": {},
   "outputs": [
    {
     "data": {
      "text/plain": [
       "8"
      ]
     },
     "execution_count": 38,
     "metadata": {},
     "output_type": "execute_result"
    }
   ],
   "source": [
    "a.find('T',1)"
   ]
  },
  {
   "cell_type": "code",
   "execution_count": 39,
   "id": "032fd90c",
   "metadata": {},
   "outputs": [
    {
     "data": {
      "text/plain": [
       "18"
      ]
     },
     "execution_count": 39,
     "metadata": {},
     "output_type": "execute_result"
    }
   ],
   "source": [
    "a.find('T',9)"
   ]
  },
  {
   "cell_type": "code",
   "execution_count": 40,
   "id": "3dd6291d",
   "metadata": {},
   "outputs": [
    {
     "data": {
      "text/plain": [
       "'T'"
      ]
     },
     "execution_count": 40,
     "metadata": {},
     "output_type": "execute_result"
    }
   ],
   "source": [
    "a[8]"
   ]
  },
  {
   "cell_type": "code",
   "execution_count": 42,
   "id": "9fe23e10",
   "metadata": {},
   "outputs": [
    {
     "data": {
      "text/plain": [
       "25"
      ]
     },
     "execution_count": 42,
     "metadata": {},
     "output_type": "execute_result"
    }
   ],
   "source": [
    "a = 'This is Techvidya Tnd we are in Noida'\n",
    "\n",
    "\n",
    "a.find('a',17)"
   ]
  },
  {
   "cell_type": "code",
   "execution_count": 44,
   "id": "e7b34a29",
   "metadata": {},
   "outputs": [
    {
     "data": {
      "text/plain": [
       "'are'"
      ]
     },
     "execution_count": 44,
     "metadata": {},
     "output_type": "execute_result"
    }
   ],
   "source": [
    "a[25:28]"
   ]
  },
  {
   "cell_type": "code",
   "execution_count": 46,
   "id": "cb42881d",
   "metadata": {},
   "outputs": [
    {
     "data": {
      "text/plain": [
       "'are'"
      ]
     },
     "execution_count": 46,
     "metadata": {},
     "output_type": "execute_result"
    }
   ],
   "source": [
    "a[a.find('a',17):25+len('are')]"
   ]
  },
  {
   "cell_type": "code",
   "execution_count": 47,
   "id": "3f325a14",
   "metadata": {},
   "outputs": [
    {
     "data": {
      "text/plain": [
       "'are'"
      ]
     },
     "execution_count": 47,
     "metadata": {},
     "output_type": "execute_result"
    }
   ],
   "source": [
    "a[a.find('a',17):a.find('a',17)+len('are')]"
   ]
  },
  {
   "cell_type": "code",
   "execution_count": 48,
   "id": "b924975c",
   "metadata": {},
   "outputs": [
    {
     "data": {
      "text/plain": [
       "'This is Techvidya Tnd we are in Noida'"
      ]
     },
     "execution_count": 48,
     "metadata": {},
     "output_type": "execute_result"
    }
   ],
   "source": [
    "a"
   ]
  },
  {
   "cell_type": "code",
   "execution_count": 50,
   "id": "6cf932d2",
   "metadata": {},
   "outputs": [
    {
     "data": {
      "text/plain": [
       "8"
      ]
     },
     "execution_count": 50,
     "metadata": {},
     "output_type": "execute_result"
    }
   ],
   "source": [
    "a.find('T',1)"
   ]
  },
  {
   "cell_type": "code",
   "execution_count": 51,
   "id": "441aa0bb",
   "metadata": {},
   "outputs": [
    {
     "data": {
      "text/plain": [
       "9"
      ]
     },
     "execution_count": 51,
     "metadata": {},
     "output_type": "execute_result"
    }
   ],
   "source": [
    "len('Techvidya')"
   ]
  },
  {
   "cell_type": "code",
   "execution_count": 52,
   "id": "f25cc85c",
   "metadata": {},
   "outputs": [
    {
     "data": {
      "text/plain": [
       "'Techvidya'"
      ]
     },
     "execution_count": 52,
     "metadata": {},
     "output_type": "execute_result"
    }
   ],
   "source": [
    "a[8:8+9]"
   ]
  },
  {
   "cell_type": "code",
   "execution_count": 53,
   "id": "18e979eb",
   "metadata": {},
   "outputs": [
    {
     "data": {
      "text/plain": [
       "'Techvidya'"
      ]
     },
     "execution_count": 53,
     "metadata": {},
     "output_type": "execute_result"
    }
   ],
   "source": [
    "a[a.find('T',1):a.find('T',1)+9]"
   ]
  },
  {
   "cell_type": "code",
   "execution_count": 54,
   "id": "bec0d74d",
   "metadata": {},
   "outputs": [
    {
     "data": {
      "text/plain": [
       "'Techvidya'"
      ]
     },
     "execution_count": 54,
     "metadata": {},
     "output_type": "execute_result"
    }
   ],
   "source": [
    "a[a.find('T',1):a.find('T',1)+len('Techvidya')]"
   ]
  },
  {
   "cell_type": "code",
   "execution_count": 55,
   "id": "294ac9e0",
   "metadata": {},
   "outputs": [
    {
     "data": {
      "text/plain": [
       "'This is Techvidya Tnd we are in Noida'"
      ]
     },
     "execution_count": 55,
     "metadata": {},
     "output_type": "execute_result"
    }
   ],
   "source": [
    "a"
   ]
  },
  {
   "cell_type": "code",
   "execution_count": 56,
   "id": "8840cdb7",
   "metadata": {},
   "outputs": [
    {
     "data": {
      "text/plain": [
       "18"
      ]
     },
     "execution_count": 56,
     "metadata": {},
     "output_type": "execute_result"
    }
   ],
   "source": [
    "a.find('Tnd')"
   ]
  },
  {
   "cell_type": "code",
   "execution_count": 57,
   "id": "b480bc6f",
   "metadata": {},
   "outputs": [
    {
     "data": {
      "text/plain": [
       "-1"
      ]
     },
     "execution_count": 57,
     "metadata": {},
     "output_type": "execute_result"
    }
   ],
   "source": [
    "a.find('that')"
   ]
  },
  {
   "cell_type": "code",
   "execution_count": 58,
   "id": "5959ded5",
   "metadata": {},
   "outputs": [
    {
     "data": {
      "text/plain": [
       "'This is Techvidya Tnd we are in Noida'"
      ]
     },
     "execution_count": 58,
     "metadata": {},
     "output_type": "execute_result"
    }
   ],
   "source": [
    "# index\n",
    "\n",
    "a"
   ]
  },
  {
   "cell_type": "code",
   "execution_count": 59,
   "id": "bca8fc66",
   "metadata": {},
   "outputs": [
    {
     "data": {
      "text/plain": [
       "22"
      ]
     },
     "execution_count": 59,
     "metadata": {},
     "output_type": "execute_result"
    }
   ],
   "source": [
    "a.find('we')"
   ]
  },
  {
   "cell_type": "code",
   "execution_count": 60,
   "id": "1032dda6",
   "metadata": {},
   "outputs": [
    {
     "data": {
      "text/plain": [
       "22"
      ]
     },
     "execution_count": 60,
     "metadata": {},
     "output_type": "execute_result"
    }
   ],
   "source": [
    "a.index('we')"
   ]
  },
  {
   "cell_type": "code",
   "execution_count": 61,
   "id": "c4d61262",
   "metadata": {},
   "outputs": [
    {
     "ename": "ValueError",
     "evalue": "substring not found",
     "output_type": "error",
     "traceback": [
      "\u001b[1;31m---------------------------------------------------------------------------\u001b[0m",
      "\u001b[1;31mValueError\u001b[0m                                Traceback (most recent call last)",
      "Cell \u001b[1;32mIn[61], line 1\u001b[0m\n\u001b[1;32m----> 1\u001b[0m a\u001b[38;5;241m.\u001b[39mindex(\u001b[38;5;124m'\u001b[39m\u001b[38;5;124mthat\u001b[39m\u001b[38;5;124m'\u001b[39m)\n",
      "\u001b[1;31mValueError\u001b[0m: substring not found"
     ]
    }
   ],
   "source": [
    "a.index('that')"
   ]
  },
  {
   "cell_type": "code",
   "execution_count": 62,
   "id": "383f5726",
   "metadata": {},
   "outputs": [
    {
     "data": {
      "text/plain": [
       "-1"
      ]
     },
     "execution_count": 62,
     "metadata": {},
     "output_type": "execute_result"
    }
   ],
   "source": [
    "a.find('that')"
   ]
  },
  {
   "cell_type": "code",
   "execution_count": 63,
   "id": "82ff03ad",
   "metadata": {},
   "outputs": [
    {
     "name": "stdout",
     "output_type": "stream",
     "text": [
      "['capitalize', 'casefold', 'center', 'count', 'encode', 'endswith', 'expandtabs', 'find', 'format', 'format_map', 'index', 'isalnum', 'isalpha', 'isascii', 'isdecimal', 'isdigit', 'isidentifier', 'islower', 'isnumeric', 'isprintable', 'isspace', 'istitle', 'isupper', 'join', 'ljust', 'lower', 'lstrip', 'maketrans', 'partition', 'removeprefix', 'removesuffix', 'replace', 'rfind', 'rindex', 'rjust', 'rpartition', 'rsplit', 'rstrip', 'split', 'splitlines', 'startswith', 'strip', 'swapcase', 'title', 'translate', 'upper', 'zfill']\n"
     ]
    }
   ],
   "source": [
    "print(all_methods)"
   ]
  },
  {
   "cell_type": "code",
   "execution_count": 64,
   "id": "9d5dc215",
   "metadata": {},
   "outputs": [
    {
     "data": {
      "text/plain": [
       "True"
      ]
     },
     "execution_count": 64,
     "metadata": {},
     "output_type": "execute_result"
    }
   ],
   "source": [
    "a = '43567865'\n",
    "\n",
    "a.isdigit()"
   ]
  },
  {
   "cell_type": "code",
   "execution_count": 65,
   "id": "b3f25ace",
   "metadata": {},
   "outputs": [
    {
     "data": {
      "text/plain": [
       "True"
      ]
     },
     "execution_count": 65,
     "metadata": {},
     "output_type": "execute_result"
    }
   ],
   "source": [
    "a = 'jdfvj'\n",
    "\n",
    "a.islower()"
   ]
  },
  {
   "cell_type": "code",
   "execution_count": 66,
   "id": "1790332d",
   "metadata": {},
   "outputs": [
    {
     "data": {
      "text/plain": [
       "False"
      ]
     },
     "execution_count": 66,
     "metadata": {},
     "output_type": "execute_result"
    }
   ],
   "source": [
    "a = 'jdfvj'\n",
    "\n",
    "a.isdigit()"
   ]
  },
  {
   "cell_type": "code",
   "execution_count": 67,
   "id": "7327b4cf",
   "metadata": {},
   "outputs": [
    {
     "name": "stdout",
     "output_type": "stream",
     "text": [
      "47\n"
     ]
    }
   ],
   "source": [
    "print(len(all_methods))"
   ]
  },
  {
   "cell_type": "code",
   "execution_count": 69,
   "id": "173ba76a",
   "metadata": {},
   "outputs": [
    {
     "data": {
      "text/plain": [
       "True"
      ]
     },
     "execution_count": 69,
     "metadata": {},
     "output_type": "execute_result"
    }
   ],
   "source": [
    "a = 'j_hdfbvj'\n",
    "\n",
    "a.isidentifier()"
   ]
  },
  {
   "cell_type": "code",
   "execution_count": 70,
   "id": "fcbafde4",
   "metadata": {},
   "outputs": [
    {
     "data": {
      "text/plain": [
       "False"
      ]
     },
     "execution_count": 70,
     "metadata": {},
     "output_type": "execute_result"
    }
   ],
   "source": [
    "a = 'j hdfbvj'\n",
    "\n",
    "a.isidentifier()"
   ]
  },
  {
   "cell_type": "code",
   "execution_count": 71,
   "id": "177da90b",
   "metadata": {},
   "outputs": [
    {
     "ename": "SyntaxError",
     "evalue": "invalid syntax (3877971728.py, line 1)",
     "output_type": "error",
     "traceback": [
      "\u001b[1;36m  Cell \u001b[1;32mIn[71], line 1\u001b[1;36m\u001b[0m\n\u001b[1;33m    j hdfbvj = 345\u001b[0m\n\u001b[1;37m      ^\u001b[0m\n\u001b[1;31mSyntaxError\u001b[0m\u001b[1;31m:\u001b[0m invalid syntax\n"
     ]
    }
   ],
   "source": [
    "j hdfbvj = 345\n"
   ]
  },
  {
   "cell_type": "code",
   "execution_count": 72,
   "id": "ae94bf14",
   "metadata": {},
   "outputs": [
    {
     "name": "stdout",
     "output_type": "stream",
     "text": [
      "['capitalize', 'casefold', 'center', 'count', 'encode', 'endswith', 'expandtabs', 'find', 'format', 'format_map', 'index', 'isalnum', 'isalpha', 'isascii', 'isdecimal', 'isdigit', 'isidentifier', 'islower', 'isnumeric', 'isprintable', 'isspace', 'istitle', 'isupper', 'join', 'ljust', 'lower', 'lstrip', 'maketrans', 'partition', 'removeprefix', 'removesuffix', 'replace', 'rfind', 'rindex', 'rjust', 'rpartition', 'rsplit', 'rstrip', 'split', 'splitlines', 'startswith', 'strip', 'swapcase', 'title', 'translate', 'upper', 'zfill']\n"
     ]
    }
   ],
   "source": [
    "print(all_methods)"
   ]
  },
  {
   "cell_type": "code",
   "execution_count": 74,
   "id": "5081bbdc",
   "metadata": {},
   "outputs": [
    {
     "data": {
      "text/plain": [
       "'drfjerghj8675we56788'"
      ]
     },
     "execution_count": 74,
     "metadata": {},
     "output_type": "execute_result"
    }
   ],
   "source": [
    "a = 'drfjerghj8675we56788'\n",
    "\n",
    "a.casefold()"
   ]
  },
  {
   "cell_type": "code",
   "execution_count": 76,
   "id": "35e351fc",
   "metadata": {},
   "outputs": [
    {
     "data": {
      "text/plain": [
       "'hgbkjvghvbjhj8675we56788'"
      ]
     },
     "execution_count": 76,
     "metadata": {},
     "output_type": "execute_result"
    }
   ],
   "source": [
    "a = 'HGBKJVGHVBJhj8675we56788'\n",
    "\n",
    "a.lower()"
   ]
  },
  {
   "cell_type": "code",
   "execution_count": 80,
   "id": "1434be97",
   "metadata": {},
   "outputs": [
    {
     "name": "stdout",
     "output_type": "stream",
     "text": [
      "𝒫𝓎𝓉𝒽𝑜𝓃\n"
     ]
    }
   ],
   "source": [
    "a = '𝒫𝓎𝓉𝒽𝑜𝓃'\n",
    "\n",
    "print(a.lower())"
   ]
  },
  {
   "cell_type": "code",
   "execution_count": 79,
   "id": "83b82cab",
   "metadata": {},
   "outputs": [
    {
     "name": "stdout",
     "output_type": "stream",
     "text": [
      "𝒫𝓎𝓉𝒽𝑜𝓃\n"
     ]
    }
   ],
   "source": [
    "print(a.casefold())"
   ]
  },
  {
   "cell_type": "code",
   "execution_count": 81,
   "id": "bd971aea",
   "metadata": {},
   "outputs": [
    {
     "data": {
      "text/plain": [
       "'𝕻𝖞𝖙𝖍𝖔𝖓'"
      ]
     },
     "execution_count": 81,
     "metadata": {},
     "output_type": "execute_result"
    }
   ],
   "source": [
    "d = '𝕻𝖞𝖙𝖍𝖔𝖓'\n",
    "d.lower()"
   ]
  },
  {
   "cell_type": "code",
   "execution_count": 82,
   "id": "1ab99d08",
   "metadata": {},
   "outputs": [
    {
     "data": {
      "text/plain": [
       "120187"
      ]
     },
     "execution_count": 82,
     "metadata": {},
     "output_type": "execute_result"
    }
   ],
   "source": [
    "ord('𝕻')"
   ]
  },
  {
   "cell_type": "code",
   "execution_count": 86,
   "id": "001756f7",
   "metadata": {},
   "outputs": [
    {
     "data": {
      "text/plain": [
       "80"
      ]
     },
     "execution_count": 86,
     "metadata": {},
     "output_type": "execute_result"
    }
   ],
   "source": [
    "ord('P')"
   ]
  },
  {
   "cell_type": "code",
   "execution_count": 87,
   "id": "f659ea41",
   "metadata": {},
   "outputs": [
    {
     "data": {
      "text/plain": [
       "65"
      ]
     },
     "execution_count": 87,
     "metadata": {},
     "output_type": "execute_result"
    }
   ],
   "source": [
    "ord('A')"
   ]
  },
  {
   "cell_type": "code",
   "execution_count": null,
   "id": "c7fc9ed8",
   "metadata": {},
   "outputs": [],
   "source": []
  },
  {
   "cell_type": "code",
   "execution_count": 88,
   "id": "f49ecb0a",
   "metadata": {},
   "outputs": [
    {
     "data": {
      "text/plain": [
       "120187"
      ]
     },
     "execution_count": 88,
     "metadata": {},
     "output_type": "execute_result"
    }
   ],
   "source": [
    "ord('𝕻')"
   ]
  },
  {
   "cell_type": "code",
   "execution_count": 89,
   "id": "6b41d168",
   "metadata": {},
   "outputs": [
    {
     "data": {
      "text/plain": [
       "120162"
      ]
     },
     "execution_count": 89,
     "metadata": {},
     "output_type": "execute_result"
    }
   ],
   "source": [
    "120187 - 25"
   ]
  },
  {
   "cell_type": "code",
   "execution_count": 99,
   "id": "8c175588",
   "metadata": {},
   "outputs": [
    {
     "data": {
      "text/plain": [
       "'𝕫'"
      ]
     },
     "execution_count": 99,
     "metadata": {},
     "output_type": "execute_result"
    }
   ],
   "source": [
    "chr(120171)"
   ]
  },
  {
   "cell_type": "code",
   "execution_count": 100,
   "id": "9a0863cf",
   "metadata": {},
   "outputs": [
    {
     "data": {
      "text/plain": [
       "120145"
      ]
     },
     "execution_count": 100,
     "metadata": {},
     "output_type": "execute_result"
    }
   ],
   "source": [
    "120171 - 26"
   ]
  },
  {
   "cell_type": "code",
   "execution_count": 102,
   "id": "62b74d74",
   "metadata": {},
   "outputs": [
    {
     "data": {
      "text/plain": [
       "'𝕒'"
      ]
     },
     "execution_count": 102,
     "metadata": {},
     "output_type": "execute_result"
    }
   ],
   "source": [
    "chr(120146)"
   ]
  },
  {
   "cell_type": "code",
   "execution_count": 104,
   "id": "4454f542",
   "metadata": {},
   "outputs": [
    {
     "name": "stdout",
     "output_type": "stream",
     "text": [
      "𝕒,𝕓,𝕔,𝕕,𝕖,𝕗,𝕘,𝕙,𝕚,𝕛,𝕜,𝕝,𝕞,𝕟,𝕠,𝕡,𝕢,𝕣,𝕤,𝕥,𝕦,𝕧,𝕨,𝕩,𝕪,𝕫,"
     ]
    }
   ],
   "source": [
    "for i in range(120146,120172):\n",
    "    print(chr(i),end=',')"
   ]
  },
  {
   "cell_type": "code",
   "execution_count": 105,
   "id": "f0686d39",
   "metadata": {},
   "outputs": [],
   "source": [
    "# join'\n",
    "\n",
    "a = 'HOLLYWOOD'\n",
    "\n",
    "# 'H O L L Y W O O D'"
   ]
  },
  {
   "cell_type": "code",
   "execution_count": 106,
   "id": "41dbc3d3",
   "metadata": {},
   "outputs": [
    {
     "data": {
      "text/plain": [
       "'H O L L Y W O O D'"
      ]
     },
     "execution_count": 106,
     "metadata": {},
     "output_type": "execute_result"
    }
   ],
   "source": [
    "' '.join(a)"
   ]
  },
  {
   "cell_type": "code",
   "execution_count": 107,
   "id": "2c21c960",
   "metadata": {},
   "outputs": [
    {
     "data": {
      "text/plain": [
       "'H_O_L_L_Y_W_O_O_D'"
      ]
     },
     "execution_count": 107,
     "metadata": {},
     "output_type": "execute_result"
    }
   ],
   "source": [
    "'_'.join(a)"
   ]
  },
  {
   "cell_type": "code",
   "execution_count": 108,
   "id": "16ff0f89",
   "metadata": {},
   "outputs": [
    {
     "data": {
      "text/plain": [
       "'p*y*t*h*o*n'"
      ]
     },
     "execution_count": 108,
     "metadata": {},
     "output_type": "execute_result"
    }
   ],
   "source": [
    "'*'.join('python')"
   ]
  },
  {
   "cell_type": "code",
   "execution_count": 112,
   "id": "fee61a28",
   "metadata": {},
   "outputs": [
    {
     "data": {
      "text/plain": [
       "'*'"
      ]
     },
     "execution_count": 112,
     "metadata": {},
     "output_type": "execute_result"
    }
   ],
   "source": [
    "'**'.join('Tech').join('*')\n",
    "\n",
    "\n",
    "# '*T**e**c**h*'\n",
    "\n",
    "# 'T**e**c**h'.join('*')\n",
    "\n",
    "# '*'"
   ]
  },
  {
   "cell_type": "code",
   "execution_count": 117,
   "id": "d6d8a6c4",
   "metadata": {},
   "outputs": [
    {
     "data": {
      "text/plain": [
       "'T**E**C**H'"
      ]
     },
     "execution_count": 117,
     "metadata": {},
     "output_type": "execute_result"
    }
   ],
   "source": [
    "'**'.join('Tech').upper().lower().title().upper()"
   ]
  },
  {
   "cell_type": "code",
   "execution_count": 119,
   "id": "5eb3e041",
   "metadata": {},
   "outputs": [
    {
     "data": {
      "text/plain": [
       "['M', 'o', 'h', 'a', 'n', ' ', 'k', 'u', 'm', 'a', 'r']"
      ]
     },
     "execution_count": 119,
     "metadata": {},
     "output_type": "execute_result"
    }
   ],
   "source": [
    "name = 'Mohan kumar'\n",
    "\n",
    "\n",
    "data = list(name)\n",
    "\n",
    "data"
   ]
  },
  {
   "cell_type": "code",
   "execution_count": null,
   "id": "0f785218",
   "metadata": {},
   "outputs": [],
   "source": []
  },
  {
   "cell_type": "code",
   "execution_count": null,
   "id": "a1150d2c",
   "metadata": {},
   "outputs": [],
   "source": []
  },
  {
   "cell_type": "code",
   "execution_count": null,
   "id": "1e999b7a",
   "metadata": {},
   "outputs": [],
   "source": []
  },
  {
   "cell_type": "code",
   "execution_count": null,
   "id": "217f3f88",
   "metadata": {},
   "outputs": [],
   "source": []
  },
  {
   "cell_type": "code",
   "execution_count": 120,
   "id": "cd8cc34b",
   "metadata": {},
   "outputs": [
    {
     "data": {
      "text/plain": [
       "['M', 'o', 'h', 'a', 'n', ' ', 'k', 'u', 'm', 'a', 'r']"
      ]
     },
     "execution_count": 120,
     "metadata": {},
     "output_type": "execute_result"
    }
   ],
   "source": [
    "data"
   ]
  },
  {
   "cell_type": "code",
   "execution_count": 122,
   "id": "3eefc455",
   "metadata": {},
   "outputs": [
    {
     "data": {
      "text/plain": [
       "'Mohan kumar'"
      ]
     },
     "execution_count": 122,
     "metadata": {},
     "output_type": "execute_result"
    }
   ],
   "source": [
    "''.join(data)"
   ]
  },
  {
   "cell_type": "code",
   "execution_count": 124,
   "id": "761aa65d",
   "metadata": {},
   "outputs": [
    {
     "data": {
      "text/plain": [
       "'sdv124345'"
      ]
     },
     "execution_count": 124,
     "metadata": {},
     "output_type": "execute_result"
    }
   ],
   "source": [
    "data = ['sdv','1243','45']\n",
    "\n",
    "''.join(data)"
   ]
  },
  {
   "cell_type": "code",
   "execution_count": null,
   "id": "45c23c92",
   "metadata": {},
   "outputs": [],
   "source": []
  },
  {
   "cell_type": "code",
   "execution_count": 125,
   "id": "ac73719d",
   "metadata": {},
   "outputs": [
    {
     "name": "stdout",
     "output_type": "stream",
     "text": [
      "    Mohan verma\n"
     ]
    }
   ],
   "source": [
    "data = '    Mohan verma'\n",
    "\n",
    "\n",
    "print(data)"
   ]
  },
  {
   "cell_type": "code",
   "execution_count": 126,
   "id": "ed0d5140",
   "metadata": {},
   "outputs": [
    {
     "data": {
      "text/plain": [
       "'Mohan verma'"
      ]
     },
     "execution_count": 126,
     "metadata": {},
     "output_type": "execute_result"
    }
   ],
   "source": [
    "data.lstrip()"
   ]
  },
  {
   "cell_type": "code",
   "execution_count": 127,
   "id": "be9a77ca",
   "metadata": {},
   "outputs": [
    {
     "data": {
      "text/plain": [
       "'Mohan verma    '"
      ]
     },
     "execution_count": 127,
     "metadata": {},
     "output_type": "execute_result"
    }
   ],
   "source": [
    "data = 'Mohan verma    '\n",
    "\n",
    "\n",
    "data"
   ]
  },
  {
   "cell_type": "code",
   "execution_count": 128,
   "id": "01315828",
   "metadata": {},
   "outputs": [
    {
     "data": {
      "text/plain": [
       "'Mohan verma'"
      ]
     },
     "execution_count": 128,
     "metadata": {},
     "output_type": "execute_result"
    }
   ],
   "source": [
    "data.rstrip()"
   ]
  },
  {
   "cell_type": "code",
   "execution_count": 130,
   "id": "1d6d6def",
   "metadata": {},
   "outputs": [
    {
     "data": {
      "text/plain": [
       "'jhgjhvhgv'"
      ]
     },
     "execution_count": 130,
     "metadata": {},
     "output_type": "execute_result"
    }
   ],
   "source": [
    "data = '    jhgjhvhgv    '\n",
    "\n",
    "\n",
    "data.lstrip().rstrip()"
   ]
  },
  {
   "cell_type": "code",
   "execution_count": 3,
   "id": "6dc61de8",
   "metadata": {
    "scrolled": true
   },
   "outputs": [
    {
     "data": {
      "text/plain": [
       "'jhgjh     vhgv'"
      ]
     },
     "execution_count": 3,
     "metadata": {},
     "output_type": "execute_result"
    }
   ],
   "source": [
    "data = '    jhgjh     vhgv    '\n",
    "\n",
    "\n",
    "data.strip()"
   ]
  },
  {
   "cell_type": "markdown",
   "id": "afb099af",
   "metadata": {},
   "source": [
    "# new day"
   ]
  },
  {
   "cell_type": "code",
   "execution_count": 4,
   "id": "b2a2f54e",
   "metadata": {},
   "outputs": [
    {
     "name": "stdout",
     "output_type": "stream",
     "text": [
      "    jhgjh     vhgv    \n"
     ]
    }
   ],
   "source": [
    "print(data)"
   ]
  },
  {
   "cell_type": "code",
   "execution_count": 7,
   "id": "0d0d912b",
   "metadata": {},
   "outputs": [
    {
     "name": "stdout",
     "output_type": "stream",
     "text": [
      "['capitalize', 'casefold', 'center', 'count', 'encode', 'endswith', 'expandtabs', 'find', 'format', 'format_map', 'index', 'isalnum', 'isalpha', 'isascii', 'isdecimal', 'isdigit', 'isidentifier', 'islower', 'isnumeric', 'isprintable', 'isspace', 'istitle', 'isupper', 'join', 'ljust', 'lower', 'lstrip', 'maketrans', 'partition', 'removeprefix', 'removesuffix', 'replace', 'rfind', 'rindex', 'rjust', 'rpartition', 'rsplit', 'rstrip', 'split', 'splitlines', 'startswith', 'strip', 'swapcase', 'title', 'translate', 'upper', 'zfill']\n"
     ]
    }
   ],
   "source": [
    "print(all_methods)"
   ]
  },
  {
   "cell_type": "code",
   "execution_count": 8,
   "id": "27d4d839",
   "metadata": {},
   "outputs": [],
   "source": [
    "# format', 'format_map'"
   ]
  },
  {
   "cell_type": "code",
   "execution_count": 10,
   "id": "cf5f95c9",
   "metadata": {},
   "outputs": [
    {
     "name": "stdout",
     "output_type": "stream",
     "text": [
      "I have Honda car having model 2023 and price is 3456745\n"
     ]
    }
   ],
   "source": [
    "car_name = 'Maruti'\n",
    "model_year  = 2023\n",
    "price = 3456745\n",
    "\n",
    "print('I have Honda car having model 2023 and price is 3456745')"
   ]
  },
  {
   "cell_type": "code",
   "execution_count": null,
   "id": "fc5c7607",
   "metadata": {},
   "outputs": [],
   "source": []
  },
  {
   "cell_type": "code",
   "execution_count": null,
   "id": "4c576c6f",
   "metadata": {},
   "outputs": [],
   "source": []
  },
  {
   "cell_type": "code",
   "execution_count": 11,
   "id": "e29ee45d",
   "metadata": {},
   "outputs": [
    {
     "name": "stdout",
     "output_type": "stream",
     "text": [
      "I have Maruti car having model 2023 and price is 3456745\n"
     ]
    }
   ],
   "source": [
    "car_name = 'Maruti'\n",
    "model_year  = 2023\n",
    "price = 3456745\n",
    "\n",
    "print('I have {} car having model {} and price is {}'.format(car_name,model_year,price))"
   ]
  },
  {
   "cell_type": "code",
   "execution_count": 14,
   "id": "4e56228b",
   "metadata": {},
   "outputs": [
    {
     "name": "stdout",
     "output_type": "stream",
     "text": [
      "I have Maruti car having model 2025 and price is 3456\n"
     ]
    }
   ],
   "source": [
    "car_name = 'Maruti'\n",
    "model_year  = 2025\n",
    "price = 3456\n",
    "\n",
    "print('I have {} car having model {} and price is {}'.format(car_name,model_year,price))"
   ]
  },
  {
   "cell_type": "code",
   "execution_count": null,
   "id": "8819af51",
   "metadata": {},
   "outputs": [],
   "source": []
  },
  {
   "cell_type": "code",
   "execution_count": null,
   "id": "54490dd8",
   "metadata": {},
   "outputs": [],
   "source": []
  },
  {
   "cell_type": "code",
   "execution_count": 15,
   "id": "33135e7f",
   "metadata": {},
   "outputs": [
    {
     "name": "stdout",
     "output_type": "stream",
     "text": [
      "I have Maruti car having model 2025 and price is 3456\n"
     ]
    }
   ],
   "source": [
    "car_name = 'Maruti'\n",
    "model_year  = 2025\n",
    "price = 3456\n",
    "\n",
    "print('I have {0} car having model {1} and price is {2}'.format(car_name,model_year,price))"
   ]
  },
  {
   "cell_type": "code",
   "execution_count": null,
   "id": "600a230d",
   "metadata": {},
   "outputs": [],
   "source": []
  },
  {
   "cell_type": "code",
   "execution_count": null,
   "id": "36c89fb2",
   "metadata": {},
   "outputs": [],
   "source": []
  },
  {
   "cell_type": "code",
   "execution_count": 18,
   "id": "25619f33",
   "metadata": {},
   "outputs": [
    {
     "name": "stdout",
     "output_type": "stream",
     "text": [
      "I have Maruti car having model Maruti and price is Maruti\n"
     ]
    }
   ],
   "source": [
    "car_name = 'Maruti'\n",
    "model_year  = 2025\n",
    "price = 3456\n",
    "\n",
    "print('I have {0} car having model {0} and price is {0}'.format(car_name,model_year,price))"
   ]
  },
  {
   "cell_type": "code",
   "execution_count": null,
   "id": "27e6cb27",
   "metadata": {},
   "outputs": [],
   "source": []
  },
  {
   "cell_type": "code",
   "execution_count": 19,
   "id": "ef892b83",
   "metadata": {},
   "outputs": [],
   "source": [
    "# .format_map:- dict"
   ]
  },
  {
   "cell_type": "code",
   "execution_count": 23,
   "id": "90de15da",
   "metadata": {},
   "outputs": [
    {
     "name": "stdout",
     "output_type": "stream",
     "text": [
      "I have Maruti car having model 2025 and price is 3456\n"
     ]
    }
   ],
   "source": [
    "data = {'car_name':'Maruti',\"model_year\":2025,'price':3456}\n",
    "\n",
    "print('I have {car_name} car having model {model_year} and price is {price}'.format_map(data))"
   ]
  },
  {
   "cell_type": "code",
   "execution_count": null,
   "id": "5d7d7da5",
   "metadata": {},
   "outputs": [],
   "source": []
  },
  {
   "cell_type": "code",
   "execution_count": null,
   "id": "c2791b67",
   "metadata": {},
   "outputs": [],
   "source": []
  },
  {
   "cell_type": "code",
   "execution_count": null,
   "id": "40997d1b",
   "metadata": {},
   "outputs": [],
   "source": []
  },
  {
   "cell_type": "code",
   "execution_count": 24,
   "id": "c15774d3",
   "metadata": {},
   "outputs": [
    {
     "name": "stdout",
     "output_type": "stream",
     "text": [
      "I have {car_name} car having model {model_year} and price is {price}\n"
     ]
    }
   ],
   "source": [
    "# fstring:- format string\n",
    "car_name = 'Maruti'\n",
    "model_year  = 2025\n",
    "price = 3456\n",
    "\n",
    "print('I have {car_name} car having model {model_year} and price is {price}')"
   ]
  },
  {
   "cell_type": "code",
   "execution_count": null,
   "id": "630e37e2",
   "metadata": {},
   "outputs": [],
   "source": []
  },
  {
   "cell_type": "code",
   "execution_count": 28,
   "id": "3c4c1ba1",
   "metadata": {},
   "outputs": [
    {
     "name": "stdout",
     "output_type": "stream",
     "text": [
      "I have kia car having model 2015 and price is 345687654\n"
     ]
    }
   ],
   "source": [
    "# fstring:- format string\n",
    "car_name = 'kia'\n",
    "model_year  = 2015\n",
    "price = 345687654\n",
    "\n",
    "print(f'I have {car_name} car having model {model_year} and price is {price}')"
   ]
  },
  {
   "cell_type": "code",
   "execution_count": 30,
   "id": "c8a598c1",
   "metadata": {},
   "outputs": [
    {
     "name": "stdout",
     "output_type": "stream",
     "text": [
      "Enter your name: mohan\n",
      "Welcome mohan, to Facebook!!\n"
     ]
    }
   ],
   "source": [
    "name = input('Enter your name: ')\n",
    "\n",
    "\n",
    "print(f'Welcome {name}, to Facebook!!')"
   ]
  },
  {
   "cell_type": "code",
   "execution_count": 37,
   "id": "3c5f13a9",
   "metadata": {},
   "outputs": [
    {
     "name": "stdout",
     "output_type": "stream",
     "text": [
      "Welcome mohan to Facebook!!\n"
     ]
    }
   ],
   "source": [
    "print(\"Welcome\",name,\"to Facebook!!\")"
   ]
  },
  {
   "cell_type": "code",
   "execution_count": 32,
   "id": "e7e3c3f9",
   "metadata": {},
   "outputs": [
    {
     "name": "stdout",
     "output_type": "stream",
     "text": [
      "['capitalize', 'casefold', 'center', 'count', 'encode', 'endswith', 'expandtabs', 'find', 'format', 'format_map', 'index', 'isalnum', 'isalpha', 'isascii', 'isdecimal', 'isdigit', 'isidentifier', 'islower', 'isnumeric', 'isprintable', 'isspace', 'istitle', 'isupper', 'join', 'ljust', 'lower', 'lstrip', 'maketrans', 'partition', 'removeprefix', 'removesuffix', 'replace', 'rfind', 'rindex', 'rjust', 'rpartition', 'rsplit', 'rstrip', 'split', 'splitlines', 'startswith', 'strip', 'swapcase', 'title', 'translate', 'upper', 'zfill']\n"
     ]
    }
   ],
   "source": [
    "print(all_methods)"
   ]
  },
  {
   "cell_type": "code",
   "execution_count": 38,
   "id": "80534652",
   "metadata": {},
   "outputs": [],
   "source": [
    "# 'removeprefix', 'removesuffix',"
   ]
  },
  {
   "cell_type": "code",
   "execution_count": 39,
   "id": "2d7cbbaa",
   "metadata": {},
   "outputs": [
    {
     "data": {
      "text/plain": [
       "'Abhay verma'"
      ]
     },
     "execution_count": 39,
     "metadata": {},
     "output_type": "execute_result"
    }
   ],
   "source": [
    "a = 'Mr Abhay verma'\n",
    "\n",
    "a.removeprefix('Mr ')"
   ]
  },
  {
   "cell_type": "code",
   "execution_count": 40,
   "id": "3dad4717",
   "metadata": {},
   "outputs": [
    {
     "data": {
      "text/plain": [
       "'dubey'"
      ]
     },
     "execution_count": 40,
     "metadata": {},
     "output_type": "execute_result"
    }
   ],
   "source": [
    "b = 'dubey ji kanpur waale'\n",
    "\n",
    "b.removesuffix(' ji kanpur waale')"
   ]
  },
  {
   "cell_type": "code",
   "execution_count": 41,
   "id": "496add6e",
   "metadata": {},
   "outputs": [
    {
     "data": {
      "text/plain": [
       "'Abhay verma'"
      ]
     },
     "execution_count": 41,
     "metadata": {},
     "output_type": "execute_result"
    }
   ],
   "source": [
    "g = 'Mr Abhay verma'\n",
    "\n",
    "g.replace('Mr ','')"
   ]
  },
  {
   "cell_type": "code",
   "execution_count": 44,
   "id": "9deef29f",
   "metadata": {},
   "outputs": [
    {
     "data": {
      "text/plain": [
       "'I have Honda car having model 2015 and price is 345687654'"
      ]
     },
     "execution_count": 44,
     "metadata": {},
     "output_type": "execute_result"
    }
   ],
   "source": [
    "car_name = 'kia'\n",
    "model_year  = 2015\n",
    "price = 345687654\n",
    "\n",
    "f'I have {car_name} car having model {model_year} and price is {price}'.replace('kia','Honda')"
   ]
  },
  {
   "cell_type": "code",
   "execution_count": 45,
   "id": "54e9eaad",
   "metadata": {},
   "outputs": [
    {
     "data": {
      "text/plain": [
       "'This is Techvidya'"
      ]
     },
     "execution_count": 45,
     "metadata": {},
     "output_type": "execute_result"
    }
   ],
   "source": [
    "a = 'This is Elon Musk'\n",
    "\n",
    "a.replace('Elon Musk','Techvidya')"
   ]
  },
  {
   "cell_type": "code",
   "execution_count": null,
   "id": "7524877e",
   "metadata": {},
   "outputs": [],
   "source": []
  },
  {
   "cell_type": "code",
   "execution_count": 47,
   "id": "13e0300e",
   "metadata": {},
   "outputs": [
    {
     "data": {
      "text/plain": [
       "'*****************************************This is Elon Musk******************************************'"
      ]
     },
     "execution_count": 47,
     "metadata": {},
     "output_type": "execute_result"
    }
   ],
   "source": [
    "a = 'This is Elon Musk'\n",
    "\n",
    "a.center(100,'*')"
   ]
  },
  {
   "cell_type": "code",
   "execution_count": 53,
   "id": "da3ba178",
   "metadata": {},
   "outputs": [
    {
     "data": {
      "text/plain": [
       "'This is Elon Musk___'"
      ]
     },
     "execution_count": 53,
     "metadata": {},
     "output_type": "execute_result"
    }
   ],
   "source": [
    "a = 'This is Elon Musk'\n",
    "\n",
    "a.ljust(20,'_')"
   ]
  },
  {
   "cell_type": "code",
   "execution_count": 54,
   "id": "efc9eb07",
   "metadata": {},
   "outputs": [
    {
     "data": {
      "text/plain": [
       "'___This is Elon Musk'"
      ]
     },
     "execution_count": 54,
     "metadata": {},
     "output_type": "execute_result"
    }
   ],
   "source": [
    "a = 'This is Elon Musk'\n",
    "\n",
    "a.rjust(20,'_')"
   ]
  },
  {
   "cell_type": "code",
   "execution_count": 55,
   "id": "3b558c36",
   "metadata": {},
   "outputs": [],
   "source": [
    "# 'split', 'splitlines', 'startswith',swapcase,translate"
   ]
  },
  {
   "cell_type": "code",
   "execution_count": 56,
   "id": "ebd6a010",
   "metadata": {},
   "outputs": [
    {
     "data": {
      "text/plain": [
       "['This', 'is', 'Elon', 'Musk']"
      ]
     },
     "execution_count": 56,
     "metadata": {},
     "output_type": "execute_result"
    }
   ],
   "source": [
    "a = 'This is Elon Musk'\n",
    "a.split(' ')"
   ]
  },
  {
   "cell_type": "code",
   "execution_count": 58,
   "id": "37a6ca49",
   "metadata": {},
   "outputs": [],
   "source": [
    "# list(a)"
   ]
  },
  {
   "cell_type": "code",
   "execution_count": 60,
   "id": "a28e30c2",
   "metadata": {},
   "outputs": [
    {
     "data": {
      "text/plain": [
       "['we are in techvidya', 'learning python']"
      ]
     },
     "execution_count": 60,
     "metadata": {},
     "output_type": "execute_result"
    }
   ],
   "source": [
    "a = 'we are in techvidya and learning python'\n",
    "\n",
    "a.split(' and ')"
   ]
  },
  {
   "cell_type": "code",
   "execution_count": 61,
   "id": "f5e163c4",
   "metadata": {},
   "outputs": [],
   "source": [
    "# 'splitlines'"
   ]
  },
  {
   "cell_type": "code",
   "execution_count": 62,
   "id": "f54c34f4",
   "metadata": {},
   "outputs": [
    {
     "name": "stdout",
     "output_type": "stream",
     "text": [
      "This\n",
      "is\n",
      "Elon\n",
      "Musk\n"
     ]
    }
   ],
   "source": [
    "a = 'This\\nis\\nElon\\nMusk'\n",
    "print(a)"
   ]
  },
  {
   "cell_type": "code",
   "execution_count": 63,
   "id": "f33b0ae3",
   "metadata": {},
   "outputs": [
    {
     "data": {
      "text/plain": [
       "['This', 'is', 'Elon', 'Musk']"
      ]
     },
     "execution_count": 63,
     "metadata": {},
     "output_type": "execute_result"
    }
   ],
   "source": [
    "a = 'This\\nis\\nElon\\nMusk'\n",
    "\n",
    "a.splitlines()"
   ]
  },
  {
   "cell_type": "code",
   "execution_count": 64,
   "id": "5887d251",
   "metadata": {},
   "outputs": [
    {
     "data": {
      "text/plain": [
       "['This', 'is', 'Elon', 'Musk']"
      ]
     },
     "execution_count": 64,
     "metadata": {},
     "output_type": "execute_result"
    }
   ],
   "source": [
    "a = 'This\\nis\\nElon\\nMusk'\n",
    "a.split('\\n')"
   ]
  },
  {
   "cell_type": "code",
   "execution_count": 65,
   "id": "54f24ebd",
   "metadata": {},
   "outputs": [],
   "source": [
    "# 'startswith',swapcase,translate"
   ]
  },
  {
   "cell_type": "code",
   "execution_count": 66,
   "id": "05731d0d",
   "metadata": {},
   "outputs": [
    {
     "data": {
      "text/plain": [
       "False"
      ]
     },
     "execution_count": 66,
     "metadata": {},
     "output_type": "execute_result"
    }
   ],
   "source": [
    "a = 'Python is an object oriented programming language'\n",
    "\n",
    "a.startswith('This')"
   ]
  },
  {
   "cell_type": "code",
   "execution_count": 68,
   "id": "1a4506ce",
   "metadata": {},
   "outputs": [
    {
     "data": {
      "text/plain": [
       "True"
      ]
     },
     "execution_count": 68,
     "metadata": {},
     "output_type": "execute_result"
    }
   ],
   "source": [
    "a = 'Python is an object oriented programming language'\n",
    "\n",
    "a.startswith('Python')"
   ]
  },
  {
   "cell_type": "code",
   "execution_count": 69,
   "id": "6207f30b",
   "metadata": {},
   "outputs": [],
   "source": [
    "# swapcase,translate"
   ]
  },
  {
   "cell_type": "code",
   "execution_count": 70,
   "id": "313d2a2c",
   "metadata": {},
   "outputs": [
    {
     "data": {
      "text/plain": [
       "'BJBJHygjhbjVBJbjNBBJbjh'"
      ]
     },
     "execution_count": 70,
     "metadata": {},
     "output_type": "execute_result"
    }
   ],
   "source": [
    "a = 'bjbjhYGJHBJvbjBJnbbjBJH'\n",
    "\n",
    "a.swapcase()"
   ]
  },
  {
   "cell_type": "code",
   "execution_count": 83,
   "id": "5c778df3",
   "metadata": {},
   "outputs": [],
   "source": [
    "a = 'This is Python class'\n",
    "\n",
    "\n",
    "table = a.maketrans({'P':'J'})"
   ]
  },
  {
   "cell_type": "code",
   "execution_count": 81,
   "id": "73a1a6cd",
   "metadata": {},
   "outputs": [
    {
     "data": {
      "text/plain": [
       "80"
      ]
     },
     "execution_count": 81,
     "metadata": {},
     "output_type": "execute_result"
    }
   ],
   "source": [
    "ord('P')"
   ]
  },
  {
   "cell_type": "code",
   "execution_count": 82,
   "id": "f8f42b6b",
   "metadata": {},
   "outputs": [
    {
     "data": {
      "text/plain": [
       "74"
      ]
     },
     "execution_count": 82,
     "metadata": {},
     "output_type": "execute_result"
    }
   ],
   "source": [
    "ord('J')"
   ]
  },
  {
   "cell_type": "code",
   "execution_count": 86,
   "id": "c6ed807a",
   "metadata": {},
   "outputs": [
    {
     "data": {
      "text/plain": [
       "'This J is Jython class'"
      ]
     },
     "execution_count": 86,
     "metadata": {},
     "output_type": "execute_result"
    }
   ],
   "source": [
    "a = 'This P is Python class'\n",
    "\n",
    "a.translate(table)"
   ]
  },
  {
   "cell_type": "code",
   "execution_count": null,
   "id": "1d8d4179",
   "metadata": {},
   "outputs": [],
   "source": []
  },
  {
   "cell_type": "code",
   "execution_count": null,
   "id": "35700427",
   "metadata": {},
   "outputs": [],
   "source": []
  },
  {
   "cell_type": "code",
   "execution_count": 87,
   "id": "2e64aabd",
   "metadata": {},
   "outputs": [],
   "source": [
    "# split\n",
    "# strip\n",
    "# join\n",
    "# find\n",
    "# replace\n",
    "# index\n",
    "# count\n",
    "# f string:- format\n",
    "# upper\n",
    "# lower"
   ]
  },
  {
   "cell_type": "code",
   "execution_count": 92,
   "id": "18376dd9",
   "metadata": {},
   "outputs": [
    {
     "name": "stdout",
     "output_type": "stream",
     "text": [
      "your name is karan Mishra and age is 6\n"
     ]
    }
   ],
   "source": [
    "age = 6\n",
    "name = 'karan Mishra'\n",
    "\n",
    "\n",
    "print(f'your name is {name} and age is {age}')"
   ]
  },
  {
   "cell_type": "code",
   "execution_count": null,
   "id": "3680892e",
   "metadata": {},
   "outputs": [],
   "source": []
  }
 ],
 "metadata": {
  "kernelspec": {
   "display_name": "Python 3 (ipykernel)",
   "language": "python",
   "name": "python3"
  },
  "language_info": {
   "codemirror_mode": {
    "name": "ipython",
    "version": 3
   },
   "file_extension": ".py",
   "mimetype": "text/x-python",
   "name": "python",
   "nbconvert_exporter": "python",
   "pygments_lexer": "ipython3",
   "version": "3.11.3"
  }
 },
 "nbformat": 4,
 "nbformat_minor": 5
}
