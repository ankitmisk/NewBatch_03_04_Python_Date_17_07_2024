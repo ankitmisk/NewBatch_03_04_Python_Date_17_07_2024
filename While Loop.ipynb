{
 "cells": [
  {
   "cell_type": "code",
   "execution_count": null,
   "id": "40b57b5e",
   "metadata": {},
   "outputs": [],
   "source": [
    "# while loop:- When we want to run loop on condition bases\n",
    "\n",
    "# Infinite loop:- karte raho"
   ]
  },
  {
   "cell_type": "code",
   "execution_count": null,
   "id": "6cb9d58e",
   "metadata": {},
   "outputs": [],
   "source": [
    "# for  i in iterables(ek se jyada data)"
   ]
  },
  {
   "cell_type": "code",
   "execution_count": null,
   "id": "bbcb240c",
   "metadata": {},
   "outputs": [],
   "source": [
    "# while (condition/conditions):\n",
    "#     code block"
   ]
  },
  {
   "cell_type": "code",
   "execution_count": null,
   "id": "c909917e",
   "metadata": {},
   "outputs": [],
   "source": [
    "# counter variable\n",
    "\n",
    "i = 1\n",
    "while  i<=10:\n",
    "    print('Hello World')\n",
    "    \n",
    "#     i = i + 1\n",
    "    i += 1"
   ]
  },
  {
   "cell_type": "code",
   "execution_count": null,
   "id": "4004eae7",
   "metadata": {},
   "outputs": [],
   "source": [
    "j = 0\n",
    "\n",
    "while j>1:\n",
    "    print('Python')\n",
    "    j+=1"
   ]
  },
  {
   "cell_type": "code",
   "execution_count": null,
   "id": "8d489ed3",
   "metadata": {},
   "outputs": [],
   "source": [
    "# while False"
   ]
  },
  {
   "cell_type": "code",
   "execution_count": null,
   "id": "a5bca9a5",
   "metadata": {},
   "outputs": [],
   "source": [
    "data = [12,43,412,43,56,4325,67]"
   ]
  },
  {
   "cell_type": "code",
   "execution_count": null,
   "id": "91c143cc",
   "metadata": {},
   "outputs": [],
   "source": [
    "for i in data:print(i)"
   ]
  },
  {
   "cell_type": "code",
   "execution_count": null,
   "id": "9b88b9c6",
   "metadata": {},
   "outputs": [],
   "source": [
    "data = [12,43,412,43,56,4325,67]\n",
    "\n",
    "i = 0\n",
    "import time\n",
    "while i<len(data):\n",
    "    print(data[i])\n",
    "    i += 1\n",
    "    time.sleep(1)"
   ]
  },
  {
   "cell_type": "code",
   "execution_count": null,
   "id": "23a79944",
   "metadata": {},
   "outputs": [],
   "source": []
  },
  {
   "cell_type": "code",
   "execution_count": null,
   "id": "ac6ec383",
   "metadata": {},
   "outputs": [],
   "source": [
    "data = {'Name':'Mohan','Age':34,'Salary':34567}\n",
    "\n",
    "\n",
    "for i in data:\n",
    "    print(i,data[i])"
   ]
  },
  {
   "cell_type": "code",
   "execution_count": null,
   "id": "0feb54e6",
   "metadata": {},
   "outputs": [],
   "source": [
    "for i in data.items():\n",
    "    print(i)"
   ]
  },
  {
   "cell_type": "code",
   "execution_count": null,
   "id": "a4bcf24a",
   "metadata": {},
   "outputs": [],
   "source": [
    "data = {'Name':'Mohan','Age':34,'Salary':34567,'Address':'Noida'}"
   ]
  },
  {
   "cell_type": "code",
   "execution_count": null,
   "id": "98d7d775",
   "metadata": {},
   "outputs": [],
   "source": [
    "data['Name']"
   ]
  },
  {
   "cell_type": "code",
   "execution_count": null,
   "id": "c8d66f2d",
   "metadata": {
    "scrolled": true
   },
   "outputs": [],
   "source": [
    "data.keys()\n"
   ]
  },
  {
   "cell_type": "code",
   "execution_count": null,
   "id": "df0ab534",
   "metadata": {
    "scrolled": true
   },
   "outputs": [],
   "source": [
    "[*data]\n"
   ]
  },
  {
   "cell_type": "code",
   "execution_count": null,
   "id": "bbf7ffdc",
   "metadata": {},
   "outputs": [],
   "source": []
  },
  {
   "cell_type": "code",
   "execution_count": null,
   "id": "74b8cc88",
   "metadata": {},
   "outputs": [],
   "source": [
    "data[list(data)[2]]"
   ]
  },
  {
   "cell_type": "code",
   "execution_count": null,
   "id": "3a64aa44",
   "metadata": {},
   "outputs": [],
   "source": [
    "len(data)"
   ]
  },
  {
   "cell_type": "code",
   "execution_count": null,
   "id": "aaa8615a",
   "metadata": {},
   "outputs": [],
   "source": [
    "list(data)[2]"
   ]
  },
  {
   "cell_type": "code",
   "execution_count": null,
   "id": "79143979",
   "metadata": {},
   "outputs": [],
   "source": [
    "i = 0\n",
    "while i<len(data):\n",
    "    key = [*data][i]\n",
    "    print(key,data[key])\n",
    "    i+=1"
   ]
  },
  {
   "cell_type": "code",
   "execution_count": null,
   "id": "eeb31e87",
   "metadata": {},
   "outputs": [],
   "source": [
    "# Challenges\n",
    "# None\n",
    "\n",
    "\n"
   ]
  },
  {
   "cell_type": "code",
   "execution_count": null,
   "id": "9a5c718a",
   "metadata": {},
   "outputs": [],
   "source": [
    "x = [1,243,54,124,346]\n",
    "\n",
    "y = [1,243,52,346,6]\n",
    "\n",
    "\n",
    "common = []\n",
    "\n",
    "# nested while loop\n",
    "\n",
    "i = 0\n",
    "\n",
    "while i<len(x):\n",
    "    x_element = x[i]\n",
    "    \n",
    "    j = 0\n",
    "    while j<len(y):\n",
    "        element_y = y[j]\n",
    "        \n",
    "        if x_element == element_y:\n",
    "            common.append(x_element)\n",
    "        j +=1\n",
    "    \n",
    "    i +=1\n",
    "\n",
    "    \n",
    "print(common)"
   ]
  },
  {
   "cell_type": "code",
   "execution_count": null,
   "id": "72f6a456",
   "metadata": {},
   "outputs": [],
   "source": []
  },
  {
   "cell_type": "code",
   "execution_count": null,
   "id": "2744c092",
   "metadata": {},
   "outputs": [],
   "source": []
  },
  {
   "cell_type": "code",
   "execution_count": null,
   "id": "8b0bc992",
   "metadata": {},
   "outputs": [],
   "source": [
    "import random"
   ]
  },
  {
   "cell_type": "code",
   "execution_count": null,
   "id": "019bed8a",
   "metadata": {},
   "outputs": [],
   "source": [
    "money = 0\n",
    "\n",
    "while True:\n",
    "    comp = random.choice(range(1,6))\n",
    "    user = input('Enter your choice: ')\n",
    " \n",
    "    if user.lower() == 'exit':\n",
    "        print('Bye!!')\n",
    "        break\n",
    "\n",
    "    else: \n",
    "        print('Comp choice: ',comp)\n",
    "        user = int(user)\n",
    "        if user == comp:\n",
    "            print('You Won!!')\n",
    "            money += 10000\n",
    "\n",
    "\n",
    "        else:\n",
    "            print('You Lose!!')\n",
    "#             break\n",
    "    display(clear = True)"
   ]
  },
  {
   "cell_type": "code",
   "execution_count": null,
   "id": "a7782dad",
   "metadata": {},
   "outputs": [],
   "source": [
    "print(money)"
   ]
  },
  {
   "cell_type": "code",
   "execution_count": null,
   "id": "32fd4dda",
   "metadata": {},
   "outputs": [],
   "source": [
    "# random.choice()"
   ]
  },
  {
   "cell_type": "code",
   "execution_count": null,
   "id": "8f46c91a",
   "metadata": {},
   "outputs": [],
   "source": [
    "import time"
   ]
  },
  {
   "cell_type": "code",
   "execution_count": null,
   "id": "241e4e90",
   "metadata": {},
   "outputs": [],
   "source": []
  },
  {
   "cell_type": "code",
   "execution_count": null,
   "id": "359155cf",
   "metadata": {},
   "outputs": [],
   "source": [
    "while True:\n",
    "    print(time.asctime())\n",
    "    display(clear=True)\n",
    "    time.sleep(1)"
   ]
  },
  {
   "cell_type": "code",
   "execution_count": null,
   "id": "a3c16d7c",
   "metadata": {},
   "outputs": [],
   "source": [
    "# progress bar"
   ]
  },
  {
   "cell_type": "code",
   "execution_count": null,
   "id": "9c5da078",
   "metadata": {},
   "outputs": [],
   "source": [
    "# '..............35%'\n",
    "\n",
    "\n",
    "\n"
   ]
  },
  {
   "cell_type": "markdown",
   "id": "10d5e3a3",
   "metadata": {},
   "source": [
    "# New Day"
   ]
  },
  {
   "cell_type": "code",
   "execution_count": null,
   "id": "c4f0167c",
   "metadata": {},
   "outputs": [],
   "source": [
    "# break\n",
    "# continue\n",
    "# pass\n",
    "# one liner"
   ]
  },
  {
   "cell_type": "code",
   "execution_count": null,
   "id": "f230487b",
   "metadata": {},
   "outputs": [],
   "source": [
    "# continue\n",
    "\n",
    "data = [12,4,1,23,465,632,56]\n",
    "\n",
    "i = 0\n",
    "\n",
    "while i<len(data):\n",
    "    if data[i] == 465:\n",
    "        i += 1\n",
    "        continue\n",
    "        \n",
    "    else:\n",
    "        print(data[i],data[i]**2)\n",
    "    i+=1"
   ]
  },
  {
   "cell_type": "code",
   "execution_count": null,
   "id": "76d6d91e",
   "metadata": {},
   "outputs": [],
   "source": []
  },
  {
   "cell_type": "code",
   "execution_count": null,
   "id": "70c93219",
   "metadata": {},
   "outputs": [],
   "source": []
  },
  {
   "cell_type": "code",
   "execution_count": null,
   "id": "7efe59c7",
   "metadata": {},
   "outputs": [],
   "source": [
    "# continue\n",
    "\n",
    "data = [12,4,1,23,465,632,56]\n",
    "\n",
    "i = 0\n",
    "\n",
    "while i<len(data):\n",
    "    if data[i] == 465:\n",
    "        continue\n",
    "        \n",
    "    else:\n",
    "        print(data[i],data[i]**2)\n",
    "    i+=1"
   ]
  },
  {
   "cell_type": "code",
   "execution_count": null,
   "id": "dc51807e",
   "metadata": {},
   "outputs": [],
   "source": [
    "print('Hello')"
   ]
  },
  {
   "cell_type": "code",
   "execution_count": null,
   "id": "c331a8be",
   "metadata": {},
   "outputs": [],
   "source": [
    "print(2*2)"
   ]
  },
  {
   "cell_type": "code",
   "execution_count": null,
   "id": "0af5dc44",
   "metadata": {},
   "outputs": [],
   "source": [
    "# while True:\n",
    "#     print('Hello World')"
   ]
  },
  {
   "cell_type": "code",
   "execution_count": null,
   "id": "618282de",
   "metadata": {},
   "outputs": [],
   "source": [
    "while True:\n",
    "    print('Hello world')\n",
    "    break"
   ]
  },
  {
   "cell_type": "code",
   "execution_count": null,
   "id": "4fc7b803",
   "metadata": {},
   "outputs": [],
   "source": [
    "while True:\n",
    "    break"
   ]
  },
  {
   "cell_type": "code",
   "execution_count": null,
   "id": "9b5978c8",
   "metadata": {},
   "outputs": [],
   "source": [
    "while True:\n",
    "    pass"
   ]
  },
  {
   "cell_type": "code",
   "execution_count": null,
   "id": "1583217a",
   "metadata": {},
   "outputs": [],
   "source": [
    "# one liner juggad"
   ]
  },
  {
   "cell_type": "code",
   "execution_count": null,
   "id": "6c6f880e",
   "metadata": {},
   "outputs": [],
   "source": [
    "import time\n",
    "while True:\n",
    "    print(time.asctime())\n",
    "    time.sleep(1)\n",
    "    display(clear=True)"
   ]
  },
  {
   "cell_type": "code",
   "execution_count": null,
   "id": "1accf4d6",
   "metadata": {},
   "outputs": [],
   "source": [
    "import time\n",
    "while True:print(time.asctime()); time.sleep(1); display(clear=True)"
   ]
  },
  {
   "cell_type": "code",
   "execution_count": null,
   "id": "59b0bee9",
   "metadata": {},
   "outputs": [],
   "source": [
    "'Hello' if 2==2 else 'Bye'"
   ]
  },
  {
   "cell_type": "code",
   "execution_count": null,
   "id": "5048c25d",
   "metadata": {},
   "outputs": [],
   "source": [
    "[i for i in range(10) if i%3==0]"
   ]
  },
  {
   "cell_type": "code",
   "execution_count": null,
   "id": "89018f85",
   "metadata": {},
   "outputs": [],
   "source": []
  },
  {
   "cell_type": "code",
   "execution_count": null,
   "id": "529db000",
   "metadata": {},
   "outputs": [],
   "source": [
    "import random\n",
    "\n",
    "for i in range(5):\n",
    "    all_choice = [1,2,3]\n",
    "    user_choice = int(input('Enter your choice: '))\n",
    "    \n",
    "    if user_choice in all_choice:\n",
    "    \n",
    "        all_choice.remove(user_choice)\n",
    "\n",
    "        comp = random.choice(all_choice)\n",
    "\n",
    "        print('Comp choice: ',comp)\n",
    "        print('user choice: ',user_choice)\n",
    "\n",
    "        print('You Lose!!')\n",
    "        \n",
    "    else:\n",
    "        print('Incorrect Choice (1-3)')"
   ]
  },
  {
   "cell_type": "markdown",
   "id": "df8416ca",
   "metadata": {},
   "source": []
  },
  {
   "cell_type": "code",
   "execution_count": null,
   "id": "9a142348",
   "metadata": {},
   "outputs": [],
   "source": []
  },
  {
   "cell_type": "code",
   "execution_count": null,
   "id": "48620ddb",
   "metadata": {},
   "outputs": [],
   "source": []
  },
  {
   "cell_type": "code",
   "execution_count": null,
   "id": "94b7f857",
   "metadata": {},
   "outputs": [],
   "source": [
    "# progress bar\n",
    "\n",
    "16*1000"
   ]
  },
  {
   "cell_type": "code",
   "execution_count": 15,
   "id": "ada6f991",
   "metadata": {},
   "outputs": [
    {
     "name": "stdout",
     "output_type": "stream",
     "text": [
      ".............................. % 100.0"
     ]
    },
    {
     "ename": "KeyboardInterrupt",
     "evalue": "",
     "output_type": "error",
     "traceback": [
      "\u001b[1;31m---------------------------------------------------------------------------\u001b[0m",
      "\u001b[1;31mKeyboardInterrupt\u001b[0m                         Traceback (most recent call last)",
      "Cell \u001b[1;32mIn[15], line 19\u001b[0m\n\u001b[0;32m     17\u001b[0m     display(clear\u001b[38;5;241m=\u001b[39m\u001b[38;5;28;01mTrue\u001b[39;00m)\n\u001b[0;32m     18\u001b[0m \u001b[38;5;28mprint\u001b[39m(\u001b[38;5;124m\"\u001b[39m\u001b[38;5;124m...\u001b[39m\u001b[38;5;124m\"\u001b[39m\u001b[38;5;241m*\u001b[39mno,\u001b[38;5;124m'\u001b[39m\u001b[38;5;124m%\u001b[39m\u001b[38;5;124m'\u001b[39m,(total_downloaded\u001b[38;5;241m/\u001b[39m\u001b[38;5;241m200000\u001b[39m)\u001b[38;5;241m*\u001b[39m\u001b[38;5;241m100\u001b[39m,end\u001b[38;5;241m=\u001b[39m\u001b[38;5;124m'\u001b[39m\u001b[38;5;124m'\u001b[39m)\n\u001b[1;32m---> 19\u001b[0m time\u001b[38;5;241m.\u001b[39msleep(\u001b[38;5;241m1\u001b[39m)\n\u001b[0;32m     20\u001b[0m display(clear\u001b[38;5;241m=\u001b[39m\u001b[38;5;28;01mTrue\u001b[39;00m)\n\u001b[0;32m     22\u001b[0m no \u001b[38;5;241m+\u001b[39m\u001b[38;5;241m=\u001b[39m\u001b[38;5;241m1\u001b[39m\n",
      "\u001b[1;31mKeyboardInterrupt\u001b[0m: "
     ]
    }
   ],
   "source": [
    "import random\n",
    "import time\n",
    "file_size = 200000 #kb- 200mb\n",
    "total_downloaded = 0\n",
    "\n",
    "no = 1\n",
    "while file_size>0:\n",
    "    internet_speed = random.randint(10000,30000)   \n",
    "#     print(file_size,total_downloaded,internet_speed)\n",
    "    file_size-= internet_speed\n",
    "    total_downloaded += internet_speed\n",
    "    \n",
    "    if total_downloaded>200000:\n",
    "        total_downloaded = 200000\n",
    "        display(clear=True)\n",
    "    print(\"...\"*no,'%',(total_downloaded/200000)*100,end='')\n",
    "    time.sleep(1)\n",
    "    display(clear=True)\n",
    "    \n",
    "    no +=1\n",
    "\n",
    "\n",
    "    "
   ]
  },
  {
   "cell_type": "code",
   "execution_count": null,
   "id": "4668fc29",
   "metadata": {},
   "outputs": [],
   "source": [
    "26678-28769"
   ]
  },
  {
   "cell_type": "code",
   "execution_count": null,
   "id": "64000927",
   "metadata": {},
   "outputs": [],
   "source": [
    "(200000+2091)/2000"
   ]
  },
  {
   "cell_type": "code",
   "execution_count": null,
   "id": "9a72efca",
   "metadata": {},
   "outputs": [],
   "source": []
  },
  {
   "cell_type": "code",
   "execution_count": null,
   "id": "04d183e3",
   "metadata": {},
   "outputs": [],
   "source": [
    "file_size/internet_speed"
   ]
  },
  {
   "cell_type": "code",
   "execution_count": null,
   "id": "893ac1b7",
   "metadata": {},
   "outputs": [],
   "source": [
    "(26000/200000)*100"
   ]
  },
  {
   "cell_type": "code",
   "execution_count": null,
   "id": "18ef586e",
   "metadata": {},
   "outputs": [],
   "source": []
  }
 ],
 "metadata": {
  "kernelspec": {
   "display_name": "Python 3 (ipykernel)",
   "language": "python",
   "name": "python3"
  },
  "language_info": {
   "codemirror_mode": {
    "name": "ipython",
    "version": 3
   },
   "file_extension": ".py",
   "mimetype": "text/x-python",
   "name": "python",
   "nbconvert_exporter": "python",
   "pygments_lexer": "ipython3",
   "version": "3.11.3"
  }
 },
 "nbformat": 4,
 "nbformat_minor": 5
}
